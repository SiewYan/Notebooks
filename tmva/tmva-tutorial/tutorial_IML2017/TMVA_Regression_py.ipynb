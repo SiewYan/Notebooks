{
 "cells": [
  {
   "cell_type": "markdown",
   "metadata": {},
   "source": [
    "<img src=\"http://oproject.org/tiki-download_file.php?fileId=8&display&x=450&y=128\">\n",
    "<img src=\"http://files.oproject.org/tmvalogo.png\" height=\"50%\" width=\"50%\">\n",
    "\n",
    "# TMVA  Regression Example \n",
    "\n",
    "#### Example of using TMVA for regression problems"
   ]
  },
  {
   "cell_type": "code",
   "execution_count": 1,
   "metadata": {
    "collapsed": false
   },
   "outputs": [
    {
     "data": {
      "application/javascript": [
       "\n",
       "require(['notebook'],\n",
       "  function() {\n",
       "    IPython.CodeCell.config_defaults.highlight_modes['magic_text/x-c++src'] = {'reg':[/^%%cpp/]};\n",
       "    console.log(\"JupyROOT - %%cpp magic configured\");\n",
       "  }\n",
       ");\n"
      ]
     },
     "metadata": {},
     "output_type": "display_data"
    },
    {
     "name": "stdout",
     "output_type": "stream",
     "text": [
      "Welcome to JupyROOT 6.09/03\n"
     ]
    }
   ],
   "source": [
    "import ROOT\n",
    "from ROOT import TMVA"
   ]
  },
  {
   "cell_type": "markdown",
   "metadata": {
    "collapsed": true
   },
   "source": [
    "### Enable JS visualization\n",
    "To use new interactive features in notebook we have to enable a module called JsMVA. This can be done by using ipython magic: %jsmva."
   ]
  },
  {
   "cell_type": "code",
   "execution_count": 2,
   "metadata": {
    "collapsed": true
   },
   "outputs": [],
   "source": [
    "from IPython.core.extensions import ExtensionManager\n",
    "ExtensionManager(get_ipython()).load_extension(\"JsMVA.JsMVAMagic\")"
   ]
  },
  {
   "cell_type": "code",
   "execution_count": 3,
   "metadata": {
    "collapsed": false
   },
   "outputs": [
    {
     "data": {
      "text/html": [
       "\n",
       "    <script type=\"text/javascript\">\n",
       "        require.config({\n",
       "            paths: {\n",
       "                'JsMVA':'https://root.cern.ch/js/jsmva/latest/js/JsMVA.min'\n",
       "            }\n",
       "        });\n",
       "    </script>\n",
       "    <link rel=\"stylesheet\" href=\"https://root.cern.ch/js/jsmva/latest/css/TMVAHTMLOutput.min.css\"></link>\n",
       "    "
      ],
      "text/plain": [
       "<IPython.core.display.HTML object>"
      ]
     },
     "metadata": {},
     "output_type": "display_data"
    }
   ],
   "source": [
    "%jsmva on"
   ]
  },
  {
   "cell_type": "markdown",
   "metadata": {},
   "source": [
    "## Input File\n"
   ]
  },
  {
   "cell_type": "code",
   "execution_count": 4,
   "metadata": {
    "collapsed": false
   },
   "outputs": [
    {
     "data": {
      "text/html": [
       "<table class='tmva_output_table'><tr><td>TFile**\t\tinputdata_regression.root\t</td></tr><tr><td> TFile*\t\tinputdata_regression.root\t</td></tr><tr><td>  KEY: TTree\tTreeS;1\tTreeS</td></tr><tr><td>  KEY: TTree\tTreeB;1\tTreeB</td></tr><tr><td>  KEY: TTree\tSig;1\tTreeS</td></tr><tr><td>  KEY: TTree\tBkg;1\tTreeB</td></tr></table>"
      ],
      "text/plain": [
       "<IPython.core.display.HTML object>"
      ]
     },
     "metadata": {},
     "output_type": "display_data"
    },
    {
     "data": {
      "text/html": [],
      "text/plain": [
       "<IPython.core.display.HTML object>"
      ]
     },
     "metadata": {},
     "output_type": "display_data"
    }
   ],
   "source": [
    "inputFile = ROOT.TFile.Open(\"inputdata_regression.root\")\n",
    "outputFile = ROOT.TFile.Open(\"TMVAOutputRegression.root\", \"RECREATE\")\n",
    "inputFile.ls()"
   ]
  },
  {
   "cell_type": "code",
   "execution_count": 5,
   "metadata": {
    "collapsed": false
   },
   "outputs": [
    {
     "data": {
      "text/html": [
       "<table class='tmva_output_table'><tr><td>******************************************************************************</td></tr><tr><td>*Tree    :Sig       : TreeS                                                  *</td></tr><tr><td>*Entries :     6000 : Total =           98509 bytes  File  Size =      89799 *</td></tr><tr><td>*        :          : Tree compression factor =   1.08                       *</td></tr><tr><td>******************************************************************************</td></tr><tr><td>*Br    0 :var1      : var1/F                                                 *</td></tr><tr><td>*Entries :     6000 : Total  Size=      24542 bytes  File Size  =      22365 *</td></tr><tr><td>*Baskets :        1 : Basket Size=      32000 bytes  Compression=   1.08     *</td></tr><tr><td>*............................................................................*</td></tr><tr><td>*Br    1 :var2      : var2/F                                                 *</td></tr><tr><td>*Entries :     6000 : Total  Size=      24542 bytes  File Size  =      22361 *</td></tr><tr><td>*Baskets :        1 : Basket Size=      32000 bytes  Compression=   1.08     *</td></tr><tr><td>*............................................................................*</td></tr><tr><td>*Br    2 :var3      : var3/F                                                 *</td></tr><tr><td>*Entries :     6000 : Total  Size=      24542 bytes  File Size  =      22335 *</td></tr><tr><td>*Baskets :        1 : Basket Size=      32000 bytes  Compression=   1.08     *</td></tr><tr><td>*............................................................................*</td></tr><tr><td>*Br    3 :var4      : var4/F                                                 *</td></tr><tr><td>*Entries :     6000 : Total  Size=      24542 bytes  File Size  =      22215 *</td></tr><tr><td>*Baskets :        1 : Basket Size=      32000 bytes  Compression=   1.08     *</td></tr><tr><td>*............................................................................*</td></tr></table>"
      ],
      "text/plain": [
       "<IPython.core.display.HTML object>"
      ]
     },
     "metadata": {},
     "output_type": "display_data"
    },
    {
     "data": {
      "text/html": [],
      "text/plain": [
       "<IPython.core.display.HTML object>"
      ]
     },
     "metadata": {},
     "output_type": "display_data"
    }
   ],
   "source": [
    "inputFile.Sig.Print()"
   ]
  },
  {
   "cell_type": "markdown",
   "metadata": {},
   "source": [
    "## Declare TMVA Factory\n",
    "\n",
    "\n",
    "Arguments of constructor:\n",
    "The options string can contain the following options:\n",
    "<table>\n",
    "<tr><th>Keyword</th><th>Can be used as positional argument</th><th>Default</th><th>Predefined values</th><th>Description</th></tr>\n",
    "<tr>\n",
    " <td>JobName</td>\n",
    " <td>yes, 1.</td>\n",
    " <td>not optional</td>\n",
    " <td>-</td>\n",
    " <td>Name of job</td>\n",
    "</tr>\n",
    "<tr>\n",
    " <td>TargetFile</td>\n",
    " <td>yes, 2.</td>\n",
    " <td>if not passed histograms won't be saved</td>\n",
    " <td>-</td>\n",
    " <td>File to write control and performance histograms histograms </td>\n",
    "</tr>\n",
    "<tr>\n",
    " <td>V</td>\n",
    " <td>no</td>\n",
    " <td>False</td>\n",
    " <td>-</td>\n",
    " <td>Verbose flag</td>\n",
    "</tr>\n",
    "<tr>\n",
    " <td>Color</td>\n",
    "  <td>no</td>\n",
    "\n",
    " <td>True</td>\n",
    " <td>-</td>\n",
    " <td>Flag for colored output</td>\n",
    "</tr>\n",
    "<tr>\n",
    " <td>Transformations</td>\n",
    "  <td>no</td>\n",
    "\n",
    " <td>\"\"</td>\n",
    " <td>-</td>\n",
    " <td>List of transformations to test. For example with \"I;D;P;U;G\" string identity, decorrelation, PCA, uniform and Gaussian transformations will be applied</td>\n",
    "</tr>\n",
    "<tr>\n",
    " <td>Silent</td>\n",
    "  <td>no</td>\n",
    "\n",
    " <td>False</td>\n",
    "\n",
    " <td>-</td>\n",
    " <td>Batch mode: boolean silent flag inhibiting\n",
    "any output from TMVA after\n",
    "the creation of the factory class object</td>\n",
    "</tr>\n",
    "<tr>\n",
    " <td>DrawProgressBar</td>\n",
    "  <td>no</td>\n",
    "\n",
    " <td>True</td>\n",
    " <td>-</td>\n",
    " <td>Draw progress bar to display training,\n",
    "testing and evaluation schedule (default:\n",
    "True)</td>\n",
    "</tr>\n",
    "<tr>\n",
    " <td>AnalysisType</td>\n",
    "  <td>no</td>\n",
    "\n",
    " <td>Auto</td>\n",
    " <td>Classification,\n",
    "Regression,\n",
    "Multiclass, Auto</td>\n",
    " <td>Set the analysis type</td>\n",
    "</tr>\n",
    "</table>"
   ]
  },
  {
   "cell_type": "code",
   "execution_count": 6,
   "metadata": {
    "collapsed": false
   },
   "outputs": [],
   "source": [
    "TMVA.Tools.Instance();\n",
    "\n",
    "factory = TMVA.Factory(\"TMVARegression\", TargetFile=outputFile,\n",
    "                       V=False, Color=True, DrawProgressBar=True, Transformations=[\"I\", \"D\", \"P\", \"G\", \"D\"],\n",
    "                       AnalysisType=\"Regression\")\n"
   ]
  },
  {
   "cell_type": "markdown",
   "metadata": {},
   "source": [
    "## Declare DataLoader\n",
    "\n",
    "First we need to declare a DataLoader and add the variables (passing the variable names used in the test and train trees in input dataset). To add variable names to DataLoader we use the AddVariable function. Arguments of this function:\n",
    "\n",
    "1. String containing the variable name. Using \":=\" we can add definition too.\n",
    "\n",
    "2. String (label to variable, if not present the variable name will be used) or character (defining the type of data points)\n",
    "\n",
    "3. If we have label for variable, the data point type still can be passed as third argument \n",
    "\n",
    "Example: \n",
    "\n",
    "loader.AddVariable( \"myvar1 := var1+var2\", 'F' )\n",
    "\n",
    "In this case we add all 256 variables with a loop"
   ]
  },
  {
   "cell_type": "code",
   "execution_count": 7,
   "metadata": {
    "collapsed": false
   },
   "outputs": [],
   "source": [
    "loader = TMVA.DataLoader(\"dataset\");\n",
    "\n",
    "## Add the feature variables, names reference branches in inputFile ttree\n",
    "loader.AddVariable(\"var1\");\n",
    "loader.AddVariable(\"var2\");\n",
    "loader.AddVariable(\"var3\");\n",
    "loader.AddVariable(\"var4\");\n",
    "loader.AddVariable(\"var5 := var1-var3\");  # create new features\n",
    "loader.AddVariable(\"var6 := var1+var2\");\n",
    "\n"
   ]
  },
  {
   "cell_type": "code",
   "execution_count": 8,
   "metadata": {
    "collapsed": true
   },
   "outputs": [],
   "source": [
    "loader.AddTarget(\"target := var2+var3\")"
   ]
  },
  {
   "cell_type": "markdown",
   "metadata": {},
   "source": [
    "## Setup Dataset(s)\n",
    "\n",
    "To pass the signal and background trees to DataLoader we use the AddSignalTree and AddBackgroundTree functions, and we set up the corresponding DataLoader variable's too. Arguments of functions:"
   ]
  },
  {
   "cell_type": "markdown",
   "metadata": {},
   "source": [
    "With using DataLoader.PrepareTrainingAndTestTree function we apply cuts on input events. In C++ this function also needs to add the options as a string (as we seen in Factory constructor) which with JsMVA can be passed (same as Factory constructor case) as keyword arguments.\n",
    "\n",
    "Arguments of PrepareTrainingAndTestTree:\n",
    "<table>\n",
    "\n",
    "<tr>\n",
    "    <th>Keyword</th>\n",
    "    <th>Can be used as positional argument</th>\n",
    "    <th>Default</th>\n",
    "    <th>Predefined values</th>\n",
    "    <th>Description</th>\n",
    "</tr>\n",
    "\n",
    "<tr>\n",
    "    <td>SigCut</td>\n",
    "    <td>yes, 1.</td>\n",
    "    <td>-</td>\n",
    "    <td>-</td>\n",
    "    <td>TCut object for signal cut</td>\n",
    "</tr>\n",
    "<tr>\n",
    "    <td>Bkg</td>\n",
    "    <td>yes, 2.</td>\n",
    "    <td>-</td>\n",
    "    <td>-</td>\n",
    "    <td>TCut object for background cut</td>\n",
    "</tr>\n",
    "\n",
    "<tr>\n",
    "    <td>SplitMode</td>\n",
    "    <td>no</td>\n",
    "    <td>Random</td>\n",
    "    <td>Random,\n",
    "Alternate,\n",
    "Block</td>\n",
    "    <td>Method of picking training and testing\n",
    "events</td>\n",
    "</tr>\n",
    "<tr>\n",
    "    <td>MixMode</td>\n",
    "    <td>no</td>\n",
    "    <td>SameAsSplitMode</td>\n",
    "    <td>SameAsSplitMode,\n",
    "Random,\n",
    "Alternate,\n",
    "Block</td>\n",
    "    <td>Method of mixing events of differnt\n",
    "classes into one dataset</td>\n",
    "</tr>\n",
    "<tr>\n",
    "    <td>SplitSeed</td>\n",
    "    <td>no</td>\n",
    "    <td>100</td>\n",
    "    <td>-</td>\n",
    "    <td>Seed for random event shuffling</td>\n",
    "</tr>\n",
    "<tr>\n",
    "    <td>NormMode</td>\n",
    "    <td>no</td>\n",
    "    <td>EqualNumEvents</td>\n",
    "    <td>None, NumEvents,\n",
    "EqualNumEvents</td>\n",
    "    <td>Overall renormalisation of event-by-event\n",
    "weights used in the training (NumEvents:\n",
    "average weight of 1 per\n",
    "event, independently for signal and\n",
    "background; EqualNumEvents: average\n",
    "weight of 1 per event for signal,\n",
    "and sum of weights for background\n",
    "equal to sum of weights for signal)</td>\n",
    "</tr>\n",
    "\n",
    "<tr>\n",
    "    <td>nTrain_Signal</td>\n",
    "    <td>no</td>\n",
    "    <td>0 (all)</td>\n",
    "    <td>-</td>\n",
    "    <td>Number of training events of class Signal</td>\n",
    "</tr>\n",
    "\n",
    "<tr>\n",
    "    <td>nTest_Signal</td>\n",
    "    <td>no</td>\n",
    "    <td>0 (all)</td>\n",
    "    <td>-</td>\n",
    "    <td>Number of test events of class Signal</td>\n",
    "</tr>\n",
    "\n",
    "<tr>\n",
    "    <td>nTrain_Background</td>\n",
    "    <td>no</td>\n",
    "    <td>0 (all)</td>\n",
    "    <td>-</td>\n",
    "    <td>Number of training events of class\n",
    "Background</td>\n",
    "</tr>\n",
    "\n",
    "<tr>\n",
    "    <td>nTest_Background </td>\n",
    "    <td>no</td>\n",
    "    <td>0 (all)</td>\n",
    "    <td>-</td>\n",
    "    <td>Number of test events of class Background</td>\n",
    "</tr>\n",
    "<tr>\n",
    "    <td>V</td>\n",
    "    <td>no</td>\n",
    "    <td>False</td>\n",
    "    <td>-</td>\n",
    "    <td>Verbosity</td>\n",
    "</tr>\n",
    "<tr>\n",
    "    <td>VerboseLevel</td>\n",
    "    <td>no</td>\n",
    "    <td>Info</td>\n",
    "    <td>Debug, Verbose,\n",
    "Info</td>\n",
    "    <td>Verbosity level</td>\n",
    "</tr>\n",
    "\n",
    "</table>"
   ]
  },
  {
   "cell_type": "code",
   "execution_count": 9,
   "metadata": {
    "collapsed": false
   },
   "outputs": [
    {
     "data": {
      "text/html": [
       "<table class='tmva_output_table'><tbody class='tmva_output_tbody_multiple_row'><tr><td rowspan='3' class='tmva_output_header'>DataSetInfo             </td><td><table class='tmva_output_dataset'><tbody><tr><td rowspan='1'>Dataset: dataset</td><td>Added class \"Regression\"</td><td class='tmva_output_hidden_td'></td></tr></tbody></table></td></tr><tr><td>Add Tree Sig of type Regression with 6000 events</td></tr><tr><td><table class='tmva_output_dataset'><tbody><tr><td rowspan='1'>Dataset: dataset</td><td>Class index : 0  name : Regression</td><td class='tmva_output_hidden_td'></td></tr></tbody></table></td></tr></tbody></table>"
      ],
      "text/plain": [
       "<IPython.core.display.HTML object>"
      ]
     },
     "metadata": {},
     "output_type": "display_data"
    },
    {
     "data": {
      "text/html": [],
      "text/plain": [
       "<IPython.core.display.HTML object>"
      ]
     },
     "metadata": {},
     "output_type": "display_data"
    }
   ],
   "source": [
    "mycuts = ROOT.TCut()\n",
    "mycutb = ROOT.TCut()\n",
    "\n",
    "\n",
    "loader.AddRegressionTree    (inputFile.Sig,     1.0)   \n",
    "\n",
    " \n",
    "loader.PrepareTrainingAndTestTree(mycuts, nTrain_Regression=100, SplitMode=\"Random\", NormMode=\"NumEvents\", V=False)"
   ]
  },
  {
   "cell_type": "markdown",
   "metadata": {},
   "source": [
    "# Booking Methods"
   ]
  },
  {
   "cell_type": "markdown",
   "metadata": {},
   "source": [
    "Book the method for regression. Here we choose the Boosted Decision Tree model. You have to use gradient boosted trees for regression, hence the BDTG and BoostType=Grad.\n",
    "\n",
    "Define the hyperparameters: ntrees, boosttype, shrinkage, and the depth. Also define the loss function you want to use: 'AbsoluteDeviation', 'Huber', or 'LeastSquares'. nCuts determines how finely to look at each feature. Larger values take more time, but you may get more accurate results."
   ]
  },
  {
   "cell_type": "code",
   "execution_count": 10,
   "metadata": {
    "collapsed": false
   },
   "outputs": [
    {
     "data": {
      "text/plain": [
       "<ROOT.TMVA::MethodBDT object (\"BDTG\") at 0x58f9980>"
      ]
     },
     "execution_count": 10,
     "metadata": {},
     "output_type": "execute_result"
    },
    {
     "data": {
      "text/html": [
       "<table class='tmva_output_table'><tbody class='tmva_output_tbody_multiple_row'><tr><td rowspan='4' class='tmva_output_header'>Factory                 </td><td>Booking method: <b> BDTG</b></td></tr><tr></tr><tr><td>the option *InverseBoostNegWeights* does not exist for BoostType=Grad --> change</td></tr><tr><td>to new default for GradBoost *Pray*</td></tr></tbody><tbody class='tmva_output_tbody_multiple_row'><tr><td rowspan='2' class='tmva_output_header'>DataSetFactory          </td><td><table class='tmva_output_dataset'><tbody class='tmva_output_tbody_multiple_row'><tr><td rowspan='2'>Dataset: dataset</td><td>Number of events in input trees</td><td class='tmva_output_hidden_td'></td></tr></tbody></table></td></tr><tr><td><table class='tmva_output_traintestevents'><tr><td colspan='3'><center><b>Number of training and testing events</b></center></td></tr><tr><td rowspan='3'>Regression</td><td>training events</td><td>100</td><td class='tmva_output_hidden_td'></td></tr><tr><td>testing events</td><td>5900</td><td class='tmva_output_hidden_td'></td></tr><tr><td>training and testing events</td><td>6000</td><td class='tmva_output_hidden_td'></td></tr></table></td></tr></tbody><tbody><tr><td rowspan='1' class='tmva_output_header'>DataSetInfo             </td><div id='jsmva_outputtansformer_events_0_onclick' style='display: none; width: 600px; height:350'>{  \"_typename\" : \"TH2D\",  \"fUniqueID\" : 0,  \"fBits\" : 50332168,  \"fName\" : \"TMatrixDBase\",  \"fTitle\" : \"Correlation matrix (Regression)\",  \"fLineColor\" : 602,  \"fLineStyle\" : 1,  \"fLineWidth\" : 1,  \"fFillColor\" : 0,  \"fFillStyle\" : 1001,  \"fMarkerColor\" : 0,  \"fMarkerStyle\" : 1,  \"fMarkerSize\" : 1.5,  \"fNcells\" : 64,  \"fXaxis\" : {    \"_typename\" : \"TAxis\",    \"fUniqueID\" : 0,    \"fBits\" : 51380232,    \"fName\" : \"xaxis\",    \"fTitle\" : \"\",    \"fNdivisions\" : 510,    \"fAxisColor\" : 1,    \"fLabelColor\" : 1,    \"fLabelFont\" : 42,    \"fLabelOffset\" : 0.011,    \"fLabelSize\" : 0.04,    \"fTickLength\" : 0.03,    \"fTitleOffset\" : 1,    \"fTitleSize\" : 0.035,    \"fTitleColor\" : 1,    \"fTitleFont\" : 42,    \"fNbins\" : 6,    \"fXmin\" : 0,    \"fXmax\" : 6,    \"fXbins\" : [],    \"fFirst\" : 0,    \"fLast\" : 0,    \"fBits2\" : 3,    \"fTimeDisplay\" : false,    \"fTimeFormat\" : \"\",    \"fLabels\" : {      \"_typename\" : \"THashList\",      \"name\" : \"THashList\",      \"arr\" : [{        \"_typename\" : \"TObjString\",        \"fUniqueID\" : 1,        \"fBits\" : 50331648,        \"fString\" : \"var1\"      }, {        \"_typename\" : \"TObjString\",        \"fUniqueID\" : 2,        \"fBits\" : 50331648,        \"fString\" : \"var2\"      }, {        \"_typename\" : \"TObjString\",        \"fUniqueID\" : 3,        \"fBits\" : 50331648,        \"fString\" : \"var3\"      }, {        \"_typename\" : \"TObjString\",        \"fUniqueID\" : 4,        \"fBits\" : 50331648,        \"fString\" : \"var4\"      }, {        \"_typename\" : \"TObjString\",        \"fUniqueID\" : 5,        \"fBits\" : 50331648,        \"fString\" : \"var1-var3\"      }, {        \"_typename\" : \"TObjString\",        \"fUniqueID\" : 6,        \"fBits\" : 50331648,        \"fString\" : \"var1+var2\"      }],      \"opt\" : [\"\", \"\", \"\", \"\", \"\", \"\"]    },    \"fModLabs\" : null  },  \"fYaxis\" : {    \"_typename\" : \"TAxis\",    \"fUniqueID\" : 0,    \"fBits\" : 50331656,    \"fName\" : \"yaxis\",    \"fTitle\" : \"\",    \"fNdivisions\" : 510,    \"fAxisColor\" : 1,    \"fLabelColor\" : 1,    \"fLabelFont\" : 42,    \"fLabelOffset\" : 0.005,    \"fLabelSize\" : 0.04,    \"fTickLength\" : 0.03,    \"fTitleOffset\" : 1,    \"fTitleSize\" : 0.035,    \"fTitleColor\" : 1,    \"fTitleFont\" : 42,    \"fNbins\" : 6,    \"fXmin\" : 0,    \"fXmax\" : 6,    \"fXbins\" : [],    \"fFirst\" : 0,    \"fLast\" : 0,    \"fBits2\" : 3,    \"fTimeDisplay\" : false,    \"fTimeFormat\" : \"\",    \"fLabels\" : {      \"_typename\" : \"THashList\",      \"name\" : \"THashList\",      \"arr\" : [{        \"_typename\" : \"TObjString\",        \"fUniqueID\" : 1,        \"fBits\" : 50331648,        \"fString\" : \"var1\"      }, {        \"_typename\" : \"TObjString\",        \"fUniqueID\" : 2,        \"fBits\" : 50331648,        \"fString\" : \"var2\"      }, {        \"_typename\" : \"TObjString\",        \"fUniqueID\" : 3,        \"fBits\" : 50331648,        \"fString\" : \"var3\"      }, {        \"_typename\" : \"TObjString\",        \"fUniqueID\" : 4,        \"fBits\" : 50331648,        \"fString\" : \"var4\"      }, {        \"_typename\" : \"TObjString\",        \"fUniqueID\" : 5,        \"fBits\" : 50331648,        \"fString\" : \"var1-var3\"      }, {        \"_typename\" : \"TObjString\",        \"fUniqueID\" : 6,        \"fBits\" : 50331648,        \"fString\" : \"var1+var2\"      }],      \"opt\" : [\"\", \"\", \"\", \"\", \"\", \"\"]    },    \"fModLabs\" : null  },  \"fZaxis\" : {    \"_typename\" : \"TAxis\",    \"fUniqueID\" : 0,    \"fBits\" : 50331648,    \"fName\" : \"zaxis\",    \"fTitle\" : \"\",    \"fNdivisions\" : 510,    \"fAxisColor\" : 1,    \"fLabelColor\" : 1,    \"fLabelFont\" : 42,    \"fLabelOffset\" : 0.005,    \"fLabelSize\" : 0.035,    \"fTickLength\" : 0.03,    \"fTitleOffset\" : 1,    \"fTitleSize\" : 0.035,    \"fTitleColor\" : 1,    \"fTitleFont\" : 42,    \"fNbins\" : 1,    \"fXmin\" : 0,    \"fXmax\" : 1,    \"fXbins\" : [],    \"fFirst\" : 0,    \"fLast\" : 0,    \"fBits2\" : 0,    \"fTimeDisplay\" : false,    \"fTimeFormat\" : \"\",    \"fLabels\" : null,    \"fModLabs\" : null  },  \"fBarOffset\" : 0,  \"fBarWidth\" : 1000,  \"fEntries\" : 72,  \"fTsumw\" : 0,  \"fTsumw2\" : 0,  \"fTsumwx\" : 0,  \"fTsumwx2\" : 0,  \"fMaximum\" : 100,  \"fMinimum\" : -100,  \"fNormFactor\" : 0,  \"fContour\" : [],  \"fSumw2\" : [0, 0, 0, 0, 0, 0, 0, 0, 0, 10000, 3650, 6650, 8100, 4100, 8150, 0, 0, 3650, 10000, 6970, 7270, 4050, 8370, 0, 0, 6650, 6970, 10000, 8890, 4090, 8250, 0, 0, 8100, 7270, 8890, 10000, 960, 9280, 0, 0, 4100, 4050, 4090, 960, 10000, 120, 0, 0, 8150, 8370, 8250, 9280, 120, 10000, 0, 0, 0, 0, 0, 0, 0, 0, 0],  \"fOption\" : \"\",  \"fFunctions\" : {    \"_typename\" : \"TList\",    \"name\" : \"TList\",    \"arr\" : [],    \"opt\" : []  },  \"fBufferSize\" : 0,  \"fBuffer\" : [],  \"fBinStatErrOpt\" : 0,  \"fScalefactor\" : 1,  \"fTsumwy\" : 0,  \"fTsumwy2\" : 0,  \"fTsumwxy\" : 0,  \"fArray\" : [0, 0, 0, 0, 0, 0, 0, 0, 0, 100, 36, 66, 81, 41, 81, 0, 0, 36, 100, 69, 72, -40, 83, 0, 0, 66, 69, 100, 88, -40, 82, 0, 0, 81, 72, 88, 100, -9, 92, 0, 0, 41, -40, -40, -9, 100, -1, 0, 0, 81, 83, 82, 92, -1, 100, 0, 0, 0, 0, 0, 0, 0, 0, 0]}</div><td><a onclick=\"require(['JsMVA'],function(jsmva){jsmva.outputShowCorrelationMatrix('jsmva_outputtansformer_events_0_onclick');});\" class='tmva_output_corrmat_link'>Correlation matrix (Regression)</a></td></tr></tbody><tbody><tr><td rowspan='1' class='tmva_output_header'>DataSetFactory          </td><td><table class='tmva_output_dataset'><tbody class='tmva_output_tbody_multiple_row'><tr><td rowspan='2'>Dataset: dataset</td><td class='tmva_output_hidden_td'></td></tr></tbody></table></td></tr></tbody></table>"
      ],
      "text/plain": [
       "<IPython.core.display.HTML object>"
      ]
     },
     "metadata": {},
     "output_type": "display_data"
    },
    {
     "data": {
      "text/html": [],
      "text/plain": [
       "<IPython.core.display.HTML object>"
      ]
     },
     "metadata": {},
     "output_type": "display_data"
    }
   ],
   "source": [
    "option = \"!H:!V:NTrees=64::BoostType=Grad:Shrinkage=0.3:nCuts=20:MaxDepth=4:\"\n",
    "option += \"RegressionLossFunctionBDTG=LeastSquares\"\n",
    "factory.BookMethod( loader, TMVA.Types.kBDT,\"BDTG\", option)\n"
   ]
  },
  {
   "cell_type": "markdown",
   "metadata": {},
   "source": [
    "## Train Methods\n"
   ]
  },
  {
   "cell_type": "code",
   "execution_count": 11,
   "metadata": {
    "collapsed": false
   },
   "outputs": [
    {
     "data": {
      "text/html": [
       "<center><h1>Dataset: dataset</h1></center>"
      ],
      "text/plain": [
       "<IPython.core.display.HTML object>"
      ]
     },
     "metadata": {},
     "output_type": "display_data"
    },
    {
     "data": {
      "text/html": [
       "<h2><b>Train method: BDTG</b></h2>"
      ],
      "text/plain": [
       "<IPython.core.display.HTML object>"
      ]
     },
     "metadata": {},
     "output_type": "display_data"
    },
    {
     "data": {
      "text/html": [
       "\n",
       "     <script type=\"text/javascript\">\n",
       "     require([\"jquery\"], function(jQ){\n",
       "         jQ(\"input.stopTrainingButton\").on(\"click\", function(){\n",
       "             IPython.notebook.kernel.interrupt();\n",
       "             jQ(this).css({\n",
       "                 \"background-color\": \"rgba(200, 0, 0, 0.8)\",\n",
       "                 \"color\": \"#fff\",\n",
       "                 \"box-shadow\": \"0 3px 5px rgba(0, 0, 0, 0.3)\",\n",
       "             });\n",
       "         });\n",
       "     });\n",
       "     </script>\n",
       "     <style type=\"text/css\">\n",
       "     input.stopTrainingButton {\n",
       "         background-color: #fff;\n",
       "         border: 1px solid #ccc;\n",
       "         width: 100%;\n",
       "         font-size: 16px;\n",
       "         font-weight: bold;\n",
       "         padding: 6px 12px;\n",
       "         cursor: pointer;\n",
       "         border-radius: 6px;\n",
       "         color: #333;\n",
       "     }\n",
       "     input.stopTrainingButton:hover {\n",
       "         background-color: rgba(204, 204, 204, 0.4);\n",
       "     }\n",
       "     </style>\n",
       "     <input type=\"button\" value=\"Stop\" class=\"stopTrainingButton\" />\n",
       "     "
      ],
      "text/plain": [
       "<IPython.core.display.HTML object>"
      ]
     },
     "metadata": {},
     "output_type": "display_data"
    },
    {
     "data": {
      "text/html": [
       "\n",
       "     <style>\n",
       "     #jsmva_progress_0 {\n",
       "         position: relative;\n",
       "         float: left;\n",
       "         height: 30px;\n",
       "         width: 100%;\n",
       "         background-color: #f5f5f5;\n",
       "         border-radius: 3px;\n",
       "         box-shadow: inset 0 3px 6px rgba(0, 0, 0, 0.1);\n",
       "     }\n",
       "     #jsmva_bar_0 {\n",
       "         position: absolute;\n",
       "         width: 1%;\n",
       "         height: 100%;\n",
       "         background-color: #337ab7;\n",
       "     }\n",
       "     #jsmva_label_0 {\n",
       "         text-align: center;\n",
       "         line-height: 30px;\n",
       "         color: white;\n",
       "     }\n",
       "     </style>\n",
       "     <div id=\"jsmva_progress_0\">\n",
       "       <div id=\"jsmva_bar_0\">\n",
       "         <div id=\"jsmva_label_0\">0%</div>\n",
       "       </div>\n",
       "     </div>\n",
       "     "
      ],
      "text/plain": [
       "<IPython.core.display.HTML object>"
      ]
     },
     "metadata": {},
     "output_type": "display_data"
    },
    {
     "data": {
      "text/html": [
       "\n",
       "     <script type=\"text/javascript\" id=\"progressBarScriptInc\">\n",
       "     require([\"jquery\"], function(jQ){\n",
       "         jQ(\"#jsmva_bar_0\").css(\"width\", 100 + \"%\");\n",
       "         jQ(\"#jsmva_label_0\").text(100 + '%');\n",
       "         jQ(\"#progressBarScriptInc\").parent().parent().remove();\n",
       "     });\n",
       "     </script>\n",
       "     "
      ],
      "text/plain": [
       "<IPython.core.display.HTML object>"
      ]
     },
     "metadata": {},
     "output_type": "display_data"
    },
    {
     "data": {
      "text/html": [
       "\n",
       "<div id=\"jstmva_1\" style=\"width: 800px; height:450px\"></div>\n",
       "<script>\n",
       "    require(['JsMVA'],function(jsmva){\n",
       "        jsmva.drawTrainingTestingErrors('jstmva_1','{  \"_typename\" : \"TMultiGraph\",  \"fUniqueID\" : 0,  \"fBits\" : 50331656,  \"fName\" : \"\",  \"fTitle\" : \"\",  \"fGraphs\" : {    \"_typename\" : \"TList\",    \"name\" : \"TList\",    \"arr\" : [{      \"_typename\" : \"TGraph\",      \"fUniqueID\" : 0,      \"fBits\" : 50332680,      \"fName\" : \"Boost weight\",      \"fTitle\" : \"Boost weight\",      \"fLineColor\" : 2,      \"fLineStyle\" : 1,      \"fLineWidth\" : 1,      \"fFillColor\" : 2,      \"fFillStyle\" : 1001,      \"fMarkerColor\" : 2,      \"fMarkerStyle\" : 1,      \"fMarkerSize\" : 1,      \"fNpoints\" : 64,      \"fX\" : [0, 1, 2, 3, 4, 5, 6, 7, 8, 9, 10, 11, 12, 13, 14, 15, 16, 17, 18, 19, 20, 21, 22, 23, 24, 25, 26, 27, 28, 29, 30, 31, 32, 33, 34, 35, 36, 37, 38, 39, 40, 41, 42, 43, 44, 45, 46, 47, 48, 49, 50, 51, 52, 53, 54, 55, 56, 57, 58, 59, 60, 61, 62, 63],      \"fY\" : [0, 0, 0, 0, 0, 0, 0, 0, 0, 0, 0, 0, 0, 0, 0, 0, 0, 0, 0, 0, 0, 0, 0, 0, 0, 0, 0, 0, 0, 0, 0, 0, 0, 0, 0, 0, 0, 0, 0, 0, 0, 0, 0, 0, 0, 0, 0, 0, 0, 0, 0, 0, 0, 0, 0, 0, 0, 0, 0, 0, 0, 0, 0, 0],      \"fFunctions\" : {        \"_typename\" : \"TList\",        \"name\" : \"TList\",        \"arr\" : [],        \"opt\" : []      },      \"fHistogram\" : null,      \"fMinimum\" : -1111,      \"fMaximum\" : -1111    }, {      \"_typename\" : \"TGraph\",      \"fUniqueID\" : 0,      \"fBits\" : 50332680,      \"fName\" : \"Error Fraction\",      \"fTitle\" : \"Error Fraction\",      \"fLineColor\" : 4,      \"fLineStyle\" : 1,      \"fLineWidth\" : 1,      \"fFillColor\" : 4,      \"fFillStyle\" : 1001,      \"fMarkerColor\" : 4,      \"fMarkerStyle\" : 1,      \"fMarkerSize\" : 1,      \"fNpoints\" : 64,      \"fX\" : [0, 1, 2, 3, 4, 5, 6, 7, 8, 9, 10, 11, 12, 13, 14, 15, 16, 17, 18, 19, 20, 21, 22, 23, 24, 25, 26, 27, 28, 29, 30, 31, 32, 33, 34, 35, 36, 37, 38, 39, 40, 41, 42, 43, 44, 45, 46, 47, 48, 49, 50, 51, 52, 53, 54, 55, 56, 57, 58, 59, 60, 61, 62, 63],      \"fY\" : [0, 0, 0, 0, 0, 0, 0, 0, 0, 0, 0, 0, 0, 0, 0, 0, 0, 0, 0, 0, 0, 0, 0, 0, 0, 0, 0, 0, 0, 0, 0, 0, 0, 0, 0, 0, 0, 0, 0, 0, 0, 0, 0, 0, 0, 0, 0, 0, 0, 0, 0, 0, 0, 0, 0, 0, 0, 0, 0, 0, 0, 0, 0, 0],      \"fFunctions\" : {        \"_typename\" : \"TList\",        \"name\" : \"TList\",        \"arr\" : [],        \"opt\" : []      },      \"fHistogram\" : null,      \"fMinimum\" : -1111,      \"fMaximum\" : -1111    }],    \"opt\" : [\"\", \"\"]  },  \"fFunctions\" : null,  \"fHistogram\" : null,  \"fMaximum\" : -1111,  \"fMinimum\" : -1111}');\n",
       "    });\n",
       "</script>\n"
      ],
      "text/plain": [
       "<IPython.core.display.HTML object>"
      ]
     },
     "metadata": {},
     "output_type": "display_data"
    },
    {
     "data": {
      "text/html": [
       "\n",
       "     <script type=\"text/javascript\" id=\"progressBarScriptInc\">\n",
       "     require([\"jquery\"], function(jQ){\n",
       "         jQ(\"#jsmva_bar_0\").css(\"width\", 100 + \"%\");\n",
       "         jQ(\"#jsmva_label_0\").text(100 + '%');\n",
       "         jQ(\"#progressBarScriptInc\").parent().parent().remove();\n",
       "     });\n",
       "     </script>\n",
       "     "
      ],
      "text/plain": [
       "<IPython.core.display.HTML object>"
      ]
     },
     "metadata": {},
     "output_type": "display_data"
    },
    {
     "data": {
      "text/html": [
       "<table class='tmva_output_table'><tr><td>Regression Loss Function: LeastSquares</td></tr><tr><td>Training 64 Decision Trees ... patience please</td></tr><tr><td>Elapsed time for training with 100 events: 0.0375 sec         </td></tr><tr><td>Dataset[dataset] : Create results for training</td></tr><tr><td>Dataset[dataset] : Evaluation of BDTG on training sample</td></tr><tr><td>Dataset[dataset] : Elapsed time for evaluation of 100 events: 0.00135 sec       </td></tr><tr><td>Create variable histograms</td></tr><tr><td>Create regression target histograms</td></tr><tr><td>Create regression average deviation</td></tr><tr><td>Results created</td></tr><tr><td>Creating xml weight file: dataset/weights/TMVARegression_BDTG.weights.xml</td></tr></table>"
      ],
      "text/plain": [
       "<IPython.core.display.HTML object>"
      ]
     },
     "metadata": {},
     "output_type": "display_data"
    },
    {
     "data": {
      "text/html": [],
      "text/plain": [
       "<IPython.core.display.HTML object>"
      ]
     },
     "metadata": {},
     "output_type": "display_data"
    }
   ],
   "source": [
    "factory.TrainAllMethods();"
   ]
  },
  {
   "cell_type": "markdown",
   "metadata": {},
   "source": [
    "## Test and Evaluate Methods\n",
    "\n",
    "To test test the methods and evaluate the performance we need to run Factory.TestAllMethods and Factory.EvaluateAllMethods functions."
   ]
  },
  {
   "cell_type": "code",
   "execution_count": 12,
   "metadata": {
    "collapsed": false
   },
   "outputs": [
    {
     "data": {
      "text/html": [
       "<table class='tmva_output_table'><tbody><tr><td rowspan='1' class='tmva_output_header'>Factory                 </td><td>Test all methods</td></tr></tbody><tbody class='tmva_output_tbody_multiple_row'><tr><td rowspan='7' class='tmva_output_header'>Factory                 </td><td>Test method: BDTG for Regression performance</td></tr><tr></tr><tr><td><table class='tmva_output_dataset'><tbody class='tmva_output_tbody_multiple_row'><tr><td rowspan='3'>Dataset: dataset</td><td>Create results for testing</td><td class='tmva_output_hidden_td'></td></tr><tr><td>Evaluation of BDTG on testing sample</td><td class='tmva_output_hidden_td'></td></tr><tr><td><b>Elapsed time for evaluation of 5900 events : <b style='color:rgb(0,0,179)'> 0.0456 sec       </b></b></td><td class='tmva_output_hidden_td'></td></tr></tbody></table></td></tr><tr><td>Create variable histograms</td></tr><tr><td>Create regression target histograms</td></tr><tr><td>Create regression average deviation</td></tr><tr><td>Results created</td></tr></tbody><tbody class='tmva_output_tbody_multiple_row'><tr><td rowspan='2' class='tmva_output_header'>Factory                 </td><td>Evaluate all methods</td></tr><tr><td>Evaluate regression method: BDTG</td></tr></tbody><tbody class='tmva_output_tbody_multiple_row'><tr><td rowspan='19' class='tmva_output_header'>TFHandler_BDTG          </td><td><table class='tmva_output_varmeanrms'><tr><td>Variable<td>Mean<td>RMS<td>Min<td>Max<td class='tmva_output_hidden_td'></td></tr><tr><td>var1<td>0.18180<td>0.99322<td>-3.5323<td>3.5471<td class='tmva_output_hidden_td'></td></tr><tr><td>var2<td>0.28525<td>1.0029<td>-3.2880<td>4.0451<td class='tmva_output_hidden_td'></td></tr><tr><td>var3<td>0.37905<td>0.99207<td>-3.1826<td>4.6422<td class='tmva_output_hidden_td'></td></tr><tr><td>var4<td>0.77147<td>1.0827<td>-2.9959<td>4.5352<td class='tmva_output_hidden_td'></td></tr><tr><td>var5<td>-0.19725<td>0.90205<td>-3.1013<td>3.0280<td class='tmva_output_hidden_td'></td></tr><tr><td>var6<td>0.46705<td>1.6623<td>-5.1623<td>6.4362<td class='tmva_output_hidden_td'></td></tr><tr><td>target<td>0.66430<td>1.8346<td>-5.9113<td>7.0144<td class='tmva_output_hidden_td'></td></tr></table></td></tr><tr><td>Evaluation results ranked by smallest RMS on test sample:</td></tr><tr><td>(\"Bias\" quotes the mean deviation of the regression from true target.</td></tr><tr><td>\"MutInf\" is the \"Mutual Information\" between regression and target.</td></tr><tr><td>Indicated by \"_T\" are the corresponding \"truncated\" quantities ob-</td></tr><tr><td>tained when removing events deviating more than 2sigma from average.)</td></tr><tr></tr><tr></tr><tr><td>dataset              BDTG           : -0.00227  0.00378    0.308    0.224  |  2.000  2.050</td></tr><tr></tr><tr></tr><tr><td>Evaluation results ranked by smallest RMS on training sample:</td></tr><tr><td>(overtraining check)</td></tr><tr></tr><tr><td>DataSet Name:         MVA Method:        <Bias>   <Bias_T>    RMS    RMS_T  |  MutInf MutInf_T</td></tr><tr></tr><tr><td>dataset              BDTG           : 3.23e-09-4.66e-05  0.00130  0.00108  |  3.424  3.427</td></tr><tr></tr><tr></tr></tbody><tbody class='tmva_output_tbody_multiple_row'><tr><td rowspan='2' class='tmva_output_header'>Dataset:dataset         </td><td>Created tree 'TestTree' with 5900 events</td></tr><tr></tr></tbody><tbody class='tmva_output_tbody_multiple_row'><tr><td rowspan='2' class='tmva_output_header'>Dataset:dataset         </td><td>Created tree 'TrainTree' with 100 events</td></tr><tr></tr></tbody><tbody class='tmva_output_tbody_multiple_row'><tr><td rowspan='2' class='tmva_output_header'>Factory                 </td><td>Thank you for using TMVA!</td></tr><tr><td>For citation information, please visit: http://tmva.sf.net/citeTMVA.html</td></tr></tbody></table>"
      ],
      "text/plain": [
       "<IPython.core.display.HTML object>"
      ]
     },
     "metadata": {},
     "output_type": "display_data"
    },
    {
     "data": {
      "text/html": [],
      "text/plain": [
       "<IPython.core.display.HTML object>"
      ]
     },
     "metadata": {},
     "output_type": "display_data"
    }
   ],
   "source": [
    "factory.TestAllMethods();\n",
    "factory.EvaluateAllMethods();    "
   ]
  },
  {
   "cell_type": "markdown",
   "metadata": {},
   "source": [
    "## Gather and Plot the Results\n",
    "\n",
    "\n",
    "Let's plot the residuals for the BDTG predictions. First, close the output file so that it saves to disk and we can open it without issue. Then get the results on the test set. Finally, plot the residuals."
   ]
  },
  {
   "cell_type": "code",
   "execution_count": 13,
   "metadata": {
    "collapsed": false
   },
   "outputs": [
    {
     "data": {
      "text/html": [
       "<table class='tmva_output_table'><tr><td>TFile**\t\tTMVAOutputRegression.root\t</td></tr><tr><td> TFile*\t\tTMVAOutputRegression.root\t</td></tr><tr><td>  KEY: TDirectoryFile\tdataset;1\tBase directory for dataset dataset</td></tr></table>"
      ],
      "text/plain": [
       "<IPython.core.display.HTML object>"
      ]
     },
     "metadata": {},
     "output_type": "display_data"
    },
    {
     "data": {
      "text/html": [],
      "text/plain": [
       "<IPython.core.display.HTML object>"
      ]
     },
     "metadata": {},
     "output_type": "display_data"
    }
   ],
   "source": [
    "outputFile.Close()\n",
    "resultsFile= ROOT.TFile(\"TMVAOutputRegression.root\")\n",
    "resultsFile.ls()"
   ]
  },
  {
   "cell_type": "code",
   "execution_count": 14,
   "metadata": {
    "collapsed": false
   },
   "outputs": [],
   "source": [
    "resultsTree= resultsFile.Get(\"dataset/TestTree\")\n",
    "#resultsTree.Print()\n"
   ]
  },
  {
   "cell_type": "code",
   "execution_count": 15,
   "metadata": {
    "collapsed": false
   },
   "outputs": [
    {
     "data": {
      "text/html": [
       "<table class='tmva_output_table'><tr><td> FCN=433.456 FROM MIGRAD    STATUS=CONVERGED      70 CALLS          71 TOTAL</td></tr><tr><td>                     EDM=5.54149e-07    STRATEGY= 1      ERROR MATRIX ACCURATE </td></tr><tr><td>  EXT PARAMETER                                   STEP         FIRST   </td></tr><tr><td>  NO.   NAME      VALUE            ERROR          SIZE      DERIVATIVE </td></tr><tr><td>   1  Par_0        2.94623e+02   5.80549e+00   4.06441e-02  -6.41209e-05</td></tr><tr><td>   2  Par_1        8.49870e-03   3.10135e-03   3.15731e-05   2.27977e-01</td></tr><tr><td>   3  Par_2        2.28878e-01   3.27488e-03   2.89200e-05   1.18815e-01</td></tr></table>"
      ],
      "text/plain": [
       "<IPython.core.display.HTML object>"
      ]
     },
     "metadata": {},
     "output_type": "display_data"
    },
    {
     "data": {
      "text/html": [
       "Info in <TCanvas::MakeDefCanvas>:  created default TCanvas with name c1\n"
      ],
      "text/plain": [
       "<IPython.core.display.HTML object>"
      ]
     },
     "metadata": {},
     "output_type": "display_data"
    },
    {
     "data": {
      "image/png": "[encoded data removed]",
      "text/plain": [
       "<IPython.core.display.Image object>"
      ]
     },
     "metadata": {},
     "output_type": "display_data"
    }
   ],
   "source": [
    "h1 = ROOT.TH1D(\"h1\",\"h1\",100,1,0)\n",
    "resultsTree.Draw(\"BDTG-target >> h1\")\n",
    "h1.Fit(\"gaus\")\n",
    "ROOT.gStyle.SetOptFit(111)\n",
    "ROOT.gPad.Draw()"
   ]
  },
  {
   "cell_type": "code",
   "execution_count": null,
   "metadata": {
    "collapsed": true
   },
   "outputs": [],
   "source": []
  }
 ],
 "metadata": {
  "kernelspec": {
   "display_name": "Python 2",
   "language": "python",
   "name": "python2"
  },
  "language_info": {
   "codemirror_mode": {
    "name": "ipython",
    "version": 2
   },
   "file_extension": ".py",
   "mimetype": "text/x-python",
   "name": "python",
   "nbconvert_exporter": "python",
   "pygments_lexer": "ipython2",
   "version": "2.7.13"
  }
 },
 "nbformat": 4,
 "nbformat_minor": 1
}
