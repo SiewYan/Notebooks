{
 "cells": [
  {
   "cell_type": "markdown",
   "metadata": {},
   "source": [
    "<img src=\"http://oproject.org/tiki-download_file.php?fileId=8&display&x=450&y=128\">\n",
    "<img src=\"http://files.oproject.org/tmvalogo.png\" height=\"50%\" width=\"50%\">\n",
    "\n",
    "# TMVA  Cross Validation Example \n",
    "\n",
    "#### Example of training TMVA using Cross Validation"
   ]
  },
  {
   "cell_type": "code",
   "execution_count": 1,
   "metadata": {
    "collapsed": false
   },
   "outputs": [
    {
     "data": {
      "application/javascript": [
       "\n",
       "require(['notebook'],\n",
       "  function() {\n",
       "    IPython.CodeCell.config_defaults.highlight_modes['magic_text/x-c++src'] = {'reg':[/^%%cpp/]};\n",
       "    console.log(\"JupyROOT - %%cpp magic configured\");\n",
       "  }\n",
       ");\n"
      ]
     },
     "metadata": {},
     "output_type": "display_data"
    },
    {
     "name": "stdout",
     "output_type": "stream",
     "text": [
      "Welcome to JupyROOT 6.09/03\n"
     ]
    }
   ],
   "source": [
    "import ROOT\n",
    "from ROOT import TMVA"
   ]
  },
  {
   "cell_type": "markdown",
   "metadata": {
    "collapsed": true
   },
   "source": [
    "### Enable JS visualization\n",
    "To use new interactive features in notebook we have to enable a module called JsMVA. This can be done by using ipython magic: %jsmva."
   ]
  },
  {
   "cell_type": "code",
   "execution_count": 2,
   "metadata": {
    "collapsed": true
   },
   "outputs": [],
   "source": [
    "from IPython.core.extensions import ExtensionManager\n",
    "ExtensionManager(get_ipython()).load_extension(\"JsMVA.JsMVAMagic\")"
   ]
  },
  {
   "cell_type": "code",
   "execution_count": 3,
   "metadata": {
    "collapsed": false
   },
   "outputs": [
    {
     "data": {
      "text/html": [
       "\n",
       "    <script type=\"text/javascript\">\n",
       "        require.config({\n",
       "            paths: {\n",
       "                'JsMVA':'https://root.cern.ch/js/jsmva/latest/js/JsMVA.min'\n",
       "            }\n",
       "        });\n",
       "    </script>\n",
       "    <link rel=\"stylesheet\" href=\"https://root.cern.ch/js/jsmva/latest/css/TMVAHTMLOutput.min.css\"></link>\n",
       "    "
      ],
      "text/plain": [
       "<IPython.core.display.HTML object>"
      ]
     },
     "metadata": {},
     "output_type": "display_data"
    }
   ],
   "source": [
    "%jsmva on"
   ]
  },
  {
   "cell_type": "markdown",
   "metadata": {},
   "source": [
    "### Provide Input file\n"
   ]
  },
  {
   "cell_type": "code",
   "execution_count": 4,
   "metadata": {
    "collapsed": false
   },
   "outputs": [],
   "source": [
    "inputFile = ROOT.TFile(\"Higgs_data_small.root\")"
   ]
  },
  {
   "cell_type": "code",
   "execution_count": 5,
   "metadata": {
    "collapsed": false
   },
   "outputs": [
    {
     "data": {
      "text/html": [
       "<table class='tmva_output_table'><tr><td>TFile**\t\tHiggs_data_small.root\t</td></tr><tr><td> TFile*\t\tHiggs_data_small.root\t</td></tr><tr><td>  KEY: TTree\tsig_tree;1\ttree</td></tr><tr><td>  KEY: TTree\tbkg_tree;1\ttree</td></tr></table>"
      ],
      "text/plain": [
       "<IPython.core.display.HTML object>"
      ]
     },
     "metadata": {},
     "output_type": "display_data"
    },
    {
     "data": {
      "text/html": [],
      "text/plain": [
       "<IPython.core.display.HTML object>"
      ]
     },
     "metadata": {},
     "output_type": "display_data"
    }
   ],
   "source": [
    "inputFile.ls()"
   ]
  },
  {
   "cell_type": "markdown",
   "metadata": {},
   "source": [
    "## Declare TMVA Factory\n",
    "\n",
    "\n"
   ]
  },
  {
   "cell_type": "code",
   "execution_count": 6,
   "metadata": {
    "collapsed": false
   },
   "outputs": [],
   "source": [
    "TMVA.Tools.Instance();\n",
    "\n",
    "#optional output file\n",
    "outputFile = ROOT.TFile(\"TMVAOutputCV.root\", \"RECREATE\")\n",
    "\n",
    "factory = TMVA.Factory(\"TMVAClassification\", TargetFile=outputFile,\n",
    "                       V=False, Color=True, DrawProgressBar=True, Transformations=[\"I\", \"D\", \"P\", \"G\", \"D\"],\n",
    "                       AnalysisType=\"Classification\")\n"
   ]
  },
  {
   "cell_type": "markdown",
   "metadata": {},
   "source": [
    "## Declare DataLoader\n",
    "\n",
    "First we need to declare a DataLoader and add the variables (passing the variable names used in the input tree)\n"
   ]
  },
  {
   "cell_type": "code",
   "execution_count": 7,
   "metadata": {
    "collapsed": false
   },
   "outputs": [],
   "source": [
    "loader = TMVA.DataLoader(\"dataset\");\n",
    "\n",
    "#add variables \n",
    "loader.AddVariable(\"m_jj\")\n",
    "loader.AddVariable(\"m_jjj\")\n",
    "loader.AddVariable(\"m_lv\")\n",
    "loader.AddVariable(\"m_jlv\")\n",
    "loader.AddVariable(\"m_bb\")\n",
    "loader.AddVariable(\"m_wbb\")\n",
    "loader.AddVariable(\"m_wwbb\")\n"
   ]
  },
  {
   "cell_type": "markdown",
   "metadata": {},
   "source": [
    "## Setup Dataset(s)\n",
    "\n",
    "To pass the signal and background trees to DataLoader we use the AddSignalTree and AddBackgroundTree functions, and we set up the corresponding DataLoader variable's too. "
   ]
  },
  {
   "cell_type": "code",
   "execution_count": 8,
   "metadata": {
    "collapsed": false
   },
   "outputs": [
    {
     "data": {
      "text/html": [
       "<table class='tmva_output_table'><tbody class='tmva_output_tbody_multiple_row'><tr><td rowspan='2' class='tmva_output_header'>DataSetInfo             </td><td><table class='tmva_output_dataset'><tbody><tr><td rowspan='1'>Dataset: dataset</td><td>Added class \"Signal\"</td><td class='tmva_output_hidden_td'></td></tr></tbody></table></td></tr><tr><td>Add Tree sig_tree of type Signal with 10000 events</td></tr></tbody><tbody class='tmva_output_tbody_multiple_row'><tr><td rowspan='2' class='tmva_output_header'>DataSetInfo             </td><td><table class='tmva_output_dataset'><tbody><tr><td rowspan='1'>Dataset: dataset</td><td>Added class \"Background\"</td><td class='tmva_output_hidden_td'></td></tr></tbody></table></td></tr><tr><td>Add Tree bkg_tree of type Background with 10000 events</td></tr></tbody></table>"
      ],
      "text/plain": [
       "<IPython.core.display.HTML object>"
      ]
     },
     "metadata": {},
     "output_type": "display_data"
    },
    {
     "data": {
      "text/html": [],
      "text/plain": [
       "<IPython.core.display.HTML object>"
      ]
     },
     "metadata": {},
     "output_type": "display_data"
    }
   ],
   "source": [
    "mycuts = ROOT.TCut()\n",
    "mycutb = ROOT.TCut()\n",
    "\n",
    "tsignal =  inputFile.sig_tree\n",
    "tbackground =  inputFile.bkg_tree\n",
    "\n",
    "\n",
    "loader.AddSignalTree    (tsignal,     1.0)   #signal weight  = 1\n",
    "loader.AddBackgroundTree(tbackground, 1.0);   #background weight = 1 \n",
    "\n",
    "loader.PrepareTrainingAndTestTree(SigCut=mycuts, BkgCut=mycutb,\n",
    "                    TrainTestSplit_Signal=0.5, TrainTestSplit_Background=0.5 , SplitMode=\"Random\", NormMode=\"NumEvents\", V=False)\n",
    " \n",
    "##loader.PrepareTrainingAndTestTree(SigCut=mycuts, BkgCut=mycutb,\n",
    "##                    nTrain_Signal=500, nTrain_Background=500, nTest_Signal=500, nTest_Background=500, SplitMode=\"Random\", NormMode=\"NumEvents\", V=False)"
   ]
  },
  {
   "cell_type": "markdown",
   "metadata": {},
   "source": [
    "## Run Cross Validation"
   ]
  },
  {
   "cell_type": "code",
   "execution_count": 9,
   "metadata": {
    "collapsed": true
   },
   "outputs": [],
   "source": [
    "cv = TMVA.CrossValidation(loader)"
   ]
  },
  {
   "cell_type": "code",
   "execution_count": 10,
   "metadata": {
    "collapsed": true
   },
   "outputs": [],
   "source": [
    "cv.BookMethod(TMVA.Types.kBDT, \"BDT\",\n",
    "\"V:NTrees=850:MinNodeSize=2.5%:MaxDepth=3:BoostType=AdaBoost:AdaBoostBeta=0.5:UseBaggedBoost:BaggedSampleFraction=0.5:SeparationType=GiniIndex:nCuts=20\" )\n"
   ]
  },
  {
   "cell_type": "code",
   "execution_count": 11,
   "metadata": {
    "collapsed": false
   },
   "outputs": [
    {
     "data": {
      "text/html": [
       "<table class='tmva_output_table'><tr><td>Evaluate method: BDT</td></tr><tr><td>Evaluation done.</td></tr><tr><td>Real time 0:00:14, CP time 14.760</td></tr></table>"
      ],
      "text/plain": [
       "<IPython.core.display.HTML object>"
      ]
     },
     "metadata": {},
     "output_type": "display_data"
    },
    {
     "data": {
      "text/html": [],
      "text/plain": [
       "<IPython.core.display.HTML object>"
      ]
     },
     "metadata": {},
     "output_type": "display_data"
    }
   ],
   "source": [
    "tw = ROOT.TStopwatch(); tw.Start()\n",
    "\n",
    "cv.Evaluate()\n",
    "tw.Print()"
   ]
  },
  {
   "cell_type": "markdown",
   "metadata": {},
   "source": [
    "## Cross Validation Result"
   ]
  },
  {
   "cell_type": "code",
   "execution_count": 12,
   "metadata": {
    "collapsed": false
   },
   "outputs": [
    {
     "data": {
      "text/html": [
       "<table class='tmva_output_table'><tbody class='tmva_output_tbody_multiple_row'><tr><td rowspan='9' class='tmva_output_header'>CrossValidation         </td><td>==== Results ====</td></tr><tr><td>Fold  0 ROC-Int : 0.7468</td></tr><tr><td>Fold  1 ROC-Int : 0.7784</td></tr><tr><td>Fold  2 ROC-Int : 0.7262</td></tr><tr><td>Fold  3 ROC-Int : 0.7517</td></tr><tr><td>Fold  4 ROC-Int : 0.7487</td></tr><tr></tr><tr><td>Average ROC-Int : 0.7504</td></tr><tr><td>Std-Dev ROC-Int : 0.0186</td></tr></tbody></table>"
      ],
      "text/plain": [
       "<IPython.core.display.HTML object>"
      ]
     },
     "metadata": {},
     "output_type": "display_data"
    },
    {
     "data": {
      "text/html": [],
      "text/plain": [
       "<IPython.core.display.HTML object>"
      ]
     },
     "metadata": {},
     "output_type": "display_data"
    }
   ],
   "source": [
    "results=cv.GetResults()\n",
    "results.Print()\n"
   ]
  },
  {
   "cell_type": "code",
   "execution_count": 13,
   "metadata": {
    "collapsed": false
   },
   "outputs": [
    {
     "data": {
      "image/png": "[encoded data removed]",
      "text/plain": [
       "<IPython.core.display.Image object>"
      ]
     },
     "metadata": {},
     "output_type": "display_data"
    }
   ],
   "source": [
    "c = ROOT.TCanvas()\n",
    "results.GetROCCurves().Draw(\"AL\")\n",
    "c.BuildLegend()\n",
    "c.Draw()"
   ]
  },
  {
   "cell_type": "code",
   "execution_count": null,
   "metadata": {
    "collapsed": true
   },
   "outputs": [],
   "source": []
  }
 ],
 "metadata": {
  "kernelspec": {
   "display_name": "Python 2",
   "language": "python",
   "name": "python2"
  },
  "language_info": {
   "codemirror_mode": {
    "name": "ipython",
    "version": 2
   },
   "file_extension": ".py",
   "mimetype": "text/x-python",
   "name": "python",
   "nbconvert_exporter": "python",
   "pygments_lexer": "ipython2",
   "version": "2.7.10"
  }
 },
 "nbformat": 4,
 "nbformat_minor": 1
}
