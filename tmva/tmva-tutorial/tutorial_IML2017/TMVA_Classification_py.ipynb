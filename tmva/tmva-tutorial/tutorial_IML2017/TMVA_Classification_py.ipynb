{
 "cells": [
  {
   "cell_type": "markdown",
   "metadata": {},
   "source": [
    "<img src=\"http://oproject.org/tiki-download_file.php?fileId=8&display&x=450&y=128\">\n",
    "<img src=\"http://files.oproject.org/tmvalogo.png\" height=\"50%\" width=\"50%\">\n",
    "\n",
    "# TMVA  Training Example \n",
    "\n",
    "#### This an example of training TMVA classifiers on a Higgs data set\n",
    "\n",
    "We are going to use an extract of the UCI public Higgs data set. See https://archive.ics.uci.edu/ml/datasets/HIGGS.\n",
    "To mantain the problem simple we will use just the high level features of the data set.\n",
    "\n",
    "We will run this example using Python and using the add-on JSMVA (Javascript enhanchments for TMVA) which works only in the notebook. "
   ]
  },
  {
   "cell_type": "code",
   "execution_count": 1,
   "metadata": {
    "collapsed": false
   },
   "outputs": [
    {
     "name": "stdout",
     "output_type": "stream",
     "text": [
      "Welcome to JupyROOT 6.13/01\n"
     ]
    }
   ],
   "source": [
    "import ROOT\n",
    "from ROOT import TMVA"
   ]
  },
  {
   "cell_type": "markdown",
   "metadata": {
    "collapsed": true
   },
   "source": [
    "### Enable JS visualization\n",
    "To use new interactive features in notebook we have to enable a module called JsMVA. This can be done by using ipython magic: %jsmva.\n",
    "\n",
    "Due to a current problem with importing ROOT in the latest release, we use this temporary workaround (two lines below). They will not be needed in the future"
   ]
  },
  {
   "cell_type": "code",
   "execution_count": 2,
   "metadata": {
    "collapsed": true
   },
   "outputs": [],
   "source": [
    "from IPython.core.extensions import ExtensionManager\n",
    "ExtensionManager(get_ipython()).load_extension(\"JsMVA.JsMVAMagic\")"
   ]
  },
  {
   "cell_type": "code",
   "execution_count": 3,
   "metadata": {
    "collapsed": false
   },
   "outputs": [
    {
     "data": {
      "text/html": [
       "\n",
       "    <script type=\"text/javascript\">\n",
       "        require.config({\n",
       "            paths: {\n",
       "                'JsMVA':'https://root.cern.ch/js/jsmva/latest/js/JsMVA.min'\n",
       "            }\n",
       "        });\n",
       "    </script>\n",
       "    <link rel=\"stylesheet\" href=\"https://root.cern.ch/js/jsmva/latest/css/TMVAHTMLOutput.min.css\"></link>\n",
       "    "
      ],
      "text/plain": [
       "<IPython.core.display.HTML object>"
      ]
     },
     "metadata": {},
     "output_type": "display_data"
    }
   ],
   "source": [
    "%jsmva on"
   ]
  },
  {
   "cell_type": "markdown",
   "metadata": {},
   "source": [
    "## Set the input tree's\n",
    "\n",
    "TMVA The input file should contains the signal and the background trees.\n",
    "In this case of the dataset, we have *sig_tree* for the signal tree and *bkg_tree* for the background one"
   ]
  },
  {
   "cell_type": "code",
   "execution_count": 4,
   "metadata": {
    "collapsed": false
   },
   "outputs": [],
   "source": [
    "inputFile = ROOT.TFile(\"Higgs_data.root\")"
   ]
  },
  {
   "cell_type": "code",
   "execution_count": 5,
   "metadata": {
    "collapsed": false
   },
   "outputs": [
    {
     "data": {
      "text/html": [
       "<table class='tmva_output_table'><tr><td>TFile**\t\tHiggs_data.root\t</td></tr><tr><td> TFile*\t\tHiggs_data.root\t</td></tr><tr><td>  KEY: TTree\tsig_tree;1\ttree</td></tr><tr><td>  KEY: TTree\tbkg_tree;1\ttree</td></tr></table>"
      ],
      "text/plain": [
       "<IPython.core.display.HTML object>"
      ]
     },
     "metadata": {},
     "output_type": "display_data"
    },
    {
     "data": {
      "text/html": [],
      "text/plain": [
       "<IPython.core.display.HTML object>"
      ]
     },
     "metadata": {},
     "output_type": "display_data"
    }
   ],
   "source": [
    "inputFile.ls()"
   ]
  },
  {
   "cell_type": "code",
   "execution_count": 6,
   "metadata": {
    "collapsed": false
   },
   "outputs": [],
   "source": [
    "#inputFile.sig_tree.Print()"
   ]
  },
  {
   "cell_type": "code",
   "execution_count": 7,
   "metadata": {
    "collapsed": true
   },
   "outputs": [],
   "source": [
    "TMVA.Tools.Instance();\n",
    "\n",
    "#optional output file\n",
    "outputFile = ROOT.TFile(\"TMVAOutput.root\", \"RECREATE\")"
   ]
  },
  {
   "cell_type": "markdown",
   "metadata": {},
   "source": [
    "## Declare TMVA Factory (String Interface)\n",
    "\n",
    "We declare the factory using the standard TMVA string interface working both in C++ and Python"
   ]
  },
  {
   "cell_type": "code",
   "execution_count": 8,
   "metadata": {
    "collapsed": true
   },
   "outputs": [],
   "source": [
    "factory = TMVA.Factory( \"TMVAClassification\", outputFile #this is optional\n",
    "                       ,\"!V:Color:DrawProgressBar:Transformations=I;D;P;G,D:AnalysisType=Classification\" )"
   ]
  },
  {
   "cell_type": "markdown",
   "metadata": {},
   "source": [
    "The options string can contain the following options:\n",
    "<table>\n",
    "<tr><th>Option</th><th>Default</th><th>Predefined values</th><th>Description</th></tr>\n",
    "<tr>\n",
    " <td>V</td>\n",
    " <td>False</td>\n",
    " <td>-</td>\n",
    " <td>Verbose flag</td>\n",
    "</tr>\n",
    "<tr>\n",
    " <td>Color</td>\n",
    " <td>True</td>\n",
    " <td>-</td>\n",
    " <td>Flag for colored output</td>\n",
    "</tr>\n",
    "<tr>\n",
    " <td>Transformations</td>\n",
    " <td>\"\"</td>\n",
    " <td>-</td>\n",
    " <td>List of transformations to test. For example with \"I;D;P;U;G\" string identity, decorrelation, PCA, uniform and Gaussian transformations will be applied</td>\n",
    "</tr>\n",
    "<tr>\n",
    " <td>Silent</td>\n",
    " <td>False</td>\n",
    " <td>-</td>\n",
    " <td>Batch mode: boolean silent flag inhibiting\n",
    "any output from TMVA after\n",
    "the creation of the factory class object</td>\n",
    "</tr>\n",
    "<tr>\n",
    " <td>DrawProgressBar</td>\n",
    " <td>True</td>\n",
    " <td>-</td>\n",
    " <td>Draw progress bar to display training,\n",
    "testing and evaluation schedule (default:\n",
    "True)</td>\n",
    "</tr>\n",
    "<tr>\n",
    " <td>AnalysisType</td>\n",
    " <td>Auto</td>\n",
    " <td>Classification,\n",
    "Regression,\n",
    "Multiclass, Auto</td>\n",
    " <td>Set the analysis type</td>\n",
    "</tr>\n",
    "</table>"
   ]
  },
  {
   "cell_type": "markdown",
   "metadata": {},
   "source": [
    "## Declare TMVA Factory (Pythonic Interface)\n",
    "\n",
    "Here we give an example of using the new interface available now only in the Notebooks using JSMVA\n",
    "\n",
    "Arguments of constructor:\n",
    "The options string can contain the following options:\n",
    "<table>\n",
    "<tr><th>Keyword</th><th>Can be used as positional argument</th><th>Default</th><th>Predefined values</th><th>Description</th></tr>\n",
    "<tr>\n",
    " <td>JobName</td>\n",
    " <td>yes, 1.</td>\n",
    " <td>not optional</td>\n",
    " <td>-</td>\n",
    " <td>Name of job</td>\n",
    "</tr>\n",
    "<tr>\n",
    " <td>TargetFile</td>\n",
    " <td>yes, 2.</td>\n",
    " <td>if not passed histograms won't be saved</td>\n",
    " <td>-</td>\n",
    " <td>File to write control and performance histograms histograms </td>\n",
    "</tr>\n",
    "<tr>\n",
    " <td>V</td>\n",
    " <td>no</td>\n",
    " <td>False</td>\n",
    " <td>-</td>\n",
    " <td>Verbose flag</td>\n",
    "</tr>\n",
    "<tr>\n",
    " <td>Color</td>\n",
    "  <td>no</td>\n",
    "\n",
    " <td>True</td>\n",
    " <td>-</td>\n",
    " <td>Flag for colored output</td>\n",
    "</tr>\n",
    "<tr>\n",
    " <td>Transformations</td>\n",
    "  <td>no</td>\n",
    "\n",
    " <td>\"\"</td>\n",
    " <td>-</td>\n",
    " <td>List of transformations to test. For example with \"I;D;P;U;G\" string identity, decorrelation, PCA, uniform and Gaussian transformations will be applied</td>\n",
    "</tr>\n",
    "<tr>\n",
    " <td>Silent</td>\n",
    "  <td>no</td>\n",
    "\n",
    " <td>False</td>\n",
    "\n",
    " <td>-</td>\n",
    " <td>Batch mode: boolean silent flag inhibiting\n",
    "any output from TMVA after\n",
    "the creation of the factory class object</td>\n",
    "</tr>\n",
    "<tr>\n",
    " <td>DrawProgressBar</td>\n",
    "  <td>no</td>\n",
    "\n",
    " <td>True</td>\n",
    " <td>-</td>\n",
    " <td>Draw progress bar to display training,\n",
    "testing and evaluation schedule (default:\n",
    "True)</td>\n",
    "</tr>\n",
    "<tr>\n",
    " <td>AnalysisType</td>\n",
    "  <td>no</td>\n",
    "\n",
    " <td>Auto</td>\n",
    " <td>Classification,\n",
    "Regression,\n",
    "Multiclass, Auto</td>\n",
    " <td>Set the analysis type</td>\n",
    "</tr>\n",
    "</table>"
   ]
  },
  {
   "cell_type": "code",
   "execution_count": 9,
   "metadata": {
    "collapsed": false
   },
   "outputs": [],
   "source": [
    "factory = TMVA.Factory(\"TMVAClassification\", TargetFile=outputFile,\n",
    "                       V=False, Color=True, DrawProgressBar=True, Transformations=[\"I\", \"D\", \"P\", \"G\", \"D\"],\n",
    "                       AnalysisType=\"Classification\")"
   ]
  },
  {
   "cell_type": "markdown",
   "metadata": {},
   "source": [
    "## Declare DataLoader\n",
    "\n",
    "First we need to declare a DataLoader and add the variables (passing the variable names used in the test and train trees in input dataset). To add variable names to DataLoader we use the **AddVariable** function. Arguments of this function:\n",
    "\n",
    "1. String containing the variable name. Using \":=\" we can add definition too.\n",
    "\n",
    "2. String (label to variable, if not present the variable name will be used) or character (defining the type of data points)\n",
    "\n",
    "3. If we have label for variable, the data point type still can be passed as third argument \n",
    "\n",
    "Example: \n",
    "\n",
    "loader.AddVariable( \"myvar1 := var1+var2\", 'F' )\n",
    "\n",
    "In this case we add all the 7 high level features"
   ]
  },
  {
   "cell_type": "code",
   "execution_count": 10,
   "metadata": {
    "collapsed": false
   },
   "outputs": [],
   "source": [
    "loader = TMVA.DataLoader(\"dataset\");\n",
    "\n",
    "#add variables (we use the high level ones)\n",
    "loader.AddVariable(\"m_jj\")\n",
    "loader.AddVariable(\"m_jjj\")\n",
    "loader.AddVariable(\"m_lv\")\n",
    "loader.AddVariable(\"m_jlv\")\n",
    "loader.AddVariable(\"m_bb\")\n",
    "loader.AddVariable(\"m_wbb\")\n",
    "loader.AddVariable(\"m_wwbb\")\n"
   ]
  },
  {
   "cell_type": "markdown",
   "metadata": {},
   "source": [
    "## Setup Dataset(s)\n",
    "\n",
    "To pass the signal and background trees to DataLoader we use the **AddSignalTree** and **AddBackgroundTree** functions of the DataLoader class. \n",
    "\n",
    "We configure also the DataLoader using the **DataLoader.PrepareTrainingAndTestTree** function. "
   ]
  },
  {
   "cell_type": "markdown",
   "metadata": {},
   "source": [
    "With this function we apply cuts on input events and configure the number of training and test events and how do we split them.\n",
    "\n",
    "This function can accept a string option (valid for C++ and standard Python), but we will use now the new JSMVA interface, which works with keyword arguments. \n",
    "See for exsample the TMVA tutorial (*tutorials/tmva/TMVAClassification.C* for the usage of the String interface. \n",
    "\n",
    "(TMVA tutorials are also visible here: https://root.cern.ch/doc/master/group__tutorial__tmva.html )\n",
    "\n",
    "\n",
    "Arguments of **PrepareTrainingAndTestTree** function :\n",
    "<table>\n",
    "\n",
    "<tr>\n",
    "    <th>Keyword</th>\n",
    "    <th>Can be used as positional argument</th>\n",
    "    <th>Default</th>\n",
    "    <th>Predefined values</th>\n",
    "    <th>Description</th>\n",
    "</tr>\n",
    "\n",
    "<tr>\n",
    "    <td>SigCut</td>\n",
    "    <td>yes, 1.</td>\n",
    "    <td>-</td>\n",
    "    <td>-</td>\n",
    "    <td>TCut object for signal cut</td>\n",
    "</tr>\n",
    "<tr>\n",
    "    <td>Bkg</td>\n",
    "    <td>yes, 2.</td>\n",
    "    <td>-</td>\n",
    "    <td>-</td>\n",
    "    <td>TCut object for background cut</td>\n",
    "</tr>\n",
    "\n",
    "<tr>\n",
    "    <td>SplitMode</td>\n",
    "    <td>no</td>\n",
    "    <td>Random</td>\n",
    "    <td>Random,\n",
    "Alternate,\n",
    "Block</td>\n",
    "    <td>Method of picking training and testing\n",
    "events</td>\n",
    "</tr>\n",
    "<tr>\n",
    "    <td>MixMode</td>\n",
    "    <td>no</td>\n",
    "    <td>SameAsSplitMode</td>\n",
    "    <td>SameAsSplitMode,\n",
    "Random,\n",
    "Alternate,\n",
    "Block</td>\n",
    "    <td>Method of mixing events of differnt\n",
    "classes into one dataset</td>\n",
    "</tr>\n",
    "<tr>\n",
    "    <td>SplitSeed</td>\n",
    "    <td>no</td>\n",
    "    <td>100</td>\n",
    "    <td>-</td>\n",
    "    <td>Seed for random event shuffling</td>\n",
    "</tr>\n",
    "<tr>\n",
    "    <td>NormMode</td>\n",
    "    <td>no</td>\n",
    "    <td>EqualNumEvents</td>\n",
    "    <td>None, NumEvents,\n",
    "EqualNumEvents</td>\n",
    "    <td>Overall renormalisation of event-by-event\n",
    "weights used in the training (NumEvents:\n",
    "average weight of 1 per\n",
    "event, independently for signal and\n",
    "background; EqualNumEvents: average\n",
    "weight of 1 per event for signal,\n",
    "and sum of weights for background\n",
    "equal to sum of weights for signal)</td>\n",
    "</tr>\n",
    "\n",
    "<tr>\n",
    "    <td>nTrain_Signal</td>\n",
    "    <td>no</td>\n",
    "    <td>0 (all)</td>\n",
    "    <td>-</td>\n",
    "    <td>Number of training events of class Signal</td>\n",
    "</tr>\n",
    "\n",
    "<tr>\n",
    "    <td>nTest_Signal</td>\n",
    "    <td>no</td>\n",
    "    <td>0 (all)</td>\n",
    "    <td>-</td>\n",
    "    <td>Number of test events of class Signal</td>\n",
    "</tr>\n",
    "\n",
    "<tr>\n",
    "    <td>nTrain_Background</td>\n",
    "    <td>no</td>\n",
    "    <td>0 (all)</td>\n",
    "    <td>-</td>\n",
    "    <td>Number of training events of class\n",
    "Background</td>\n",
    "</tr>\n",
    "\n",
    "<tr>\n",
    "    <td>nTest_Background </td>\n",
    "    <td>no</td>\n",
    "    <td>0 (all)</td>\n",
    "    <td>-</td>\n",
    "    <td>Number of test events of class Background</td>\n",
    "</tr>\n",
    "<tr>\n",
    "    <td>V</td>\n",
    "    <td>no</td>\n",
    "    <td>False</td>\n",
    "    <td>-</td>\n",
    "    <td>Verbosity</td>\n",
    "</tr>\n",
    "<tr>\n",
    "    <td>VerboseLevel</td>\n",
    "    <td>no</td>\n",
    "    <td>Info</td>\n",
    "    <td>Debug, Verbose,\n",
    "Info</td>\n",
    "    <td>Verbosity level</td>\n",
    "</tr>\n",
    "\n",
    "</table>"
   ]
  },
  {
   "cell_type": "code",
   "execution_count": 11,
   "metadata": {
    "collapsed": false
   },
   "outputs": [
    {
     "data": {
      "text/html": [
       "<table class='tmva_output_table'><tbody class='tmva_output_tbody_multiple_row'><tr><td rowspan='2' class='tmva_output_header'>DataSetInfo             </td><td><table class='tmva_output_dataset'><tbody><tr><td rowspan='1'>Dataset: dataset</td><td>Added class \"Signal\"</td><td class='tmva_output_hidden_td'></td></tr></tbody></table></td></tr><tr><td>Add Tree sig_tree of type Signal with 100000 events</td></tr></tbody><tbody class='tmva_output_tbody_multiple_row'><tr><td rowspan='2' class='tmva_output_header'>DataSetInfo             </td><td><table class='tmva_output_dataset'><tbody><tr><td rowspan='1'>Dataset: dataset</td><td>Added class \"Background\"</td><td class='tmva_output_hidden_td'></td></tr></tbody></table></td></tr><tr><td>Add Tree bkg_tree of type Background with 100000 events</td></tr></tbody></table>"
      ],
      "text/plain": [
       "<IPython.core.display.HTML object>"
      ]
     },
     "metadata": {},
     "output_type": "display_data"
    },
    {
     "data": {
      "text/html": [],
      "text/plain": [
       "<IPython.core.display.HTML object>"
      ]
     },
     "metadata": {},
     "output_type": "display_data"
    }
   ],
   "source": [
    "mycuts = ROOT.TCut()\n",
    "mycutb = ROOT.TCut()\n",
    "\n",
    "\n",
    "loader.AddSignalTree    (inputFile.sig_tree,     1.0)   #signal weight  = 1\n",
    "loader.AddBackgroundTree(inputFile.bkg_tree, 1.0);   #background weight = 1 \n",
    "\n",
    " \n",
    "loader.PrepareTrainingAndTestTree(SigCut=mycuts, BkgCut=mycutb,\n",
    "                    nTrain_Signal=1000, nTrain_Background=1000, nTest_Signal=10000, nTest_Background=10000, SplitMode=\"Random\", NormMode=\"NumEvents\", V=False)"
   ]
  },
  {
   "cell_type": "markdown",
   "metadata": {},
   "source": [
    "## Visualize input variables \n",
    "\n",
    "In JSMVA we have the possibility of visualizing the distribution of the input variables passed to the DataLoader."
   ]
  },
  {
   "cell_type": "code",
   "execution_count": 12,
   "metadata": {
    "collapsed": false
   },
   "outputs": [
    {
     "data": {
      "text/html": [
       "\n",
       "<div id=\"jstmva_1\" style=\"width: 800px; height:450px\"></div>\n",
       "<script>\n",
       "    require(['JsMVA'],function(jsmva){\n",
       "        jsmva.draw('jstmva_1','{  \"_typename\" : \"TCanvas\",  \"fUniqueID\" : 0,  \"fBits\" : 53673992,  \"fLineColor\" : 1,  \"fLineStyle\" : 1,  \"fLineWidth\" : 1,  \"fFillColor\" : 0,  \"fFillStyle\" : 1001,  \"fLeftMargin\" : 0.1,  \"fRightMargin\" : 0.1,  \"fBottomMargin\" : 0.1,  \"fTopMargin\" : 0.1,  \"fXfile\" : 2,  \"fYfile\" : 2,  \"fAfile\" : 1,  \"fXstat\" : 0.99,  \"fYstat\" : 0.99,  \"fAstat\" : 2,  \"fFrameFillColor\" : 0,  \"fFrameLineColor\" : 1,  \"fFrameFillStyle\" : 1001,  \"fFrameLineStyle\" : 1,  \"fFrameLineWidth\" : 1,  \"fFrameBorderSize\" : 1,  \"fFrameBorderMode\" : 0,  \"fX1\" : 0,  \"fY1\" : 0,  \"fX2\" : 1,  \"fY2\" : 1,  \"fXtoAbsPixelk\" : 5e-5,  \"fXtoPixelk\" : 5e-5,  \"fXtoPixel\" : 796,  \"fYtoAbsPixelk\" : 422.00005,  \"fYtoPixelk\" : 422.00005,  \"fYtoPixel\" : -422,  \"fUtoAbsPixelk\" : 5e-5,  \"fUtoPixelk\" : 5e-5,  \"fUtoPixel\" : 796,  \"fVtoAbsPixelk\" : 422.00005,  \"fVtoPixelk\" : 422,  \"fVtoPixel\" : -422,  \"fAbsPixeltoXk\" : 0,  \"fPixeltoXk\" : 0,  \"fPixeltoX\" : 0.00125628140703518,  \"fAbsPixeltoYk\" : 1,  \"fPixeltoYk\" : 0,  \"fPixeltoY\" : -0.0023696682464455,  \"fXlowNDC\" : 0,  \"fYlowNDC\" : 0,  \"fXUpNDC\" : 0,  \"fYUpNDC\" : 0,  \"fWNDC\" : 1,  \"fHNDC\" : 1,  \"fAbsXlowNDC\" : 0,  \"fAbsYlowNDC\" : 0,  \"fAbsWNDC\" : 1,  \"fAbsHNDC\" : 1,  \"fUxmin\" : 0,  \"fUymin\" : 0,  \"fUxmax\" : 1,  \"fUymax\" : 1,  \"fTheta\" : 30,  \"fPhi\" : 30,  \"fAspectRatio\" : 0,  \"fNumber\" : 0,  \"fTickx\" : 0,  \"fTicky\" : 0,  \"fLogx\" : 0,  \"fLogy\" : 0,  \"fLogz\" : 0,  \"fPadPaint\" : 0,  \"fCrosshair\" : 0,  \"fCrosshairPos\" : 0,  \"fBorderSize\" : 2,  \"fBorderMode\" : 0,  \"fModified\" : true,  \"fGridx\" : false,  \"fGridy\" : false,  \"fAbsCoord\" : false,  \"fEditable\" : true,  \"fFixedAspectRatio\" : false,  \"fPrimitives\" : {    \"_typename\" : \"TList\",    \"name\" : \"TList\",    \"arr\" : [{      \"_typename\" : \"TH1F\",      \"fUniqueID\" : 0,      \"fBits\" : 50331656,      \"fName\" : \"Signal\",      \"fTitle\" : \"Input variable: m_wwbb (Signal)\",      \"fLineColor\" : 602,      \"fLineStyle\" : 1,      \"fLineWidth\" : 1,      \"fFillColor\" : 600,      \"fFillStyle\" : 1001,      \"fMarkerColor\" : 1,      \"fMarkerStyle\" : 1,      \"fMarkerSize\" : 1,      \"fNcells\" : 102,      \"fXaxis\" : {        \"_typename\" : \"TAxis\",        \"fUniqueID\" : 0,        \"fBits\" : 50331656,        \"fName\" : \"xaxis\",        \"fTitle\" : \"m_wwbb (Signal)\",        \"fNdivisions\" : 510,        \"fAxisColor\" : 1,        \"fLabelColor\" : 1,        \"fLabelFont\" : 42,        \"fLabelOffset\" : 0.005,        \"fLabelSize\" : 0.035,        \"fTickLength\" : 0.03,        \"fTitleOffset\" : 1,        \"fTitleSize\" : 0.035,        \"fTitleColor\" : 1,        \"fTitleFont\" : 42,        \"fNbins\" : 100,        \"fXmin\" : 0.3,        \"fXmax\" : 2.5,        \"fXbins\" : [],        \"fFirst\" : 1,        \"fLast\" : 100,        \"fBits2\" : 0,        \"fTimeDisplay\" : false,        \"fTimeFormat\" : \"\",        \"fLabels\" : null,        \"fModLabs\" : null      },      \"fYaxis\" : {        \"_typename\" : \"TAxis\",        \"fUniqueID\" : 0,        \"fBits\" : 50331656,        \"fName\" : \"yaxis\",        \"fTitle\" : \"Number of events\",        \"fNdivisions\" : 510,        \"fAxisColor\" : 1,        \"fLabelColor\" : 1,        \"fLabelFont\" : 42,        \"fLabelOffset\" : 0.005,        \"fLabelSize\" : 0.035,        \"fTickLength\" : 0.03,        \"fTitleOffset\" : 0,        \"fTitleSize\" : 0.035,        \"fTitleColor\" : 1,        \"fTitleFont\" : 42,        \"fNbins\" : 1,        \"fXmin\" : 0,        \"fXmax\" : 1,        \"fXbins\" : [],        \"fFirst\" : 0,        \"fLast\" : 0,        \"fBits2\" : 0,        \"fTimeDisplay\" : false,        \"fTimeFormat\" : \"\",        \"fLabels\" : null,        \"fModLabs\" : null      },      \"fZaxis\" : {        \"_typename\" : \"TAxis\",        \"fUniqueID\" : 0,        \"fBits\" : 50331648,        \"fName\" : \"zaxis\",        \"fTitle\" : \"\",        \"fNdivisions\" : 510,        \"fAxisColor\" : 1,        \"fLabelColor\" : 1,        \"fLabelFont\" : 42,        \"fLabelOffset\" : 0.005,        \"fLabelSize\" : 0.035,        \"fTickLength\" : 0.03,        \"fTitleOffset\" : 1,        \"fTitleSize\" : 0.035,        \"fTitleColor\" : 1,        \"fTitleFont\" : 42,        \"fNbins\" : 1,        \"fXmin\" : 0,        \"fXmax\" : 1,        \"fXbins\" : [],        \"fFirst\" : 0,        \"fLast\" : 0,        \"fBits2\" : 0,        \"fTimeDisplay\" : false,        \"fTimeFormat\" : \"\",        \"fLabels\" : null,        \"fModLabs\" : null      },      \"fBarOffset\" : 0,      \"fBarWidth\" : 1000,      \"fEntries\" : 1000,      \"fTsumw\" : 1000,      \"fTsumw2\" : 1000,      \"fTsumwx\" : 923.054161667824,      \"fTsumwx2\" : 923.837322693745,      \"fMaximum\" : 83.6,      \"fMinimum\" : -1111,      \"fNormFactor\" : 0,      \"fContour\" : [],      \"fSumw2\" : [],      \"fOption\" : \"\",      \"fFunctions\" : {        \"_typename\" : \"TList\",        \"name\" : \"TList\",        \"arr\" : [],        \"opt\" : []      },      \"fBufferSize\" : 2001,      \"fBuffer\" : [-1000, 1, 0.77767151594162, 1, 0.772122502326965, 1, 0.905807852745056, 1, 1.17311012744904, 1, 0.834665596485138, 1, 2.15161299705505, 1, 0.791491329669952, 1, 2.12496280670166, 1, 0.767310619354248, 1, 1.01397895812988, 1, 0.58142352104187, 1, 1.15566337108612, 1, 0.993094801902771, 1, 0.774816870689392, 1, 0.610535502433777, 1, 0.729648232460022, 1, 0.865574359893799, 1, 0.699765980243683, 1, 0.725031852722168, 1, 0.792928457260132, 1, 0.90587043762207, 1, 0.934560060501099, 1, 1.16327917575836, 1, 0.861464440822601, 1, 1.36969661712646, 1, 0.906963407993317, 1, 0.856566488742828, 1, 0.979754030704498, 1, 1.21763551235199, 1, 0.819666683673859, 1, 0.739755034446716, 1, 0.836394071578979, 1, 0.745090961456299, 1, 0.799621343612671, 1, 1.15735077857971, 1, 0.969946444034576, 1, 1.00475609302521, 1, 0.802284419536591, 1, 0.778479039669037, 1, 0.839864611625671, 1, 0.968217968940735, 1, 0.740672051906586, 1, 0.824785590171814, 1, 0.689410865306854, 1, 0.841096460819244, 1, 2.12441515922546, 1, 1.08118724822998, 1, 0.838691473007202, 1, 0.726226508617401, 1, 0.791025996208191, 1, 1.66624176502228, 1, 0.679616928100586, 1, 0.901559054851532, 1, 0.833891272544861, 1, 0.784886479377747, 1, 1.94670701026917, 1, 0.650176525115967, 1, 0.927998185157776, 1, 0.832606673240662, 1, 0.799249827861786, 1, 0.974981307983398, 1, 0.88844507932663, 1, 0.850174725055695, 1, 0.887273907661438, 1, 0.844654977321625, 1, 0.750841379165649, 1, 0.957661509513855, 1, 1.11636638641357, 1, 0.98952454328537, 1, 0.74970930814743, 1, 0.782919466495514, 1, 1.01552963256836, 1, 0.857508897781372, 1, 0.81475704908371, 1, 0.777520954608917, 1, 1.09131562709808, 1, 0.810410499572754, 1, 0.700933218002319, 1, 0.782506883144379, 1, 0.784118056297302, 1, 1.51075327396393, 1, 0.868790805339813, 1, 1.05598592758179, 1, 0.968247354030609, 1, 0.797517478466034, 1, 1.36945593357086, 1, 1.05628514289856, 1, 0.800180554389954, 1, 0.901005744934082, 1, 0.711689114570618, 1, 0.808152198791504, 1, 0.780205607414246, 1, 0.971203684806824, 1, 0.68493914604187, 1, 1.13154518604279, 1, 0.890112996101379, 1, 0.783058285713196, 1, 0.711665689945221, 1, 1.34939694404602, 1, 0.761669635772705, 1, 0.869829058647156, 1, 1.29062950611115, 1, 0.828930735588074, 1, 0.872988760471344, 1, 0.947191059589386, 1, 0.795601308345795, 1, 0.805115640163422, 1, 0.798778653144836, 1, 1.14776611328125, 1, 0.550702393054962, 1, 0.719750761985779, 1, 0.846023678779602, 1, 1.01675748825073, 1, 0.832055270671844, 1, 0.84024977684021, 1, 0.788253426551819, 1, 1.01612389087677, 1, 0.961087107658386, 1, 0.684778809547424, 1, 0.908328235149384, 1, 0.812011897563934, 1, 0.772274971008301, 1, 1.5421587228775, 1, 0.758603811264038, 1, 0.857309520244598, 1, 0.595562040805817, 1, 0.855489134788513, 1, 0.512299060821533, 1, 0.825843393802643, 1, 1.1972244977951, 1, 0.773784458637238, 1, 0.809821963310242, 1, 0.801523804664612, 1, 0.802124083042145, 1, 0.850372195243835, 1, 0.735912919044495, 1, 1.84081172943115, 1, 0.651240170001984, 1, 0.844711720943451, 1, 0.892664611339569, 1, 0.909749746322632, 1, 0.976056635379791, 1, 0.877984464168549, 1, 0.934835731983185, 1, 0.741976261138916, 1, 0.78368204832077, 1, 0.719451546669006, 1, 0.852532804012299, 1, 1.0872642993927, 1, 0.753922879695892, 1, 0.776989161968231, 1, 0.781183242797852, 1, 0.877249300479889, 1, 0.667519688606262, 1, 0.743931531906128, 1, 0.846168398857117, 1, 0.899255812168121, 1, 0.835789799690247, 1, 0.864031672477722, 1, 0.803559243679047, 1, 1.11254000663757, 1, 0.683511853218079, 1, 0.727657854557037, 1, 0.997548937797546, 1, 0.855186104774475, 1, 0.670990288257599, 1, 0.694469094276428, 1, 0.772464692592621, 1, 0.605531930923462, 1, 0.874064147472382, 1, 1.23837697505951, 1, 0.968959033489227, 1, 1.02436542510986, 1, 1.06542408466339, 1, 0.993214070796967, 1, 0.769164204597473, 1, 0.777325451374054, 1, 0.883320391178131, 1, 1.16763544082642, 1, 0.590466618537903, 1, 0.737791955471039, 1, 1.00595462322235, 1, 0.844856381416321, 1, 0.817674338817596, 1, 1.09269607067108, 1, 0.585175693035126, 1, 0.747714936733246, 1, 0.654767453670502, 1, 1.32464921474457, 1, 0.850747585296631, 1, 0.831969261169434, 1, 1.11996817588806, 1, 1.05640244483948, 1, 2.04913759231567, 1, 0.878870248794556, 1, 0.745945453643799, 1, 1.35443365573883, 1, 0.775424957275391, 1, 1.0480945110321, 1, 0.882866740226746, 1, 0.691297709941864, 1, 0.756982862949371, 1, 1.00714540481567, 1, 0.900843441486359, 1, 1.52536690235138, 1, 0.778353929519653, 1, 0.801901161670685, 1, 1.09810042381287, 1, 0.750344753265381, 1, 0.915582299232483, 1, 0.806063950061798, 1, 0.761597275733948, 1, 0.815486371517181, 1, 0.751115083694458, 1, 0.747143983840942, 1, 2.06849455833435, 1, 1.46725833415985, 1, 0.922171533107758, 1, 0.700905859470367, 1, 0.768915832042694, 1, 0.757020056247711, 1, 1.35695016384125, 1, 1.08911001682281, 1, 0.791571497917175, 1, 0.812827229499817, 1, 0.950636208057404, 1, 0.804859459400177, 1, 0.640429496765137, 1, 0.912895679473877, 1, 0.588216125965118, 1, 0.814180254936218, 1, 0.810735046863556, 1, 1.00230801105499, 1, 0.88656222820282, 1, 0.781185150146484, 1, 1.04476273059845, 1, 0.872541010379791, 1, 0.497667759656906, 1, 0.706961333751678, 1, 0.828189730644226, 1, 0.818863153457642, 1, 0.833687961101532, 1, 0.955207645893097, 1, 0.617899000644684, 1, 0.83757495880127, 1, 0.814148962497711, 1, 0.705708026885986, 1, 0.744039058685303, 1, 0.713075459003448, 1, 0.873555779457092, 1, 0.895491898059845, 1, 0.90157276391983, 1, 1.12233197689056, 1, 0.839708149433136, 1, 1.01711332798004, 1, 0.793354690074921, 1, 0.853344202041626, 1, 0.714893817901611, 1, 0.731781423091888, 1, 0.807448267936707, 1, 0.670442819595337, 1, 0.718057453632355, 1, 0.807612538337708, 1, 0.641381740570068, 1, 0.686075150966644, 1, 0.83473789691925, 1, 0.750575482845306, 1, 0.851848423480988, 1, 1.14922666549683, 1, 0.683728873729706, 1, 1.30211079120636, 1, 1.46429216861725, 1, 0.798731684684753, 1, 0.561067223548889, 1, 0.801193356513977, 1, 1.01854646205902, 1, 0.929922163486481, 1, 0.733615517616272, 1, 0.823059141635895, 1, 0.572386264801025, 1, 0.816430747509003, 1, 0.761487782001495, 1, 0.904583930969238, 1, 0.813339471817017, 1, 0.856609523296356, 1, 0.764823496341705, 1, 1.03872096538544, 1, 0.707868576049805, 1, 0.825211822986603, 1, 0.707549810409546, 1, 1.24865186214447, 1, 1.44605946540833, 1, 0.564975798130035, 1, 0.792373180389404, 1, 0.783308565616608, 1, 0.894348084926605, 1, 1.11648976802826, 1, 1.16432130336761, 1, 0.668163001537323, 1, 0.66018944978714, 1, 0.817206978797913, 1, 1.02446317672729, 1, 1.06173253059387, 1, 0.741610586643219, 1, 1.03894972801208, 1, 0.676316440105438, 1, 0.88990181684494, 1, 1.08570790290833, 1, 0.744893431663513, 1, 0.967787802219391, 1, 0.970009028911591, 1, 0.863273024559021, 1, 1.20660591125488, 1, 0.799678027629852, 1, 0.769150495529175, 1, 0.706484258174896, 1, 1.10372567176819, 1, 0.681538999080658, 1, 0.78234851360321, 1, 0.783742666244507, 1, 0.981421887874603, 1, 0.748160719871521, 1, 0.850409388542175, 1, 0.799273312091827, 1, 1.57050800323486, 1, 0.879138052463531, 1, 0.797883093357086, 1, 0.758906900882721, 1, 0.92435747385025, 1, 0.826735019683838, 1, 0.698815703392029, 1, 0.818456411361694, 1, 0.761088967323303, 1, 0.751341938972473, 1, 0.677604973316193, 1, 0.91146445274353, 1, 0.648891866207123, 1, 0.795403838157654, 1, 0.694259881973267, 1, 0.994174122810364, 1, 0.801969587802887, 1, 0.68408864736557, 1, 0.610230445861816, 1, 0.784876644611359, 1, 0.790388584136963, 1, 0.863206565380096, 1, 0.825511038303375, 1, 1.03827309608459, 1, 1.36335754394531, 1, 0.882354497909546, 1, 0.784956872463226, 1, 0.663036286830902, 1, 0.581405937671661, 1, 0.776615679264069, 1, 0.810244262218475, 1, 0.564874112606049, 1, 1.38795673847198, 1, 0.64811760187149, 1, 0.898086488246918, 1, 0.950931489467621, 1, 0.88479071855545, 1, 0.786284446716309, 1, 1.21531856060028, 1, 1.13879919052124, 1, 0.772278904914856, 1, 0.729038238525391, 1, 0.962702214717865, 1, 1.37456893920898, 1, 1.45544469356537, 1, 1.17861235141754, 1, 0.76095986366272, 1, 0.964847087860107, 1, 0.554560124874115, 1, 1.36729741096497, 1, 0.633650600910187, 1, 1.13883244991302, 1, 0.92821329832077, 1, 0.848790407180786, 1, 0.891119956970215, 1, 0.88326758146286, 1, 0.869969844818115, 1, 0.99637770652771, 1, 0.760054588317871, 1, 0.881326019763947, 1, 0.776476860046387, 1, 0.88738340139389, 1, 0.88960462808609, 1, 1.08784902095795, 1, 0.984992206096649, 1, 0.643628358840942, 1, 1.06560778617859, 1, 0.784696817398071, 1, 0.916462123394012, 1, 1.43731927871704, 1, 0.848761081695557, 1, 0.853215157985687, 1, 0.732952654361725, 1, 0.830889940261841, 1, 0.850305736064911, 1, 0.778172075748444, 1, 0.77571040391922, 1, 1.88597846031189, 1, 1.23118364810944, 1, 0.803293347358704, 1, 0.711180806159973, 1, 1.13262450695038, 1, 0.725121796131134, 1, 1.89354133605957, 1, 0.826302886009216, 1, 0.829521238803864, 1, 1.37153244018555, 1, 0.762713730335236, 1, 1.16325569152832, 1, 0.882239103317261, 1, 0.831136286258698, 1, 0.732323050498962, 1, 0.606550633907318, 1, 0.893996119499207, 1, 0.921131312847137, 1, 1.62573063373566, 1, 0.799201011657715, 1, 0.73976868391037, 1, 0.831668138504028, 1, 1.1869261264801, 1, 1.17452788352966, 1, 0.837342321872711, 1, 0.654849588871002, 1, 0.748954594135284, 1, 0.908222675323486, 1, 1.41487288475037, 1, 1.02357733249664, 1, 0.755805850028992, 1, 1.03786849975586, 1, 1.12919104099274, 1, 1.70534908771515, 1, 0.799222469329834, 1, 0.826719343662262, 1, 0.845065653324127, 1, 0.714870393276215, 1, 0.798952639102936, 1, 1.47153460979462, 1, 1.24666726589203, 1, 1.1053055524826, 1, 0.892463207244873, 1, 1.61205160617828, 1, 0.835901260375977, 1, 0.80453884601593, 1, 1.01367795467377, 1, 0.755453824996948, 1, 0.743088781833649, 1, 1.07127606868744, 1, 0.944234728813171, 1, 0.726165950298309, 1, 0.884608924388885, 1, 0.739852845668793, 1, 0.978682577610016, 1, 1.26406919956207, 1, 0.769547402858734, 1, 0.840028822422028, 1, 0.899729013442993, 1, 0.849877536296844, 1, 1.02307295799255, 1, 0.588925898075104, 1, 0.669758439064026, 1, 0.73062002658844, 1, 1.84161734580994, 1, 1.11119091510773, 1, 1.1552586555481, 1, 0.988402187824249, 1, 0.816876530647278, 1, 0.86110657453537, 1, 0.888507723808289, 1, 1.06986832618713, 1, 0.792015373706818, 1, 1.02808046340942, 1, 0.913187086582184, 1, 0.716117858886719, 1, 0.624758064746857, 1, 1.18271839618683, 1, 1.17031812667847, 1, 1.13997626304626, 1, 0.794502437114716, 1, 1.29228758811951, 1, 0.882663369178772, 1, 1.12046468257904, 1, 1.34745919704437, 1, 1.78458619117737, 1, 0.745186805725098, 1, 1.2531099319458, 1, 0.854869306087494, 1, 0.756894886493683, 1, 0.568260729312897, 1, 0.723412930965424, 1, 0.626740694046021, 1, 0.845157504081726, 1, 0.779990494251251, 1, 1.29349005222321, 1, 1.03716063499451, 1, 0.842570722103119, 1, 0.604558229446411, 1, 0.706417798995972, 1, 0.80320531129837, 1, 0.824376940727234, 1, 0.690460860729218, 1, 0.75596809387207, 1, 1.03818130493164, 1, 0.768863022327423, 1, 0.810281455516815, 1, 0.757176458835602, 1, 0.7989741563797, 1, 1.07720839977264, 1, 0.676811158657074, 1, 1.26875984668732, 1, 1.15925908088684, 1, 1.32160091400146, 1, 0.708809077739716, 1, 0.763617098331451, 1, 0.844396948814392, 1, 0.732023894786835, 1, 0.80520361661911, 1, 0.687782108783722, 1, 0.855354249477386, 1, 0.968100666999817, 1, 0.850835621356964, 1, 0.867087781429291, 1, 0.750683009624481, 1, 0.832495212554932, 1, 1.41594433784485, 1, 0.805277943611145, 1, 0.902573883533478, 1, 0.935308933258057, 1, 0.827468276023865, 1, 1.68218505382538, 1, 0.875348746776581, 1, 0.790468752384186, 1, 1.53760099411011, 1, 1.29631149768829, 1, 0.658380806446075, 1, 0.784612774848938, 1, 1.64829254150391, 1, 0.70546942949295, 1, 0.758220553398132, 1, 1.08804440498352, 1, 0.890904903411865, 1, 1.00071251392365, 1, 0.811501502990723, 1, 0.78501158952713, 1, 0.663857519626617, 1, 0.748424649238586, 1, 0.681204617023468, 1, 0.872071743011475, 1, 0.949625372886658, 1, 0.996843099594116, 1, 1.12752914428711, 1, 0.771833121776581, 1, 1.01166987419128, 1, 0.902636468410492, 1, 0.808560788631439, 1, 0.725106179714203, 1, 0.9927898645401, 1, 0.824605703353882, 1, 1.22053718566895, 1, 0.818906128406525, 1, 0.80293744802475, 1, 0.740331828594208, 1, 1.00474047660828, 1, 0.716823697090149, 1, 0.849156022071838, 1, 1.483731508255, 1, 1.0786064863205, 1, 1.15599966049194, 1, 0.818714499473572, 1, 1.05085337162018, 1, 1.04262363910675, 1, 0.987970054149628, 1, 1.03898882865906, 1, 0.874257743358612, 1, 0.907503068447113, 1, 0.804783225059509, 1, 0.853915154933929, 1, 0.749760150909424, 1, 0.74381023645401, 1, 1.1934586763382, 1, 0.920163452625275, 1, 0.469113111495972, 1, 0.644111275672913, 1, 1.08705699443817, 1, 0.852579712867737, 1, 0.971526324748993, 1, 1.12692487239838, 1, 0.866593062877655, 1, 0.796009957790375, 1, 1.23408710956573, 1, 0.720966875553131, 1, 0.750614583492279, 1, 0.835950136184692, 1, 0.82432609796524, 1, 0.762997269630432, 1, 0.885545492172241, 1, 1.25013399124146, 1, 0.533150017261505, 1, 0.830229043960571, 1, 1.00790798664093, 1, 0.707823574542999, 1, 1.1460747718811, 1, 0.759428918361664, 1, 0.77374142408371, 1, 0.743364453315735, 1, 1.28774738311768, 1, 1.21950471401215, 1, 2.0021915435791, 1, 0.884810328483582, 1, 0.590851783752441, 1, 0.783068060874939, 1, 1.11459112167358, 1, 0.811298191547394, 1, 0.817492425441742, 1, 0.947535216808319, 1, 0.721864342689514, 1, 0.726594150066376, 1, 2.09494924545288, 1, 0.894281625747681, 1, 0.58293491601944, 1, 0.763795018196106, 1, 0.835048794746399, 1, 0.927659928798676, 1, 0.856543064117432, 1, 0.928672730922699, 1, 0.8977952003479, 1, 0.907776832580566, 1, 1.13403236865997, 1, 0.861751854419708, 1, 1.01043605804443, 1, 1.1968412399292, 1, 0.872824549674988, 1, 0.644097566604614, 1, 0.828352034091949, 1, 0.769085943698883, 1, 0.814846992492676, 1, 0.729988515377045, 1, 0.978768587112427, 1, 0.971154808998108, 1, 0.933846354484558, 1, 0.841458201408386, 1, 0.974498331546783, 1, 1.00652945041656, 1, 0.810246229171753, 1, 0.682111859321594, 1, 0.75259530544281, 1, 1.338250041008, 1, 0.785463273525238, 1, 1.48977518081665, 1, 0.851893365383148, 1, 1.41182267665863, 1, 0.685011565685272, 1, 0.791984081268311, 1, 1.44356834888458, 1, 0.79375159740448, 1, 0.894891679286957, 1, 0.845679581165314, 1, 1.1508241891861, 1, 0.60602855682373, 1, 0.810768306255341, 1, 0.846031546592712, 1, 0.849480628967285, 1, 0.681818604469299, 1, 0.83283931016922, 1, 1.00135767459869, 1, 0.964763045310974, 1, 0.84691333770752, 1, 0.750851213932037, 1, 1.09130966663361, 1, 0.824957668781281, 1, 0.943227708339691, 1, 0.69371634721756, 1, 1.12287354469299, 1, 0.973043620586395, 1, 1.02953708171844, 1, 0.795863330364227, 1, 0.756253600120544, 1, 2.26693439483643, 1, 0.875235378742218, 1, 0.908879637718201, 1, 0.649955570697784, 1, 0.795834004878998, 1, 1.47534143924713, 1, 0.683023035526276, 1, 0.743035972118378, 1, 0.819097757339478, 1, 0.861505508422852, 1, 0.891329109668732, 1, 0.953803777694702, 1, 0.609260618686676, 1, 0.763007044792175, 1, 0.682651519775391, 1, 1.1121392250061, 1, 0.788447022438049, 1, 0.636716485023499, 1, 0.735615730285645, 1, 0.885072290897369, 1, 0.774498164653778, 1, 0.988701403141022, 1, 0.957929372787476, 1, 0.634192228317261, 1, 2.28985023498535, 1, 1.59700584411621, 1, 0.742423951625824, 1, 1.10657060146332, 1, 1.12655532360077, 1, 0.67482852935791, 1, 0.913840115070343, 1, 0.892918825149536, 1, 0.864471614360809, 1, 0.966712474822998, 1, 0.77945476770401, 1, 0.667378962039948, 1, 0.78905314207077, 1, 0.925546288490295, 1, 0.840415954589844, 1, 1.05537581443787, 1, 0.896829307079315, 1, 0.813673794269562, 1, 0.727992177009583, 1, 1.08208286762238, 1, 0.882061183452606, 1, 0.908224642276764, 1, 0.85440981388092, 1, 0.80209869146347, 1, 1.1434371471405, 1, 0.812228918075562, 1, 0.752849400043488, 1, 0.73343950510025, 1, 0.865715146064758, 1, 0.55567067861557, 1, 0.942901194095612, 1, 0.720818281173706, 1, 0.880100071430206, 1, 0.782802104949951, 1, 1.07897400856018, 1, 1.50248646736145, 1, 1.07611536979675, 1, 0.933347821235657, 1, 1.07630896568298, 1, 0.820509433746338, 1, 1.20345592498779, 1, 0.838433384895325, 1, 0.604744017124176, 1, 0.822585940361023, 1, 0.787516295909882, 1, 1.38515472412109, 1, 0.923389613628387, 1, 1.03175830841064, 1, 1.27317869663239, 1, 0.825452387332916, 1, 1.02117824554443, 1, 0.953545689582825, 1, 0.692478716373444, 1, 0.870501697063446, 1, 0.855135262012482, 1, 0.844684362411499, 1, 2.00553488731384, 1, 1.26994669437408, 1, 0.837025582790375, 1, 0.850458264350891, 1, 1.13920199871063, 1, 0.900904059410095, 1, 0.858461141586304, 1, 0.844875931739807, 1, 0.713235795497894, 1, 0.838492035865784, 1, 1.14409208297729, 1, 0.581925988197327, 1, 0.723735570907593, 1, 1.01924073696136, 1, 0.758736729621887, 1, 0.989512741565704, 1, 0.833253860473633, 1, 1.06038916110992, 1, 0.858124852180481, 1, 0.928230881690979, 1, 1.05098628997803, 1, 0.807743489742279, 1, 0.910791873931885, 1, 1.13323450088501, 1, 0.72940194606781, 1, 0.99430900812149, 1, 1.02222442626953, 1, 0.783015251159668, 1, 0.997812926769257, 1, 0.858498275279999, 1, 1.19385945796967, 1, 0.493876516819, 1, 0.794037103652954, 1, 0.715329825878143, 1, 1.52677273750305, 1, 0.833633184432983, 1, 0.777610898017883, 1, 0.932575464248657, 1, 1.00469541549683, 1, 0.820525050163269, 1, 0.744807481765747, 1, 0.811970770359039, 1, 0.762498676776886, 1, 0.985678493976593, 1, 1.78405237197876, 1, 1.05407166481018, 1, 0.725403368473053, 1, 0.862248480319977, 1, 1.5616682767868, 1, 0.670143723487854, 1, 1.00776708126068, 1, 1.31313061714172, 1, 1.30845952033997, 1, 1.47988343238831, 1, 0.748500883579254, 1, 0.767781853675842, 1, 0.84496396780014, 1, 0.836943447589874, 1, 1.0834926366806, 1, 0.796172261238098, 1, 0.819353878498077, 1, 0.855448067188263, 1, 0.861239552497864, 1, 0.827667653560638, 1, 0.863947629928589, 1, 0.9761563539505, 1, 0.846719741821289, 1, 1.59835696220398, 1, 0.914768874645233, 1, 0.941446542739868, 1, 0.80372154712677, 1, 0.794416427612305, 1, 0.612445771694183, 1, 1.16368591785431, 1, 0.803379356861115, 1, 0.709080874919891, 1, 0.703582644462585, 1, 0.761184692382812, 1, 0.894320666790009, 1, 0.991780877113342, 1, 0.967031180858612, 1, 0.817289113998413, 1, 1.75561892986298, 1, 0.905238926410675, 1, 0.873176455497742, 1, 0.808384835720062, 1, 1.52401375770569, 1, 0.856934070587158, 1, 0.741821765899658, 1, 0.975397706031799, 1, 1.16232299804688, 1, 0.788362920284271, 1, 0.898759186267853, 1, 0.985836923122406, 1, 0.79312402009964, 1, 0.90838497877121, 1, 0.950659692287445, 1, 0.921487152576447, 1, 1.11299562454224, 1, 0.874283134937286, 1, 0.849754333496094, 1, 0.70212596654892, 1, 0.846465528011322, 1, 0.735948145389557, 1, 0.848939001560211, 1, 0.759866893291473, 1, 1.43400907516479, 1, 0.75014340877533, 1, 0.799439489841461, 1, 0.813364923000336, 1, 1.10006356239319, 1, 0.888707101345062, 1, 1.21338081359863, 1, 0.809896290302277, 1, 1.06546890735626, 1, 0.690372884273529, 1, 1.09724986553192, 1, 0.913464725017548, 1, 1.03016078472137, 1, 0.755309164524078, 1, 0.830815613269806, 1, 1.11772739887238, 1, 2.33433246612549, 1, 0.651992917060852, 1, 0.764387428760529, 1, 0.550692617893219, 1, 1.0006343126297, 1, 1.50552093982697, 1, 1.70784389972687, 1, 1.33191299438477, 1, 0.924388766288757, 1, 1.41356670856476, 1, 1.10786294937134, 1, 0.584483504295349, 1, 1.13983166217804, 1, 0.861417472362518, 1, 1.42023622989655, 1, 0.819150567054749, 1, 1.36890459060669, 1, 0.764907598495483, 1, 1.67767226696014, 1, 1.05120527744293, 1, 0.780098021030426, 1, 0.704096853733063, 1, 0.784645974636078, 1, 0.631867408752441, 1, 0.852290272712708, 1, 0.863795101642609, 1, 1.27192544937134, 1, 0.83559238910675, 1, 1.24646401405334, 1, 1.57267844676971, 1, 0.724353432655334, 1, 0.799114942550659, 1, 1.07495975494385, 1, 0.579452633857727, 1, 0.524083375930786, 1, 0.630999267101288, 1, 0.859331250190735, 1, 0.548915266990662, 1, 0.813550651073456, 1, 1.27810609340668, 1, 0.825913786888123, 1, 0.859919786453247, 1, 0.899842381477356, 1, 0.832023978233337, 1, 0.698297560214996, 1, 0.942572712898254, 1, 0.909354686737061, 1, 0.846807777881622, 1, 0.804292440414429, 1, 1.1729850769043, 1, 2.24024510383606, 1, 0.661489725112915, 1, 0.733083665370941, 1, 1.06592643260956, 1, 0.973372101783752, 1, 0.73706066608429, 1, 1.38689696788788, 1, 1.52151310443878, 1, 0.78163093328476, 1, 0.996508717536926, 1, 0.662975668907166, 1, 0.926082074642181, 1, 1.36816549301147, 1, 0.813341438770294, 1, 1.03587985038757, 1, 0.832962572574615, 1, 0.816604793071747, 1, 0.703117251396179, 1, 0.974343836307526, 1, 0.783951818943024, 1, 0.921641647815704, 1, 0.786180853843689, 1, 0.810232579708099, 1, 1.31830430030823, 1, 0.789465725421906, 1, 0.748557686805725, 1, 0.839203715324402, 1, 0.93972784280777, 1, 1.2686562538147, 1, 0.941424965858459, 1, 0.64965832233429, 1, 0.921784400939941, 1, 0.871156692504883, 1, 0.728535711765289, 1, 1.18445670604706, 1, 1.63814461231232, 1, 0.800911843776703, 1, 0.692199110984802, 1, 0.56078177690506, 1, 0.680428326129913, 1, 0.733558773994446, 1, 1.80607450008392, 1, 0.830706119537354, 1, 0.749822735786438, 1, 0.470211952924728, 1, 0.639854669570923, 1, 0.705402970314026, 1, 0.795263051986694, 1, 0.750669300556183, 1, 1.85133504867554, 1, 0.723164618015289, 1, 0.8185795545578, 1, 0.715020954608917, 1, 0.865316331386566, 1, 0.720841765403748, 1, 1.1723769903183, 1, 0.677518963813782, 1, 0.876688122749329, 1, 0.744484841823578, 1, 0.855240821838379, 1, 1.00348508358002, 1, 1.06087803840637, 1, 0.83713310956955, 1, 1.45051944255829, 1, 0.792410314083099, 1, 0.854388296604156, 1, 0.781468689441681, 1, 1.15382540225983],      \"fBinStatErrOpt\" : 0,      \"fStatOverflows\" : 2,      \"fArray\" : [0, 0, 0, 0, 0, 0, 0, 0, 2, 2, 1, 2, 7, 11, 10, 7, 18, 15, 30, 31, 42, 63, 57, 76, 67, 70, 58, 46, 41, 24, 18, 28, 24, 24, 14, 17, 18, 12, 16, 16, 13, 7, 7, 3, 6, 7, 6, 5, 4, 9, 3, 5, 3, 4, 5, 3, 5, 2, 3, 1, 2, 2, 1, 3, 2, 0, 0, 1, 2, 1, 0, 3, 0, 2, 0, 1, 0, 0, 2, 0, 1, 1, 1, 2, 0, 1, 0, 0, 0, 1, 1, 1, 0, 1, 0, 0, 0, 0, 0, 0, 0, 0]    }, {      \"_typename\" : \"TH1F\",      \"fUniqueID\" : 0,      \"fBits\" : 50331656,      \"fName\" : \"Background\",      \"fTitle\" : \"m_wwbb (Background)\",      \"fLineColor\" : 632,      \"fLineStyle\" : 1,      \"fLineWidth\" : 1,      \"fFillColor\" : 1179,      \"fFillStyle\" : 1001,      \"fMarkerColor\" : 1,      \"fMarkerStyle\" : 1,      \"fMarkerSize\" : 1,      \"fNcells\" : 102,      \"fXaxis\" : {        \"_typename\" : \"TAxis\",        \"fUniqueID\" : 0,        \"fBits\" : 50331648,        \"fName\" : \"xaxis\",        \"fTitle\" : \"\",        \"fNdivisions\" : 510,        \"fAxisColor\" : 1,        \"fLabelColor\" : 1,        \"fLabelFont\" : 42,        \"fLabelOffset\" : 0.005,        \"fLabelSize\" : 0.035,        \"fTickLength\" : 0.03,        \"fTitleOffset\" : 1,        \"fTitleSize\" : 0.035,        \"fTitleColor\" : 1,        \"fTitleFont\" : 42,        \"fNbins\" : 100,        \"fXmin\" : 0.469113111495972,        \"fXmax\" : 3.21983289718628,        \"fXbins\" : [],        \"fFirst\" : 0,        \"fLast\" : 0,        \"fBits2\" : 0,        \"fTimeDisplay\" : false,        \"fTimeFormat\" : \"\",        \"fLabels\" : null,        \"fModLabs\" : null      },      \"fYaxis\" : {        \"_typename\" : \"TAxis\",        \"fUniqueID\" : 0,        \"fBits\" : 50331648,        \"fName\" : \"yaxis\",        \"fTitle\" : \"\",        \"fNdivisions\" : 510,        \"fAxisColor\" : 1,        \"fLabelColor\" : 1,        \"fLabelFont\" : 42,        \"fLabelOffset\" : 0.005,        \"fLabelSize\" : 0.035,        \"fTickLength\" : 0.03,        \"fTitleOffset\" : 0,        \"fTitleSize\" : 0.035,        \"fTitleColor\" : 1,        \"fTitleFont\" : 42,        \"fNbins\" : 1,        \"fXmin\" : 0,        \"fXmax\" : 1,        \"fXbins\" : [],        \"fFirst\" : 0,        \"fLast\" : 0,        \"fBits2\" : 0,        \"fTimeDisplay\" : false,        \"fTimeFormat\" : \"\",        \"fLabels\" : null,        \"fModLabs\" : null      },      \"fZaxis\" : {        \"_typename\" : \"TAxis\",        \"fUniqueID\" : 0,        \"fBits\" : 50331648,        \"fName\" : \"zaxis\",        \"fTitle\" : \"\",        \"fNdivisions\" : 510,        \"fAxisColor\" : 1,        \"fLabelColor\" : 1,        \"fLabelFont\" : 42,        \"fLabelOffset\" : 0.005,        \"fLabelSize\" : 0.035,        \"fTickLength\" : 0.03,        \"fTitleOffset\" : 1,        \"fTitleSize\" : 0.035,        \"fTitleColor\" : 1,        \"fTitleFont\" : 42,        \"fNbins\" : 1,        \"fXmin\" : 0,        \"fXmax\" : 1,        \"fXbins\" : [],        \"fFirst\" : 0,        \"fLast\" : 0,        \"fBits2\" : 0,        \"fTimeDisplay\" : false,        \"fTimeFormat\" : \"\",        \"fLabels\" : null,        \"fModLabs\" : null      },      \"fBarOffset\" : 0,      \"fBarWidth\" : 1000,      \"fEntries\" : 1000,      \"fTsumw\" : 999,      \"fTsumw2\" : 999,      \"fTsumwx\" : 968.586217522621,      \"fTsumwx2\" : 1037.0474073001,      \"fMaximum\" : -1111,      \"fMinimum\" : -1111,      \"fNormFactor\" : 0,      \"fContour\" : [],      \"fSumw2\" : [],      \"fOption\" : \"\",      \"fFunctions\" : {        \"_typename\" : \"TList\",        \"name\" : \"TList\",        \"arr\" : [],        \"opt\" : []      },      \"fBufferSize\" : 0,      \"fBuffer\" : [],      \"fBinStatErrOpt\" : 0,      \"fStatOverflows\" : 2,      \"fArray\" : [0, 2, 0, 4, 13, 18, 24, 34, 33, 49, 39, 65, 50, 47, 41, 49, 45, 36, 45, 34, 38, 25, 31, 34, 33, 24, 9, 26, 12, 18, 7, 13, 4, 9, 4, 11, 7, 3, 6, 4, 2, 7, 4, 4, 2, 2, 4, 1, 2, 1, 2, 2, 1, 1, 1, 0, 0, 0, 2, 3, 0, 0, 0, 1, 1, 0, 0, 3, 0, 1, 0, 0, 1, 1, 1, 0, 0, 0, 0, 0, 0, 0, 2, 1, 0, 0, 0, 0, 0, 0, 0, 0, 0, 0, 0, 0, 0, 0, 0, 0, 0, 1]    }, {      \"_typename\" : \"TLegend\",      \"fUniqueID\" : 0,      \"fBits\" : 50331656,      \"fLineColor\" : 1,      \"fLineStyle\" : 1,      \"fLineWidth\" : 1,      \"fFillColor\" : 0,      \"fFillStyle\" : 1,      \"fX1\" : 0.509999998509884,      \"fY1\" : 0.749999998509884,      \"fX2\" : 0.889999998509884,      \"fY2\" : 0.889999998509884,      \"fX1NDC\" : 0,      \"fY1NDC\" : 0,      \"fX2NDC\" : 0,      \"fY2NDC\" : 0,      \"fBorderSize\" : 1,      \"fInit\" : 0,      \"fShadowColor\" : 1,      \"fCornerRadius\" : 0,      \"fOption\" : \"brNDC\",      \"fName\" : \"TPave\",      \"fTextAngle\" : 0,      \"fTextSize\" : 0,      \"fTextAlign\" : 12,      \"fTextColor\" : 1,      \"fTextFont\" : 42,      \"fPrimitives\" : {        \"_typename\" : \"TList\",        \"name\" : \"TList\",        \"arr\" : [{          \"_typename\" : \"TLegendEntry\",          \"fUniqueID\" : 0,          \"fBits\" : 50331656,          \"fTextAngle\" : 0,          \"fTextSize\" : 0,          \"fTextAlign\" : 0,          \"fTextColor\" : 0,          \"fTextFont\" : 0,          \"fLineColor\" : 1,          \"fLineStyle\" : 1,          \"fLineWidth\" : 1,          \"fFillColor\" : 0,          \"fFillStyle\" : 0,          \"fMarkerColor\" : 1,          \"fMarkerStyle\" : 21,          \"fMarkerSize\" : 1,          \"fObject\" : {\"$ref\":2},          \"fLabel\" : \"Signal\",          \"fOption\" : \"F\"        }, {          \"_typename\" : \"TLegendEntry\",          \"fUniqueID\" : 0,          \"fBits\" : 50331656,          \"fTextAngle\" : 0,          \"fTextSize\" : 0,          \"fTextAlign\" : 0,          \"fTextColor\" : 0,          \"fTextFont\" : 0,          \"fLineColor\" : 1,          \"fLineStyle\" : 1,          \"fLineWidth\" : 1,          \"fFillColor\" : 0,          \"fFillStyle\" : 0,          \"fMarkerColor\" : 1,          \"fMarkerStyle\" : 21,          \"fMarkerSize\" : 1,          \"fObject\" : {\"$ref\":7},          \"fLabel\" : \"Background\",          \"fOption\" : \"F\"        }],        \"opt\" : [\"F\", \"F\"]      },      \"fEntrySeparation\" : 0.1,      \"fMargin\" : 0.3,      \"fNColumns\" : 1,      \"fColumnSeparation\" : 0    }],    \"opt\" : [\"hist\", \"histsame\", \"\"]  },  \"fExecs\" : null,  \"fName\" : \"csbplot\",  \"fTitle\" : \"Input variable: m_wwbb (Signal)\",  \"fNumPaletteColor\" : 0,  \"fNextPaletteColor\" : 0,  \"fDISPLAY\" : \"$DISPLAY\",  \"fDoubleBuffer\" : 0,  \"fRetained\" : true,  \"fXsizeUser\" : 0,  \"fYsizeUser\" : 0,  \"fXsizeReal\" : 20,  \"fYsizeReal\" : 11.25,  \"fWindowTopX\" : 0,  \"fWindowTopY\" : 0,  \"fWindowWidth\" : 0,  \"fWindowHeight\" : 0,  \"fCw\" : 796,  \"fCh\" : 422,  \"fCatt\" : {    \"_typename\" : \"TAttCanvas\",    \"fXBetween\" : 2,    \"fYBetween\" : 2,    \"fTitleFromTop\" : 1.2,    \"fXdate\" : 0.2,    \"fYdate\" : 0.3,    \"fAdate\" : 1  },  \"kMoveOpaque\" : true,  \"kResizeOpaque\" : true,  \"fHighLightColor\" : 2,  \"fBatch\" : true,  \"kShowEventStatus\" : false,  \"kAutoExec\" : true,  \"kMenuBar\" : true}');\n",
       "    });\n",
       "</script>\n"
      ],
      "text/plain": [
       "<IPython.core.display.HTML object>"
      ]
     },
     "metadata": {},
     "output_type": "display_data"
    },
    {
     "data": {
      "text/html": [
       "<table class='tmva_output_table'><tbody class='tmva_output_tbody_multiple_row'><tr><td rowspan='2' class='tmva_output_header'>DataSetFactory          </td><td><table class='tmva_output_dataset'><tbody class='tmva_output_tbody_multiple_row'><tr><td rowspan='3'>Dataset: dataset</td><td>Number of events in input trees</td><td class='tmva_output_hidden_td'></td></tr></tbody></table></td></tr><tr><td><table class='tmva_output_traintestevents'><tr><td colspan='3'><center><b>Number of training and testing events</b></center></td></tr><tr><td rowspan='3'>Signal</td><td>training events</td><td>1000</td><td class='tmva_output_hidden_td'></td></tr><tr><td>testing events</td><td>10000</td><td class='tmva_output_hidden_td'></td></tr><tr><td>training and testing events</td><td>11000</td><td class='tmva_output_hidden_td'></td></tr><tr><td rowspan='3'>Background</td><td>training events</td><td>1000</td><td class='tmva_output_hidden_td'></td></tr><tr><td>testing events</td><td>10000</td><td class='tmva_output_hidden_td'></td></tr><tr><td>training and testing events</td><td>11000</td><td class='tmva_output_hidden_td'></td></tr></table></td></tr></tbody><tbody><tr><td rowspan='1' class='tmva_output_header'>DataSetInfo             </td><div id='jsmva_outputtansformer_events_0_onclick' style='display: none; width: 600px; height:350'>{  \"_typename\" : \"TH2D\",  \"fUniqueID\" : 0,  \"fBits\" : 50332168,  \"fName\" : \"TMatrixDBase\",  \"fTitle\" : \"Correlation matrix (Signal)\",  \"fLineColor\" : 602,  \"fLineStyle\" : 1,  \"fLineWidth\" : 1,  \"fFillColor\" : 0,  \"fFillStyle\" : 1001,  \"fMarkerColor\" : 0,  \"fMarkerStyle\" : 1,  \"fMarkerSize\" : 1.5,  \"fNcells\" : 81,  \"fXaxis\" : {    \"_typename\" : \"TAxis\",    \"fUniqueID\" : 0,    \"fBits\" : 51380232,    \"fName\" : \"xaxis\",    \"fTitle\" : \"\",    \"fNdivisions\" : 510,    \"fAxisColor\" : 1,    \"fLabelColor\" : 1,    \"fLabelFont\" : 42,    \"fLabelOffset\" : 0.011,    \"fLabelSize\" : 0.04,    \"fTickLength\" : 0.03,    \"fTitleOffset\" : 1,    \"fTitleSize\" : 0.035,    \"fTitleColor\" : 1,    \"fTitleFont\" : 42,    \"fNbins\" : 7,    \"fXmin\" : 0,    \"fXmax\" : 7,    \"fXbins\" : [],    \"fFirst\" : 0,    \"fLast\" : 0,    \"fBits2\" : 3,    \"fTimeDisplay\" : false,    \"fTimeFormat\" : \"\",    \"fLabels\" : {      \"_typename\" : \"THashList\",      \"name\" : \"THashList\",      \"arr\" : [{        \"_typename\" : \"TObjString\",        \"fUniqueID\" : 1,        \"fBits\" : 50331648,        \"fString\" : \"m_jj\"      }, {        \"_typename\" : \"TObjString\",        \"fUniqueID\" : 2,        \"fBits\" : 50331648,        \"fString\" : \"m_jjj\"      }, {        \"_typename\" : \"TObjString\",        \"fUniqueID\" : 3,        \"fBits\" : 50331648,        \"fString\" : \"m_lv\"      }, {        \"_typename\" : \"TObjString\",        \"fUniqueID\" : 4,        \"fBits\" : 50331648,        \"fString\" : \"m_jlv\"      }, {        \"_typename\" : \"TObjString\",        \"fUniqueID\" : 5,        \"fBits\" : 50331648,        \"fString\" : \"m_bb\"      }, {        \"_typename\" : \"TObjString\",        \"fUniqueID\" : 6,        \"fBits\" : 50331648,        \"fString\" : \"m_wbb\"      }, {        \"_typename\" : \"TObjString\",        \"fUniqueID\" : 7,        \"fBits\" : 50331648,        \"fString\" : \"m_wwbb\"      }],      \"opt\" : [\"\", \"\", \"\", \"\", \"\", \"\", \"\"]    },    \"fModLabs\" : null  },  \"fYaxis\" : {    \"_typename\" : \"TAxis\",    \"fUniqueID\" : 0,    \"fBits\" : 50331656,    \"fName\" : \"yaxis\",    \"fTitle\" : \"\",    \"fNdivisions\" : 510,    \"fAxisColor\" : 1,    \"fLabelColor\" : 1,    \"fLabelFont\" : 42,    \"fLabelOffset\" : 0.005,    \"fLabelSize\" : 0.04,    \"fTickLength\" : 0.03,    \"fTitleOffset\" : 0,    \"fTitleSize\" : 0.035,    \"fTitleColor\" : 1,    \"fTitleFont\" : 42,    \"fNbins\" : 7,    \"fXmin\" : 0,    \"fXmax\" : 7,    \"fXbins\" : [],    \"fFirst\" : 0,    \"fLast\" : 0,    \"fBits2\" : 3,    \"fTimeDisplay\" : false,    \"fTimeFormat\" : \"\",    \"fLabels\" : {      \"_typename\" : \"THashList\",      \"name\" : \"THashList\",      \"arr\" : [{        \"_typename\" : \"TObjString\",        \"fUniqueID\" : 1,        \"fBits\" : 50331648,        \"fString\" : \"m_jj\"      }, {        \"_typename\" : \"TObjString\",        \"fUniqueID\" : 2,        \"fBits\" : 50331648,        \"fString\" : \"m_jjj\"      }, {        \"_typename\" : \"TObjString\",        \"fUniqueID\" : 3,        \"fBits\" : 50331648,        \"fString\" : \"m_lv\"      }, {        \"_typename\" : \"TObjString\",        \"fUniqueID\" : 4,        \"fBits\" : 50331648,        \"fString\" : \"m_jlv\"      }, {        \"_typename\" : \"TObjString\",        \"fUniqueID\" : 5,        \"fBits\" : 50331648,        \"fString\" : \"m_bb\"      }, {        \"_typename\" : \"TObjString\",        \"fUniqueID\" : 6,        \"fBits\" : 50331648,        \"fString\" : \"m_wbb\"      }, {        \"_typename\" : \"TObjString\",        \"fUniqueID\" : 7,        \"fBits\" : 50331648,        \"fString\" : \"m_wwbb\"      }],      \"opt\" : [\"\", \"\", \"\", \"\", \"\", \"\", \"\"]    },    \"fModLabs\" : null  },  \"fZaxis\" : {    \"_typename\" : \"TAxis\",    \"fUniqueID\" : 0,    \"fBits\" : 50331648,    \"fName\" : \"zaxis\",    \"fTitle\" : \"\",    \"fNdivisions\" : 510,    \"fAxisColor\" : 1,    \"fLabelColor\" : 1,    \"fLabelFont\" : 42,    \"fLabelOffset\" : 0.005,    \"fLabelSize\" : 0.035,    \"fTickLength\" : 0.03,    \"fTitleOffset\" : 1,    \"fTitleSize\" : 0.035,    \"fTitleColor\" : 1,    \"fTitleFont\" : 42,    \"fNbins\" : 1,    \"fXmin\" : 0,    \"fXmax\" : 1,    \"fXbins\" : [],    \"fFirst\" : 0,    \"fLast\" : 0,    \"fBits2\" : 0,    \"fTimeDisplay\" : false,    \"fTimeFormat\" : \"\",    \"fLabels\" : null,    \"fModLabs\" : null  },  \"fBarOffset\" : 0,  \"fBarWidth\" : 1000,  \"fEntries\" : 98,  \"fTsumw\" : 0,  \"fTsumw2\" : 0,  \"fTsumwx\" : 0,  \"fTsumwx2\" : 0,  \"fMaximum\" : 100,  \"fMinimum\" : -100,  \"fNormFactor\" : 0,  \"fContour\" : [],  \"fSumw2\" : [0, 0, 0, 0, 0, 0, 0, 0, 0, 0, 10000, 8200, 60, 520, 20, 5460, 5180, 0, 0, 8200, 10000, 50, 200, 1240, 6520, 6210, 0, 0, 60, 50, 10000, 1520, 720, 70, 290, 0, 0, 520, 200, 1520, 10000, 3380, 5430, 5580, 0, 0, 20, 1240, 720, 3380, 10000, 4660, 3660, 0, 0, 5460, 6520, 70, 5430, 4660, 10000, 9200, 0, 0, 5180, 6210, 290, 5580, 3660, 9200, 10000, 0, 0, 0, 0, 0, 0, 0, 0, 0, 0],  \"fOption\" : \"\",  \"fFunctions\" : {    \"_typename\" : \"TList\",    \"name\" : \"TList\",    \"arr\" : [],    \"opt\" : []  },  \"fBufferSize\" : 0,  \"fBuffer\" : [],  \"fBinStatErrOpt\" : 0,  \"fStatOverflows\" : 2,  \"fScalefactor\" : 1,  \"fTsumwy\" : 0,  \"fTsumwy2\" : 0,  \"fTsumwxy\" : 0,  \"fArray\" : [0, 0, 0, 0, 0, 0, 0, 0, 0, 0, 100, 82, 0, 5, 0, 54, 51, 0, 0, 82, 100, 0, 2, 12, 65, 62, 0, 0, 0, 0, 100, 15, -7, 0, 2, 0, 0, 5, 2, 15, 100, 33, 54, 55, 0, 0, 0, 12, -7, 33, 100, 46, 36, 0, 0, 54, 65, 0, 54, 46, 100, 92, 0, 0, 51, 62, 2, 55, 36, 92, 100, 0, 0, 0, 0, 0, 0, 0, 0, 0, 0]}</div><td><a onclick=\"require(['JsMVA'],function(jsmva){jsmva.outputShowCorrelationMatrix('jsmva_outputtansformer_events_0_onclick');});\" class='tmva_output_corrmat_link'>Correlation matrix (Signal)</a></td></tr></tbody><tbody><tr><td rowspan='1' class='tmva_output_header'>DataSetInfo             </td><div id='jsmva_outputtansformer_events_1_onclick' style='display: none; width: 600px; height:350'>{  \"_typename\" : \"TH2D\",  \"fUniqueID\" : 0,  \"fBits\" : 50332168,  \"fName\" : \"TMatrixDBase\",  \"fTitle\" : \"Correlation matrix (Background)\",  \"fLineColor\" : 602,  \"fLineStyle\" : 1,  \"fLineWidth\" : 1,  \"fFillColor\" : 0,  \"fFillStyle\" : 1001,  \"fMarkerColor\" : 0,  \"fMarkerStyle\" : 1,  \"fMarkerSize\" : 1.5,  \"fNcells\" : 81,  \"fXaxis\" : {    \"_typename\" : \"TAxis\",    \"fUniqueID\" : 0,    \"fBits\" : 51380232,    \"fName\" : \"xaxis\",    \"fTitle\" : \"\",    \"fNdivisions\" : 510,    \"fAxisColor\" : 1,    \"fLabelColor\" : 1,    \"fLabelFont\" : 42,    \"fLabelOffset\" : 0.011,    \"fLabelSize\" : 0.04,    \"fTickLength\" : 0.03,    \"fTitleOffset\" : 1,    \"fTitleSize\" : 0.035,    \"fTitleColor\" : 1,    \"fTitleFont\" : 42,    \"fNbins\" : 7,    \"fXmin\" : 0,    \"fXmax\" : 7,    \"fXbins\" : [],    \"fFirst\" : 0,    \"fLast\" : 0,    \"fBits2\" : 3,    \"fTimeDisplay\" : false,    \"fTimeFormat\" : \"\",    \"fLabels\" : {      \"_typename\" : \"THashList\",      \"name\" : \"THashList\",      \"arr\" : [{        \"_typename\" : \"TObjString\",        \"fUniqueID\" : 1,        \"fBits\" : 50331648,        \"fString\" : \"m_jj\"      }, {        \"_typename\" : \"TObjString\",        \"fUniqueID\" : 2,        \"fBits\" : 50331648,        \"fString\" : \"m_jjj\"      }, {        \"_typename\" : \"TObjString\",        \"fUniqueID\" : 3,        \"fBits\" : 50331648,        \"fString\" : \"m_lv\"      }, {        \"_typename\" : \"TObjString\",        \"fUniqueID\" : 4,        \"fBits\" : 50331648,        \"fString\" : \"m_jlv\"      }, {        \"_typename\" : \"TObjString\",        \"fUniqueID\" : 5,        \"fBits\" : 50331648,        \"fString\" : \"m_bb\"      }, {        \"_typename\" : \"TObjString\",        \"fUniqueID\" : 6,        \"fBits\" : 50331648,        \"fString\" : \"m_wbb\"      }, {        \"_typename\" : \"TObjString\",        \"fUniqueID\" : 7,        \"fBits\" : 50331648,        \"fString\" : \"m_wwbb\"      }],      \"opt\" : [\"\", \"\", \"\", \"\", \"\", \"\", \"\"]    },    \"fModLabs\" : null  },  \"fYaxis\" : {    \"_typename\" : \"TAxis\",    \"fUniqueID\" : 0,    \"fBits\" : 50331656,    \"fName\" : \"yaxis\",    \"fTitle\" : \"\",    \"fNdivisions\" : 510,    \"fAxisColor\" : 1,    \"fLabelColor\" : 1,    \"fLabelFont\" : 42,    \"fLabelOffset\" : 0.005,    \"fLabelSize\" : 0.04,    \"fTickLength\" : 0.03,    \"fTitleOffset\" : 0,    \"fTitleSize\" : 0.035,    \"fTitleColor\" : 1,    \"fTitleFont\" : 42,    \"fNbins\" : 7,    \"fXmin\" : 0,    \"fXmax\" : 7,    \"fXbins\" : [],    \"fFirst\" : 0,    \"fLast\" : 0,    \"fBits2\" : 3,    \"fTimeDisplay\" : false,    \"fTimeFormat\" : \"\",    \"fLabels\" : {      \"_typename\" : \"THashList\",      \"name\" : \"THashList\",      \"arr\" : [{        \"_typename\" : \"TObjString\",        \"fUniqueID\" : 1,        \"fBits\" : 50331648,        \"fString\" : \"m_jj\"      }, {        \"_typename\" : \"TObjString\",        \"fUniqueID\" : 2,        \"fBits\" : 50331648,        \"fString\" : \"m_jjj\"      }, {        \"_typename\" : \"TObjString\",        \"fUniqueID\" : 3,        \"fBits\" : 50331648,        \"fString\" : \"m_lv\"      }, {        \"_typename\" : \"TObjString\",        \"fUniqueID\" : 4,        \"fBits\" : 50331648,        \"fString\" : \"m_jlv\"      }, {        \"_typename\" : \"TObjString\",        \"fUniqueID\" : 5,        \"fBits\" : 50331648,        \"fString\" : \"m_bb\"      }, {        \"_typename\" : \"TObjString\",        \"fUniqueID\" : 6,        \"fBits\" : 50331648,        \"fString\" : \"m_wbb\"      }, {        \"_typename\" : \"TObjString\",        \"fUniqueID\" : 7,        \"fBits\" : 50331648,        \"fString\" : \"m_wwbb\"      }],      \"opt\" : [\"\", \"\", \"\", \"\", \"\", \"\", \"\"]    },    \"fModLabs\" : null  },  \"fZaxis\" : {    \"_typename\" : \"TAxis\",    \"fUniqueID\" : 0,    \"fBits\" : 50331648,    \"fName\" : \"zaxis\",    \"fTitle\" : \"\",    \"fNdivisions\" : 510,    \"fAxisColor\" : 1,    \"fLabelColor\" : 1,    \"fLabelFont\" : 42,    \"fLabelOffset\" : 0.005,    \"fLabelSize\" : 0.035,    \"fTickLength\" : 0.03,    \"fTitleOffset\" : 1,    \"fTitleSize\" : 0.035,    \"fTitleColor\" : 1,    \"fTitleFont\" : 42,    \"fNbins\" : 1,    \"fXmin\" : 0,    \"fXmax\" : 1,    \"fXbins\" : [],    \"fFirst\" : 0,    \"fLast\" : 0,    \"fBits2\" : 0,    \"fTimeDisplay\" : false,    \"fTimeFormat\" : \"\",    \"fLabels\" : null,    \"fModLabs\" : null  },  \"fBarOffset\" : 0,  \"fBarWidth\" : 1000,  \"fEntries\" : 98,  \"fTsumw\" : 0,  \"fTsumw2\" : 0,  \"fTsumwx\" : 0,  \"fTsumwx2\" : 0,  \"fMaximum\" : 100,  \"fMinimum\" : -100,  \"fNormFactor\" : 0,  \"fContour\" : [],  \"fSumw2\" : [0, 0, 0, 0, 0, 0, 0, 0, 0, 0, 10000, 7470, 120, 1590, 60, 3350, 3630, 0, 0, 7470, 10000, 270, 2110, 1740, 5040, 4830, 0, 0, 120, 270, 10000, 850, 50, 190, 200, 0, 0, 1590, 2110, 850, 10000, 2970, 6480, 6030, 0, 0, 60, 1740, 50, 2970, 10000, 6320, 4590, 0, 0, 3350, 5040, 190, 6480, 6320, 10000, 8800, 0, 0, 3630, 4830, 200, 6030, 4590, 8800, 10000, 0, 0, 0, 0, 0, 0, 0, 0, 0, 0],  \"fOption\" : \"\",  \"fFunctions\" : {    \"_typename\" : \"TList\",    \"name\" : \"TList\",    \"arr\" : [],    \"opt\" : []  },  \"fBufferSize\" : 0,  \"fBuffer\" : [],  \"fBinStatErrOpt\" : 0,  \"fStatOverflows\" : 2,  \"fScalefactor\" : 1,  \"fTsumwy\" : 0,  \"fTsumwy2\" : 0,  \"fTsumwxy\" : 0,  \"fArray\" : [0, 0, 0, 0, 0, 0, 0, 0, 0, 0, 100, 74, -1, 15, 0, 33, 36, 0, 0, 74, 100, -2, 21, 17, 50, 48, 0, 0, -1, -2, 100, 8, 0, 1, 2, 0, 0, 15, 21, 8, 100, 29, 64, 60, 0, 0, 0, 17, 0, 29, 100, 63, 45, 0, 0, 33, 50, 1, 64, 63, 100, 88, 0, 0, 36, 48, 2, 60, 45, 88, 100, 0, 0, 0, 0, 0, 0, 0, 0, 0, 0]}</div><td><a onclick=\"require(['JsMVA'],function(jsmva){jsmva.outputShowCorrelationMatrix('jsmva_outputtansformer_events_1_onclick');});\" class='tmva_output_corrmat_link'>Correlation matrix (Background)</a></td></tr></tbody><tbody><tr><td rowspan='1' class='tmva_output_header'>DataSetFactory          </td><td><table class='tmva_output_dataset'><tbody class='tmva_output_tbody_multiple_row'><tr><td rowspan='2'>Dataset: dataset</td><td class='tmva_output_hidden_td'></td></tr></tbody></table></td></tr></tbody></table>"
      ],
      "text/plain": [
       "<IPython.core.display.HTML object>"
      ]
     },
     "metadata": {},
     "output_type": "display_data"
    },
    {
     "data": {
      "text/html": [],
      "text/plain": [
       "<IPython.core.display.HTML object>"
      ]
     },
     "metadata": {},
     "output_type": "display_data"
    }
   ],
   "source": [
    "loader.DrawInputVariable(\"m_wwbb\")"
   ]
  },
  {
   "cell_type": "code",
   "execution_count": 13,
   "metadata": {
    "collapsed": false
   },
   "outputs": [
    {
     "data": {
      "text/html": [
       "\n",
       "<div id=\"jstmva_2\" style=\"width: 800px; height:450px\"></div>\n",
       "<script>\n",
       "    require(['JsMVA'],function(jsmva){\n",
       "        jsmva.draw('jstmva_2','{  \"_typename\" : \"TCanvas\",  \"fUniqueID\" : 0,  \"fBits\" : 53673992,  \"fLineColor\" : 1,  \"fLineStyle\" : 1,  \"fLineWidth\" : 1,  \"fFillColor\" : 0,  \"fFillStyle\" : 1001,  \"fLeftMargin\" : 0.1,  \"fRightMargin\" : 0.1,  \"fBottomMargin\" : 0.1,  \"fTopMargin\" : 0.1,  \"fXfile\" : 2,  \"fYfile\" : 2,  \"fAfile\" : 1,  \"fXstat\" : 0.99,  \"fYstat\" : 0.99,  \"fAstat\" : 2,  \"fFrameFillColor\" : 0,  \"fFrameLineColor\" : 1,  \"fFrameFillStyle\" : 1001,  \"fFrameLineStyle\" : 1,  \"fFrameLineWidth\" : 1,  \"fFrameBorderSize\" : 1,  \"fFrameBorderMode\" : 0,  \"fX1\" : 0,  \"fY1\" : 0,  \"fX2\" : 1,  \"fY2\" : 1,  \"fXtoAbsPixelk\" : 5e-5,  \"fXtoPixelk\" : 5e-5,  \"fXtoPixel\" : 796,  \"fYtoAbsPixelk\" : 422.00005,  \"fYtoPixelk\" : 422.00005,  \"fYtoPixel\" : -422,  \"fUtoAbsPixelk\" : 5e-5,  \"fUtoPixelk\" : 5e-5,  \"fUtoPixel\" : 796,  \"fVtoAbsPixelk\" : 422.00005,  \"fVtoPixelk\" : 422,  \"fVtoPixel\" : -422,  \"fAbsPixeltoXk\" : 0,  \"fPixeltoXk\" : 0,  \"fPixeltoX\" : 0.00125628140703518,  \"fAbsPixeltoYk\" : 1,  \"fPixeltoYk\" : 0,  \"fPixeltoY\" : -0.0023696682464455,  \"fXlowNDC\" : 0,  \"fYlowNDC\" : 0,  \"fXUpNDC\" : 0,  \"fYUpNDC\" : 0,  \"fWNDC\" : 1,  \"fHNDC\" : 1,  \"fAbsXlowNDC\" : 0,  \"fAbsYlowNDC\" : 0,  \"fAbsWNDC\" : 1,  \"fAbsHNDC\" : 1,  \"fUxmin\" : 0,  \"fUymin\" : 0,  \"fUxmax\" : 1,  \"fUymax\" : 1,  \"fTheta\" : 30,  \"fPhi\" : 30,  \"fAspectRatio\" : 0,  \"fNumber\" : 0,  \"fTickx\" : 0,  \"fTicky\" : 0,  \"fLogx\" : 0,  \"fLogy\" : 0,  \"fLogz\" : 0,  \"fPadPaint\" : 0,  \"fCrosshair\" : 0,  \"fCrosshairPos\" : 0,  \"fBorderSize\" : 2,  \"fBorderMode\" : 0,  \"fModified\" : true,  \"fGridx\" : false,  \"fGridy\" : false,  \"fAbsCoord\" : false,  \"fEditable\" : true,  \"fFixedAspectRatio\" : false,  \"fPrimitives\" : {    \"_typename\" : \"TList\",    \"name\" : \"TList\",    \"arr\" : [{      \"_typename\" : \"TH1F\",      \"fUniqueID\" : 0,      \"fBits\" : 50331656,      \"fName\" : \"Signal\",      \"fTitle\" : \"Input variable: m_jj (Signal)\",      \"fLineColor\" : 602,      \"fLineStyle\" : 1,      \"fLineWidth\" : 1,      \"fFillColor\" : 600,      \"fFillStyle\" : 1001,      \"fMarkerColor\" : 1,      \"fMarkerStyle\" : 1,      \"fMarkerSize\" : 1,      \"fNcells\" : 102,      \"fXaxis\" : {        \"_typename\" : \"TAxis\",        \"fUniqueID\" : 0,        \"fBits\" : 50331656,        \"fName\" : \"xaxis\",        \"fTitle\" : \"m_jj (Signal)\",        \"fNdivisions\" : 510,        \"fAxisColor\" : 1,        \"fLabelColor\" : 1,        \"fLabelFont\" : 42,        \"fLabelOffset\" : 0.005,        \"fLabelSize\" : 0.035,        \"fTickLength\" : 0.03,        \"fTitleOffset\" : 1,        \"fTitleSize\" : 0.035,        \"fTitleColor\" : 1,        \"fTitleFont\" : 42,        \"fNbins\" : 100,        \"fXmin\" : 0.21362379193306,        \"fXmax\" : 10.0205307006836,        \"fXbins\" : [],        \"fFirst\" : 0,        \"fLast\" : 0,        \"fBits2\" : 0,        \"fTimeDisplay\" : false,        \"fTimeFormat\" : \"\",        \"fLabels\" : null,        \"fModLabs\" : null      },      \"fYaxis\" : {        \"_typename\" : \"TAxis\",        \"fUniqueID\" : 0,        \"fBits\" : 50331656,        \"fName\" : \"yaxis\",        \"fTitle\" : \"Number of events\",        \"fNdivisions\" : 510,        \"fAxisColor\" : 1,        \"fLabelColor\" : 1,        \"fLabelFont\" : 42,        \"fLabelOffset\" : 0.005,        \"fLabelSize\" : 0.035,        \"fTickLength\" : 0.03,        \"fTitleOffset\" : 0,        \"fTitleSize\" : 0.035,        \"fTitleColor\" : 1,        \"fTitleFont\" : 42,        \"fNbins\" : 1,        \"fXmin\" : 0,        \"fXmax\" : 1,        \"fXbins\" : [],        \"fFirst\" : 0,        \"fLast\" : 0,        \"fBits2\" : 0,        \"fTimeDisplay\" : false,        \"fTimeFormat\" : \"\",        \"fLabels\" : null,        \"fModLabs\" : null      },      \"fZaxis\" : {        \"_typename\" : \"TAxis\",        \"fUniqueID\" : 0,        \"fBits\" : 50331648,        \"fName\" : \"zaxis\",        \"fTitle\" : \"\",        \"fNdivisions\" : 510,        \"fAxisColor\" : 1,        \"fLabelColor\" : 1,        \"fLabelFont\" : 42,        \"fLabelOffset\" : 0.005,        \"fLabelSize\" : 0.035,        \"fTickLength\" : 0.03,        \"fTitleOffset\" : 1,        \"fTitleSize\" : 0.035,        \"fTitleColor\" : 1,        \"fTitleFont\" : 42,        \"fNbins\" : 1,        \"fXmin\" : 0,        \"fXmax\" : 1,        \"fXbins\" : [],        \"fFirst\" : 0,        \"fLast\" : 0,        \"fBits2\" : 0,        \"fTimeDisplay\" : false,        \"fTimeFormat\" : \"\",        \"fLabels\" : null,        \"fModLabs\" : null      },      \"fBarOffset\" : 0,      \"fBarWidth\" : 1000,      \"fEntries\" : 1000,      \"fTsumw\" : 999,      \"fTsumw2\" : 999,      \"fTsumwx\" : 1053.52852764726,      \"fTsumwx2\" : 1573.08387469623,      \"fMaximum\" : 265.1,      \"fMinimum\" : -1111,      \"fNormFactor\" : 0,      \"fContour\" : [],      \"fSumw2\" : [],      \"fOption\" : \"\",      \"fFunctions\" : {        \"_typename\" : \"TList\",        \"name\" : \"TList\",        \"arr\" : [],        \"opt\" : []      },      \"fBufferSize\" : 0,      \"fBuffer\" : [],      \"fBinStatErrOpt\" : 0,      \"fStatOverflows\" : 2,      \"fArray\" : [0, 11, 11, 25, 31, 57, 121, 237, 223, 82, 37, 26, 15, 16, 11, 14, 5, 6, 9, 4, 6, 7, 1, 2, 7, 4, 4, 2, 2, 3, 1, 0, 3, 0, 1, 0, 0, 0, 0, 1, 1, 2, 1, 2, 0, 0, 0, 0, 0, 3, 0, 0, 0, 0, 0, 1, 0, 0, 1, 1, 0, 0, 0, 0, 0, 0, 0, 0, 0, 0, 0, 0, 0, 0, 2, 0, 0, 0, 0, 0, 0, 0, 0, 0, 0, 0, 0, 0, 0, 0, 0, 0, 0, 0, 0, 0, 0, 0, 0, 0, 0, 1]    }, {      \"_typename\" : \"TH1F\",      \"fUniqueID\" : 0,      \"fBits\" : 50331656,      \"fName\" : \"Background\",      \"fTitle\" : \"m_jj (Background)\",      \"fLineColor\" : 632,      \"fLineStyle\" : 1,      \"fLineWidth\" : 1,      \"fFillColor\" : 1180,      \"fFillStyle\" : 1001,      \"fMarkerColor\" : 1,      \"fMarkerStyle\" : 1,      \"fMarkerSize\" : 1,      \"fNcells\" : 102,      \"fXaxis\" : {        \"_typename\" : \"TAxis\",        \"fUniqueID\" : 0,        \"fBits\" : 50331648,        \"fName\" : \"xaxis\",        \"fTitle\" : \"\",        \"fNdivisions\" : 510,        \"fAxisColor\" : 1,        \"fLabelColor\" : 1,        \"fLabelFont\" : 42,        \"fLabelOffset\" : 0.005,        \"fLabelSize\" : 0.035,        \"fTickLength\" : 0.03,        \"fTitleOffset\" : 1,        \"fTitleSize\" : 0.035,        \"fTitleColor\" : 1,        \"fTitleFont\" : 42,        \"fNbins\" : 100,        \"fXmin\" : 0.21362379193306,        \"fXmax\" : 10.0205307006836,        \"fXbins\" : [],        \"fFirst\" : 0,        \"fLast\" : 0,        \"fBits2\" : 0,        \"fTimeDisplay\" : false,        \"fTimeFormat\" : \"\",        \"fLabels\" : null,        \"fModLabs\" : null      },      \"fYaxis\" : {        \"_typename\" : \"TAxis\",        \"fUniqueID\" : 0,        \"fBits\" : 50331648,        \"fName\" : \"yaxis\",        \"fTitle\" : \"\",        \"fNdivisions\" : 510,        \"fAxisColor\" : 1,        \"fLabelColor\" : 1,        \"fLabelFont\" : 42,        \"fLabelOffset\" : 0.005,        \"fLabelSize\" : 0.035,        \"fTickLength\" : 0.03,        \"fTitleOffset\" : 0,        \"fTitleSize\" : 0.035,        \"fTitleColor\" : 1,        \"fTitleFont\" : 42,        \"fNbins\" : 1,        \"fXmin\" : 0,        \"fXmax\" : 1,        \"fXbins\" : [],        \"fFirst\" : 0,        \"fLast\" : 0,        \"fBits2\" : 0,        \"fTimeDisplay\" : false,        \"fTimeFormat\" : \"\",        \"fLabels\" : null,        \"fModLabs\" : null      },      \"fZaxis\" : {        \"_typename\" : \"TAxis\",        \"fUniqueID\" : 0,        \"fBits\" : 50331648,        \"fName\" : \"zaxis\",        \"fTitle\" : \"\",        \"fNdivisions\" : 510,        \"fAxisColor\" : 1,        \"fLabelColor\" : 1,        \"fLabelFont\" : 42,        \"fLabelOffset\" : 0.005,        \"fLabelSize\" : 0.035,        \"fTickLength\" : 0.03,        \"fTitleOffset\" : 1,        \"fTitleSize\" : 0.035,        \"fTitleColor\" : 1,        \"fTitleFont\" : 42,        \"fNbins\" : 1,        \"fXmin\" : 0,        \"fXmax\" : 1,        \"fXbins\" : [],        \"fFirst\" : 0,        \"fLast\" : 0,        \"fBits2\" : 0,        \"fTimeDisplay\" : false,        \"fTimeFormat\" : \"\",        \"fLabels\" : null,        \"fModLabs\" : null      },      \"fBarOffset\" : 0,      \"fBarWidth\" : 1000,      \"fEntries\" : 1000,      \"fTsumw\" : 1000,      \"fTsumw2\" : 1000,      \"fTsumwx\" : 982.252653673291,      \"fTsumwx2\" : 1238.78157640107,      \"fMaximum\" : -1111,      \"fMinimum\" : -1111,      \"fNormFactor\" : 0,      \"fContour\" : [],      \"fSumw2\" : [],      \"fOption\" : \"\",      \"fFunctions\" : {        \"_typename\" : \"TList\",        \"name\" : \"TList\",        \"arr\" : [],        \"opt\" : []      },      \"fBufferSize\" : 0,      \"fBuffer\" : [],      \"fBinStatErrOpt\" : 0,      \"fStatOverflows\" : 2,      \"fArray\" : [0, 6, 17, 22, 30, 80, 131, 241, 222, 75, 43, 22, 19, 9, 17, 5, 8, 4, 14, 6, 2, 3, 3, 3, 1, 2, 2, 2, 1, 0, 0, 2, 2, 0, 1, 0, 0, 0, 0, 0, 0, 0, 0, 0, 0, 1, 0, 0, 0, 0, 0, 2, 0, 0, 0, 0, 0, 0, 0, 0, 0, 0, 0, 0, 0, 0, 0, 0, 0, 0, 1, 1, 0, 0, 0, 0, 0, 0, 0, 0, 0, 0, 0, 0, 0, 0, 0, 0, 0, 0, 0, 0, 0, 0, 0, 0, 0, 0, 0, 0, 0, 0]    }, {      \"_typename\" : \"TLegend\",      \"fUniqueID\" : 0,      \"fBits\" : 50331656,      \"fLineColor\" : 1,      \"fLineStyle\" : 1,      \"fLineWidth\" : 1,      \"fFillColor\" : 0,      \"fFillStyle\" : 1,      \"fX1\" : 0.509999998509884,      \"fY1\" : 0.749999998509884,      \"fX2\" : 0.889999998509884,      \"fY2\" : 0.889999998509884,      \"fX1NDC\" : 0,      \"fY1NDC\" : 0,      \"fX2NDC\" : 0,      \"fY2NDC\" : 0,      \"fBorderSize\" : 1,      \"fInit\" : 0,      \"fShadowColor\" : 1,      \"fCornerRadius\" : 0,      \"fOption\" : \"brNDC\",      \"fName\" : \"TPave\",      \"fTextAngle\" : 0,      \"fTextSize\" : 0,      \"fTextAlign\" : 12,      \"fTextColor\" : 1,      \"fTextFont\" : 42,      \"fPrimitives\" : {        \"_typename\" : \"TList\",        \"name\" : \"TList\",        \"arr\" : [{          \"_typename\" : \"TLegendEntry\",          \"fUniqueID\" : 0,          \"fBits\" : 50331656,          \"fTextAngle\" : 0,          \"fTextSize\" : 0,          \"fTextAlign\" : 0,          \"fTextColor\" : 0,          \"fTextFont\" : 0,          \"fLineColor\" : 1,          \"fLineStyle\" : 1,          \"fLineWidth\" : 1,          \"fFillColor\" : 0,          \"fFillStyle\" : 0,          \"fMarkerColor\" : 1,          \"fMarkerStyle\" : 21,          \"fMarkerSize\" : 1,          \"fObject\" : {\"$ref\":2},          \"fLabel\" : \"Signal\",          \"fOption\" : \"F\"        }, {          \"_typename\" : \"TLegendEntry\",          \"fUniqueID\" : 0,          \"fBits\" : 50331656,          \"fTextAngle\" : 0,          \"fTextSize\" : 0,          \"fTextAlign\" : 0,          \"fTextColor\" : 0,          \"fTextFont\" : 0,          \"fLineColor\" : 1,          \"fLineStyle\" : 1,          \"fLineWidth\" : 1,          \"fFillColor\" : 0,          \"fFillStyle\" : 0,          \"fMarkerColor\" : 1,          \"fMarkerStyle\" : 21,          \"fMarkerSize\" : 1,          \"fObject\" : {\"$ref\":7},          \"fLabel\" : \"Background\",          \"fOption\" : \"F\"        }],        \"opt\" : [\"F\", \"F\"]      },      \"fEntrySeparation\" : 0.1,      \"fMargin\" : 0.3,      \"fNColumns\" : 1,      \"fColumnSeparation\" : 0    }],    \"opt\" : [\"hist\", \"histsame\", \"\"]  },  \"fExecs\" : null,  \"fName\" : \"csbplot\",  \"fTitle\" : \"Input variable: m_jj (Signal)\",  \"fNumPaletteColor\" : 0,  \"fNextPaletteColor\" : 0,  \"fDISPLAY\" : \"$DISPLAY\",  \"fDoubleBuffer\" : 0,  \"fRetained\" : true,  \"fXsizeUser\" : 0,  \"fYsizeUser\" : 0,  \"fXsizeReal\" : 20,  \"fYsizeReal\" : 11.25,  \"fWindowTopX\" : 0,  \"fWindowTopY\" : 0,  \"fWindowWidth\" : 0,  \"fWindowHeight\" : 0,  \"fCw\" : 796,  \"fCh\" : 422,  \"fCatt\" : {    \"_typename\" : \"TAttCanvas\",    \"fXBetween\" : 2,    \"fYBetween\" : 2,    \"fTitleFromTop\" : 1.2,    \"fXdate\" : 0.2,    \"fYdate\" : 0.3,    \"fAdate\" : 1  },  \"kMoveOpaque\" : true,  \"kResizeOpaque\" : true,  \"fHighLightColor\" : 2,  \"fBatch\" : true,  \"kShowEventStatus\" : false,  \"kAutoExec\" : true,  \"kMenuBar\" : true}');\n",
       "    });\n",
       "</script>\n"
      ],
      "text/plain": [
       "<IPython.core.display.HTML object>"
      ]
     },
     "metadata": {},
     "output_type": "display_data"
    }
   ],
   "source": [
    "loader.DrawInputVariable(\"m_jj\")"
   ]
  },
  {
   "cell_type": "markdown",
   "metadata": {},
   "source": [
    "## Correlation matrix of input variables\n",
    "\n",
    "We can also look at the correlation matrix of the input variables"
   ]
  },
  {
   "cell_type": "code",
   "execution_count": 14,
   "metadata": {
    "collapsed": false
   },
   "outputs": [
    {
     "data": {
      "text/html": [
       "\n",
       "<div id=\"jstmva_3\" style=\"width: 800px; height:450px\"></div>\n",
       "<script>\n",
       "    require(['JsMVA'],function(jsmva){\n",
       "        jsmva.drawTH2('jstmva_3','{  \"_typename\" : \"TH2F\",  \"fUniqueID\" : 0,  \"fBits\" : 50332168,  \"fName\" : \"CorrelationMatrixSignal\",  \"fTitle\" : \"Correlation Matrix (Signal)\",  \"fLineColor\" : 602,  \"fLineStyle\" : 1,  \"fLineWidth\" : 1,  \"fFillColor\" : 0,  \"fFillStyle\" : 1001,  \"fMarkerColor\" : 0,  \"fMarkerStyle\" : 1,  \"fMarkerSize\" : 1.5,  \"fNcells\" : 81,  \"fXaxis\" : {    \"_typename\" : \"TAxis\",    \"fUniqueID\" : 0,    \"fBits\" : 51380232,    \"fName\" : \"xaxis\",    \"fTitle\" : \"\",    \"fNdivisions\" : 510,    \"fAxisColor\" : 1,    \"fLabelColor\" : 1,    \"fLabelFont\" : 42,    \"fLabelOffset\" : 0.011,    \"fLabelSize\" : 0.04,    \"fTickLength\" : 0.03,    \"fTitleOffset\" : 1,    \"fTitleSize\" : 0.035,    \"fTitleColor\" : 1,    \"fTitleFont\" : 42,    \"fNbins\" : 7,    \"fXmin\" : 0,    \"fXmax\" : 7,    \"fXbins\" : [],    \"fFirst\" : 0,    \"fLast\" : 0,    \"fBits2\" : 3,    \"fTimeDisplay\" : false,    \"fTimeFormat\" : \"\",    \"fLabels\" : {      \"_typename\" : \"THashList\",      \"name\" : \"THashList\",      \"arr\" : [{        \"_typename\" : \"TObjString\",        \"fUniqueID\" : 1,        \"fBits\" : 50331648,        \"fString\" : \"m_jj\"      }, {        \"_typename\" : \"TObjString\",        \"fUniqueID\" : 2,        \"fBits\" : 50331648,        \"fString\" : \"m_jjj\"      }, {        \"_typename\" : \"TObjString\",        \"fUniqueID\" : 3,        \"fBits\" : 50331648,        \"fString\" : \"m_lv\"      }, {        \"_typename\" : \"TObjString\",        \"fUniqueID\" : 4,        \"fBits\" : 50331648,        \"fString\" : \"m_jlv\"      }, {        \"_typename\" : \"TObjString\",        \"fUniqueID\" : 5,        \"fBits\" : 50331648,        \"fString\" : \"m_bb\"      }, {        \"_typename\" : \"TObjString\",        \"fUniqueID\" : 6,        \"fBits\" : 50331648,        \"fString\" : \"m_wbb\"      }, {        \"_typename\" : \"TObjString\",        \"fUniqueID\" : 7,        \"fBits\" : 50331648,        \"fString\" : \"m_wwbb\"      }],      \"opt\" : [\"\", \"\", \"\", \"\", \"\", \"\", \"\"]    },    \"fModLabs\" : null  },  \"fYaxis\" : {    \"_typename\" : \"TAxis\",    \"fUniqueID\" : 0,    \"fBits\" : 50331656,    \"fName\" : \"yaxis\",    \"fTitle\" : \"\",    \"fNdivisions\" : 510,    \"fAxisColor\" : 1,    \"fLabelColor\" : 1,    \"fLabelFont\" : 42,    \"fLabelOffset\" : 0.005,    \"fLabelSize\" : 0.04,    \"fTickLength\" : 0.03,    \"fTitleOffset\" : 0,    \"fTitleSize\" : 0.035,    \"fTitleColor\" : 1,    \"fTitleFont\" : 42,    \"fNbins\" : 7,    \"fXmin\" : 0,    \"fXmax\" : 7,    \"fXbins\" : [],    \"fFirst\" : 0,    \"fLast\" : 0,    \"fBits2\" : 3,    \"fTimeDisplay\" : false,    \"fTimeFormat\" : \"\",    \"fLabels\" : {      \"_typename\" : \"THashList\",      \"name\" : \"THashList\",      \"arr\" : [{        \"_typename\" : \"TObjString\",        \"fUniqueID\" : 1,        \"fBits\" : 50331648,        \"fString\" : \"m_jj\"      }, {        \"_typename\" : \"TObjString\",        \"fUniqueID\" : 2,        \"fBits\" : 50331648,        \"fString\" : \"m_jjj\"      }, {        \"_typename\" : \"TObjString\",        \"fUniqueID\" : 3,        \"fBits\" : 50331648,        \"fString\" : \"m_lv\"      }, {        \"_typename\" : \"TObjString\",        \"fUniqueID\" : 4,        \"fBits\" : 50331648,        \"fString\" : \"m_jlv\"      }, {        \"_typename\" : \"TObjString\",        \"fUniqueID\" : 5,        \"fBits\" : 50331648,        \"fString\" : \"m_bb\"      }, {        \"_typename\" : \"TObjString\",        \"fUniqueID\" : 6,        \"fBits\" : 50331648,        \"fString\" : \"m_wbb\"      }, {        \"_typename\" : \"TObjString\",        \"fUniqueID\" : 7,        \"fBits\" : 50331648,        \"fString\" : \"m_wwbb\"      }],      \"opt\" : [\"\", \"\", \"\", \"\", \"\", \"\", \"\"]    },    \"fModLabs\" : null  },  \"fZaxis\" : {    \"_typename\" : \"TAxis\",    \"fUniqueID\" : 0,    \"fBits\" : 50331648,    \"fName\" : \"zaxis\",    \"fTitle\" : \"\",    \"fNdivisions\" : 510,    \"fAxisColor\" : 1,    \"fLabelColor\" : 1,    \"fLabelFont\" : 42,    \"fLabelOffset\" : 0.005,    \"fLabelSize\" : 0.035,    \"fTickLength\" : 0.03,    \"fTitleOffset\" : 1,    \"fTitleSize\" : 0.035,    \"fTitleColor\" : 1,    \"fTitleFont\" : 42,    \"fNbins\" : 1,    \"fXmin\" : 0,    \"fXmax\" : 1,    \"fXbins\" : [],    \"fFirst\" : 0,    \"fLast\" : 0,    \"fBits2\" : 0,    \"fTimeDisplay\" : false,    \"fTimeFormat\" : \"\",    \"fLabels\" : null,    \"fModLabs\" : null  },  \"fBarOffset\" : 0,  \"fBarWidth\" : 1000,  \"fEntries\" : 98,  \"fTsumw\" : 0,  \"fTsumw2\" : 0,  \"fTsumwx\" : 0,  \"fTsumwx2\" : 0,  \"fMaximum\" : 100,  \"fMinimum\" : -100,  \"fNormFactor\" : 0,  \"fContour\" : [],  \"fSumw2\" : [0, 0, 0, 0, 0, 0, 0, 0, 0, 0, 10000, 8196.28000259399, 56.7319104447961, 523.956269025803, 19.0588878467679, 5463.02855014801, 5182.72280693054, 0, 0, 8196.28000259399, 10000, 50.5622150376439, 199.38612356782, 1238.43312263489, 6524.618268013, 6214.28728103638, 0, 0, 56.7319104447961, 50.5622150376439, 10000, 1515.50635695457, 723.379254341125, 74.9159883707762, 291.907470673323, 0, 0, 523.956269025803, 199.38612356782, 1515.50635695457, 10000, 3381.50680065155, 5433.73167514801, 5575.46317577362, 0, 0, 19.0588878467679, 1238.43312263489, 723.379254341125, 3381.50680065155, 10000, 4661.76211833954, 3662.26732730865, 0, 0, 5463.02855014801, 6524.618268013, 74.9159883707762, 5433.73167514801, 4661.76211833954, 10000, 9196.96092605591, 0, 0, 5182.72280693054, 6214.28728103638, 291.907470673323, 5575.46317577362, 3662.26732730865, 9196.96092605591, 10000, 0, 0, 0, 0, 0, 0, 0, 0, 0, 0],  \"fOption\" : \"\",  \"fFunctions\" : {    \"_typename\" : \"TList\",    \"name\" : \"TList\",    \"arr\" : [],    \"opt\" : []  },  \"fBufferSize\" : 0,  \"fBuffer\" : [],  \"fBinStatErrOpt\" : 0,  \"fStatOverflows\" : 2,  \"fScalefactor\" : 1,  \"fTsumwy\" : 0,  \"fTsumwy2\" : 0,  \"fTsumwxy\" : 0,  \"fArray\" : [0, 0, 0, 0, 0, 0, 0, 0, 0, 0, 100, 81, 0, 5, 0, 54, 51, 0, 0, 81, 100, 0, 1, 12, 65, 62, 0, 0, 0, 0, 100, 15, -7, 0, 2, 0, 0, 5, 1, 15, 100, 33, 54, 55, 0, 0, 0, 12, -7, 33, 100, 46, 36, 0, 0, 54, 65, 0, 54, 46, 100, 91, 0, 0, 51, 62, 2, 55, 36, 91, 100, 0, 0, 0, 0, 0, 0, 0, 0, 0, 0]}');\n",
       "    });\n",
       "</script>\n"
      ],
      "text/plain": [
       "<IPython.core.display.HTML object>"
      ]
     },
     "metadata": {},
     "output_type": "display_data"
    }
   ],
   "source": [
    "loader.DrawCorrelationMatrix(\"Signal\")"
   ]
  },
  {
   "cell_type": "markdown",
   "metadata": {},
   "source": [
    "# Booking Methods"
   ]
  },
  {
   "cell_type": "markdown",
   "metadata": {},
   "source": [
    "To add which method we want to train on the dataset, we have to use the **Factory.BookMethod** function. This function will add a ML method and it's options to the TMVA Factory.\n",
    "\n",
    "Arguments:\n",
    "<table>\n",
    "\n",
    "<tr>\n",
    "    <th>Keyword</th>\n",
    "    <th>Can be used as positional argument</th>\n",
    "    <th>Default</th>\n",
    "    <th>Predefined values</th>\n",
    "    <th>Description</th>\n",
    "</tr>\n",
    "\n",
    "<tr>\n",
    "    <td>DataLoader</td>\n",
    "    <td>yes, 1.</td>\n",
    "    <td>-</td>\n",
    "    <td>-</td>\n",
    "    <td>Pointer to DataLoader object</td>\n",
    "</tr>\n",
    "\n",
    "<tr>\n",
    "    <td>Method</td>\n",
    "    <td>yes, 2.</td>\n",
    "    <td>-</td>\n",
    "    <td>     kVariable\n",
    "         kCuts           ,\n",
    "         kLikelihood     ,\n",
    "         kPDERS          ,\n",
    "         kHMatrix        ,\n",
    "         kFisher         ,\n",
    "         kKNN            ,\n",
    "         kCFMlpANN       ,\n",
    "         kTMlpANN        ,\n",
    "         kBDT            ,\n",
    "         kDT             ,\n",
    "         kRuleFit        ,\n",
    "         kSVM            ,\n",
    "         kMLP            ,\n",
    "         kBayesClassifier,\n",
    "         kFDA            ,\n",
    "         kBoost          ,\n",
    "         kPDEFoam        ,\n",
    "         kLD             ,\n",
    "         kPlugins        ,\n",
    "         kCategory       ,\n",
    "         kDNN            ,\n",
    "         kPyRandomForest ,\n",
    "         kPyAdaBoost     ,\n",
    "         kPyGTB          ,\n",
    "         kC50            ,\n",
    "         kRSNNS          ,\n",
    "         kRSVM           ,\n",
    "         kRXGB           ,\n",
    "         kMaxMethod</td>\n",
    "    <td>Selected method number, method numbers defined in TMVA.Types</td>\n",
    "</tr>\n",
    "<tr>\n",
    "    <td>MethodTitle</td>\n",
    "    <td>yes, 3.</td>\n",
    "    <td>-</td>\n",
    "    <td>-</td>\n",
    "    <td>Label for method</td>\n",
    "</tr>\n",
    "<tr>\n",
    "    <td> * </td>\n",
    "    <td> no </td>\n",
    "    <td>-</td>\n",
    "    <td>-</td>\n",
    "    <td> Other named arguments which are the options for selected method. </td>\n",
    "</tr>\n",
    "</table>"
   ]
  },
  {
   "cell_type": "code",
   "execution_count": 15,
   "metadata": {
    "collapsed": false
   },
   "outputs": [
    {
     "data": {
      "text/plain": [
       "<ROOT.TMVA::MethodBDT object (\"BDT\") at 0x7f9ab0531c00>"
      ]
     },
     "execution_count": 15,
     "metadata": {},
     "output_type": "execute_result"
    },
    {
     "data": {
      "text/html": [
       "<table class='tmva_output_table'><tbody class='tmva_output_tbody_multiple_row'><tr><td rowspan='2' class='tmva_output_header'>Factory                 </td><td>Booking method: <b> LD</b></td></tr><tr></tr></tbody><tbody class='tmva_output_tbody_multiple_row'><tr><td rowspan='2' class='tmva_output_header'>Factory                 </td><td>Booking method: <b> BDT</b></td></tr><tr></tr></tbody></table>"
      ],
      "text/plain": [
       "<IPython.core.display.HTML object>"
      ]
     },
     "metadata": {},
     "output_type": "display_data"
    },
    {
     "data": {
      "text/html": [],
      "text/plain": [
       "<IPython.core.display.HTML object>"
      ]
     },
     "metadata": {},
     "output_type": "display_data"
    }
   ],
   "source": [
    "#factory.BookMethod( DataLoader=loader, Method=TMVA.Types.kSVM, MethodTitle=\"SVM\", \n",
    "#                Gamma=0.25, Tol=0.001, VarTransform=\"Norm\" )\n",
    "\n",
    "\n",
    "factory.BookMethod( loader,TMVA.Types.kLD, \"LD\", \n",
    "    H=False, V=False, VarTransform=\"None\", CreateMVAPdfs=True, PDFInterpolMVAPdf=\"Spline2\",\n",
    "                   NbinsMVAPdf=50, NsmoothMVAPdf=10 )\n",
    "\n",
    "\n",
    "factory.BookMethod( loader, TMVA.Types.kBDT, \"BDT\",\n",
    "    H=False, V=False, NTrees=850, MinNodeSize=\"2.5%\", MaxDepth=3, BoostType=\"AdaBoost\", AdaBoostBeta=0.5,\n",
    "                   UseBaggedBoost=True, BaggedSampleFraction=0.5, SeparationType=\"GiniIndex\", nCuts=20 )"
   ]
  },
  {
   "cell_type": "markdown",
   "metadata": {},
   "source": [
    "## Booking DNN\n",
    "\n",
    "Here we book the TMVA Deep Neural Network method. We use agan the JSMVA pythonic interface. \n",
    "See also the new TMVA User Guide (page 105) for the meaning of the options (available in github: \n",
    "https://github.com/root-project/root/raw/master/documentation/tmva/UsersGuide/TMVAUsersGuide.pdf)\n",
    "\n",
    "Note that on Swan the new DNN implementation working on CPU wil not work because it requires a ROOT build distribution capable of working on muilti-threads. It will work however on my laptop using all the available cores (4+4). "
   ]
  },
  {
   "cell_type": "code",
   "execution_count": 16,
   "metadata": {
    "collapsed": false
   },
   "outputs": [
    {
     "data": {
      "text/html": [
       "<table class='tmva_output_table'><tbody class='tmva_output_tbody_multiple_row'><tr><td rowspan='2' class='tmva_output_header'>Factory                 </td><td>Booking method: <b> DNN</b></td></tr><tr></tr></tbody><tbody><tr><td rowspan='1' class='tmva_output_header'>DNN                     </td><td><table class='tmva_output_dataset'><tbody class='tmva_output_tbody_multiple_row'><tr><td rowspan='2'>Dataset: dataset</td><td>Create Transformation \"Normalize\" with events from all classes.</td><td class='tmva_output_hidden_td'></td></tr></tbody></table></td></tr></tbody><tbody class='tmva_output_tbody_multiple_row'><tr><td rowspan='8' class='tmva_output_header'></td><td>Transformation, Variable selection : </td></tr><tr><td>Input : variable 'm_jj' <---> Output : variable 'm_jj'</td></tr><tr><td>Input : variable 'm_jjj' <---> Output : variable 'm_jjj'</td></tr><tr><td>Input : variable 'm_lv' <---> Output : variable 'm_lv'</td></tr><tr><td>Input : variable 'm_jlv' <---> Output : variable 'm_jlv'</td></tr><tr><td>Input : variable 'm_bb' <---> Output : variable 'm_bb'</td></tr><tr><td>Input : variable 'm_wbb' <---> Output : variable 'm_wbb'</td></tr><tr><td>Input : variable 'm_wwbb' <---> Output : variable 'm_wwbb'</td></tr></tbody><tbody><tr><td rowspan='1' class='tmva_output_header'>TFHandler_DNN           </td><td><table class='tmva_output_varmeanrms'><tr><td>Variable<td>Mean<td>RMS<td>Min<td>Max<td class='tmva_output_hidden_td'></td></tr><tr><td>m_jj<td>-0.83496<td>0.13055<td>-1.0000<td>1.0000<td class='tmva_output_hidden_td'></td></tr><tr><td>m_jjj<td>-0.76582<td>0.14989<td>-1.0000<td>1.0000<td class='tmva_output_hidden_td'></td></tr><tr><td>m_lv<td>-0.47710<td>0.15959<td>-1.0000<td>1.0000<td class='tmva_output_hidden_td'></td></tr><tr><td>m_jlv<td>-0.77166<td>0.15806<td>-1.0000<td>1.0000<td class='tmva_output_hidden_td'></td></tr><tr><td>m_bb<td>-0.72518<td>0.16583<td>-1.0000<td>1.0000<td class='tmva_output_hidden_td'></td></tr><tr><td>m_wbb<td>-0.58662<td>0.24288<td>-1.0000<td>1.0000<td class='tmva_output_hidden_td'></td></tr><tr><td>m_wwbb<td>-0.65222<td>0.21569<td>-1.0000<td>1.0000<td class='tmva_output_hidden_td'></td></tr></table></td></tr></tbody></table>"
      ],
      "text/plain": [
       "<IPython.core.display.HTML object>"
      ]
     },
     "metadata": {},
     "output_type": "display_data"
    },
    {
     "data": {
      "text/html": [],
      "text/plain": [
       "<IPython.core.display.HTML object>"
      ]
     },
     "metadata": {},
     "output_type": "display_data"
    }
   ],
   "source": [
    "bookDNN = False\n",
    "#DNNType = 'Standard'\n",
    "DNNType = 'CPU'   # use new implementation \n",
    "trainingStrategyFast = [{\n",
    "        \"LearningRate\": 1e-1,\n",
    "        \"Momentum\": 0.0,\n",
    "        \"Repetitions\": 1,\n",
    "        \"ConvergenceSteps\": 100,\n",
    "        \"BatchSize\": 50,\n",
    "        \"TestRepetitions\": 7,\n",
    "        \"WeightDecay\": 0.001,\n",
    "        \"Regularization\": \"NONE\",\n",
    "        \"DropConfig\": \"0.0+0.5+0.5+0.5\",\n",
    "        \"DropRepetitions\": 1,\n",
    "        \"Multithreading\": True\n",
    "        \n",
    "    }]\n",
    "trainingStrategy = [{\n",
    "        \"LearningRate\": 1e-1,\n",
    "        \"Momentum\": 0.0,\n",
    "        \"Repetitions\": 1,\n",
    "        \"ConvergenceSteps\": 100,\n",
    "        \"BatchSize\": 50,\n",
    "        \"TestRepetitions\": 4,\n",
    "        \"WeightDecay\": 0.001,\n",
    "        \"Regularization\": \"NONE\",\n",
    "        \"DropConfig\": \"0.0+0.5+0.5+0.5\",\n",
    "        \"DropRepetitions\": 1,\n",
    "        \"Multithreading\": True\n",
    "        \n",
    "    },  {\n",
    "        \"LearningRate\": 1e-2,\n",
    "        \"Momentum\": 0.5,\n",
    "        \"Repetitions\": 1,\n",
    "        \"ConvergenceSteps\": 100,\n",
    "        \"BatchSize\": 50,\n",
    "        \"TestRepetitions\": 2,\n",
    "        \"WeightDecay\": 0.001,\n",
    "        \"Regularization\": \"TRUE\",\n",
    "        \"DropConfig\": \"0.0+0.1+0.1+0.1\",\n",
    "        \"DropRepetitions\": 1,\n",
    "        \"Multithreading\": True\n",
    "        \n",
    "    }, {\n",
    "        \"LearningRate\": 1e-3,\n",
    "        \"Momentum\": 0.3,\n",
    "        \"Repetitions\": 1,\n",
    "        \"ConvergenceSteps\": 100,\n",
    "        \"BatchSize\": 50,\n",
    "        \"TestRepetitions\": 2,\n",
    "        \"WeightDecay\": 0.001,\n",
    "        \"Regularization\": \"NONE\",\n",
    "        \"Multithreading\": True\n",
    "    \n",
    "        \n",
    "}]\n",
    "\n",
    "if (bookDNN) : \n",
    "    factory.BookMethod(DataLoader=loader, Method=TMVA.Types.kDNN, MethodTitle=\"DNN\", \n",
    "                   H = False, V=False, VarTransform=\"Normalize\", ErrorStrategy=\"CROSSENTROPY\",\n",
    "                   Layout=[\"TANH|50\", \"TANH|50\", \"TANH|10\", \"LINEAR\"],\n",
    "                   TrainingStrategy=trainingStrategyFast,Architecture=DNNType)"
   ]
  },
  {
   "cell_type": "markdown",
   "metadata": {},
   "source": [
    "## Train Methods\n",
    "\n",
    "We train here all ML methods one after the other, by calling the **factory.TrainAllMethod** function. \n",
    "\n",
    "We can trace the process (progress bar, error plot). For some methods (MLP, DNN, BDT) there will be created a tracer plot (for MLP, DNN test and training error vs epoch, for BDT error fraction and boost weight vs tree number). There are also some method which doesn't support interactive tracing, so for these methods just a simple text will be printed, just to we know that **TrainAllMethods** function is training this method currently.\n",
    "\n",
    "For methods where is possible to trace the training interactively there is a stop button, which can stop the training process. This button just stops the training of the current method, and doesn't stop the TrainAllMethods completely."
   ]
  },
  {
   "cell_type": "code",
   "execution_count": 17,
   "metadata": {
    "collapsed": false
   },
   "outputs": [
    {
     "data": {
      "text/html": [
       "<center><h1>Dataset: dataset</h1></center>"
      ],
      "text/plain": [
       "<IPython.core.display.HTML object>"
      ]
     },
     "metadata": {},
     "output_type": "display_data"
    },
    {
     "data": {
      "text/html": [
       "<h2><b>Train method: LD</b></h2>"
      ],
      "text/plain": [
       "<IPython.core.display.HTML object>"
      ]
     },
     "metadata": {},
     "output_type": "display_data"
    },
    {
     "data": {
      "text/html": [
       "<b>Training...</b>"
      ],
      "text/plain": [
       "<IPython.core.display.HTML object>"
      ]
     },
     "metadata": {},
     "output_type": "display_data"
    },
    {
     "data": {
      "text/html": [
       "<b>End</b>"
      ],
      "text/plain": [
       "<IPython.core.display.HTML object>"
      ]
     },
     "metadata": {},
     "output_type": "display_data"
    },
    {
     "data": {
      "text/html": [
       "<h2><b>Train method: BDT</b></h2>"
      ],
      "text/plain": [
       "<IPython.core.display.HTML object>"
      ]
     },
     "metadata": {},
     "output_type": "display_data"
    },
    {
     "data": {
      "text/html": [
       "\n",
       "     <script type=\"text/javascript\">\n",
       "     require([\"jquery\"], function(jQ){\n",
       "         jQ(\"input.stopTrainingButton\").on(\"click\", function(){\n",
       "             IPython.notebook.kernel.interrupt();\n",
       "             jQ(this).css({\n",
       "                 \"background-color\": \"rgba(200, 0, 0, 0.8)\",\n",
       "                 \"color\": \"#fff\",\n",
       "                 \"box-shadow\": \"0 3px 5px rgba(0, 0, 0, 0.3)\",\n",
       "             });\n",
       "         });\n",
       "     });\n",
       "     </script>\n",
       "     <style type=\"text/css\">\n",
       "     input.stopTrainingButton {\n",
       "         background-color: #fff;\n",
       "         border: 1px solid #ccc;\n",
       "         width: 100%;\n",
       "         font-size: 16px;\n",
       "         font-weight: bold;\n",
       "         padding: 6px 12px;\n",
       "         cursor: pointer;\n",
       "         border-radius: 6px;\n",
       "         color: #333;\n",
       "     }\n",
       "     input.stopTrainingButton:hover {\n",
       "         background-color: rgba(204, 204, 204, 0.4);\n",
       "     }\n",
       "     </style>\n",
       "     <input type=\"button\" value=\"Stop\" class=\"stopTrainingButton\" />\n",
       "     "
      ],
      "text/plain": [
       "<IPython.core.display.HTML object>"
      ]
     },
     "metadata": {},
     "output_type": "display_data"
    },
    {
     "data": {
      "text/html": [
       "\n",
       "     <style>\n",
       "     #jsmva_progress_1 {\n",
       "         position: relative;\n",
       "         float: left;\n",
       "         height: 30px;\n",
       "         width: 100%;\n",
       "         background-color: #f5f5f5;\n",
       "         border-radius: 3px;\n",
       "         box-shadow: inset 0 3px 6px rgba(0, 0, 0, 0.1);\n",
       "     }\n",
       "     #jsmva_bar_1 {\n",
       "         position: absolute;\n",
       "         width: 1%;\n",
       "         height: 100%;\n",
       "         background-color: #337ab7;\n",
       "     }\n",
       "     #jsmva_label_1 {\n",
       "         text-align: center;\n",
       "         line-height: 30px;\n",
       "         color: white;\n",
       "     }\n",
       "     </style>\n",
       "     <div id=\"jsmva_progress_1\">\n",
       "       <div id=\"jsmva_bar_1\">\n",
       "         <div id=\"jsmva_label_1\">0%</div>\n",
       "       </div>\n",
       "     </div>\n",
       "     "
      ],
      "text/plain": [
       "<IPython.core.display.HTML object>"
      ]
     },
     "metadata": {},
     "output_type": "display_data"
    },
    {
     "data": {
      "text/html": [
       "\n",
       "     <script type=\"text/javascript\" id=\"progressBarScriptInc\">\n",
       "     require([\"jquery\"], function(jQ){\n",
       "         jQ(\"#jsmva_bar_1\").css(\"width\", 69 + \"%\");\n",
       "         jQ(\"#jsmva_label_1\").text(69 + '%');\n",
       "         jQ(\"#progressBarScriptInc\").parent().parent().remove();\n",
       "     });\n",
       "     </script>\n",
       "     "
      ],
      "text/plain": [
       "<IPython.core.display.HTML object>"
      ]
     },
     "metadata": {},
     "output_type": "display_data"
    },
    {
     "data": {
      "text/html": [
       "\n",
       "<div id=\"jstmva_4\" style=\"width: 800px; height:450px\"></div>\n",
       "<script>\n",
       "    require(['JsMVA'],function(jsmva){\n",
       "        jsmva.drawTrainingTestingErrors('jstmva_4','{  \"_typename\" : \"TMultiGraph\",  \"fUniqueID\" : 0,  \"fBits\" : 50331656,  \"fName\" : \"\",  \"fTitle\" : \"\",  \"fGraphs\" : {    \"_typename\" : \"TList\",    \"name\" : \"TList\",    \"arr\" : [{      \"_typename\" : \"TGraph\",      \"fUniqueID\" : 0,      \"fBits\" : 50332680,      \"fName\" : \"Boost weight\",      \"fTitle\" : \"Boost weight\",      \"fLineColor\" : 2,      \"fLineStyle\" : 1,      \"fLineWidth\" : 1,      \"fFillColor\" : 2,      \"fFillStyle\" : 1000,      \"fMarkerColor\" : 2,      \"fMarkerStyle\" : 1,      \"fMarkerSize\" : 1,      \"fNpoints\" : 610,      \"fX\" : [0, 1, 2, 3, 4, 5, 6, 7, 8, 9, 10, 11, 12, 13, 14, 15, 16, 17, 18, 19, 20, 21, 22, 23, 24, 25, 26, 27, 28, 29, 30, 31, 32, 33, 34, 35, 36, 37, 38, 39, 40, 41, 42, 43, 44, 45, 46, 47, 48, 49, 50, 51, 52, 53, 54, 55, 56, 57, 58, 59, 60, 61, 62, 63, 64, 65, 66, 67, 68, 69, 70, 71, 72, 73, 74, 75, 76, 77, 78, 79, 80, 81, 82, 83, 84, 85, 86, 87, 88, 89, 90, 91, 92, 93, 94, 95, 96, 97, 98, 99, 100, 101, 102, 103, 104, 105, 106, 107, 108, 109, 110, 111, 112, 113, 114, 115, 116, 117, 118, 119, 120, 121, 122, 123, 124, 125, 126, 127, 128, 129, 130, 131, 132, 133, 134, 135, 136, 137, 138, 139, 140, 141, 142, 143, 144, 145, 146, 147, 148, 149, 150, 151, 152, 153, 154, 155, 156, 157, 158, 159, 160, 161, 162, 163, 164, 165, 166, 167, 168, 169, 170, 171, 172, 173, 174, 175, 176, 177, 178, 179, 180, 181, 182, 183, 184, 185, 186, 187, 188, 189, 190, 191, 192, 193, 194, 195, 196, 197, 198, 199, 200, 201, 202, 203, 204, 205, 206, 207, 208, 209, 210, 211, 212, 213, 214, 215, 216, 217, 218, 219, 220, 221, 222, 223, 224, 225, 226, 227, 228, 229, 230, 231, 232, 233, 234, 235, 236, 237, 238, 239, 240, 241, 242, 243, 244, 245, 246, 247, 248, 249, 250, 251, 252, 253, 254, 255, 256, 257, 258, 259, 260, 261, 262, 263, 264, 265, 266, 267, 268, 269, 270, 271, 272, 273, 274, 275, 276, 277, 278, 279, 280, 281, 282, 283, 284, 285, 286, 287, 288, 289, 290, 291, 292, 293, 294, 295, 296, 297, 298, 299, 300, 301, 302, 303, 304, 305, 306, 307, 308, 309, 310, 311, 312, 313, 314, 315, 316, 317, 318, 319, 320, 321, 322, 323, 324, 325, 326, 327, 328, 329, 330, 331, 332, 333, 334, 335, 336, 337, 338, 339, 340, 341, 342, 343, 344, 345, 346, 347, 348, 349, 350, 351, 352, 353, 354, 355, 356, 357, 358, 359, 360, 361, 362, 363, 364, 365, 366, 367, 368, 369, 370, 371, 372, 373, 374, 375, 376, 377, 378, 379, 380, 381, 382, 383, 384, 385, 386, 387, 388, 389, 390, 391, 392, 393, 394, 395, 396, 397, 398, 399, 400, 401, 402, 403, 404, 405, 406, 407, 408, 409, 410, 411, 412, 413, 414, 415, 416, 417, 418, 419, 420, 421, 422, 423, 424, 425, 426, 427, 428, 429, 430, 431, 432, 433, 434, 435, 436, 437, 438, 439, 440, 441, 442, 443, 444, 445, 446, 447, 448, 449, 450, 451, 452, 453, 454, 455, 456, 457, 458, 459, 460, 461, 462, 463, 464, 465, 466, 467, 468, 469, 470, 471, 472, 473, 474, 475, 476, 477, 478, 479, 480, 481, 482, 483, 484, 485, 486, 487, 488, 489, 490, 491, 492, 493, 494, 495, 496, 497, 498, 499, 500, 501, 502, 503, 504, 505, 506, 507, 508, 509, 510, 511, 512, 513, 514, 515, 516, 517, 518, 519, 520, 521, 522, 523, 524, 525, 526, 527, 528, 529, 530, 531, 532, 533, 534, 535, 536, 537, 538, 539, 540, 541, 542, 543, 544, 545, 546, 547, 548, 549, 550, 551, 552, 553, 554, 555, 556, 557, 558, 559, 560, 561, 562, 563, 564, 565, 566, 567, 568, 569, 570, 571, 572, 573, 574, 575, 576, 577, 578, 579, 580, 581, 582, 583, 584, 585, 586, 587, 588, 589, 590, 591, 592, 593, 594, 595, 596, 597, 598, 599, 600, 601, 602, 603, 604, 605, 606, 607, 608, 609],      \"fY\" : [0.294195995898558, 0.295394616347312, 0.279470760943663, 0.182227132371968, 0.252925654768964, 0.265832195697833, 0.26236525363566, 0.213875707767306, 0.264616934791529, 0.183929539272129, 0.230978647033573, 0.191467334036677, 0.305453846926056, 0.180671811833297, 14, 15, 16, 17, 18, 19, 20, 21, 22, 23, 24, 25, 26, 27, 28, 29, 30, 31, 32, 33, 34, 35, 36, 37, 38, 39, 40, 41, 42, 43, 44, 45, 46, 47, 48, 49, 50, 51, 52, 53, 54, 55, 56, 57, 58, 59, 60, 61, 62, 63, 64, 65, 66, 67, 68, 69, 70, 71, 72, 73, 74, 75, 76, 77, 78, 79, 80, 81, 82, 83, 84, 85, 86, 87, 88, 89, 90, 91, 92, 93, 94, 95, 96, 97, 98, 99, 100, 101, 102, 103, 104, 105, 106, 107, 108, 109, 110, 111, 112, 113, 114, 115, 116, 117, 118, 119, 120, 121, 122, 123, 124, 125, 126, 127, 128, 129, 130, 131, 132, 133, 134, 135, 136, 137, 138, 139, 140, 141, 142, 143, 144, 145, 146, 147, 148, 149, 150, 151, 152, 153, 154, 155, 156, 157, 158, 159, 160, 161, 162, 163, 164, 165, 166, 167, 168, 169, 170, 171, 172, 173, 174, 175, 176, 177, 178, 179, 180, 181, 182, 183, 184, 185, 186, 187, 188, 189, 190, 191, 192, 193, 194, 195, 196, 197, 198, 199, 200, 201, 202, 203, 204, 205, 206, 207, 208, 209, 210, 211, 212, 213, 214, 215, 216, 217, 218, 219, 220, 221, 222, 223, 224, 225, 226, 227, 228, 229, 230, 231, 232, 233, 234, 235, 236, 237, 238, 239, 240, 241, 242, 243, 244, 245, 246, 247, 248, 249, 250, 251, 252, 253, 254, 255, 256, 257, 258, 259, 260, 261, 262, 263, 264, 265, 266, 267, 268, 269, 270, 271, 272, 273, 274, 275, 276, 277, 278, 279, 280, 281, 282, 283, 284, 285, 286, 287, 288, 289, 290, 291, 292, 293, 294, 295, 296, 297, 298, 299, 300, 301, 302, 303, 304, 305, 306, 307, 308, 309, 310, 311, 312, 313, 314, 315, 316, 317, 318, 319, 320, 321, 322, 323, 324, 325, 326, 327, 328, 329, 330, 331, 332, 333, 334, 335, 336, 337, 338, 339, 340, 341, 342, 343, 344, 345, 346, 347, 348, 349, 350, 351, 352, 353, 354, 355, 356, 357, 358, 359, 360, 361, 362, 363, 364, 365, 366, 367, 368, 369, 370, 371, 372, 373, 374, 375, 376, 377, 378, 379, 380, 381, 382, 383, 384, 385, 386, 387, 388, 389, 390, 391, 392, 393, 394, 395, 396, 397, 398, 399, 400, 401, 402, 403, 404, 405, 406, 407, 408, 409, 410, 411, 412, 413, 414, 415, 416, 417, 418, 419, 420, 421, 422, 423, 424, 425, 426, 427, 428, 429, 430, 431, 432, 433, 434, 435, 436, 437, 438, 439, 440, 441, 442, 443, 444, 445, 446, 447, 448, 449, 450, 451, 452, 453, 454, 455, 456, 457, 458, 459, 460, 461, 462, 463, 464, 465, 466, 467, 468, 469, 470, 471, 472, 473, 474, 475, 476, 477, 478, 479, 480, 481, 482, 483, 484, 485, 486, 487, 488, 489, 490, 491, 492, 493, 494, 495, 496, 497, 498, 499, 500, 501, 502, 503, 504, 505, 506, 507, 508, 509, 510, 511, 512, 513, 514, 515, 516, 517, 518, 519, 520, 521, 522, 523, 524, 525, 526, 527, 528, 529, 530, 531, 532, 533, 534, 535, 536, 537, 538, 539, 540, 541, 542, 543, 544, 545, 546, 547, 548, 549, 550, 551, 552, 553, 554, 555, 556, 557, 558, 559, 560, 561, 562, 563, 564, 565, 566, 567, 568, 569, 570, 571, 572, 573, 574, 575, 576, 577, 578, 579, 580, 581, 582, 583, 584, 585, 586, 587, 588, 589, 590, 591, 592, 593, 594, 595, 596, 597, 598, 599, 600, 601, 602, 603, 604, 605, 606, 607, 608, 609],      \"fFunctions\" : {        \"_typename\" : \"TList\",        \"name\" : \"TList\",        \"arr\" : [],        \"opt\" : []      },      \"fHistogram\" : null,      \"fMinimum\" : -1111,      \"fMaximum\" : -1111    }, {      \"_typename\" : \"TGraph\",      \"fUniqueID\" : 0,      \"fBits\" : 50332680,      \"fName\" : \"Error Fraction\",      \"fTitle\" : \"Error Fraction\",      \"fLineColor\" : 4,      \"fLineStyle\" : 1,      \"fLineWidth\" : 1,      \"fFillColor\" : 4,      \"fFillStyle\" : 1000,      \"fMarkerColor\" : 4,      \"fMarkerStyle\" : 1,      \"fMarkerSize\" : 1,      \"fNpoints\" : 611,      \"fX\" : [0, 1, 2, 3, 4, 5, 6, 7, 8, 9, 10, 11, 12, 13, 14, 15, 16, 17, 18, 19, 20, 21, 22, 23, 24, 25, 26, 27, 28, 29, 30, 31, 32, 33, 34, 35, 36, 37, 38, 39, 40, 41, 42, 43, 44, 45, 46, 47, 48, 49, 50, 51, 52, 53, 54, 55, 56, 57, 58, 59, 60, 61, 62, 63, 64, 65, 66, 67, 68, 69, 70, 71, 72, 73, 74, 75, 76, 77, 78, 79, 80, 81, 82, 83, 84, 85, 86, 87, 88, 89, 90, 91, 92, 93, 94, 95, 96, 97, 98, 99, 100, 101, 102, 103, 104, 105, 106, 107, 108, 109, 110, 111, 112, 113, 114, 115, 116, 117, 118, 119, 120, 121, 122, 123, 124, 125, 126, 127, 128, 129, 130, 131, 132, 133, 134, 135, 136, 137, 138, 139, 140, 141, 142, 143, 144, 145, 146, 147, 148, 149, 150, 151, 152, 153, 154, 155, 156, 157, 158, 159, 160, 161, 162, 163, 164, 165, 166, 167, 168, 169, 170, 171, 172, 173, 174, 175, 176, 177, 178, 179, 180, 181, 182, 183, 184, 185, 186, 187, 188, 189, 190, 191, 192, 193, 194, 195, 196, 197, 198, 199, 200, 201, 202, 203, 204, 205, 206, 207, 208, 209, 210, 211, 212, 213, 214, 215, 216, 217, 218, 219, 220, 221, 222, 223, 224, 225, 226, 227, 228, 229, 230, 231, 232, 233, 234, 235, 236, 237, 238, 239, 240, 241, 242, 243, 244, 245, 246, 247, 248, 249, 250, 251, 252, 253, 254, 255, 256, 257, 258, 259, 260, 261, 262, 263, 264, 265, 266, 267, 268, 269, 270, 271, 272, 273, 274, 275, 276, 277, 278, 279, 280, 281, 282, 283, 284, 285, 286, 287, 288, 289, 290, 291, 292, 293, 294, 295, 296, 297, 298, 299, 300, 301, 302, 303, 304, 305, 306, 307, 308, 309, 310, 311, 312, 313, 314, 315, 316, 317, 318, 319, 320, 321, 322, 323, 324, 325, 326, 327, 328, 329, 330, 331, 332, 333, 334, 335, 336, 337, 338, 339, 340, 341, 342, 343, 344, 345, 346, 347, 348, 349, 350, 351, 352, 353, 354, 355, 356, 357, 358, 359, 360, 361, 362, 363, 364, 365, 366, 367, 368, 369, 370, 371, 372, 373, 374, 375, 376, 377, 378, 379, 380, 381, 382, 383, 384, 385, 386, 387, 388, 389, 390, 391, 392, 393, 394, 395, 396, 397, 398, 399, 400, 401, 402, 403, 404, 405, 406, 407, 408, 409, 410, 411, 412, 413, 414, 415, 416, 417, 418, 419, 420, 421, 422, 423, 424, 425, 426, 427, 428, 429, 430, 431, 432, 433, 434, 435, 436, 437, 438, 439, 440, 441, 442, 443, 444, 445, 446, 447, 448, 449, 450, 451, 452, 453, 454, 455, 456, 457, 458, 459, 460, 461, 462, 463, 464, 465, 466, 467, 468, 469, 470, 471, 472, 473, 474, 475, 476, 477, 478, 479, 480, 481, 482, 483, 484, 485, 486, 487, 488, 489, 490, 491, 492, 493, 494, 495, 496, 497, 498, 499, 500, 501, 502, 503, 504, 505, 506, 507, 508, 509, 510, 511, 512, 513, 514, 515, 516, 517, 518, 519, 520, 521, 522, 523, 524, 525, 526, 527, 528, 529, 530, 531, 532, 533, 534, 535, 536, 537, 538, 539, 540, 541, 542, 543, 544, 545, 546, 547, 548, 549, 550, 551, 552, 553, 554, 555, 556, 557, 558, 559, 560, 561, 562, 563, 564, 565, 566, 567, 568, 569, 570, 571, 572, 573, 574, 575, 576, 577, 578, 579, 580, 581, 582, 583, 584, 585, 586, 587, 588, 589, 590, 591, 592, 593, 594, 595, 596, 597, 598, 599, 600, 601, 602, 603, 604, 605, 606, 607, 608, 609, 610],      \"fY\" : [0.357003891050584, 0.356453788174184, 0.363792406484867, 0.409881743309099, 0.376166577857343, 0.370128778895137, 0.371746749853158, 0.394663400407372, 0.370695593508064, 0.409058444786867, 0.386521602137974, 0.405419286255525, 0.351852168495649, 0.410634351496912, 0.387416008196803, 0.390550034099064, 0.367025009080845, 0.390382323514308, 0.393196789818533, 0.441233046121525, 0.412632456826414, 0.413640772928432, 0.421618070281698, 0.406547774494006, 0.439613568718838, 0.374673619169676, 0.438141071163335, 0.423621533219301, 0.442207369381563, 0.441247227599942, 0.401486664502228, 0.446447130637304, 0.40152395168973, 0.399028126649886, 0.398947101550529, 0.403901604616707, 0.407713359305529, 0.44304363591095, 0.442332148696837, 0.426703078513128, 0.400753461826763, 0.414307528678978, 0.424105743549063, 0.430221142637174, 0.404066971633448, 0.408224988561661, 0.462116445346552, 0.401421041251331, 0.450654394673617, 0.375736335561497, 0.417126200916713, 0.412308458890039, 0.427164586740827, 0.432728164536734, 0.411610634324701, 0.445928810194776, 0.441879267556456, 0.444948685205206, 0.396159731510851, 0.375249415501153, 0.426707791143435, 0.39225211767617, 0.459507006158561, 0.377401138696843, 0.410157904764668, 0.413180442717996, 0.41229981263455, 0.445577351131497, 0.38691797675481, 0.419866315354942, 0.416567075668368, 0.436442986446962, 0.424869574044215, 0.401423581520998, 0.392675537114023, 0.388706638805319, 0.443797733218583, 0.397256783277589, 0.396886488491984, 0.41848249563051, 0.421748705014175, 0.441667569348534, 0.445057635171627, 0.402259290130709, 0.406828632311563, 0.423815611362812, 0.445803369582682, 0.443664506551904, 0.453568929571149, 0.434503532469136, 0.365043187604729, 0.39536058362638, 0.449362274714421, 0.448167760447071, 0.404350726098382, 0.407229651438213, 0.404894397500324, 0.424146987432028, 0.401626513764118, 0.402852960652414, 0.420901660339123, 0.43069901596965, 0.406616545044024, 0.423027297970048, 0.404777103245408, 0.397237948154217, 0.432006774796427, 0.400575315028015, 0.418058894412885, 0.436019368136865, 0.426061211651913, 0.413075085162649, 0.462841291122142, 0.393676768540512, 0.391949339992461, 0.419986071172196, 0.423806576879845, 0.404983318461539, 0.409465453508868, 0.434268685358015, 0.405332639736004, 0.428869137201291, 0.408148590170462, 0.449886002040228, 0.389725156234148, 0.412766657792443, 0.45467219638514, 0.41020558396015, 0.414174172924197, 0.422573676539155, 0.435358087600546, 0.434703137619874, 0.414368454459292, 0.403136353914135, 0.421414532544497, 0.426031014712049, 0.413080069111191, 0.438053534385986, 0.408101265193816, 0.435151344078739, 0.418833597707407, 0.378949652394841, 0.422100879545926, 0.446833395644923, 0.438101081653784, 0.43015427269176, 0.401532882385963, 0.45077076961523, 0.447753146063018, 0.39251267061491, 0.400288086508193, 0.408434253662108, 0.440576070230311, 0.425208712339737, 0.410963888993531, 0.443288540514859, 0.393361601978293, 0.439150032933236, 0.40855816519772, 0.439520715371794, 0.39055015132569, 0.405624307405309, 0.408796393187452, 0.417746014406888, 0.446525266255164, 0.403388854019453, 0.439412090646284, 0.404941810820979, 0.409454322140849, 0.430349614280919, 0.459818347581698, 0.409539332803611, 0.400056509647306, 0.445915365058268, 0.418815244369285, 0.436251076967828, 0.447804995968538, 0.432329679088806, 0.431540435338826, 0.420999880624697, 0.42997618030853, 0.428598113417272, 0.402145659506028, 0.418336254705287, 0.453258660403439, 0.420144235419929, 0.386089714617601, 0.410958305053781, 0.462759514355569, 0.429946766341741, 0.421736256210549, 0.411401139540024, 0.443148041132976, 0.405609295912492, 0.415578642705747, 0.413478600095632, 0.420478879706014, 0.387214941301927, 0.407546533426929, 0.437893907095349, 0.41275491618622, 0.406611513601124, 0.388207287085146, 0.386333666326418, 0.408442261156087, 0.40493245485135, 0.433327673364477, 0.403731442976145, 0.413903216119354, 0.396761453715253, 0.437748893398502, 0.410780705590973, 0.419731689737779, 0.429272670301805, 0.370195756862058, 0.437436842842275, 0.41366941405432, 0.384263540662969, 0.377256090746591, 0.452627255690433, 0.428785270905375, 0.437228539918897, 0.408213043505797, 0.411713657900301, 0.382700748966699, 0.395470060753358, 0.430951217264647, 0.398858444910054, 0.452236388237612, 0.434293598685693, 0.372489457912805, 0.435853312808962, 0.441605276464373, 0.455125999506859, 0.429957244017841, 0.403076702869355, 0.398861895618351, 0.380501113658864, 0.416622432320856, 0.448829218097964, 0.405837890988998, 0.437030205449936, 0.455800597371826, 0.448528208602871, 0.408861085352972, 0.415609784619437, 0.399596742649077, 0.417887054503123, 0.416608033182462, 0.438820164847304, 0.376515660860108, 0.442498517083549, 0.406164485855895, 0.4107458847662, 0.424777218347992, 0.365724305624794, 0.405857588893101, 0.419274028812147, 0.463359069627446, 0.402609385394304, 0.384941144233511, 0.434468108667001, 0.435090100627597, 0.439226244747749, 0.408659570736143, 0.437782533591052, 0.443108558208307, 0.441848574924296, 0.382854025258389, 0.42508939324865, 0.40919731826561, 0.388560684641949, 0.437491715015996, 0.41256241402399, 0.408197478012308, 0.418033729797324, 0.393298112142074, 0.434050110346843, 0.381671633821575, 0.409492615676399, 0.397965611038881, 0.445204120984469, 0.379421296917606, 0.416596848260134, 0.411031607348731, 0.417643054433006, 0.439147883147588, 0.408621138543242, 0.402406377147836, 0.435802130279964, 0.416474119651398, 0.423954690535583, 0.431165256768222, 0.421816844571125, 0.443167721689999, 0.421793495830152, 0.428503289640341, 0.401069594843448, 0.448477854982226, 0.425422329490022, 0.401803993031398, 0.446111414292165, 0.426289599351673, 0.42395090631419, 0.39694038960111, 0.386901998951072, 0.435016291275273, 0.424818419990473, 0.446167973797181, 0.42322454601304, 0.41377067629723, 0.439338289388477, 0.438282263293733, 0.389852472069509, 0.39923347725037, 0.454261312172743, 0.406586463104161, 0.430017622502707, 0.399589127286802, 0.394429526905937, 0.397837409412047, 0.392082513486596, 0.448052403652407, 0.381759917966134, 0.443989428493901, 0.401985400143191, 0.393242067836737, 0.393267371562927, 0.437441692483078, 0.392454345074625, 0.415900787339361, 0.390403287456279, 0.410362056753512, 0.383871159070611, 0.396918296252692, 0.422644623403592, 0.401788790923546, 0.396625668963087, 0.396835154430632, 0.404319449256577, 0.40088154342129, 0.388922277377069, 0.423596468878117, 0.394431231249976, 0.420766741707283, 0.424480482963003, 0.424586784193003, 0.408089188097751, 0.416942965603485, 0.402998363167867, 0.454216516822702, 0.427262148103502, 0.385128351076791, 0.448791641590695, 0.454779875578525, 0.38458189529312, 0.407965469630166, 0.418059192483038, 0.399805212235177, 0.397463354302063, 0.426844745904256, 0.407980502050269, 0.418759159977952, 0.403102172934288, 0.389987453545724, 0.384799798312017, 0.417858457512199, 0.468275261060601, 0.401255641773958, 0.406538061193535, 0.399506669896512, 0.409634474834844, 0.424856307850857, 0.396911847501416, 0.397257641797535, 0.427773279257181, 0.384080325989157, 0.396667465530754, 0.41888534875102, 0.377588983259316, 0.412399324305651, 0.406464071048899, 0.37550468407475, 0.404317232383175, 0.396090169142577, 0.403947365170184, 0.450311058774894, 0.437775006914546, 0.370923764647298, 0.429972037436064, 0.429939455897872, 0.422040801551837, 0.393028585304993, 0.387365917344514, 0.415586083219416, 0.3935514114228, 0.39630131071452, 0.431907118094186, 0.412056272001383, 0.389068971941128, 0.401520065261773, 0.394591245565533, 0.418986723300995, 0.388965757348688, 0.445266474763966, 0.421091638475377, 0.419476281966984, 0.394991233368994, 0.401753667068783, 0.394858057190077, 0.387596302854876, 0.432222473515438, 0.405594980412773, 0.417238252542673, 0.397791318588532, 0.402960232150418, 0.404509432706535, 0.4163851560866, 0.44981777842972, 0.422601583027958, 0.451716620075261, 0.369890071300845, 0.388731590674128, 0.373656981712428, 0.373081096272868, 0.392417820046953, 0.404496031612761, 0.39438814650359, 0.464897914823398, 0.440717649902321, 0.429702816110428, 0.393000841719263, 0.455713286319969, 0.397899709049206, 0.43254930822704, 0.393571766849215, 0.431794871165796, 0.453424206059944, 0.398044241583709, 0.418345906347476, 0.430075632759953, 0.380205311919859, 0.400451061022994, 0.400208657926742, 0.413332028064007, 0.399323353103004, 0.435509437188144, 0.382147057382145, 0.389068839766958, 0.413293914118434, 0.447412851828022, 0.425143425158307, 0.404855060830604, 0.437699083183421, 0.435014810043157, 0.401152819411764, 0.398787520536682, 0.412749560795353, 0.402489780543475, 0.424930000027648, 0.391392014641342, 0.401292545275385, 0.43014532582718, 0.431367280124328, 0.428169313593056, 0.375576547157397, 0.414358537373644, 0.413036608199551, 0.426798953057985, 0.395545850077999, 0.421783347658948, 0.420673228480171, 0.441664756152764, 0.402563534351997, 0.405168727640931, 0.447718398911696, 0.404239756508703, 0.401359250311146, 0.446441437543136, 0.379061886220053, 0.462456747086605, 0.442149566195068, 0.452096745544568, 0.389139482375247, 0.443630864219704, 0.405297944936558, 0.407683892089157, 0.411114769362469, 0.429290777867495, 0.361450307151967, 0.424276422984609, 0.435836253685982, 0.410464894794843, 0.39921186572002, 0.376737613118347, 0.404887737677999, 0.406949925541427, 0.392893883431657, 0.394750394600639, 0.438345289529599, 0.405633178211597, 0.444135325485084, 0.419485983342402, 0.407836610652987, 0.390570803173673, 0.40455665409737, 0.388518005904311, 0.379971648083358, 0.416704416978284, 0.420090409444818, 0.395488977693261, 0.449275379468551, 0.387394263598257, 0.41314283448692, 0.40168674034362, 0.39984615379059, 0.456410466539099, 0.408242809535627, 0.43136725476155, 0.387519323635638, 0.422778130172669, 0.399986642053329, 0.454157971885823, 0.39310040053287, 0.445132528976655, 0.451403006525976, 0.427822428980509, 0.423157826098199, 0.395339072880818, 0.403126607827564, 0.404067058322949, 0.437657794222296, 0.405757241514112, 0.398758551995986, 0.410174647816908, 0.385344351395325, 0.446037646600376, 0.418713568392319, 0.372134880855603, 0.419958244422862, 0.369446351846849, 0.396681070976029, 0.402919697468058, 0.432387366548479, 0.409615856455002, 0.417264330028694, 0.424564873180103, 0.398451589947522, 0.430307015758875, 0.393874553456342, 0.432472567293564, 0.377462239602032, 0.438453691620243, 0.423529480725713, 0.45282058469341, 0.41611524203748, 0.411169758228421, 0.43925130727961, 0.432551781252732, 0.464643337492987, 0.381862700401252, 0.411114580480939, 0.423603509927177, 0.356958853890497, 0.379653820303133, 0.451373000555729, 0.426796533142189, 0.406573754409333, 0.411477355024848, 0.41572826416788, 0.424831750344682, 0.422740832034323, 0.433835688880143, 0.439299472884867, 0.442433848444993, 0.435318086231317, 0.421514875028379, 0.447441920980748, 0.442692983887065, 0.386193204613015, 0.413484644402473, 0.419505970057619, 0.45223094557418, 0.430505786747403, 0.398576036644541, 0.423597512081192, 0.36824388635935, 0.404822318181054, 0.428476782782826, 0.422081673182122, 0.392096537744776, 0.44153334273811, 0.402563273009946, 0.419132391885715, 0.417270966141034, 0.426256390482587, 0.363875156399562, 0.419402532323002, 0.423863301889937, 0.449594086795485, 0.360232266166247, 0.395549747949669, 0.393021140303108, 0.381617561785273, 0.421209757653015, 0.392259516081377, 0.421788972155854, 0.424472201641927, 0.402450649537557, 0.456619589679977, 0.391523750213421],      \"fFunctions\" : {        \"_typename\" : \"TList\",        \"name\" : \"TList\",        \"arr\" : [],        \"opt\" : []      },      \"fHistogram\" : null,      \"fMinimum\" : -1111,      \"fMaximum\" : -1111    }],    \"opt\" : [\"\", \"\"]  },  \"fFunctions\" : null,  \"fHistogram\" : null,  \"fMaximum\" : -1111,  \"fMinimum\" : -1111}');\n",
       "    });\n",
       "</script>\n"
      ],
      "text/plain": [
       "<IPython.core.display.HTML object>"
      ]
     },
     "metadata": {},
     "output_type": "display_data"
    },
    {
     "data": {
      "text/html": [
       "<script id=\"dataInserterScript\">\n",
       "require(['JsMVA'],function(jsmva){\n",
       "jsmva.updateTrainingTestingErrors('jstmva_4', '{  \"_typename\" : \"TMultiGraph\",  \"fUniqueID\" : 0,  \"fBits\" : 50331656,  \"fName\" : \"\",  \"fTitle\" : \"\",  \"fGraphs\" : {    \"_typename\" : \"TList\",    \"name\" : \"TList\",    \"arr\" : [{      \"_typename\" : \"TGraph\",      \"fUniqueID\" : 0,      \"fBits\" : 50332680,      \"fName\" : \"Boost weight\",      \"fTitle\" : \"Boost weight\",      \"fLineColor\" : 2,      \"fLineStyle\" : 1,      \"fLineWidth\" : 1,      \"fFillColor\" : 2,      \"fFillStyle\" : 1000,      \"fMarkerColor\" : 2,      \"fMarkerStyle\" : 1,      \"fMarkerSize\" : 1,      \"fNpoints\" : 614,      \"fX\" : [0, 1, 2, 3, 4, 5, 6, 7, 8, 9, 10, 11, 12, 13, 14, 15, 16, 17, 18, 19, 20, 21, 22, 23, 24, 25, 26, 27, 28, 29, 30, 31, 32, 33, 34, 35, 36, 37, 38, 39, 40, 41, 42, 43, 44, 45, 46, 47, 48, 49, 50, 51, 52, 53, 54, 55, 56, 57, 58, 59, 60, 61, 62, 63, 64, 65, 66, 67, 68, 69, 70, 71, 72, 73, 74, 75, 76, 77, 78, 79, 80, 81, 82, 83, 84, 85, 86, 87, 88, 89, 90, 91, 92, 93, 94, 95, 96, 97, 98, 99, 100, 101, 102, 103, 104, 105, 106, 107, 108, 109, 110, 111, 112, 113, 114, 115, 116, 117, 118, 119, 120, 121, 122, 123, 124, 125, 126, 127, 128, 129, 130, 131, 132, 133, 134, 135, 136, 137, 138, 139, 140, 141, 142, 143, 144, 145, 146, 147, 148, 149, 150, 151, 152, 153, 154, 155, 156, 157, 158, 159, 160, 161, 162, 163, 164, 165, 166, 167, 168, 169, 170, 171, 172, 173, 174, 175, 176, 177, 178, 179, 180, 181, 182, 183, 184, 185, 186, 187, 188, 189, 190, 191, 192, 193, 194, 195, 196, 197, 198, 199, 200, 201, 202, 203, 204, 205, 206, 207, 208, 209, 210, 211, 212, 213, 214, 215, 216, 217, 218, 219, 220, 221, 222, 223, 224, 225, 226, 227, 228, 229, 230, 231, 232, 233, 234, 235, 236, 237, 238, 239, 240, 241, 242, 243, 244, 245, 246, 247, 248, 249, 250, 251, 252, 253, 254, 255, 256, 257, 258, 259, 260, 261, 262, 263, 264, 265, 266, 267, 268, 269, 270, 271, 272, 273, 274, 275, 276, 277, 278, 279, 280, 281, 282, 283, 284, 285, 286, 287, 288, 289, 290, 291, 292, 293, 294, 295, 296, 297, 298, 299, 300, 301, 302, 303, 304, 305, 306, 307, 308, 309, 310, 311, 312, 313, 314, 315, 316, 317, 318, 319, 320, 321, 322, 323, 324, 325, 326, 327, 328, 329, 330, 331, 332, 333, 334, 335, 336, 337, 338, 339, 340, 341, 342, 343, 344, 345, 346, 347, 348, 349, 350, 351, 352, 353, 354, 355, 356, 357, 358, 359, 360, 361, 362, 363, 364, 365, 366, 367, 368, 369, 370, 371, 372, 373, 374, 375, 376, 377, 378, 379, 380, 381, 382, 383, 384, 385, 386, 387, 388, 389, 390, 391, 392, 393, 394, 395, 396, 397, 398, 399, 400, 401, 402, 403, 404, 405, 406, 407, 408, 409, 410, 411, 412, 413, 414, 415, 416, 417, 418, 419, 420, 421, 422, 423, 424, 425, 426, 427, 428, 429, 430, 431, 432, 433, 434, 435, 436, 437, 438, 439, 440, 441, 442, 443, 444, 445, 446, 447, 448, 449, 450, 451, 452, 453, 454, 455, 456, 457, 458, 459, 460, 461, 462, 463, 464, 465, 466, 467, 468, 469, 470, 471, 472, 473, 474, 475, 476, 477, 478, 479, 480, 481, 482, 483, 484, 485, 486, 487, 488, 489, 490, 491, 492, 493, 494, 495, 496, 497, 498, 499, 500, 501, 502, 503, 504, 505, 506, 507, 508, 509, 510, 511, 512, 513, 514, 515, 516, 517, 518, 519, 520, 521, 522, 523, 524, 525, 526, 527, 528, 529, 530, 531, 532, 533, 534, 535, 536, 537, 538, 539, 540, 541, 542, 543, 544, 545, 546, 547, 548, 549, 550, 551, 552, 553, 554, 555, 556, 557, 558, 559, 560, 561, 562, 563, 564, 565, 566, 567, 568, 569, 570, 571, 572, 573, 574, 575, 576, 577, 578, 579, 580, 581, 582, 583, 584, 585, 586, 587, 588, 589, 590, 591, 592, 593, 594, 595, 596, 597, 598, 599, 600, 601, 602, 603, 604, 605, 606, 607, 608, 609, 610, 611, 612, 613],      \"fY\" : [0.294195995898558, 0.295394616347312, 0.279470760943663, 0.182227132371968, 0.252925654768964, 0.265832195697833, 0.26236525363566, 0.213875707767306, 0.264616934791529, 0.183929539272129, 0.230978647033573, 0.191467334036677, 0.305453846926056, 0.180671811833297, 0.229093495116773, 0.222500382892311, 0.272500461089948, 0.222852712590669, 0.216947156905872, 0.118079651428699, 0.176546750241029, 0.174467359161739, 0.158067285502957, 0.189127633049102, 0.121365256749406, 0.256109212322515, 0.124354931638822, 0.153962029511545, 0.116104165020604, 0.118050891268567, 0.199637243819626, 0.107518140489466, 0.199559658770937, 0.204758113213812, 0.204927058757813, 0.194617225497812, 0.186713165642974, 0.114409314891674, 0.115851234541372, 0.147657682609329, 0.201163333271527, 0.173093168946214, 0.15297062099553, 0.140474477159508, 0.194273828323263, 0.185654024716319, 0.075912595021165, 0.199773794691109, 0.0990135122673612, 0.25384257804423, 0.167290939346298, 0.177215232227161, 0.14671452527768, 0.135364440567333, 0.178655537547301, 0.108566929531411, 0.116769305461583, 0.110550803595313, 0.210746107244727, 0.254880796199912, 0.147648050367508, 0.218927669173402, 0.0811637427987724, 0.250296889461563, 0.181656323379452, 0.175416484781278, 0.177233073578398, 0.109278220229599, 0.230143004530858, 0.161661101956298, 0.168440998219983, 0.127805377205589, 0.151407302800581, 0.19976850868337, 0.218039758958508, 0.226376029805551, 0.112881557224704, 0.208454191127959, 0.2092275535128, 0.164503005499209, 0.157799444842377, 0.11719852264399, 0.110330235089321, 0.19803009168187, 0.188545647801538, 0.153564623423519, 0.108820786447685, 0.113151428410155, 0.0931304589396635, 0.131749987135503, 0.276770657908056, 0.212417027962843, 0.10162384835622, 0.104038229314265, 0.193684695992573, 0.187714886488308, 0.192556293398356, 0.152886188994122, 0.199346265695253, 0.196795873333695, 0.159536543310447, 0.139499878556595, 0.188985117061792, 0.155179122021679, 0.192799699272065, 0.208493522430621, 0.136834110335621, 0.201534267752093, 0.165373465568644, 0.128666622772776, 0.148969862426858, 0.175633758773648, 0.074454693266489, 0.215941520466557, 0.219562802075021, 0.16141528581035, 0.153583121905665, 0.192371782038661, 0.183087800301378, 0.132227911575274, 0.191647064077735, 0.143233267138695, 0.185812153386338, 0.100565651947658, 0.224233828081469, 0.176269908661667, 0.0909051882869395, 0.181557785233767, 0.173367964539084, 0.15610852094938, 0.130011432258517, 0.131343828718809, 0.172967632654372, 0.196206918443945, 0.1584846441857, 0.149031607076367, 0.175623480238357, 0.124532730454366, 0.185910110784639, 0.130431970818053, 0.163781711507182, 0.247004400361523, 0.157077492414473, 0.106736710693629, 0.124436154670306, 0.140610876152279, 0.199541076640618, 0.0987784785609219, 0.104876539087675, 0.218381249747538, 0.202132445791255, 0.185220936761847, 0.1194122181515, 0.150713430342151, 0.179991070737479, 0.11391309431796, 0.21660179900205, 0.122306158007375, 0.184964526038953, 0.121553716563269, 0.222500136639323, 0.191042109283064, 0.18447162726246, 0.166016563543333, 0.107360058438083, 0.195682279682525, 0.121774197665249, 0.192457908952289, 0.183110817781694, 0.140212439728153, 0.0805369807142735, 0.182935037307825, 0.202614828393583, 0.108594138081406, 0.163819411886192, 0.128195519121546, 0.104771695633476, 0.136176193022789, 0.137784484690869, 0.159335066808692, 0.140974168182962, 0.143786555089604, 0.198266393220502, 0.164803488653597, 0.0937564314243514, 0.161090660432985, 0.231889519355308, 0.18000260436807, 0.0746191571470844, 0.141034173516054, 0.157824967681532, 0.179088076328539, 0.114197764373768, 0.191073241598802, 0.170475178022207, 0.174801697436423, 0.160403928151714, 0.229517146688971, 0.187058606937733, 0.124856974847621, 0.176294129213623, 0.188995543666759, 0.227427039360774, 0.231374966666446, 0.185204366089468, 0.192477322654055, 0.134143518138514, 0.1949706263989, 0.173926383569917, 0.209488744903326, 0.125151557885667, 0.180369460890546, 0.161937463647132, 0.142409626146525, 0.265688553796886, 0.125785535504005, 0.174408316142516, 0.23574521261981, 0.250605565526323, 0.0950305262708761, 0.143404468662029, 0.126208790165832, 0.185678747874775, 0.178442851549493, 0.239050283307646, 0.212188055757234, 0.138985632955691, 0.20511193005821, 0.0958194012675729, 0.132177208988447, 0.260775867244931, 0.129004276562435, 0.117324829370498, 0.0899901367851877, 0.141012798641623, 0.196330875541588, 0.2051047342086, 0.243710899633143, 0.16832711605946, 0.102701127665467, 0.190599198166796, 0.126611831541398, 0.088630150615327, 0.103309556778426, 0.184337793106783, 0.170411067206642, 0.203572814916796, 0.165726650928023, 0.168356738189222, 0.122975867024556, 0.25218200243062, 0.115514025025904, 0.189922076834154, 0.180441393801733, 0.151596286372694, 0.275301961427104, 0.190558354084937, 0.162877141223168, 0.0734134652302078, 0.197302185182172, 0.23431375658997, 0.131822072329471, 6.93186268048116e-310, 6.93186268052938e-310, 6.93186268054993e-310, 6.93186268054993e-310, 6.93186268054993e-310, 6.93186358451378e-310, 6.93186358451378e-310, 6.93186358452406e-310, 6.93186358453433e-310, 6.93186358453433e-310, 6.93186358453433e-310, 6.93186358456516e-310, 6.93186358456516e-310, 6.93186358456516e-310, 6.93186358458571e-310, 6.93186358461654e-310, 6.93186358461654e-310, 6.93186358466793e-310, 6.93186358466793e-310, 6.93186358466793e-310, 6.93186358472959e-310, 6.93186358477069e-310, 6.93186358480152e-310, 6.93186358480152e-310, 6.9318635848118e-310, 6.93186358486318e-310, 6.93186358486318e-310, 6.93186295415795e-310, 6.93186295418404e-310, 6.93186295421487e-310, 6.93186295423542e-310, 6.93186295430736e-310, 6.93186357839922e-310, 6.93186357844033e-310, 6.93186357847116e-310, 6.93186357847116e-310, 6.93186357850199e-310, 6.93186357852254e-310, 6.93186357855337e-310, 6.93186357855337e-310, 6.93186357855337e-310, 6.93186357855337e-310, 6.93186357857392e-310, 6.93186357860475e-310, 6.93186357861503e-310, 6.93186357862531e-310, 6.93186357862531e-310, 6.93186357862531e-310, 6.93186270056315e-310, 6.93186270058054e-310, 6.93186270058923e-310, 6.93186270059951e-310, 6.93186270062006e-310, 6.93186270062006e-310, 6.93186312006519e-310, 6.93186358339838e-310, 6.93186358342446e-310, 6.9318635986401e-310, 6.93186359868516e-310, 6.93186359869544e-310, 6.93186359869544e-310, 6.93186359872627e-310, 6.93186359882903e-310, 6.93186296701551e-310, 6.93186296701551e-310, 6.93186295991441e-310, 6.9318629599318e-310, 6.93186295995947e-310, 6.93186296005196e-310, 6.93186296007251e-310, 6.93186357963873e-310, 6.93186357964743e-310, 6.93186357965613e-310, 6.93186357967352e-310, 6.93186357967352e-310, 6.93186357970435e-310, 6.93186357970435e-310, 6.93186359586385e-310, 6.93186359586385e-310, 6.93186359587255e-310, 6.93186359587255e-310, 6.93186359588994e-310, 6.93186294286401e-310, 6.93186294286401e-310, 6.9318629428727e-310, 6.93186294291064e-310, 6.93186297289055e-310, 6.93186297289055e-310, 6.93186297289055e-310, 6.93186297289055e-310, 6.93186297289924e-310, 6.93186297295932e-310, 6.93186309575558e-310, 6.93186309578167e-310, 6.93186309579195e-310, 6.93186270815278e-310, 6.93186270815278e-310, 6.93186270815278e-310, 6.93186294069407e-310, 6.93186294072174e-310, 6.93186294075257e-310, 6.93186294075257e-310, 6.93186294077312e-310, 6.9318629407834e-310, 6.9318629407834e-310, 6.9318629407834e-310, 6.93186355742238e-310, 6.93186355745716e-310, 6.93186355746744e-310, 6.93186355747772e-310, 6.93186355747772e-310, 6.93186355749827e-310, 6.93186355749827e-310, 6.93186355750855e-310, 6.93186355751882e-310, 6.93186356481518e-310, 6.93186356484601e-310, 6.93186356485629e-310, 6.93186359562591e-310, 6.93186359562591e-310, 6.93186359562591e-310, 6.9318635956346e-310, 6.93186359566385e-310, 6.93186309053825e-310, 6.93186309054695e-310, 6.93186309056434e-310, 6.93186309056434e-310, 6.93186309057303e-310, 6.93186309057303e-310, 6.93186309058331e-310, 6.93186309062442e-310, 6.93186309065525e-310, 6.93186359758162e-310, 6.9318635976164e-310, 6.9318635976164e-310, 6.9318635976164e-310, 6.93186359766778e-310, 6.93186359770889e-310, 6.93186359772944e-310, 6.93186359772944e-310, 6.93186359774999e-310, 6.93186359776027e-310, 6.93186357920712e-310, 6.93186357926245e-310, 6.93186357927273e-310, 6.93186357927273e-310, 6.93186357930356e-310, 6.93186357930356e-310, 6.93186357931384e-310, 6.93186357932411e-310, 6.93186295302279e-310, 6.93186312249363e-310, 6.93186312252129e-310, 6.93186313293145e-310, 6.93186313293145e-310, 6.93186313293145e-310, 6.93186313295201e-310, 6.93186313295201e-310, 6.93186313298284e-310, 6.93186313299311e-310, 6.93186313299311e-310, 6.93186268078945e-310, 6.93186268079815e-310, 6.93186268079815e-310, 6.93186296096262e-310, 6.93186296107961e-310, 6.93186296111044e-310, 6.93186296114127e-310, 6.93186296115155e-310, 6.93186296115155e-310, 6.93186296115155e-310, 6.93186296120293e-310, 6.93186296125431e-310, 6.93186270022955e-310, 6.93186270026038e-310, 6.93186270027066e-310, 6.93186270031176e-310, 6.9318627003837e-310, 6.93186270040425e-310, 6.93186270041453e-310, 6.93186270315442e-310, 6.93186270316312e-310, 6.93186270320976e-310, 6.93186270322003e-310, 6.93186297874819e-310, 6.93186297883752e-310, 6.93186297883752e-310, 6.93186297884779e-310, 6.93186297885807e-310, 6.93186297886835e-310, 6.93186297889918e-310, 6.93186297889918e-310, 6.93186358030355e-310, 6.93186358030355e-310, 6.93186358031224e-310, 6.93186358032094e-310, 6.93186358032094e-310, 6.93186298399082e-310, 6.93186298399952e-310, 6.93186298400821e-310, 6.93186298400821e-310, 6.93186298401691e-310, 6.93186298402718e-310, 6.93186298402718e-310, 6.93186298405801e-310, 6.93186298405801e-310, 6.93186298405801e-310, 6.9318635949935e-310, 6.93186359504489e-310, 6.93186312563272e-310, 6.93186312565327e-310, 6.93186312569438e-310, 6.93186312572521e-310, 6.93186270728718e-310, 6.93186270728718e-310, 6.93186270728718e-310, 6.93186270729746e-310, 6.9318626996928e-310, 6.93186269972363e-310, 6.93186269972363e-310, 6.93186310179109e-310, 6.93186310185275e-310, 6.9318631018733e-310, 6.93186310190413e-310, 6.93186310191441e-310, 6.93186310196579e-310, 6.93186310198634e-310, 6.93186310198634e-310, 6.93186310199662e-310, 6.93186355760894e-310, 6.93186355761922e-310, 6.93186355763977e-310, 6.93186355765005e-310, 6.9318630908173e-310, 6.9318630908173e-310, 6.93186309084813e-310, 6.9318630908584e-310, 6.93186309086868e-310, 6.93186309088923e-310, 6.93186309089951e-310, 6.93186309090979e-310, 6.93186309093034e-310, 6.93186309095089e-310, 6.93186309097145e-310, 6.93186309097145e-310, 6.931863090992e-310, 6.93186309100228e-310, 6.93186309100228e-310, 6.93186356709421e-310, 6.93186356711476e-310, 6.93186297794108e-310, 6.93186295627809e-310, 6.93186295627809e-310, 6.93186297004868e-310, 6.93186267625195e-310, 6.93186267630334e-310, 6.93186313033939e-310, 6.93186313037022e-310, 6.93186313037022e-310, 6.93186313037022e-310, 6.93186313041132e-310, 6.9318631304216e-310, 6.93186313044215e-310, 6.93186313045243e-310, 6.93186313046271e-310, 6.93186313046271e-310, 6.93186268683682e-310, 6.9318635637235e-310, 6.93186356374405e-310, 6.93186356374405e-310, 6.93186356375433e-310, 6.93186356375433e-310, 6.9318635637646e-310, 6.93186293678344e-310, 6.93186293679372e-310, 6.93186293682455e-310, 6.93186293683482e-310, 6.93186293683482e-310, 6.9318629368451e-310, 6.93186293685538e-310, 6.93186293686565e-310, 6.93186293687593e-310, 6.93186293687593e-310, 6.93186297485812e-310, 6.93186297485812e-310, 6.93186297487867e-310, 6.93186313062713e-310, 6.93186313068879e-310, 6.93186310231519e-310, 6.93186310231519e-310, 6.93186310233575e-310, 6.93186310236658e-310, 6.93186310241796e-310, 6.93186310241796e-310, 6.93186297475535e-310, 6.93186295870335e-310, 6.93186295872391e-310, 6.93186295875474e-310, 6.93186295878557e-310, 6.93186295879584e-310, 6.93186295879584e-310, 6.9318629588164e-310, 6.9318629588164e-310, 6.93186295891916e-310, 6.93186295892944e-310, 6.93186295578481e-310, 6.93186295578481e-310, 6.93186295580536e-310, 6.93186311715455e-310, 6.93186311717511e-310, 6.93186311718538e-310, 6.93186311718538e-310, 6.93186311720594e-310, 6.93186311720594e-310, 6.93186311723677e-310, 6.9318631172676e-310, 6.93186311727787e-310, 6.93186311728815e-310, 6.93186293567357e-310, 6.93186293567357e-310, 6.93186293832493e-310, 6.93186293832493e-310, 6.93186293832493e-310, 6.9318629383352e-310, 6.93186293834548e-310, 6.93186293842769e-310, 6.93186270981522e-310, 6.93186270982549e-310, 6.93186270982549e-310, 6.93186270983577e-310, 6.93186270984605e-310, 6.93186359385281e-310, 6.93186359387336e-310, 6.93186359389391e-310, 6.93186294799517e-310, 6.93186294799517e-310, 6.93186294800545e-310, 6.93186294809794e-310, 6.93186294809794e-310, 6.93186294690586e-310, 6.93186294691613e-310, 6.93186294691613e-310, 6.93186294691613e-310, 6.93186294693669e-310, 6.93186294695724e-310, 6.93186294695724e-310, 6.93186294696752e-310, 6.93186297080915e-310, 6.93186297081943e-310, 6.93186297081943e-310, 6.9318629708297e-310, 6.9318629708297e-310],      \"fFunctions\" : {        \"_typename\" : \"TList\",        \"name\" : \"TList\",        \"arr\" : [],        \"opt\" : []      },      \"fHistogram\" : null,      \"fMinimum\" : -1111,      \"fMaximum\" : -1111    }, {      \"_typename\" : \"TGraph\",      \"fUniqueID\" : 0,      \"fBits\" : 50332680,      \"fName\" : \"Error Fraction\",      \"fTitle\" : \"Error Fraction\",      \"fLineColor\" : 4,      \"fLineStyle\" : 1,      \"fLineWidth\" : 1,      \"fFillColor\" : 4,      \"fFillStyle\" : 1000,      \"fMarkerColor\" : 4,      \"fMarkerStyle\" : 1,      \"fMarkerSize\" : 1,      \"fNpoints\" : 616,      \"fX\" : [0, 1, 2, 3, 4, 5, 6, 7, 8, 9, 10, 11, 12, 13, 14, 15, 16, 17, 18, 19, 20, 21, 22, 23, 24, 25, 26, 27, 28, 29, 30, 31, 32, 33, 34, 35, 36, 37, 38, 39, 40, 41, 42, 43, 44, 45, 46, 47, 48, 49, 50, 51, 52, 53, 54, 55, 56, 57, 58, 59, 60, 61, 62, 63, 64, 65, 66, 67, 68, 69, 70, 71, 72, 73, 74, 75, 76, 77, 78, 79, 80, 81, 82, 83, 84, 85, 86, 87, 88, 89, 90, 91, 92, 93, 94, 95, 96, 97, 98, 99, 100, 101, 102, 103, 104, 105, 106, 107, 108, 109, 110, 111, 112, 113, 114, 115, 116, 117, 118, 119, 120, 121, 122, 123, 124, 125, 126, 127, 128, 129, 130, 131, 132, 133, 134, 135, 136, 137, 138, 139, 140, 141, 142, 143, 144, 145, 146, 147, 148, 149, 150, 151, 152, 153, 154, 155, 156, 157, 158, 159, 160, 161, 162, 163, 164, 165, 166, 167, 168, 169, 170, 171, 172, 173, 174, 175, 176, 177, 178, 179, 180, 181, 182, 183, 184, 185, 186, 187, 188, 189, 190, 191, 192, 193, 194, 195, 196, 197, 198, 199, 200, 201, 202, 203, 204, 205, 206, 207, 208, 209, 210, 211, 212, 213, 214, 215, 216, 217, 218, 219, 220, 221, 222, 223, 224, 225, 226, 227, 228, 229, 230, 231, 232, 233, 234, 235, 236, 237, 238, 239, 240, 241, 242, 243, 244, 245, 246, 247, 248, 249, 250, 251, 252, 253, 254, 255, 256, 257, 258, 259, 260, 261, 262, 263, 264, 265, 266, 267, 268, 269, 270, 271, 272, 273, 274, 275, 276, 277, 278, 279, 280, 281, 282, 283, 284, 285, 286, 287, 288, 289, 290, 291, 292, 293, 294, 295, 296, 297, 298, 299, 300, 301, 302, 303, 304, 305, 306, 307, 308, 309, 310, 311, 312, 313, 314, 315, 316, 317, 318, 319, 320, 321, 322, 323, 324, 325, 326, 327, 328, 329, 330, 331, 332, 333, 334, 335, 336, 337, 338, 339, 340, 341, 342, 343, 344, 345, 346, 347, 348, 349, 350, 351, 352, 353, 354, 355, 356, 357, 358, 359, 360, 361, 362, 363, 364, 365, 366, 367, 368, 369, 370, 371, 372, 373, 374, 375, 376, 377, 378, 379, 380, 381, 382, 383, 384, 385, 386, 387, 388, 389, 390, 391, 392, 393, 394, 395, 396, 397, 398, 399, 400, 401, 402, 403, 404, 405, 406, 407, 408, 409, 410, 411, 412, 413, 414, 415, 416, 417, 418, 419, 420, 421, 422, 423, 424, 425, 426, 427, 428, 429, 430, 431, 432, 433, 434, 435, 436, 437, 438, 439, 440, 441, 442, 443, 444, 445, 446, 447, 448, 449, 450, 451, 452, 453, 454, 455, 456, 457, 458, 459, 460, 461, 462, 463, 464, 465, 466, 467, 468, 469, 470, 471, 472, 473, 474, 475, 476, 477, 478, 479, 480, 481, 482, 483, 484, 485, 486, 487, 488, 489, 490, 491, 492, 493, 494, 495, 496, 497, 498, 499, 500, 501, 502, 503, 504, 505, 506, 507, 508, 509, 510, 511, 512, 513, 514, 515, 516, 517, 518, 519, 520, 521, 522, 523, 524, 525, 526, 527, 528, 529, 530, 531, 532, 533, 534, 535, 536, 537, 538, 539, 540, 541, 542, 543, 544, 545, 546, 547, 548, 549, 550, 551, 552, 553, 554, 555, 556, 557, 558, 559, 560, 561, 562, 563, 564, 565, 566, 567, 568, 569, 570, 571, 572, 573, 574, 575, 576, 577, 578, 579, 580, 581, 582, 583, 584, 585, 586, 587, 588, 589, 590, 591, 592, 593, 594, 595, 596, 597, 598, 599, 600, 601, 602, 603, 604, 605, 606, 607, 608, 609, 610, 611, 612, 613, 614, 615],      \"fY\" : [0.357003891050584, 0.356453788174184, 0.363792406484867, 0.409881743309099, 0.376166577857343, 0.370128778895137, 0.371746749853158, 0.394663400407372, 0.370695593508064, 0.409058444786867, 0.386521602137974, 0.405419286255525, 0.351852168495649, 0.410634351496912, 0.387416008196803, 0.390550034099064, 0.367025009080845, 0.390382323514308, 0.393196789818533, 0.441233046121525, 0.412632456826414, 0.413640772928432, 0.421618070281698, 0.406547774494006, 0.439613568718838, 0.374673619169676, 0.438141071163335, 0.423621533219301, 0.442207369381563, 0.441247227599942, 0.401486664502228, 0.446447130637304, 0.40152395168973, 0.399028126649886, 0.398947101550529, 0.403901604616707, 0.407713359305529, 0.44304363591095, 0.442332148696837, 0.426703078513128, 0.400753461826763, 0.414307528678978, 0.424105743549063, 0.430221142637174, 0.404066971633448, 0.408224988561661, 0.462116445346552, 0.401421041251331, 0.450654394673617, 0.375736335561497, 0.417126200916713, 0.412308458890039, 0.427164586740827, 0.432728164536734, 0.411610634324701, 0.445928810194776, 0.441879267556456, 0.444948685205206, 0.396159731510851, 0.375249415501153, 0.426707791143435, 0.39225211767617, 0.459507006158561, 0.377401138696843, 0.410157904764668, 0.413180442717996, 0.41229981263455, 0.445577351131497, 0.38691797675481, 0.419866315354942, 0.416567075668368, 0.436442986446962, 0.424869574044215, 0.401423581520998, 0.392675537114023, 0.388706638805319, 0.443797733218583, 0.397256783277589, 0.396886488491984, 0.41848249563051, 0.421748705014175, 0.441667569348534, 0.445057635171627, 0.402259290130709, 0.406828632311563, 0.423815611362812, 0.445803369582682, 0.443664506551904, 0.453568929571149, 0.434503532469136, 0.365043187604729, 0.39536058362638, 0.449362274714421, 0.448167760447071, 0.404350726098382, 0.407229651438213, 0.404894397500324, 0.424146987432028, 0.401626513764118, 0.402852960652414, 0.420901660339123, 0.43069901596965, 0.406616545044024, 0.423027297970048, 0.404777103245408, 0.397237948154217, 0.432006774796427, 0.400575315028015, 0.418058894412885, 0.436019368136865, 0.426061211651913, 0.413075085162649, 0.462841291122142, 0.393676768540512, 0.391949339992461, 0.419986071172196, 0.423806576879845, 0.404983318461539, 0.409465453508868, 0.434268685358015, 0.405332639736004, 0.428869137201291, 0.408148590170462, 0.449886002040228, 0.389725156234148, 0.412766657792443, 0.45467219638514, 0.41020558396015, 0.414174172924197, 0.422573676539155, 0.435358087600546, 0.434703137619874, 0.414368454459292, 0.403136353914135, 0.421414532544497, 0.426031014712049, 0.413080069111191, 0.438053534385986, 0.408101265193816, 0.435151344078739, 0.418833597707407, 0.378949652394841, 0.422100879545926, 0.446833395644923, 0.438101081653784, 0.43015427269176, 0.401532882385963, 0.45077076961523, 0.447753146063018, 0.39251267061491, 0.400288086508193, 0.408434253662108, 0.440576070230311, 0.425208712339737, 0.410963888993531, 0.443288540514859, 0.393361601978293, 0.439150032933236, 0.40855816519772, 0.439520715371794, 0.39055015132569, 0.405624307405309, 0.408796393187452, 0.417746014406888, 0.446525266255164, 0.403388854019453, 0.439412090646284, 0.404941810820979, 0.409454322140849, 0.430349614280919, 0.459818347581698, 0.409539332803611, 0.400056509647306, 0.445915365058268, 0.418815244369285, 0.436251076967828, 0.447804995968538, 0.432329679088806, 0.431540435338826, 0.420999880624697, 0.42997618030853, 0.428598113417272, 0.402145659506028, 0.418336254705287, 0.453258660403439, 0.420144235419929, 0.386089714617601, 0.410958305053781, 0.462759514355569, 0.429946766341741, 0.421736256210549, 0.411401139540024, 0.443148041132976, 0.405609295912492, 0.415578642705747, 0.413478600095632, 0.420478879706014, 0.387214941301927, 0.407546533426929, 0.437893907095349, 0.41275491618622, 0.406611513601124, 0.388207287085146, 0.386333666326418, 0.408442261156087, 0.40493245485135, 0.433327673364477, 0.403731442976145, 0.413903216119354, 0.396761453715253, 0.437748893398502, 0.410780705590973, 0.419731689737779, 0.429272670301805, 0.370195756862058, 0.437436842842275, 0.41366941405432, 0.384263540662969, 0.377256090746591, 0.452627255690433, 0.428785270905375, 0.437228539918897, 0.408213043505797, 0.411713657900301, 0.382700748966699, 0.395470060753358, 0.430951217264647, 0.398858444910054, 0.452236388237612, 0.434293598685693, 0.372489457912805, 0.435853312808962, 0.441605276464373, 0.455125999506859, 0.429957244017841, 0.403076702869355, 0.398861895618351, 0.380501113658864, 0.416622432320856, 0.448829218097964, 0.405837890988998, 0.437030205449936, 0.455800597371826, 0.448528208602871, 0.408861085352972, 0.415609784619437, 0.399596742649077, 0.417887054503123, 0.416608033182462, 0.438820164847304, 0.376515660860108, 0.442498517083549, 0.406164485855895, 0.4107458847662, 0.424777218347992, 0.365724305624794, 0.405857588893101, 0.419274028812147, 0.463359069627446, 0.402609385394304, 0.384941144233511, 0.434468108667001, 0.435090100627597, 0.439226244747749, 0.408659570736143, 0.437782533591052, 0.443108558208307, 0.441848574924296, 0.382854025258389, 0.42508939324865, 0.40919731826561, 0.388560684641949, 0.437491715015996, 0.41256241402399, 0.408197478012308, 0.418033729797324, 0.393298112142074, 0.434050110346843, 0.381671633821575, 0.409492615676399, 0.397965611038881, 0.445204120984469, 0.379421296917606, 0.416596848260134, 0.411031607348731, 0.417643054433006, 0.439147883147588, 0.408621138543242, 0.402406377147836, 0.435802130279964, 0.416474119651398, 0.423954690535583, 0.431165256768222, 0.421816844571125, 0.443167721689999, 0.421793495830152, 0.428503289640341, 0.401069594843448, 0.448477854982226, 0.425422329490022, 0.401803993031398, 0.446111414292165, 0.426289599351673, 0.42395090631419, 0.39694038960111, 0.386901998951072, 0.435016291275273, 0.424818419990473, 0.446167973797181, 0.42322454601304, 0.41377067629723, 0.439338289388477, 0.438282263293733, 0.389852472069509, 0.39923347725037, 0.454261312172743, 0.406586463104161, 0.430017622502707, 0.399589127286802, 0.394429526905937, 0.397837409412047, 0.392082513486596, 0.448052403652407, 0.381759917966134, 0.443989428493901, 0.401985400143191, 0.393242067836737, 0.393267371562927, 0.437441692483078, 0.392454345074625, 0.415900787339361, 0.390403287456279, 0.410362056753512, 0.383871159070611, 0.396918296252692, 0.422644623403592, 0.401788790923546, 0.396625668963087, 0.396835154430632, 0.404319449256577, 0.40088154342129, 0.388922277377069, 0.423596468878117, 0.394431231249976, 0.420766741707283, 0.424480482963003, 0.424586784193003, 0.408089188097751, 0.416942965603485, 0.402998363167867, 0.454216516822702, 0.427262148103502, 0.385128351076791, 0.448791641590695, 0.454779875578525, 0.38458189529312, 0.407965469630166, 0.418059192483038, 0.399805212235177, 0.397463354302063, 0.426844745904256, 0.407980502050269, 0.418759159977952, 0.403102172934288, 0.389987453545724, 0.384799798312017, 0.417858457512199, 0.468275261060601, 0.401255641773958, 0.406538061193535, 0.399506669896512, 0.409634474834844, 0.424856307850857, 0.396911847501416, 0.397257641797535, 0.427773279257181, 0.384080325989157, 0.396667465530754, 0.41888534875102, 0.377588983259316, 0.412399324305651, 0.406464071048899, 0.37550468407475, 0.404317232383175, 0.396090169142577, 0.403947365170184, 0.450311058774894, 0.437775006914546, 0.370923764647298, 0.429972037436064, 0.429939455897872, 0.422040801551837, 0.393028585304993, 0.387365917344514, 0.415586083219416, 0.3935514114228, 0.39630131071452, 0.431907118094186, 0.412056272001383, 0.389068971941128, 0.401520065261773, 0.394591245565533, 0.418986723300995, 0.388965757348688, 0.445266474763966, 0.421091638475377, 0.419476281966984, 0.394991233368994, 0.401753667068783, 0.394858057190077, 0.387596302854876, 0.432222473515438, 0.405594980412773, 0.417238252542673, 0.397791318588532, 0.402960232150418, 0.404509432706535, 0.4163851560866, 0.44981777842972, 0.422601583027958, 0.451716620075261, 0.369890071300845, 0.388731590674128, 0.373656981712428, 0.373081096272868, 0.392417820046953, 0.404496031612761, 0.39438814650359, 0.464897914823398, 0.440717649902321, 0.429702816110428, 0.393000841719263, 0.455713286319969, 0.397899709049206, 0.43254930822704, 0.393571766849215, 0.431794871165796, 0.453424206059944, 0.398044241583709, 0.418345906347476, 0.430075632759953, 0.380205311919859, 0.400451061022994, 0.400208657926742, 0.413332028064007, 0.399323353103004, 0.435509437188144, 0.382147057382145, 0.389068839766958, 0.413293914118434, 0.447412851828022, 0.425143425158307, 0.404855060830604, 0.437699083183421, 0.435014810043157, 0.401152819411764, 0.398787520536682, 0.412749560795353, 0.402489780543475, 0.424930000027648, 0.391392014641342, 0.401292545275385, 0.43014532582718, 0.431367280124328, 0.428169313593056, 0.375576547157397, 0.414358537373644, 0.413036608199551, 0.426798953057985, 0.395545850077999, 0.421783347658948, 0.420673228480171, 0.441664756152764, 0.402563534351997, 0.405168727640931, 0.447718398911696, 0.404239756508703, 0.401359250311146, 0.446441437543136, 0.379061886220053, 0.462456747086605, 0.442149566195068, 0.452096745544568, 0.389139482375247, 0.443630864219704, 0.405297944936558, 0.407683892089157, 0.411114769362469, 0.429290777867495, 0.361450307151967, 0.424276422984609, 0.435836253685982, 0.410464894794843, 0.39921186572002, 0.376737613118347, 0.404887737677999, 0.406949925541427, 0.392893883431657, 0.394750394600639, 0.438345289529599, 0.405633178211597, 0.444135325485084, 0.419485983342402, 0.407836610652987, 0.390570803173673, 0.40455665409737, 0.388518005904311, 0.379971648083358, 0.416704416978284, 0.420090409444818, 0.395488977693261, 0.449275379468551, 0.387394263598257, 0.41314283448692, 0.40168674034362, 0.39984615379059, 0.456410466539099, 0.408242809535627, 0.43136725476155, 0.387519323635638, 0.422778130172669, 0.399986642053329, 0.454157971885823, 0.39310040053287, 0.445132528976655, 0.451403006525976, 0.427822428980509, 0.423157826098199, 0.395339072880818, 0.403126607827564, 0.404067058322949, 0.437657794222296, 0.405757241514112, 0.398758551995986, 0.410174647816908, 0.385344351395325, 0.446037646600376, 0.418713568392319, 0.372134880855603, 0.419958244422862, 0.369446351846849, 0.396681070976029, 0.402919697468058, 0.432387366548479, 0.409615856455002, 0.417264330028694, 0.424564873180103, 0.398451589947522, 0.430307015758875, 0.393874553456342, 0.432472567293564, 0.377462239602032, 0.438453691620243, 0.423529480725713, 0.45282058469341, 0.41611524203748, 0.411169758228421, 0.43925130727961, 0.432551781252732, 0.464643337492987, 0.381862700401252, 0.411114580480939, 0.423603509927177, 0.356958853890497, 0.379653820303133, 0.451373000555729, 0.426796533142189, 0.406573754409333, 0.411477355024848, 0.41572826416788, 0.424831750344682, 0.422740832034323, 0.433835688880143, 0.439299472884867, 0.442433848444993, 0.435318086231317, 0.421514875028379, 0.447441920980748, 0.442692983887065, 0.386193204613015, 0.413484644402473, 0.419505970057619, 0.45223094557418, 0.430505786747403, 0.398576036644541, 0.423597512081192, 0.36824388635935, 0.404822318181054, 0.428476782782826, 0.422081673182122, 0.392096537744776, 0.44153334273811, 0.402563273009946, 0.419132391885715, 0.417270966141034, 0.426256390482587, 0.363875156399562, 0.419402532323002, 0.423863301889937, 0.449594086795485, 0.360232266166247, 0.395549747949669, 0.393021140303108, 0.381617561785273, 0.421209757653015, 0.392259516081377, 0.421788972155854, 0.424472201641927, 0.402450649537557, 0.456619589679977, 0.391523750213421, 0.403836228791012, 0.403197446718892, 0.398114389215178, 0.412502237313966, 0.420266308890277],      \"fFunctions\" : {        \"_typename\" : \"TList\",        \"name\" : \"TList\",        \"arr\" : [],        \"opt\" : []      },      \"fHistogram\" : null,      \"fMinimum\" : -1111,      \"fMaximum\" : -1111    }],    \"opt\" : [\"\", \"\"]  },  \"fFunctions\" : null,  \"fHistogram\" : null,  \"fMaximum\" : -1111,  \"fMinimum\" : -1111}');\n",
       "var script = document.getElementById(\"dataInserterScript\");\n",
       "script.parentElement.parentElement.remove();\n",
       "});\n",
       "</script>"
      ],
      "text/plain": [
       "<IPython.core.display.HTML object>"
      ]
     },
     "metadata": {},
     "output_type": "display_data"
    },
    {
     "data": {
      "text/html": [
       "\n",
       "     <script type=\"text/javascript\" id=\"progressBarScriptInc\">\n",
       "     require([\"jquery\"], function(jQ){\n",
       "         jQ(\"#jsmva_bar_1\").css(\"width\", 72 + \"%\");\n",
       "         jQ(\"#jsmva_label_1\").text(72 + '%');\n",
       "         jQ(\"#progressBarScriptInc\").parent().parent().remove();\n",
       "     });\n",
       "     </script>\n",
       "     "
      ],
      "text/plain": [
       "<IPython.core.display.HTML object>"
      ]
     },
     "metadata": {},
     "output_type": "display_data"
    },
    {
     "data": {
      "text/html": [
       "\n",
       "     <script type=\"text/javascript\" id=\"progressBarScriptInc\">\n",
       "     require([\"jquery\"], function(jQ){\n",
       "         jQ(\"#jsmva_bar_1\").css(\"width\", 100 + \"%\");\n",
       "         jQ(\"#jsmva_label_1\").text(100 + '%');\n",
       "         jQ(\"#progressBarScriptInc\").parent().parent().remove();\n",
       "     });\n",
       "     </script>\n",
       "     "
      ],
      "text/plain": [
       "<IPython.core.display.HTML object>"
      ]
     },
     "metadata": {},
     "output_type": "display_data"
    },
    {
     "data": {
      "text/html": [
       "<h2><b>Train method: DNN</b></h2>"
      ],
      "text/plain": [
       "<IPython.core.display.HTML object>"
      ]
     },
     "metadata": {},
     "output_type": "display_data"
    },
    {
     "data": {
      "text/html": [
       "\n",
       "     <script type=\"text/javascript\">\n",
       "     require([\"jquery\"], function(jQ){\n",
       "         jQ(\"input.stopTrainingButton\").on(\"click\", function(){\n",
       "             IPython.notebook.kernel.interrupt();\n",
       "             jQ(this).css({\n",
       "                 \"background-color\": \"rgba(200, 0, 0, 0.8)\",\n",
       "                 \"color\": \"#fff\",\n",
       "                 \"box-shadow\": \"0 3px 5px rgba(0, 0, 0, 0.3)\",\n",
       "             });\n",
       "         });\n",
       "     });\n",
       "     </script>\n",
       "     <style type=\"text/css\">\n",
       "     input.stopTrainingButton {\n",
       "         background-color: #fff;\n",
       "         border: 1px solid #ccc;\n",
       "         width: 100%;\n",
       "         font-size: 16px;\n",
       "         font-weight: bold;\n",
       "         padding: 6px 12px;\n",
       "         cursor: pointer;\n",
       "         border-radius: 6px;\n",
       "         color: #333;\n",
       "     }\n",
       "     input.stopTrainingButton:hover {\n",
       "         background-color: rgba(204, 204, 204, 0.4);\n",
       "     }\n",
       "     </style>\n",
       "     <input type=\"button\" value=\"Stop\" class=\"stopTrainingButton\" />\n",
       "     "
      ],
      "text/plain": [
       "<IPython.core.display.HTML object>"
      ]
     },
     "metadata": {},
     "output_type": "display_data"
    },
    {
     "data": {
      "text/html": [
       "\n",
       "     <style>\n",
       "     #jsmva_progress_2 {\n",
       "         position: relative;\n",
       "         float: left;\n",
       "         height: 30px;\n",
       "         width: 100%;\n",
       "         background-color: #f5f5f5;\n",
       "         border-radius: 3px;\n",
       "         box-shadow: inset 0 3px 6px rgba(0, 0, 0, 0.1);\n",
       "     }\n",
       "     #jsmva_bar_2 {\n",
       "         position: absolute;\n",
       "         width: 1%;\n",
       "         height: 100%;\n",
       "         background-color: #337ab7;\n",
       "     }\n",
       "     #jsmva_label_2 {\n",
       "         text-align: center;\n",
       "         line-height: 30px;\n",
       "         color: white;\n",
       "     }\n",
       "     </style>\n",
       "     <div id=\"jsmva_progress_2\">\n",
       "       <div id=\"jsmva_bar_2\">\n",
       "         <div id=\"jsmva_label_2\">0%</div>\n",
       "       </div>\n",
       "     </div>\n",
       "     "
      ],
      "text/plain": [
       "<IPython.core.display.HTML object>"
      ]
     },
     "metadata": {},
     "output_type": "display_data"
    },
    {
     "data": {
      "text/html": [
       "\n",
       "     <script type=\"text/javascript\" id=\"progressBarScriptInc\">\n",
       "     require([\"jquery\"], function(jQ){\n",
       "         jQ(\"#jsmva_bar_2\").css(\"width\", 14 + \"%\");\n",
       "         jQ(\"#jsmva_label_2\").text(14 + '%');\n",
       "         jQ(\"#progressBarScriptInc\").parent().parent().remove();\n",
       "     });\n",
       "     </script>\n",
       "     "
      ],
      "text/plain": [
       "<IPython.core.display.HTML object>"
      ]
     },
     "metadata": {},
     "output_type": "display_data"
    },
    {
     "data": {
      "text/html": [
       "\n",
       "<div id=\"jstmva_5\" style=\"width: 800px; height:450px\"></div>\n",
       "<script>\n",
       "    require(['JsMVA'],function(jsmva){\n",
       "        jsmva.drawTrainingTestingErrors('jstmva_5','{  \"_typename\" : \"TMultiGraph\",  \"fUniqueID\" : 0,  \"fBits\" : 50331656,  \"fName\" : \"\",  \"fTitle\" : \"\",  \"fGraphs\" : {    \"_typename\" : \"TList\",    \"name\" : \"TList\",    \"arr\" : [{      \"_typename\" : \"TGraph\",      \"fUniqueID\" : 0,      \"fBits\" : 50332680,      \"fName\" : \"Error on training set\",      \"fTitle\" : \"Error on training set\",      \"fLineColor\" : 2,      \"fLineStyle\" : 1,      \"fLineWidth\" : 1,      \"fFillColor\" : 2,      \"fFillStyle\" : 1000,      \"fMarkerColor\" : 2,      \"fMarkerStyle\" : 1,      \"fMarkerSize\" : 1,      \"fNpoints\" : 8,      \"fX\" : [7, 7, 14, 14, 21, 21, 28, 28],      \"fY\" : [0.691367127001286, 0.691367127001286, 0.68757544644177, 0.68757544644177, 0.691233430057764, 0.691233430057764, 0.691455043852329, 0.691455043852329],      \"fFunctions\" : {        \"_typename\" : \"TList\",        \"name\" : \"TList\",        \"arr\" : [],        \"opt\" : []      },      \"fHistogram\" : null,      \"fMinimum\" : -1111,      \"fMaximum\" : -1111    }, {      \"_typename\" : \"TGraph\",      \"fUniqueID\" : 0,      \"fBits\" : 50332680,      \"fName\" : \"Error on test set\",      \"fTitle\" : \"Error on test set\",      \"fLineColor\" : 4,      \"fLineStyle\" : 1,      \"fLineWidth\" : 1,      \"fFillColor\" : 4,      \"fFillStyle\" : 1000,      \"fMarkerColor\" : 4,      \"fMarkerStyle\" : 1,      \"fMarkerSize\" : 1,      \"fNpoints\" : 8,      \"fX\" : [7, 7, 14, 14, 21, 21, 28, 28],      \"fY\" : [0.69950145483017, 0.69950145483017, 0.697533346712589, 0.697533346712589, 0.705983474850655, 0.705983474850655, 0.7094956189394, 0.7094956189394],      \"fFunctions\" : {        \"_typename\" : \"TList\",        \"name\" : \"TList\",        \"arr\" : [],        \"opt\" : []      },      \"fHistogram\" : null,      \"fMinimum\" : -1111,      \"fMaximum\" : -1111    }],    \"opt\" : [\"\", \"\"]  },  \"fFunctions\" : null,  \"fHistogram\" : null,  \"fMaximum\" : -1111,  \"fMinimum\" : -1111}');\n",
       "    });\n",
       "</script>\n"
      ],
      "text/plain": [
       "<IPython.core.display.HTML object>"
      ]
     },
     "metadata": {},
     "output_type": "display_data"
    },
    {
     "data": {
      "text/html": [
       "<script id=\"dataInserterScript\">\n",
       "require(['JsMVA'],function(jsmva){\n",
       "jsmva.updateTrainingTestingErrors('jstmva_5', '{  \"_typename\" : \"TMultiGraph\",  \"fUniqueID\" : 0,  \"fBits\" : 50331656,  \"fName\" : \"\",  \"fTitle\" : \"\",  \"fGraphs\" : {    \"_typename\" : \"TList\",    \"name\" : \"TList\",    \"arr\" : [{      \"_typename\" : \"TGraph\",      \"fUniqueID\" : 0,      \"fBits\" : 50332680,      \"fName\" : \"Error on training set\",      \"fTitle\" : \"Error on training set\",      \"fLineColor\" : 2,      \"fLineStyle\" : 1,      \"fLineWidth\" : 1,      \"fFillColor\" : 2,      \"fFillStyle\" : 1000,      \"fMarkerColor\" : 2,      \"fMarkerStyle\" : 1,      \"fMarkerSize\" : 1,      \"fNpoints\" : 8,      \"fX\" : [7, 7, 14, 14, 21, 21, 28, 28],      \"fY\" : [0.691367127001286, 0.691367127001286, 0.68757544644177, 0.68757544644177, 0.691233430057764, 0.691233430057764, 0.691455043852329, 0.691455043852329],      \"fFunctions\" : {        \"_typename\" : \"TList\",        \"name\" : \"TList\",        \"arr\" : [],        \"opt\" : []      },      \"fHistogram\" : null,      \"fMinimum\" : -1111,      \"fMaximum\" : -1111    }, {      \"_typename\" : \"TGraph\",      \"fUniqueID\" : 0,      \"fBits\" : 50332680,      \"fName\" : \"Error on test set\",      \"fTitle\" : \"Error on test set\",      \"fLineColor\" : 4,      \"fLineStyle\" : 1,      \"fLineWidth\" : 1,      \"fFillColor\" : 4,      \"fFillStyle\" : 1000,      \"fMarkerColor\" : 4,      \"fMarkerStyle\" : 1,      \"fMarkerSize\" : 1,      \"fNpoints\" : 8,      \"fX\" : [7, 7, 14, 14, 21, 21, 28, 28],      \"fY\" : [0.69950145483017, 0.69950145483017, 0.697533346712589, 0.697533346712589, 0.705983474850655, 0.705983474850655, 0.7094956189394, 0.7094956189394],      \"fFunctions\" : {        \"_typename\" : \"TList\",        \"name\" : \"TList\",        \"arr\" : [],        \"opt\" : []      },      \"fHistogram\" : null,      \"fMinimum\" : -1111,      \"fMaximum\" : -1111    }],    \"opt\" : [\"\", \"\"]  },  \"fFunctions\" : null,  \"fHistogram\" : null,  \"fMaximum\" : -1111,  \"fMinimum\" : -1111}');\n",
       "var script = document.getElementById(\"dataInserterScript\");\n",
       "script.parentElement.parentElement.remove();\n",
       "});\n",
       "</script>"
      ],
      "text/plain": [
       "<IPython.core.display.HTML object>"
      ]
     },
     "metadata": {},
     "output_type": "display_data"
    },
    {
     "data": {
      "text/html": [
       "\n",
       "     <script type=\"text/javascript\" id=\"progressBarScriptInc\">\n",
       "     require([\"jquery\"], function(jQ){\n",
       "         jQ(\"#jsmva_bar_2\").css(\"width\", 0 + \"%\");\n",
       "         jQ(\"#jsmva_label_2\").text(0 + '%');\n",
       "         jQ(\"#progressBarScriptInc\").parent().parent().remove();\n",
       "     });\n",
       "     </script>\n",
       "     "
      ],
      "text/plain": [
       "<IPython.core.display.HTML object>"
      ]
     },
     "metadata": {},
     "output_type": "display_data"
    },
    {
     "data": {
      "text/html": [
       "<script id=\"dataInserterScript\">\n",
       "require(['JsMVA'],function(jsmva){\n",
       "jsmva.updateTrainingTestingErrors('jstmva_5', '{  \"_typename\" : \"TMultiGraph\",  \"fUniqueID\" : 0,  \"fBits\" : 50331656,  \"fName\" : \"\",  \"fTitle\" : \"\",  \"fGraphs\" : {    \"_typename\" : \"TList\",    \"name\" : \"TList\",    \"arr\" : [{      \"_typename\" : \"TGraph\",      \"fUniqueID\" : 0,      \"fBits\" : 50332680,      \"fName\" : \"Error on training set\",      \"fTitle\" : \"Error on training set\",      \"fLineColor\" : 2,      \"fLineStyle\" : 1,      \"fLineWidth\" : 1,      \"fFillColor\" : 2,      \"fFillStyle\" : 1000,      \"fMarkerColor\" : 2,      \"fMarkerStyle\" : 1,      \"fMarkerSize\" : 1,      \"fNpoints\" : 14,      \"fX\" : [7, 7, 14, 14, 21, 21, 28, 28, 35, 35, 42, 42, 49, 49],      \"fY\" : [0.691367127001286, 0.691367127001286, 0.68757544644177, 0.68757544644177, 0.691233430057764, 0.691233430057764, 0.691455043852329, 0.691455043852329, 0.673537012189627, 0.673537012189627, 0.66773134469986, 0.66773134469986, 0.668419050052762, 0.668419050052762],      \"fFunctions\" : {        \"_typename\" : \"TList\",        \"name\" : \"TList\",        \"arr\" : [],        \"opt\" : []      },      \"fHistogram\" : null,      \"fMinimum\" : -1111,      \"fMaximum\" : -1111    }, {      \"_typename\" : \"TGraph\",      \"fUniqueID\" : 0,      \"fBits\" : 50332680,      \"fName\" : \"Error on test set\",      \"fTitle\" : \"Error on test set\",      \"fLineColor\" : 4,      \"fLineStyle\" : 1,      \"fLineWidth\" : 1,      \"fFillColor\" : 4,      \"fFillStyle\" : 1000,      \"fMarkerColor\" : 4,      \"fMarkerStyle\" : 1,      \"fMarkerSize\" : 1,      \"fNpoints\" : 14,      \"fX\" : [7, 7, 14, 14, 21, 21, 28, 28, 35, 35, 42, 42, 49, 49],      \"fY\" : [0.69950145483017, 0.69950145483017, 0.697533346712589, 0.697533346712589, 0.705983474850655, 0.705983474850655, 0.7094956189394, 0.7094956189394, 0.69187867641449, 0.69187867641449, 0.68785484880209, 0.68785484880209, 0.693413726985455, 0.693413726985455],      \"fFunctions\" : {        \"_typename\" : \"TList\",        \"name\" : \"TList\",        \"arr\" : [],        \"opt\" : []      },      \"fHistogram\" : null,      \"fMinimum\" : -1111,      \"fMaximum\" : -1111    }],    \"opt\" : [\"\", \"\"]  },  \"fFunctions\" : null,  \"fHistogram\" : null,  \"fMaximum\" : -1111,  \"fMinimum\" : -1111}');\n",
       "var script = document.getElementById(\"dataInserterScript\");\n",
       "script.parentElement.parentElement.remove();\n",
       "});\n",
       "</script>"
      ],
      "text/plain": [
       "<IPython.core.display.HTML object>"
      ]
     },
     "metadata": {},
     "output_type": "display_data"
    },
    {
     "data": {
      "text/html": [
       "\n",
       "     <script type=\"text/javascript\" id=\"progressBarScriptInc\">\n",
       "     require([\"jquery\"], function(jQ){\n",
       "         jQ(\"#jsmva_bar_2\").css(\"width\", 7 + \"%\");\n",
       "         jQ(\"#jsmva_label_2\").text(7 + '%');\n",
       "         jQ(\"#progressBarScriptInc\").parent().parent().remove();\n",
       "     });\n",
       "     </script>\n",
       "     "
      ],
      "text/plain": [
       "<IPython.core.display.HTML object>"
      ]
     },
     "metadata": {},
     "output_type": "display_data"
    },
    {
     "data": {
      "text/html": [
       "<script id=\"dataInserterScript\">\n",
       "require(['JsMVA'],function(jsmva){\n",
       "jsmva.updateTrainingTestingErrors('jstmva_5', '{  \"_typename\" : \"TMultiGraph\",  \"fUniqueID\" : 0,  \"fBits\" : 50331656,  \"fName\" : \"\",  \"fTitle\" : \"\",  \"fGraphs\" : {    \"_typename\" : \"TList\",    \"name\" : \"TList\",    \"arr\" : [{      \"_typename\" : \"TGraph\",      \"fUniqueID\" : 0,      \"fBits\" : 50332680,      \"fName\" : \"Error on training set\",      \"fTitle\" : \"Error on training set\",      \"fLineColor\" : 2,      \"fLineStyle\" : 1,      \"fLineWidth\" : 1,      \"fFillColor\" : 2,      \"fFillStyle\" : 1000,      \"fMarkerColor\" : 2,      \"fMarkerStyle\" : 1,      \"fMarkerSize\" : 1,      \"fNpoints\" : 20,      \"fX\" : [7, 7, 14, 14, 21, 21, 28, 28, 35, 35, 42, 42, 49, 49, 56, 56, 63, 63, 70, 70],      \"fY\" : [0.691367127001286, 0.691367127001286, 0.68757544644177, 0.68757544644177, 0.691233430057764, 0.691233430057764, 0.691455043852329, 0.691455043852329, 0.673537012189627, 0.673537012189627, 0.66773134469986, 0.66773134469986, 0.668419050052762, 0.668419050052762, 0.657169060781598, 0.657169060781598, 0.65177720785141, 0.65177720785141, 0.690621865913272, 0.690621865913272],      \"fFunctions\" : {        \"_typename\" : \"TList\",        \"name\" : \"TList\",        \"arr\" : [],        \"opt\" : []      },      \"fHistogram\" : null,      \"fMinimum\" : -1111,      \"fMaximum\" : -1111    }, {      \"_typename\" : \"TGraph\",      \"fUniqueID\" : 0,      \"fBits\" : 50332680,      \"fName\" : \"Error on test set\",      \"fTitle\" : \"Error on test set\",      \"fLineColor\" : 4,      \"fLineStyle\" : 1,      \"fLineWidth\" : 1,      \"fFillColor\" : 4,      \"fFillStyle\" : 1000,      \"fMarkerColor\" : 4,      \"fMarkerStyle\" : 1,      \"fMarkerSize\" : 1,      \"fNpoints\" : 20,      \"fX\" : [7, 7, 14, 14, 21, 21, 28, 28, 35, 35, 42, 42, 49, 49, 56, 56, 63, 63, 70, 70],      \"fY\" : [0.69950145483017, 0.69950145483017, 0.697533346712589, 0.697533346712589, 0.705983474850655, 0.705983474850655, 0.7094956189394, 0.7094956189394, 0.69187867641449, 0.69187867641449, 0.68785484880209, 0.68785484880209, 0.693413726985455, 0.693413726985455, 0.679884925484657, 0.679884925484657, 0.676676318049431, 0.676676318049431, 0.720704898238182, 0.720704898238182],      \"fFunctions\" : {        \"_typename\" : \"TList\",        \"name\" : \"TList\",        \"arr\" : [],        \"opt\" : []      },      \"fHistogram\" : null,      \"fMinimum\" : -1111,      \"fMaximum\" : -1111    }],    \"opt\" : [\"\", \"\"]  },  \"fFunctions\" : null,  \"fHistogram\" : null,  \"fMaximum\" : -1111,  \"fMinimum\" : -1111}');\n",
       "var script = document.getElementById(\"dataInserterScript\");\n",
       "script.parentElement.parentElement.remove();\n",
       "});\n",
       "</script>"
      ],
      "text/plain": [
       "<IPython.core.display.HTML object>"
      ]
     },
     "metadata": {},
     "output_type": "display_data"
    },
    {
     "data": {
      "text/html": [
       "\n",
       "     <script type=\"text/javascript\" id=\"progressBarScriptInc\">\n",
       "     require([\"jquery\"], function(jQ){\n",
       "         jQ(\"#jsmva_bar_2\").css(\"width\", 7 + \"%\");\n",
       "         jQ(\"#jsmva_label_2\").text(7 + '%');\n",
       "         jQ(\"#progressBarScriptInc\").parent().parent().remove();\n",
       "     });\n",
       "     </script>\n",
       "     "
      ],
      "text/plain": [
       "<IPython.core.display.HTML object>"
      ]
     },
     "metadata": {},
     "output_type": "display_data"
    },
    {
     "data": {
      "text/html": [
       "<script id=\"dataInserterScript\">\n",
       "require(['JsMVA'],function(jsmva){\n",
       "jsmva.updateTrainingTestingErrors('jstmva_5', '{  \"_typename\" : \"TMultiGraph\",  \"fUniqueID\" : 0,  \"fBits\" : 50331656,  \"fName\" : \"\",  \"fTitle\" : \"\",  \"fGraphs\" : {    \"_typename\" : \"TList\",    \"name\" : \"TList\",    \"arr\" : [{      \"_typename\" : \"TGraph\",      \"fUniqueID\" : 0,      \"fBits\" : 50332680,      \"fName\" : \"Error on training set\",      \"fTitle\" : \"Error on training set\",      \"fLineColor\" : 2,      \"fLineStyle\" : 1,      \"fLineWidth\" : 1,      \"fFillColor\" : 2,      \"fFillStyle\" : 1000,      \"fMarkerColor\" : 2,      \"fMarkerStyle\" : 1,      \"fMarkerSize\" : 1,      \"fNpoints\" : 26,      \"fX\" : [7, 7, 14, 14, 21, 21, 28, 28, 35, 35, 42, 42, 49, 49, 56, 56, 63, 63, 70, 70, 77, 77, 84, 84, 91, 91],      \"fY\" : [0.691367127001286, 0.691367127001286, 0.68757544644177, 0.68757544644177, 0.691233430057764, 0.691233430057764, 0.691455043852329, 0.691455043852329, 0.673537012189627, 0.673537012189627, 0.66773134469986, 0.66773134469986, 0.668419050052762, 0.668419050052762, 0.657169060781598, 0.657169060781598, 0.65177720785141, 0.65177720785141, 0.690621865913272, 0.690621865913272, 0.646501997485757, 0.646501997485757, 0.653797740116715, 0.653797740116715, 0.660892063751817, 0.660892063751817],      \"fFunctions\" : {        \"_typename\" : \"TList\",        \"name\" : \"TList\",        \"arr\" : [],        \"opt\" : []      },      \"fHistogram\" : null,      \"fMinimum\" : -1111,      \"fMaximum\" : -1111    }, {      \"_typename\" : \"TGraph\",      \"fUniqueID\" : 0,      \"fBits\" : 50332680,      \"fName\" : \"Error on test set\",      \"fTitle\" : \"Error on test set\",      \"fLineColor\" : 4,      \"fLineStyle\" : 1,      \"fLineWidth\" : 1,      \"fFillColor\" : 4,      \"fFillStyle\" : 1000,      \"fMarkerColor\" : 4,      \"fMarkerStyle\" : 1,      \"fMarkerSize\" : 1,      \"fNpoints\" : 26,      \"fX\" : [7, 7, 14, 14, 21, 21, 28, 28, 35, 35, 42, 42, 49, 49, 56, 56, 63, 63, 70, 70, 77, 77, 84, 84, 91, 91],      \"fY\" : [0.69950145483017, 0.69950145483017, 0.697533346712589, 0.697533346712589, 0.705983474850655, 0.705983474850655, 0.7094956189394, 0.7094956189394, 0.69187867641449, 0.69187867641449, 0.68785484880209, 0.68785484880209, 0.693413726985455, 0.693413726985455, 0.679884925484657, 0.679884925484657, 0.676676318049431, 0.676676318049431, 0.720704898238182, 0.720704898238182, 0.67446044832468, 0.67446044832468, 0.680401884019375, 0.680401884019375, 0.694070115685463, 0.694070115685463],      \"fFunctions\" : {        \"_typename\" : \"TList\",        \"name\" : \"TList\",        \"arr\" : [],        \"opt\" : []      },      \"fHistogram\" : null,      \"fMinimum\" : -1111,      \"fMaximum\" : -1111    }],    \"opt\" : [\"\", \"\"]  },  \"fFunctions\" : null,  \"fHistogram\" : null,  \"fMaximum\" : -1111,  \"fMinimum\" : -1111}');\n",
       "var script = document.getElementById(\"dataInserterScript\");\n",
       "script.parentElement.parentElement.remove();\n",
       "});\n",
       "</script>"
      ],
      "text/plain": [
       "<IPython.core.display.HTML object>"
      ]
     },
     "metadata": {},
     "output_type": "display_data"
    },
    {
     "data": {
      "text/html": [
       "\n",
       "     <script type=\"text/javascript\" id=\"progressBarScriptInc\">\n",
       "     require([\"jquery\"], function(jQ){\n",
       "         jQ(\"#jsmva_bar_2\").css(\"width\", 14 + \"%\");\n",
       "         jQ(\"#jsmva_label_2\").text(14 + '%');\n",
       "         jQ(\"#progressBarScriptInc\").parent().parent().remove();\n",
       "     });\n",
       "     </script>\n",
       "     "
      ],
      "text/plain": [
       "<IPython.core.display.HTML object>"
      ]
     },
     "metadata": {},
     "output_type": "display_data"
    },
    {
     "data": {
      "text/html": [
       "<script id=\"dataInserterScript\">\n",
       "require(['JsMVA'],function(jsmva){\n",
       "jsmva.updateTrainingTestingErrors('jstmva_5', '{  \"_typename\" : \"TMultiGraph\",  \"fUniqueID\" : 0,  \"fBits\" : 50331656,  \"fName\" : \"\",  \"fTitle\" : \"\",  \"fGraphs\" : {    \"_typename\" : \"TList\",    \"name\" : \"TList\",    \"arr\" : [{      \"_typename\" : \"TGraph\",      \"fUniqueID\" : 0,      \"fBits\" : 50332680,      \"fName\" : \"Error on training set\",      \"fTitle\" : \"Error on training set\",      \"fLineColor\" : 2,      \"fLineStyle\" : 1,      \"fLineWidth\" : 1,      \"fFillColor\" : 2,      \"fFillStyle\" : 1000,      \"fMarkerColor\" : 2,      \"fMarkerStyle\" : 1,      \"fMarkerSize\" : 1,      \"fNpoints\" : 30,      \"fX\" : [7, 7, 14, 14, 21, 21, 28, 28, 35, 35, 42, 42, 49, 49, 56, 56, 63, 63, 70, 70, 77, 77, 84, 84, 91, 91, 98, 98, 105, 105],      \"fY\" : [0.691367127001286, 0.691367127001286, 0.68757544644177, 0.68757544644177, 0.691233430057764, 0.691233430057764, 0.691455043852329, 0.691455043852329, 0.673537012189627, 0.673537012189627, 0.66773134469986, 0.66773134469986, 0.668419050052762, 0.668419050052762, 0.657169060781598, 0.657169060781598, 0.65177720785141, 0.65177720785141, 0.690621865913272, 0.690621865913272, 0.646501997485757, 0.646501997485757, 0.653797740116715, 0.653797740116715, 0.660892063751817, 0.660892063751817, 0.64072136208415, 0.64072136208415, 0.638995612040162, 0.638995612040162],      \"fFunctions\" : {        \"_typename\" : \"TList\",        \"name\" : \"TList\",        \"arr\" : [],        \"opt\" : []      },      \"fHistogram\" : null,      \"fMinimum\" : -1111,      \"fMaximum\" : -1111    }, {      \"_typename\" : \"TGraph\",      \"fUniqueID\" : 0,      \"fBits\" : 50332680,      \"fName\" : \"Error on test set\",      \"fTitle\" : \"Error on test set\",      \"fLineColor\" : 4,      \"fLineStyle\" : 1,      \"fLineWidth\" : 1,      \"fFillColor\" : 4,      \"fFillStyle\" : 1000,      \"fMarkerColor\" : 4,      \"fMarkerStyle\" : 1,      \"fMarkerSize\" : 1,      \"fNpoints\" : 30,      \"fX\" : [7, 7, 14, 14, 21, 21, 28, 28, 35, 35, 42, 42, 49, 49, 56, 56, 63, 63, 70, 70, 77, 77, 84, 84, 91, 91, 98, 98, 105, 105],      \"fY\" : [0.69950145483017, 0.69950145483017, 0.697533346712589, 0.697533346712589, 0.705983474850655, 0.705983474850655, 0.7094956189394, 0.7094956189394, 0.69187867641449, 0.69187867641449, 0.68785484880209, 0.68785484880209, 0.693413726985455, 0.693413726985455, 0.679884925484657, 0.679884925484657, 0.676676318049431, 0.676676318049431, 0.720704898238182, 0.720704898238182, 0.67446044832468, 0.67446044832468, 0.680401884019375, 0.680401884019375, 0.694070115685463, 0.694070115685463, 0.674440138041973, 0.674440138041973, 0.673869334161282, 0.673869334161282],      \"fFunctions\" : {        \"_typename\" : \"TList\",        \"name\" : \"TList\",        \"arr\" : [],        \"opt\" : []      },      \"fHistogram\" : null,      \"fMinimum\" : -1111,      \"fMaximum\" : -1111    }],    \"opt\" : [\"\", \"\"]  },  \"fFunctions\" : null,  \"fHistogram\" : null,  \"fMaximum\" : -1111,  \"fMinimum\" : -1111}');\n",
       "var script = document.getElementById(\"dataInserterScript\");\n",
       "script.parentElement.parentElement.remove();\n",
       "});\n",
       "</script>"
      ],
      "text/plain": [
       "<IPython.core.display.HTML object>"
      ]
     },
     "metadata": {},
     "output_type": "display_data"
    },
    {
     "data": {
      "text/html": [
       "\n",
       "     <script type=\"text/javascript\" id=\"progressBarScriptInc\">\n",
       "     require([\"jquery\"], function(jQ){\n",
       "         jQ(\"#jsmva_bar_2\").css(\"width\", 28 + \"%\");\n",
       "         jQ(\"#jsmva_label_2\").text(28 + '%');\n",
       "         jQ(\"#progressBarScriptInc\").parent().parent().remove();\n",
       "     });\n",
       "     </script>\n",
       "     "
      ],
      "text/plain": [
       "<IPython.core.display.HTML object>"
      ]
     },
     "metadata": {},
     "output_type": "display_data"
    },
    {
     "data": {
      "text/html": [
       "<script id=\"dataInserterScript\">\n",
       "require(['JsMVA'],function(jsmva){\n",
       "jsmva.updateTrainingTestingErrors('jstmva_5', '{  \"_typename\" : \"TMultiGraph\",  \"fUniqueID\" : 0,  \"fBits\" : 50331656,  \"fName\" : \"\",  \"fTitle\" : \"\",  \"fGraphs\" : {    \"_typename\" : \"TList\",    \"name\" : \"TList\",    \"arr\" : [{      \"_typename\" : \"TGraph\",      \"fUniqueID\" : 0,      \"fBits\" : 50332680,      \"fName\" : \"Error on training set\",      \"fTitle\" : \"Error on training set\",      \"fLineColor\" : 2,      \"fLineStyle\" : 1,      \"fLineWidth\" : 1,      \"fFillColor\" : 2,      \"fFillStyle\" : 1000,      \"fMarkerColor\" : 2,      \"fMarkerStyle\" : 1,      \"fMarkerSize\" : 1,      \"fNpoints\" : 36,      \"fX\" : [7, 7, 14, 14, 21, 21, 28, 28, 35, 35, 42, 42, 49, 49, 56, 56, 63, 63, 70, 70, 77, 77, 84, 84, 91, 91, 98, 98, 105, 105, 112, 112, 119, 119, 126, 126],      \"fY\" : [0.691367127001286, 0.691367127001286, 0.68757544644177, 0.68757544644177, 0.691233430057764, 0.691233430057764, 0.691455043852329, 0.691455043852329, 0.673537012189627, 0.673537012189627, 0.66773134469986, 0.66773134469986, 0.668419050052762, 0.668419050052762, 0.657169060781598, 0.657169060781598, 0.65177720785141, 0.65177720785141, 0.690621865913272, 0.690621865913272, 0.646501997485757, 0.646501997485757, 0.653797740116715, 0.653797740116715, 0.660892063751817, 0.660892063751817, 0.64072136208415, 0.64072136208415, 0.638995612040162, 0.638995612040162, 0.637884698808193, 0.637884698808193, 0.63699359446764, 0.63699359446764, 0.636148618534207, 0.636148618534207],      \"fFunctions\" : {        \"_typename\" : \"TList\",        \"name\" : \"TList\",        \"arr\" : [],        \"opt\" : []      },      \"fHistogram\" : null,      \"fMinimum\" : -1111,      \"fMaximum\" : -1111    }, {      \"_typename\" : \"TGraph\",      \"fUniqueID\" : 0,      \"fBits\" : 50332680,      \"fName\" : \"Error on test set\",      \"fTitle\" : \"Error on test set\",      \"fLineColor\" : 4,      \"fLineStyle\" : 1,      \"fLineWidth\" : 1,      \"fFillColor\" : 4,      \"fFillStyle\" : 1000,      \"fMarkerColor\" : 4,      \"fMarkerStyle\" : 1,      \"fMarkerSize\" : 1,      \"fNpoints\" : 36,      \"fX\" : [7, 7, 14, 14, 21, 21, 28, 28, 35, 35, 42, 42, 49, 49, 56, 56, 63, 63, 70, 70, 77, 77, 84, 84, 91, 91, 98, 98, 105, 105, 112, 112, 119, 119, 126, 126],      \"fY\" : [0.69950145483017, 0.69950145483017, 0.697533346712589, 0.697533346712589, 0.705983474850655, 0.705983474850655, 0.7094956189394, 0.7094956189394, 0.69187867641449, 0.69187867641449, 0.68785484880209, 0.68785484880209, 0.693413726985455, 0.693413726985455, 0.679884925484657, 0.679884925484657, 0.676676318049431, 0.676676318049431, 0.720704898238182, 0.720704898238182, 0.67446044832468, 0.67446044832468, 0.680401884019375, 0.680401884019375, 0.694070115685463, 0.694070115685463, 0.674440138041973, 0.674440138041973, 0.673869334161282, 0.673869334161282, 0.673528887331486, 0.673528887331486, 0.675819091498852, 0.675819091498852, 0.674026131629944, 0.674026131629944],      \"fFunctions\" : {        \"_typename\" : \"TList\",        \"name\" : \"TList\",        \"arr\" : [],        \"opt\" : []      },      \"fHistogram\" : null,      \"fMinimum\" : -1111,      \"fMaximum\" : -1111    }],    \"opt\" : [\"\", \"\"]  },  \"fFunctions\" : null,  \"fHistogram\" : null,  \"fMaximum\" : -1111,  \"fMinimum\" : -1111}');\n",
       "var script = document.getElementById(\"dataInserterScript\");\n",
       "script.parentElement.parentElement.remove();\n",
       "});\n",
       "</script>"
      ],
      "text/plain": [
       "<IPython.core.display.HTML object>"
      ]
     },
     "metadata": {},
     "output_type": "display_data"
    },
    {
     "data": {
      "text/html": [
       "\n",
       "     <script type=\"text/javascript\" id=\"progressBarScriptInc\">\n",
       "     require([\"jquery\"], function(jQ){\n",
       "         jQ(\"#jsmva_bar_2\").css(\"width\", 14 + \"%\");\n",
       "         jQ(\"#jsmva_label_2\").text(14 + '%');\n",
       "         jQ(\"#progressBarScriptInc\").parent().parent().remove();\n",
       "     });\n",
       "     </script>\n",
       "     "
      ],
      "text/plain": [
       "<IPython.core.display.HTML object>"
      ]
     },
     "metadata": {},
     "output_type": "display_data"
    },
    {
     "data": {
      "text/html": [
       "<script id=\"dataInserterScript\">\n",
       "require(['JsMVA'],function(jsmva){\n",
       "jsmva.updateTrainingTestingErrors('jstmva_5', '{  \"_typename\" : \"TMultiGraph\",  \"fUniqueID\" : 0,  \"fBits\" : 50331656,  \"fName\" : \"\",  \"fTitle\" : \"\",  \"fGraphs\" : {    \"_typename\" : \"TList\",    \"name\" : \"TList\",    \"arr\" : [{      \"_typename\" : \"TGraph\",      \"fUniqueID\" : 0,      \"fBits\" : 50332680,      \"fName\" : \"Error on training set\",      \"fTitle\" : \"Error on training set\",      \"fLineColor\" : 2,      \"fLineStyle\" : 1,      \"fLineWidth\" : 1,      \"fFillColor\" : 2,      \"fFillStyle\" : 1000,      \"fMarkerColor\" : 2,      \"fMarkerStyle\" : 1,      \"fMarkerSize\" : 1,      \"fNpoints\" : 40,      \"fX\" : [7, 7, 14, 14, 21, 21, 28, 28, 35, 35, 42, 42, 49, 49, 56, 56, 63, 63, 70, 70, 77, 77, 84, 84, 91, 91, 98, 98, 105, 105, 112, 112, 119, 119, 126, 126, 133, 133, 140, 140],      \"fY\" : [0.691367127001286, 0.691367127001286, 0.68757544644177, 0.68757544644177, 0.691233430057764, 0.691233430057764, 0.691455043852329, 0.691455043852329, 0.673537012189627, 0.673537012189627, 0.66773134469986, 0.66773134469986, 0.668419050052762, 0.668419050052762, 0.657169060781598, 0.657169060781598, 0.65177720785141, 0.65177720785141, 0.690621865913272, 0.690621865913272, 0.646501997485757, 0.646501997485757, 0.653797740116715, 0.653797740116715, 0.660892063751817, 0.660892063751817, 0.64072136208415, 0.64072136208415, 0.638995612040162, 0.638995612040162, 0.637884698808193, 0.637884698808193, 0.63699359446764, 0.63699359446764, 0.636148618534207, 0.636148618534207, 0.638369658961892, 0.638369658961892, 0.634178251028061, 0.634178251028061],      \"fFunctions\" : {        \"_typename\" : \"TList\",        \"name\" : \"TList\",        \"arr\" : [],        \"opt\" : []      },      \"fHistogram\" : null,      \"fMinimum\" : -1111,      \"fMaximum\" : -1111    }, {      \"_typename\" : \"TGraph\",      \"fUniqueID\" : 0,      \"fBits\" : 50332680,      \"fName\" : \"Error on test set\",      \"fTitle\" : \"Error on test set\",      \"fLineColor\" : 4,      \"fLineStyle\" : 1,      \"fLineWidth\" : 1,      \"fFillColor\" : 4,      \"fFillStyle\" : 1000,      \"fMarkerColor\" : 4,      \"fMarkerStyle\" : 1,      \"fMarkerSize\" : 1,      \"fNpoints\" : 40,      \"fX\" : [7, 7, 14, 14, 21, 21, 28, 28, 35, 35, 42, 42, 49, 49, 56, 56, 63, 63, 70, 70, 77, 77, 84, 84, 91, 91, 98, 98, 105, 105, 112, 112, 119, 119, 126, 126, 133, 133, 140, 140],      \"fY\" : [0.69950145483017, 0.69950145483017, 0.697533346712589, 0.697533346712589, 0.705983474850655, 0.705983474850655, 0.7094956189394, 0.7094956189394, 0.69187867641449, 0.69187867641449, 0.68785484880209, 0.68785484880209, 0.693413726985455, 0.693413726985455, 0.679884925484657, 0.679884925484657, 0.676676318049431, 0.676676318049431, 0.720704898238182, 0.720704898238182, 0.67446044832468, 0.67446044832468, 0.680401884019375, 0.680401884019375, 0.694070115685463, 0.694070115685463, 0.674440138041973, 0.674440138041973, 0.673869334161282, 0.673869334161282, 0.673528887331486, 0.673528887331486, 0.675819091498852, 0.675819091498852, 0.674026131629944, 0.674026131629944, 0.677195571362972, 0.677195571362972, 0.672364041209221, 0.672364041209221],      \"fFunctions\" : {        \"_typename\" : \"TList\",        \"name\" : \"TList\",        \"arr\" : [],        \"opt\" : []      },      \"fHistogram\" : null,      \"fMinimum\" : -1111,      \"fMaximum\" : -1111    }],    \"opt\" : [\"\", \"\"]  },  \"fFunctions\" : null,  \"fHistogram\" : null,  \"fMaximum\" : -1111,  \"fMinimum\" : -1111}');\n",
       "var script = document.getElementById(\"dataInserterScript\");\n",
       "script.parentElement.parentElement.remove();\n",
       "});\n",
       "</script>"
      ],
      "text/plain": [
       "<IPython.core.display.HTML object>"
      ]
     },
     "metadata": {},
     "output_type": "display_data"
    },
    {
     "data": {
      "text/html": [
       "\n",
       "     <script type=\"text/javascript\" id=\"progressBarScriptInc\">\n",
       "     require([\"jquery\"], function(jQ){\n",
       "         jQ(\"#jsmva_bar_2\").css(\"width\", 0 + \"%\");\n",
       "         jQ(\"#jsmva_label_2\").text(0 + '%');\n",
       "         jQ(\"#progressBarScriptInc\").parent().parent().remove();\n",
       "     });\n",
       "     </script>\n",
       "     "
      ],
      "text/plain": [
       "<IPython.core.display.HTML object>"
      ]
     },
     "metadata": {},
     "output_type": "display_data"
    },
    {
     "data": {
      "text/html": [
       "<script id=\"dataInserterScript\">\n",
       "require(['JsMVA'],function(jsmva){\n",
       "jsmva.updateTrainingTestingErrors('jstmva_5', '{  \"_typename\" : \"TMultiGraph\",  \"fUniqueID\" : 0,  \"fBits\" : 50331656,  \"fName\" : \"\",  \"fTitle\" : \"\",  \"fGraphs\" : {    \"_typename\" : \"TList\",    \"name\" : \"TList\",    \"arr\" : [{      \"_typename\" : \"TGraph\",      \"fUniqueID\" : 0,      \"fBits\" : 50332680,      \"fName\" : \"Error on training set\",      \"fTitle\" : \"Error on training set\",      \"fLineColor\" : 2,      \"fLineStyle\" : 1,      \"fLineWidth\" : 1,      \"fFillColor\" : 2,      \"fFillStyle\" : 1000,      \"fMarkerColor\" : 2,      \"fMarkerStyle\" : 1,      \"fMarkerSize\" : 1,      \"fNpoints\" : 46,      \"fX\" : [7, 7, 14, 14, 21, 21, 28, 28, 35, 35, 42, 42, 49, 49, 56, 56, 63, 63, 70, 70, 77, 77, 84, 84, 91, 91, 98, 98, 105, 105, 112, 112, 119, 119, 126, 126, 133, 133, 140, 140, 147, 147, 154, 154, 161, 161],      \"fY\" : [0.691367127001286, 0.691367127001286, 0.68757544644177, 0.68757544644177, 0.691233430057764, 0.691233430057764, 0.691455043852329, 0.691455043852329, 0.673537012189627, 0.673537012189627, 0.66773134469986, 0.66773134469986, 0.668419050052762, 0.668419050052762, 0.657169060781598, 0.657169060781598, 0.65177720785141, 0.65177720785141, 0.690621865913272, 0.690621865913272, 0.646501997485757, 0.646501997485757, 0.653797740116715, 0.653797740116715, 0.660892063751817, 0.660892063751817, 0.64072136208415, 0.64072136208415, 0.638995612040162, 0.638995612040162, 0.637884698808193, 0.637884698808193, 0.63699359446764, 0.63699359446764, 0.636148618534207, 0.636148618534207, 0.638369658961892, 0.638369658961892, 0.634178251028061, 0.634178251028061, 0.643412763252854, 0.643412763252854, 0.633781384676695, 0.633781384676695, 0.632525561377406, 0.632525561377406],      \"fFunctions\" : {        \"_typename\" : \"TList\",        \"name\" : \"TList\",        \"arr\" : [],        \"opt\" : []      },      \"fHistogram\" : null,      \"fMinimum\" : -1111,      \"fMaximum\" : -1111    }, {      \"_typename\" : \"TGraph\",      \"fUniqueID\" : 0,      \"fBits\" : 50332680,      \"fName\" : \"Error on test set\",      \"fTitle\" : \"Error on test set\",      \"fLineColor\" : 4,      \"fLineStyle\" : 1,      \"fLineWidth\" : 1,      \"fFillColor\" : 4,      \"fFillStyle\" : 1000,      \"fMarkerColor\" : 4,      \"fMarkerStyle\" : 1,      \"fMarkerSize\" : 1,      \"fNpoints\" : 46,      \"fX\" : [7, 7, 14, 14, 21, 21, 28, 28, 35, 35, 42, 42, 49, 49, 56, 56, 63, 63, 70, 70, 77, 77, 84, 84, 91, 91, 98, 98, 105, 105, 112, 112, 119, 119, 126, 126, 133, 133, 140, 140, 147, 147, 154, 154, 161, 161],      \"fY\" : [0.69950145483017, 0.69950145483017, 0.697533346712589, 0.697533346712589, 0.705983474850655, 0.705983474850655, 0.7094956189394, 0.7094956189394, 0.69187867641449, 0.69187867641449, 0.68785484880209, 0.68785484880209, 0.693413726985455, 0.693413726985455, 0.679884925484657, 0.679884925484657, 0.676676318049431, 0.676676318049431, 0.720704898238182, 0.720704898238182, 0.67446044832468, 0.67446044832468, 0.680401884019375, 0.680401884019375, 0.694070115685463, 0.694070115685463, 0.674440138041973, 0.674440138041973, 0.673869334161282, 0.673869334161282, 0.673528887331486, 0.673528887331486, 0.675819091498852, 0.675819091498852, 0.674026131629944, 0.674026131629944, 0.677195571362972, 0.677195571362972, 0.672364041209221, 0.672364041209221, 0.685560680925846, 0.685560680925846, 0.674806125462055, 0.674806125462055, 0.673901923000813, 0.673901923000813],      \"fFunctions\" : {        \"_typename\" : \"TList\",        \"name\" : \"TList\",        \"arr\" : [],        \"opt\" : []      },      \"fHistogram\" : null,      \"fMinimum\" : -1111,      \"fMaximum\" : -1111    }],    \"opt\" : [\"\", \"\"]  },  \"fFunctions\" : null,  \"fHistogram\" : null,  \"fMaximum\" : -1111,  \"fMinimum\" : -1111}');\n",
       "var script = document.getElementById(\"dataInserterScript\");\n",
       "script.parentElement.parentElement.remove();\n",
       "});\n",
       "</script>"
      ],
      "text/plain": [
       "<IPython.core.display.HTML object>"
      ]
     },
     "metadata": {},
     "output_type": "display_data"
    },
    {
     "data": {
      "text/html": [
       "\n",
       "     <script type=\"text/javascript\" id=\"progressBarScriptInc\">\n",
       "     require([\"jquery\"], function(jQ){\n",
       "         jQ(\"#jsmva_bar_2\").css(\"width\", 21 + \"%\");\n",
       "         jQ(\"#jsmva_label_2\").text(21 + '%');\n",
       "         jQ(\"#progressBarScriptInc\").parent().parent().remove();\n",
       "     });\n",
       "     </script>\n",
       "     "
      ],
      "text/plain": [
       "<IPython.core.display.HTML object>"
      ]
     },
     "metadata": {},
     "output_type": "display_data"
    },
    {
     "data": {
      "text/html": [
       "<script id=\"dataInserterScript\">\n",
       "require(['JsMVA'],function(jsmva){\n",
       "jsmva.updateTrainingTestingErrors('jstmva_5', '{  \"_typename\" : \"TMultiGraph\",  \"fUniqueID\" : 0,  \"fBits\" : 50331656,  \"fName\" : \"\",  \"fTitle\" : \"\",  \"fGraphs\" : {    \"_typename\" : \"TList\",    \"name\" : \"TList\",    \"arr\" : [{      \"_typename\" : \"TGraph\",      \"fUniqueID\" : 0,      \"fBits\" : 50332680,      \"fName\" : \"Error on training set\",      \"fTitle\" : \"Error on training set\",      \"fLineColor\" : 2,      \"fLineStyle\" : 1,      \"fLineWidth\" : 1,      \"fFillColor\" : 2,      \"fFillStyle\" : 1000,      \"fMarkerColor\" : 2,      \"fMarkerStyle\" : 1,      \"fMarkerSize\" : 1,      \"fNpoints\" : 52,      \"fX\" : [7, 7, 14, 14, 21, 21, 28, 28, 35, 35, 42, 42, 49, 49, 56, 56, 63, 63, 70, 70, 77, 77, 84, 84, 91, 91, 98, 98, 105, 105, 112, 112, 119, 119, 126, 126, 133, 133, 140, 140, 147, 147, 154, 154, 161, 161, 168, 168, 175, 175, 182, 182],      \"fY\" : [0.691367127001286, 0.691367127001286, 0.68757544644177, 0.68757544644177, 0.691233430057764, 0.691233430057764, 0.691455043852329, 0.691455043852329, 0.673537012189627, 0.673537012189627, 0.66773134469986, 0.66773134469986, 0.668419050052762, 0.668419050052762, 0.657169060781598, 0.657169060781598, 0.65177720785141, 0.65177720785141, 0.690621865913272, 0.690621865913272, 0.646501997485757, 0.646501997485757, 0.653797740116715, 0.653797740116715, 0.660892063751817, 0.660892063751817, 0.64072136208415, 0.64072136208415, 0.638995612040162, 0.638995612040162, 0.637884698808193, 0.637884698808193, 0.63699359446764, 0.63699359446764, 0.636148618534207, 0.636148618534207, 0.638369658961892, 0.638369658961892, 0.634178251028061, 0.634178251028061, 0.643412763252854, 0.643412763252854, 0.633781384676695, 0.633781384676695, 0.632525561377406, 0.632525561377406, 0.632309082895517, 0.632309082895517, 0.632173266261816, 0.632173266261816, 0.647736189886928, 0.647736189886928],      \"fFunctions\" : {        \"_typename\" : \"TList\",        \"name\" : \"TList\",        \"arr\" : [],        \"opt\" : []      },      \"fHistogram\" : null,      \"fMinimum\" : -1111,      \"fMaximum\" : -1111    }, {      \"_typename\" : \"TGraph\",      \"fUniqueID\" : 0,      \"fBits\" : 50332680,      \"fName\" : \"Error on test set\",      \"fTitle\" : \"Error on test set\",      \"fLineColor\" : 4,      \"fLineStyle\" : 1,      \"fLineWidth\" : 1,      \"fFillColor\" : 4,      \"fFillStyle\" : 1000,      \"fMarkerColor\" : 4,      \"fMarkerStyle\" : 1,      \"fMarkerSize\" : 1,      \"fNpoints\" : 52,      \"fX\" : [7, 7, 14, 14, 21, 21, 28, 28, 35, 35, 42, 42, 49, 49, 56, 56, 63, 63, 70, 70, 77, 77, 84, 84, 91, 91, 98, 98, 105, 105, 112, 112, 119, 119, 126, 126, 133, 133, 140, 140, 147, 147, 154, 154, 161, 161, 168, 168, 175, 175, 182, 182],      \"fY\" : [0.69950145483017, 0.69950145483017, 0.697533346712589, 0.697533346712589, 0.705983474850655, 0.705983474850655, 0.7094956189394, 0.7094956189394, 0.69187867641449, 0.69187867641449, 0.68785484880209, 0.68785484880209, 0.693413726985455, 0.693413726985455, 0.679884925484657, 0.679884925484657, 0.676676318049431, 0.676676318049431, 0.720704898238182, 0.720704898238182, 0.67446044832468, 0.67446044832468, 0.680401884019375, 0.680401884019375, 0.694070115685463, 0.694070115685463, 0.674440138041973, 0.674440138041973, 0.673869334161282, 0.673869334161282, 0.673528887331486, 0.673528887331486, 0.675819091498852, 0.675819091498852, 0.674026131629944, 0.674026131629944, 0.677195571362972, 0.677195571362972, 0.672364041209221, 0.672364041209221, 0.685560680925846, 0.685560680925846, 0.674806125462055, 0.674806125462055, 0.673901923000813, 0.673901923000813, 0.67365637421608, 0.67365637421608, 0.673860803246498, 0.673860803246498, 0.693854995071888, 0.693854995071888],      \"fFunctions\" : {        \"_typename\" : \"TList\",        \"name\" : \"TList\",        \"arr\" : [],        \"opt\" : []      },      \"fHistogram\" : null,      \"fMinimum\" : -1111,      \"fMaximum\" : -1111    }],    \"opt\" : [\"\", \"\"]  },  \"fFunctions\" : null,  \"fHistogram\" : null,  \"fMaximum\" : -1111,  \"fMinimum\" : -1111}');\n",
       "var script = document.getElementById(\"dataInserterScript\");\n",
       "script.parentElement.parentElement.remove();\n",
       "});\n",
       "</script>"
      ],
      "text/plain": [
       "<IPython.core.display.HTML object>"
      ]
     },
     "metadata": {},
     "output_type": "display_data"
    },
    {
     "data": {
      "text/html": [
       "\n",
       "     <script type=\"text/javascript\" id=\"progressBarScriptInc\">\n",
       "     require([\"jquery\"], function(jQ){\n",
       "         jQ(\"#jsmva_bar_2\").css(\"width\", 42 + \"%\");\n",
       "         jQ(\"#jsmva_label_2\").text(42 + '%');\n",
       "         jQ(\"#progressBarScriptInc\").parent().parent().remove();\n",
       "     });\n",
       "     </script>\n",
       "     "
      ],
      "text/plain": [
       "<IPython.core.display.HTML object>"
      ]
     },
     "metadata": {},
     "output_type": "display_data"
    },
    {
     "data": {
      "text/html": [
       "<script id=\"dataInserterScript\">\n",
       "require(['JsMVA'],function(jsmva){\n",
       "jsmva.updateTrainingTestingErrors('jstmva_5', '{  \"_typename\" : \"TMultiGraph\",  \"fUniqueID\" : 0,  \"fBits\" : 50331656,  \"fName\" : \"\",  \"fTitle\" : \"\",  \"fGraphs\" : {    \"_typename\" : \"TList\",    \"name\" : \"TList\",    \"arr\" : [{      \"_typename\" : \"TGraph\",      \"fUniqueID\" : 0,      \"fBits\" : 50332680,      \"fName\" : \"Error on training set\",      \"fTitle\" : \"Error on training set\",      \"fLineColor\" : 2,      \"fLineStyle\" : 1,      \"fLineWidth\" : 1,      \"fFillColor\" : 2,      \"fFillStyle\" : 1000,      \"fMarkerColor\" : 2,      \"fMarkerStyle\" : 1,      \"fMarkerSize\" : 1,      \"fNpoints\" : 60,      \"fX\" : [7, 7, 14, 14, 21, 21, 28, 28, 35, 35, 42, 42, 49, 49, 56, 56, 63, 63, 70, 70, 77, 77, 84, 84, 91, 91, 98, 98, 105, 105, 112, 112, 119, 119, 126, 126, 133, 133, 140, 140, 147, 147, 154, 154, 161, 161, 168, 168, 175, 175, 182, 182, 189, 189, 196, 196, 203, 203, 210, 210],      \"fY\" : [0.691367127001286, 0.691367127001286, 0.68757544644177, 0.68757544644177, 0.691233430057764, 0.691233430057764, 0.691455043852329, 0.691455043852329, 0.673537012189627, 0.673537012189627, 0.66773134469986, 0.66773134469986, 0.668419050052762, 0.668419050052762, 0.657169060781598, 0.657169060781598, 0.65177720785141, 0.65177720785141, 0.690621865913272, 0.690621865913272, 0.646501997485757, 0.646501997485757, 0.653797740116715, 0.653797740116715, 0.660892063751817, 0.660892063751817, 0.64072136208415, 0.64072136208415, 0.638995612040162, 0.638995612040162, 0.637884698808193, 0.637884698808193, 0.63699359446764, 0.63699359446764, 0.636148618534207, 0.636148618534207, 0.638369658961892, 0.638369658961892, 0.634178251028061, 0.634178251028061, 0.643412763252854, 0.643412763252854, 0.633781384676695, 0.633781384676695, 0.632525561377406, 0.632525561377406, 0.632309082895517, 0.632309082895517, 0.632173266261816, 0.632173266261816, 0.647736189886928, 0.647736189886928, 0.691238556057215, 0.691238556057215, 0.695376875810325, 0.695376875810325, 0.665254828520119, 0.665254828520119, 0.645800108090043, 0.645800108090043],      \"fFunctions\" : {        \"_typename\" : \"TList\",        \"name\" : \"TList\",        \"arr\" : [],        \"opt\" : []      },      \"fHistogram\" : null,      \"fMinimum\" : -1111,      \"fMaximum\" : -1111    }, {      \"_typename\" : \"TGraph\",      \"fUniqueID\" : 0,      \"fBits\" : 50332680,      \"fName\" : \"Error on test set\",      \"fTitle\" : \"Error on test set\",      \"fLineColor\" : 4,      \"fLineStyle\" : 1,      \"fLineWidth\" : 1,      \"fFillColor\" : 4,      \"fFillStyle\" : 1000,      \"fMarkerColor\" : 4,      \"fMarkerStyle\" : 1,      \"fMarkerSize\" : 1,      \"fNpoints\" : 60,      \"fX\" : [7, 7, 14, 14, 21, 21, 28, 28, 35, 35, 42, 42, 49, 49, 56, 56, 63, 63, 70, 70, 77, 77, 84, 84, 91, 91, 98, 98, 105, 105, 112, 112, 119, 119, 126, 126, 133, 133, 140, 140, 147, 147, 154, 154, 161, 161, 168, 168, 175, 175, 182, 182, 189, 189, 196, 196, 203, 203, 210, 210],      \"fY\" : [0.69950145483017, 0.69950145483017, 0.697533346712589, 0.697533346712589, 0.705983474850655, 0.705983474850655, 0.7094956189394, 0.7094956189394, 0.69187867641449, 0.69187867641449, 0.68785484880209, 0.68785484880209, 0.693413726985455, 0.693413726985455, 0.679884925484657, 0.679884925484657, 0.676676318049431, 0.676676318049431, 0.720704898238182, 0.720704898238182, 0.67446044832468, 0.67446044832468, 0.680401884019375, 0.680401884019375, 0.694070115685463, 0.694070115685463, 0.674440138041973, 0.674440138041973, 0.673869334161282, 0.673869334161282, 0.673528887331486, 0.673528887331486, 0.675819091498852, 0.675819091498852, 0.674026131629944, 0.674026131629944, 0.677195571362972, 0.677195571362972, 0.672364041209221, 0.672364041209221, 0.685560680925846, 0.685560680925846, 0.674806125462055, 0.674806125462055, 0.673901923000813, 0.673901923000813, 0.67365637421608, 0.67365637421608, 0.673860803246498, 0.673860803246498, 0.693854995071888, 0.693854995071888, 0.737445719540119, 0.737445719540119, 0.743517629802227, 0.743517629802227, 0.710688672959805, 0.710688672959805, 0.690357267856598, 0.690357267856598],      \"fFunctions\" : {        \"_typename\" : \"TList\",        \"name\" : \"TList\",        \"arr\" : [],        \"opt\" : []      },      \"fHistogram\" : null,      \"fMinimum\" : -1111,      \"fMaximum\" : -1111    }],    \"opt\" : [\"\", \"\"]  },  \"fFunctions\" : null,  \"fHistogram\" : null,  \"fMaximum\" : -1111,  \"fMinimum\" : -1111}');\n",
       "var script = document.getElementById(\"dataInserterScript\");\n",
       "script.parentElement.parentElement.remove();\n",
       "});\n",
       "</script>"
      ],
      "text/plain": [
       "<IPython.core.display.HTML object>"
      ]
     },
     "metadata": {},
     "output_type": "display_data"
    },
    {
     "data": {
      "text/html": [
       "\n",
       "     <script type=\"text/javascript\" id=\"progressBarScriptInc\">\n",
       "     require([\"jquery\"], function(jQ){\n",
       "         jQ(\"#jsmva_bar_2\").css(\"width\", 70 + \"%\");\n",
       "         jQ(\"#jsmva_label_2\").text(70 + '%');\n",
       "         jQ(\"#progressBarScriptInc\").parent().parent().remove();\n",
       "     });\n",
       "     </script>\n",
       "     "
      ],
      "text/plain": [
       "<IPython.core.display.HTML object>"
      ]
     },
     "metadata": {},
     "output_type": "display_data"
    },
    {
     "data": {
      "text/html": [
       "<script id=\"dataInserterScript\">\n",
       "require(['JsMVA'],function(jsmva){\n",
       "jsmva.updateTrainingTestingErrors('jstmva_5', '{  \"_typename\" : \"TMultiGraph\",  \"fUniqueID\" : 0,  \"fBits\" : 50331656,  \"fName\" : \"\",  \"fTitle\" : \"\",  \"fGraphs\" : {    \"_typename\" : \"TList\",    \"name\" : \"TList\",    \"arr\" : [{      \"_typename\" : \"TGraph\",      \"fUniqueID\" : 0,      \"fBits\" : 50332680,      \"fName\" : \"Error on training set\",      \"fTitle\" : \"Error on training set\",      \"fLineColor\" : 2,      \"fLineStyle\" : 1,      \"fLineWidth\" : 1,      \"fFillColor\" : 2,      \"fFillStyle\" : 1000,      \"fMarkerColor\" : 2,      \"fMarkerStyle\" : 1,      \"fMarkerSize\" : 1,      \"fNpoints\" : 66,      \"fX\" : [7, 7, 14, 14, 21, 21, 28, 28, 35, 35, 42, 42, 49, 49, 56, 56, 63, 63, 70, 70, 77, 77, 84, 84, 91, 91, 98, 98, 105, 105, 112, 112, 119, 119, 126, 126, 133, 133, 140, 140, 147, 147, 154, 154, 161, 161, 168, 168, 175, 175, 182, 182, 189, 189, 196, 196, 203, 203, 210, 210, 217, 217, 224, 224, 231, 231],      \"fY\" : [0.691367127001286, 0.691367127001286, 0.68757544644177, 0.68757544644177, 0.691233430057764, 0.691233430057764, 0.691455043852329, 0.691455043852329, 0.673537012189627, 0.673537012189627, 0.66773134469986, 0.66773134469986, 0.668419050052762, 0.668419050052762, 0.657169060781598, 0.657169060781598, 0.65177720785141, 0.65177720785141, 0.690621865913272, 0.690621865913272, 0.646501997485757, 0.646501997485757, 0.653797740116715, 0.653797740116715, 0.660892063751817, 0.660892063751817, 0.64072136208415, 0.64072136208415, 0.638995612040162, 0.638995612040162, 0.637884698808193, 0.637884698808193, 0.63699359446764, 0.63699359446764, 0.636148618534207, 0.636148618534207, 0.638369658961892, 0.638369658961892, 0.634178251028061, 0.634178251028061, 0.643412763252854, 0.643412763252854, 0.633781384676695, 0.633781384676695, 0.632525561377406, 0.632525561377406, 0.632309082895517, 0.632309082895517, 0.632173266261816, 0.632173266261816, 0.647736189886928, 0.647736189886928, 0.691238556057215, 0.691238556057215, 0.695376875810325, 0.695376875810325, 0.665254828520119, 0.665254828520119, 0.645800108090043, 0.645800108090043, 0.629979571327567, 0.629979571327567, 0.642597373574972, 0.642597373574972, 0.632830211892724, 0.632830211892724],      \"fFunctions\" : {        \"_typename\" : \"TList\",        \"name\" : \"TList\",        \"arr\" : [],        \"opt\" : []      },      \"fHistogram\" : null,      \"fMinimum\" : -1111,      \"fMaximum\" : -1111    }, {      \"_typename\" : \"TGraph\",      \"fUniqueID\" : 0,      \"fBits\" : 50332680,      \"fName\" : \"Error on test set\",      \"fTitle\" : \"Error on test set\",      \"fLineColor\" : 4,      \"fLineStyle\" : 1,      \"fLineWidth\" : 1,      \"fFillColor\" : 4,      \"fFillStyle\" : 1000,      \"fMarkerColor\" : 4,      \"fMarkerStyle\" : 1,      \"fMarkerSize\" : 1,      \"fNpoints\" : 66,      \"fX\" : [7, 7, 14, 14, 21, 21, 28, 28, 35, 35, 42, 42, 49, 49, 56, 56, 63, 63, 70, 70, 77, 77, 84, 84, 91, 91, 98, 98, 105, 105, 112, 112, 119, 119, 126, 126, 133, 133, 140, 140, 147, 147, 154, 154, 161, 161, 168, 168, 175, 175, 182, 182, 189, 189, 196, 196, 203, 203, 210, 210, 217, 217, 224, 224, 231, 231],      \"fY\" : [0.69950145483017, 0.69950145483017, 0.697533346712589, 0.697533346712589, 0.705983474850655, 0.705983474850655, 0.7094956189394, 0.7094956189394, 0.69187867641449, 0.69187867641449, 0.68785484880209, 0.68785484880209, 0.693413726985455, 0.693413726985455, 0.679884925484657, 0.679884925484657, 0.676676318049431, 0.676676318049431, 0.720704898238182, 0.720704898238182, 0.67446044832468, 0.67446044832468, 0.680401884019375, 0.680401884019375, 0.694070115685463, 0.694070115685463, 0.674440138041973, 0.674440138041973, 0.673869334161282, 0.673869334161282, 0.673528887331486, 0.673528887331486, 0.675819091498852, 0.675819091498852, 0.674026131629944, 0.674026131629944, 0.677195571362972, 0.677195571362972, 0.672364041209221, 0.672364041209221, 0.685560680925846, 0.685560680925846, 0.674806125462055, 0.674806125462055, 0.673901923000813, 0.673901923000813, 0.67365637421608, 0.67365637421608, 0.673860803246498, 0.673860803246498, 0.693854995071888, 0.693854995071888, 0.737445719540119, 0.737445719540119, 0.743517629802227, 0.743517629802227, 0.710688672959805, 0.710688672959805, 0.690357267856598, 0.690357267856598, 0.671598091721535, 0.671598091721535, 0.688565768301487, 0.688565768301487, 0.676071405410767, 0.676071405410767],      \"fFunctions\" : {        \"_typename\" : \"TList\",        \"name\" : \"TList\",        \"arr\" : [],        \"opt\" : []      },      \"fHistogram\" : null,      \"fMinimum\" : -1111,      \"fMaximum\" : -1111    }],    \"opt\" : [\"\", \"\"]  },  \"fFunctions\" : null,  \"fHistogram\" : null,  \"fMaximum\" : -1111,  \"fMinimum\" : -1111}');\n",
       "var script = document.getElementById(\"dataInserterScript\");\n",
       "script.parentElement.parentElement.remove();\n",
       "});\n",
       "</script>"
      ],
      "text/plain": [
       "<IPython.core.display.HTML object>"
      ]
     },
     "metadata": {},
     "output_type": "display_data"
    },
    {
     "data": {
      "text/html": [
       "\n",
       "     <script type=\"text/javascript\" id=\"progressBarScriptInc\">\n",
       "     require([\"jquery\"], function(jQ){\n",
       "         jQ(\"#jsmva_bar_2\").css(\"width\", 14 + \"%\");\n",
       "         jQ(\"#jsmva_label_2\").text(14 + '%');\n",
       "         jQ(\"#progressBarScriptInc\").parent().parent().remove();\n",
       "     });\n",
       "     </script>\n",
       "     "
      ],
      "text/plain": [
       "<IPython.core.display.HTML object>"
      ]
     },
     "metadata": {},
     "output_type": "display_data"
    },
    {
     "data": {
      "text/html": [
       "<script id=\"dataInserterScript\">\n",
       "require(['JsMVA'],function(jsmva){\n",
       "jsmva.updateTrainingTestingErrors('jstmva_5', '{  \"_typename\" : \"TMultiGraph\",  \"fUniqueID\" : 0,  \"fBits\" : 50331656,  \"fName\" : \"\",  \"fTitle\" : \"\",  \"fGraphs\" : {    \"_typename\" : \"TList\",    \"name\" : \"TList\",    \"arr\" : [{      \"_typename\" : \"TGraph\",      \"fUniqueID\" : 0,      \"fBits\" : 50332680,      \"fName\" : \"Error on training set\",      \"fTitle\" : \"Error on training set\",      \"fLineColor\" : 2,      \"fLineStyle\" : 1,      \"fLineWidth\" : 1,      \"fFillColor\" : 2,      \"fFillStyle\" : 1000,      \"fMarkerColor\" : 2,      \"fMarkerStyle\" : 1,      \"fMarkerSize\" : 1,      \"fNpoints\" : 72,      \"fX\" : [7, 7, 14, 14, 21, 21, 28, 28, 35, 35, 42, 42, 49, 49, 56, 56, 63, 63, 70, 70, 77, 77, 84, 84, 91, 91, 98, 98, 105, 105, 112, 112, 119, 119, 126, 126, 133, 133, 140, 140, 147, 147, 154, 154, 161, 161, 168, 168, 175, 175, 182, 182, 189, 189, 196, 196, 203, 203, 210, 210, 217, 217, 224, 224, 231, 231, 238, 238, 245, 245, 252, 252],      \"fY\" : [0.691367127001286, 0.691367127001286, 0.68757544644177, 0.68757544644177, 0.691233430057764, 0.691233430057764, 0.691455043852329, 0.691455043852329, 0.673537012189627, 0.673537012189627, 0.66773134469986, 0.66773134469986, 0.668419050052762, 0.668419050052762, 0.657169060781598, 0.657169060781598, 0.65177720785141, 0.65177720785141, 0.690621865913272, 0.690621865913272, 0.646501997485757, 0.646501997485757, 0.653797740116715, 0.653797740116715, 0.660892063751817, 0.660892063751817, 0.64072136208415, 0.64072136208415, 0.638995612040162, 0.638995612040162, 0.637884698808193, 0.637884698808193, 0.63699359446764, 0.63699359446764, 0.636148618534207, 0.636148618534207, 0.638369658961892, 0.638369658961892, 0.634178251028061, 0.634178251028061, 0.643412763252854, 0.643412763252854, 0.633781384676695, 0.633781384676695, 0.632525561377406, 0.632525561377406, 0.632309082895517, 0.632309082895517, 0.632173266261816, 0.632173266261816, 0.647736189886928, 0.647736189886928, 0.691238556057215, 0.691238556057215, 0.695376875810325, 0.695376875810325, 0.665254828520119, 0.665254828520119, 0.645800108090043, 0.645800108090043, 0.629979571327567, 0.629979571327567, 0.642597373574972, 0.642597373574972, 0.632830211892724, 0.632830211892724, 0.636701023206115, 0.636701023206115, 0.644877929240465, 0.644877929240465, 0.628565112128854, 0.628565112128854],      \"fFunctions\" : {        \"_typename\" : \"TList\",        \"name\" : \"TList\",        \"arr\" : [],        \"opt\" : []      },      \"fHistogram\" : null,      \"fMinimum\" : -1111,      \"fMaximum\" : -1111    }, {      \"_typename\" : \"TGraph\",      \"fUniqueID\" : 0,      \"fBits\" : 50332680,      \"fName\" : \"Error on test set\",      \"fTitle\" : \"Error on test set\",      \"fLineColor\" : 4,      \"fLineStyle\" : 1,      \"fLineWidth\" : 1,      \"fFillColor\" : 4,      \"fFillStyle\" : 1000,      \"fMarkerColor\" : 4,      \"fMarkerStyle\" : 1,      \"fMarkerSize\" : 1,      \"fNpoints\" : 72,      \"fX\" : [7, 7, 14, 14, 21, 21, 28, 28, 35, 35, 42, 42, 49, 49, 56, 56, 63, 63, 70, 70, 77, 77, 84, 84, 91, 91, 98, 98, 105, 105, 112, 112, 119, 119, 126, 126, 133, 133, 140, 140, 147, 147, 154, 154, 161, 161, 168, 168, 175, 175, 182, 182, 189, 189, 196, 196, 203, 203, 210, 210, 217, 217, 224, 224, 231, 231, 238, 238, 245, 245, 252, 252],      \"fY\" : [0.69950145483017, 0.69950145483017, 0.697533346712589, 0.697533346712589, 0.705983474850655, 0.705983474850655, 0.7094956189394, 0.7094956189394, 0.69187867641449, 0.69187867641449, 0.68785484880209, 0.68785484880209, 0.693413726985455, 0.693413726985455, 0.679884925484657, 0.679884925484657, 0.676676318049431, 0.676676318049431, 0.720704898238182, 0.720704898238182, 0.67446044832468, 0.67446044832468, 0.680401884019375, 0.680401884019375, 0.694070115685463, 0.694070115685463, 0.674440138041973, 0.674440138041973, 0.673869334161282, 0.673869334161282, 0.673528887331486, 0.673528887331486, 0.675819091498852, 0.675819091498852, 0.674026131629944, 0.674026131629944, 0.677195571362972, 0.677195571362972, 0.672364041209221, 0.672364041209221, 0.685560680925846, 0.685560680925846, 0.674806125462055, 0.674806125462055, 0.673901923000813, 0.673901923000813, 0.67365637421608, 0.67365637421608, 0.673860803246498, 0.673860803246498, 0.693854995071888, 0.693854995071888, 0.737445719540119, 0.737445719540119, 0.743517629802227, 0.743517629802227, 0.710688672959805, 0.710688672959805, 0.690357267856598, 0.690357267856598, 0.671598091721535, 0.671598091721535, 0.688565768301487, 0.688565768301487, 0.676071405410767, 0.676071405410767, 0.680290743708611, 0.680290743708611, 0.691122449934483, 0.691122449934483, 0.670673958957195, 0.670673958957195],      \"fFunctions\" : {        \"_typename\" : \"TList\",        \"name\" : \"TList\",        \"arr\" : [],        \"opt\" : []      },      \"fHistogram\" : null,      \"fMinimum\" : -1111,      \"fMaximum\" : -1111    }],    \"opt\" : [\"\", \"\"]  },  \"fFunctions\" : null,  \"fHistogram\" : null,  \"fMaximum\" : -1111,  \"fMinimum\" : -1111}');\n",
       "var script = document.getElementById(\"dataInserterScript\");\n",
       "script.parentElement.parentElement.remove();\n",
       "});\n",
       "</script>"
      ],
      "text/plain": [
       "<IPython.core.display.HTML object>"
      ]
     },
     "metadata": {},
     "output_type": "display_data"
    },
    {
     "data": {
      "text/html": [
       "\n",
       "     <script type=\"text/javascript\" id=\"progressBarScriptInc\">\n",
       "     require([\"jquery\"], function(jQ){\n",
       "         jQ(\"#jsmva_bar_2\").css(\"width\", 0 + \"%\");\n",
       "         jQ(\"#jsmva_label_2\").text(0 + '%');\n",
       "         jQ(\"#progressBarScriptInc\").parent().parent().remove();\n",
       "     });\n",
       "     </script>\n",
       "     "
      ],
      "text/plain": [
       "<IPython.core.display.HTML object>"
      ]
     },
     "metadata": {},
     "output_type": "display_data"
    },
    {
     "data": {
      "text/html": [
       "<script id=\"dataInserterScript\">\n",
       "require(['JsMVA'],function(jsmva){\n",
       "jsmva.updateTrainingTestingErrors('jstmva_5', '{  \"_typename\" : \"TMultiGraph\",  \"fUniqueID\" : 0,  \"fBits\" : 50331656,  \"fName\" : \"\",  \"fTitle\" : \"\",  \"fGraphs\" : {    \"_typename\" : \"TList\",    \"name\" : \"TList\",    \"arr\" : [{      \"_typename\" : \"TGraph\",      \"fUniqueID\" : 0,      \"fBits\" : 50332680,      \"fName\" : \"Error on training set\",      \"fTitle\" : \"Error on training set\",      \"fLineColor\" : 2,      \"fLineStyle\" : 1,      \"fLineWidth\" : 1,      \"fFillColor\" : 2,      \"fFillStyle\" : 1000,      \"fMarkerColor\" : 2,      \"fMarkerStyle\" : 1,      \"fMarkerSize\" : 1,      \"fNpoints\" : 80,      \"fX\" : [7, 7, 14, 14, 21, 21, 28, 28, 35, 35, 42, 42, 49, 49, 56, 56, 63, 63, 70, 70, 77, 77, 84, 84, 91, 91, 98, 98, 105, 105, 112, 112, 119, 119, 126, 126, 133, 133, 140, 140, 147, 147, 154, 154, 161, 161, 168, 168, 175, 175, 182, 182, 189, 189, 196, 196, 203, 203, 210, 210, 217, 217, 224, 224, 231, 231, 238, 238, 245, 245, 252, 252, 259, 259, 266, 266, 273, 273, 280, 280],      \"fY\" : [0.691367127001286, 0.691367127001286, 0.68757544644177, 0.68757544644177, 0.691233430057764, 0.691233430057764, 0.691455043852329, 0.691455043852329, 0.673537012189627, 0.673537012189627, 0.66773134469986, 0.66773134469986, 0.668419050052762, 0.668419050052762, 0.657169060781598, 0.657169060781598, 0.65177720785141, 0.65177720785141, 0.690621865913272, 0.690621865913272, 0.646501997485757, 0.646501997485757, 0.653797740116715, 0.653797740116715, 0.660892063751817, 0.660892063751817, 0.64072136208415, 0.64072136208415, 0.638995612040162, 0.638995612040162, 0.637884698808193, 0.637884698808193, 0.63699359446764, 0.63699359446764, 0.636148618534207, 0.636148618534207, 0.638369658961892, 0.638369658961892, 0.634178251028061, 0.634178251028061, 0.643412763252854, 0.643412763252854, 0.633781384676695, 0.633781384676695, 0.632525561377406, 0.632525561377406, 0.632309082895517, 0.632309082895517, 0.632173266261816, 0.632173266261816, 0.647736189886928, 0.647736189886928, 0.691238556057215, 0.691238556057215, 0.695376875810325, 0.695376875810325, 0.665254828520119, 0.665254828520119, 0.645800108090043, 0.645800108090043, 0.629979571327567, 0.629979571327567, 0.642597373574972, 0.642597373574972, 0.632830211892724, 0.632830211892724, 0.636701023206115, 0.636701023206115, 0.644877929240465, 0.644877929240465, 0.628565112128854, 0.628565112128854, 0.629457061178982, 0.629457061178982, 0.666270231828094, 0.666270231828094, 0.651004608720541, 0.651004608720541, 0.671591302379966, 0.671591302379966],      \"fFunctions\" : {        \"_typename\" : \"TList\",        \"name\" : \"TList\",        \"arr\" : [],        \"opt\" : []      },      \"fHistogram\" : null,      \"fMinimum\" : -1111,      \"fMaximum\" : -1111    }, {      \"_typename\" : \"TGraph\",      \"fUniqueID\" : 0,      \"fBits\" : 50332680,      \"fName\" : \"Error on test set\",      \"fTitle\" : \"Error on test set\",      \"fLineColor\" : 4,      \"fLineStyle\" : 1,      \"fLineWidth\" : 1,      \"fFillColor\" : 4,      \"fFillStyle\" : 1000,      \"fMarkerColor\" : 4,      \"fMarkerStyle\" : 1,      \"fMarkerSize\" : 1,      \"fNpoints\" : 80,      \"fX\" : [7, 7, 14, 14, 21, 21, 28, 28, 35, 35, 42, 42, 49, 49, 56, 56, 63, 63, 70, 70, 77, 77, 84, 84, 91, 91, 98, 98, 105, 105, 112, 112, 119, 119, 126, 126, 133, 133, 140, 140, 147, 147, 154, 154, 161, 161, 168, 168, 175, 175, 182, 182, 189, 189, 196, 196, 203, 203, 210, 210, 217, 217, 224, 224, 231, 231, 238, 238, 245, 245, 252, 252, 259, 259, 266, 266, 273, 273, 280, 280],      \"fY\" : [0.69950145483017, 0.69950145483017, 0.697533346712589, 0.697533346712589, 0.705983474850655, 0.705983474850655, 0.7094956189394, 0.7094956189394, 0.69187867641449, 0.69187867641449, 0.68785484880209, 0.68785484880209, 0.693413726985455, 0.693413726985455, 0.679884925484657, 0.679884925484657, 0.676676318049431, 0.676676318049431, 0.720704898238182, 0.720704898238182, 0.67446044832468, 0.67446044832468, 0.680401884019375, 0.680401884019375, 0.694070115685463, 0.694070115685463, 0.674440138041973, 0.674440138041973, 0.673869334161282, 0.673869334161282, 0.673528887331486, 0.673528887331486, 0.675819091498852, 0.675819091498852, 0.674026131629944, 0.674026131629944, 0.677195571362972, 0.677195571362972, 0.672364041209221, 0.672364041209221, 0.685560680925846, 0.685560680925846, 0.674806125462055, 0.674806125462055, 0.673901923000813, 0.673901923000813, 0.67365637421608, 0.67365637421608, 0.673860803246498, 0.673860803246498, 0.693854995071888, 0.693854995071888, 0.737445719540119, 0.737445719540119, 0.743517629802227, 0.743517629802227, 0.710688672959805, 0.710688672959805, 0.690357267856598, 0.690357267856598, 0.671598091721535, 0.671598091721535, 0.688565768301487, 0.688565768301487, 0.676071405410767, 0.676071405410767, 0.680290743708611, 0.680290743708611, 0.691122449934483, 0.691122449934483, 0.670673958957195, 0.670673958957195, 0.672965653240681, 0.672965653240681, 0.713759928941727, 0.713759928941727, 0.696593128144741, 0.696593128144741, 0.718328975141048, 0.718328975141048],      \"fFunctions\" : {        \"_typename\" : \"TList\",        \"name\" : \"TList\",        \"arr\" : [],        \"opt\" : []      },      \"fHistogram\" : null,      \"fMinimum\" : -1111,      \"fMaximum\" : -1111    }],    \"opt\" : [\"\", \"\"]  },  \"fFunctions\" : null,  \"fHistogram\" : null,  \"fMaximum\" : -1111,  \"fMinimum\" : -1111}');\n",
       "var script = document.getElementById(\"dataInserterScript\");\n",
       "script.parentElement.parentElement.remove();\n",
       "});\n",
       "</script>"
      ],
      "text/plain": [
       "<IPython.core.display.HTML object>"
      ]
     },
     "metadata": {},
     "output_type": "display_data"
    },
    {
     "data": {
      "text/html": [
       "\n",
       "     <script type=\"text/javascript\" id=\"progressBarScriptInc\">\n",
       "     require([\"jquery\"], function(jQ){\n",
       "         jQ(\"#jsmva_bar_2\").css(\"width\", 28 + \"%\");\n",
       "         jQ(\"#jsmva_label_2\").text(28 + '%');\n",
       "         jQ(\"#progressBarScriptInc\").parent().parent().remove();\n",
       "     });\n",
       "     </script>\n",
       "     "
      ],
      "text/plain": [
       "<IPython.core.display.HTML object>"
      ]
     },
     "metadata": {},
     "output_type": "display_data"
    },
    {
     "data": {
      "text/html": [
       "<script id=\"dataInserterScript\">\n",
       "require(['JsMVA'],function(jsmva){\n",
       "jsmva.updateTrainingTestingErrors('jstmva_5', '{  \"_typename\" : \"TMultiGraph\",  \"fUniqueID\" : 0,  \"fBits\" : 50331656,  \"fName\" : \"\",  \"fTitle\" : \"\",  \"fGraphs\" : {    \"_typename\" : \"TList\",    \"name\" : \"TList\",    \"arr\" : [{      \"_typename\" : \"TGraph\",      \"fUniqueID\" : 0,      \"fBits\" : 50332680,      \"fName\" : \"Error on training set\",      \"fTitle\" : \"Error on training set\",      \"fLineColor\" : 2,      \"fLineStyle\" : 1,      \"fLineWidth\" : 1,      \"fFillColor\" : 2,      \"fFillStyle\" : 1000,      \"fMarkerColor\" : 2,      \"fMarkerStyle\" : 1,      \"fMarkerSize\" : 1,      \"fNpoints\" : 86,      \"fX\" : [7, 7, 14, 14, 21, 21, 28, 28, 35, 35, 42, 42, 49, 49, 56, 56, 63, 63, 70, 70, 77, 77, 84, 84, 91, 91, 98, 98, 105, 105, 112, 112, 119, 119, 126, 126, 133, 133, 140, 140, 147, 147, 154, 154, 161, 161, 168, 168, 175, 175, 182, 182, 189, 189, 196, 196, 203, 203, 210, 210, 217, 217, 224, 224, 231, 231, 238, 238, 245, 245, 252, 252, 259, 259, 266, 266, 273, 273, 280, 280, 287, 287, 294, 294, 301, 301],      \"fY\" : [0.691367127001286, 0.691367127001286, 0.68757544644177, 0.68757544644177, 0.691233430057764, 0.691233430057764, 0.691455043852329, 0.691455043852329, 0.673537012189627, 0.673537012189627, 0.66773134469986, 0.66773134469986, 0.668419050052762, 0.668419050052762, 0.657169060781598, 0.657169060781598, 0.65177720785141, 0.65177720785141, 0.690621865913272, 0.690621865913272, 0.646501997485757, 0.646501997485757, 0.653797740116715, 0.653797740116715, 0.660892063751817, 0.660892063751817, 0.64072136208415, 0.64072136208415, 0.638995612040162, 0.638995612040162, 0.637884698808193, 0.637884698808193, 0.63699359446764, 0.63699359446764, 0.636148618534207, 0.636148618534207, 0.638369658961892, 0.638369658961892, 0.634178251028061, 0.634178251028061, 0.643412763252854, 0.643412763252854, 0.633781384676695, 0.633781384676695, 0.632525561377406, 0.632525561377406, 0.632309082895517, 0.632309082895517, 0.632173266261816, 0.632173266261816, 0.647736189886928, 0.647736189886928, 0.691238556057215, 0.691238556057215, 0.695376875810325, 0.695376875810325, 0.665254828520119, 0.665254828520119, 0.645800108090043, 0.645800108090043, 0.629979571327567, 0.629979571327567, 0.642597373574972, 0.642597373574972, 0.632830211892724, 0.632830211892724, 0.636701023206115, 0.636701023206115, 0.644877929240465, 0.644877929240465, 0.628565112128854, 0.628565112128854, 0.629457061178982, 0.629457061178982, 0.666270231828094, 0.666270231828094, 0.651004608720541, 0.651004608720541, 0.671591302379966, 0.671591302379966, 0.637884424068034, 0.637884424068034, 0.627734832465649, 0.627734832465649, 0.650953007861972, 0.650953007861972],      \"fFunctions\" : {        \"_typename\" : \"TList\",        \"name\" : \"TList\",        \"arr\" : [],        \"opt\" : []      },      \"fHistogram\" : null,      \"fMinimum\" : -1111,      \"fMaximum\" : -1111    }, {      \"_typename\" : \"TGraph\",      \"fUniqueID\" : 0,      \"fBits\" : 50332680,      \"fName\" : \"Error on test set\",      \"fTitle\" : \"Error on test set\",      \"fLineColor\" : 4,      \"fLineStyle\" : 1,      \"fLineWidth\" : 1,      \"fFillColor\" : 4,      \"fFillStyle\" : 1000,      \"fMarkerColor\" : 4,      \"fMarkerStyle\" : 1,      \"fMarkerSize\" : 1,      \"fNpoints\" : 86,      \"fX\" : [7, 7, 14, 14, 21, 21, 28, 28, 35, 35, 42, 42, 49, 49, 56, 56, 63, 63, 70, 70, 77, 77, 84, 84, 91, 91, 98, 98, 105, 105, 112, 112, 119, 119, 126, 126, 133, 133, 140, 140, 147, 147, 154, 154, 161, 161, 168, 168, 175, 175, 182, 182, 189, 189, 196, 196, 203, 203, 210, 210, 217, 217, 224, 224, 231, 231, 238, 238, 245, 245, 252, 252, 259, 259, 266, 266, 273, 273, 280, 280, 287, 287, 294, 294, 301, 301],      \"fY\" : [0.69950145483017, 0.69950145483017, 0.697533346712589, 0.697533346712589, 0.705983474850655, 0.705983474850655, 0.7094956189394, 0.7094956189394, 0.69187867641449, 0.69187867641449, 0.68785484880209, 0.68785484880209, 0.693413726985455, 0.693413726985455, 0.679884925484657, 0.679884925484657, 0.676676318049431, 0.676676318049431, 0.720704898238182, 0.720704898238182, 0.67446044832468, 0.67446044832468, 0.680401884019375, 0.680401884019375, 0.694070115685463, 0.694070115685463, 0.674440138041973, 0.674440138041973, 0.673869334161282, 0.673869334161282, 0.673528887331486, 0.673528887331486, 0.675819091498852, 0.675819091498852, 0.674026131629944, 0.674026131629944, 0.677195571362972, 0.677195571362972, 0.672364041209221, 0.672364041209221, 0.685560680925846, 0.685560680925846, 0.674806125462055, 0.674806125462055, 0.673901923000813, 0.673901923000813, 0.67365637421608, 0.67365637421608, 0.673860803246498, 0.673860803246498, 0.693854995071888, 0.693854995071888, 0.737445719540119, 0.737445719540119, 0.743517629802227, 0.743517629802227, 0.710688672959805, 0.710688672959805, 0.690357267856598, 0.690357267856598, 0.671598091721535, 0.671598091721535, 0.688565768301487, 0.688565768301487, 0.676071405410767, 0.676071405410767, 0.680290743708611, 0.680290743708611, 0.691122449934483, 0.691122449934483, 0.670673958957195, 0.670673958957195, 0.672965653240681, 0.672965653240681, 0.713759928941727, 0.713759928941727, 0.696593128144741, 0.696593128144741, 0.718328975141048, 0.718328975141048, 0.680445060133934, 0.680445060133934, 0.666868515312672, 0.666868515312672, 0.695123575627804, 0.695123575627804],      \"fFunctions\" : {        \"_typename\" : \"TList\",        \"name\" : \"TList\",        \"arr\" : [],        \"opt\" : []      },      \"fHistogram\" : null,      \"fMinimum\" : -1111,      \"fMaximum\" : -1111    }],    \"opt\" : [\"\", \"\"]  },  \"fFunctions\" : null,  \"fHistogram\" : null,  \"fMaximum\" : -1111,  \"fMinimum\" : -1111}');\n",
       "var script = document.getElementById(\"dataInserterScript\");\n",
       "script.parentElement.parentElement.remove();\n",
       "});\n",
       "</script>"
      ],
      "text/plain": [
       "<IPython.core.display.HTML object>"
      ]
     },
     "metadata": {},
     "output_type": "display_data"
    },
    {
     "data": {
      "text/html": [
       "\n",
       "     <script type=\"text/javascript\" id=\"progressBarScriptInc\">\n",
       "     require([\"jquery\"], function(jQ){\n",
       "         jQ(\"#jsmva_bar_2\").css(\"width\", 7 + \"%\");\n",
       "         jQ(\"#jsmva_label_2\").text(7 + '%');\n",
       "         jQ(\"#progressBarScriptInc\").parent().parent().remove();\n",
       "     });\n",
       "     </script>\n",
       "     "
      ],
      "text/plain": [
       "<IPython.core.display.HTML object>"
      ]
     },
     "metadata": {},
     "output_type": "display_data"
    },
    {
     "data": {
      "text/html": [
       "<script id=\"dataInserterScript\">\n",
       "require(['JsMVA'],function(jsmva){\n",
       "jsmva.updateTrainingTestingErrors('jstmva_5', '{  \"_typename\" : \"TMultiGraph\",  \"fUniqueID\" : 0,  \"fBits\" : 50331656,  \"fName\" : \"\",  \"fTitle\" : \"\",  \"fGraphs\" : {    \"_typename\" : \"TList\",    \"name\" : \"TList\",    \"arr\" : [{      \"_typename\" : \"TGraph\",      \"fUniqueID\" : 0,      \"fBits\" : 50332680,      \"fName\" : \"Error on training set\",      \"fTitle\" : \"Error on training set\",      \"fLineColor\" : 2,      \"fLineStyle\" : 1,      \"fLineWidth\" : 1,      \"fFillColor\" : 2,      \"fFillStyle\" : 1000,      \"fMarkerColor\" : 2,      \"fMarkerStyle\" : 1,      \"fMarkerSize\" : 1,      \"fNpoints\" : 92,      \"fX\" : [7, 7, 14, 14, 21, 21, 28, 28, 35, 35, 42, 42, 49, 49, 56, 56, 63, 63, 70, 70, 77, 77, 84, 84, 91, 91, 98, 98, 105, 105, 112, 112, 119, 119, 126, 126, 133, 133, 140, 140, 147, 147, 154, 154, 161, 161, 168, 168, 175, 175, 182, 182, 189, 189, 196, 196, 203, 203, 210, 210, 217, 217, 224, 224, 231, 231, 238, 238, 245, 245, 252, 252, 259, 259, 266, 266, 273, 273, 280, 280, 287, 287, 294, 294, 301, 301, 308, 308, 315, 315, 322, 322],      \"fY\" : [0.691367127001286, 0.691367127001286, 0.68757544644177, 0.68757544644177, 0.691233430057764, 0.691233430057764, 0.691455043852329, 0.691455043852329, 0.673537012189627, 0.673537012189627, 0.66773134469986, 0.66773134469986, 0.668419050052762, 0.668419050052762, 0.657169060781598, 0.657169060781598, 0.65177720785141, 0.65177720785141, 0.690621865913272, 0.690621865913272, 0.646501997485757, 0.646501997485757, 0.653797740116715, 0.653797740116715, 0.660892063751817, 0.660892063751817, 0.64072136208415, 0.64072136208415, 0.638995612040162, 0.638995612040162, 0.637884698808193, 0.637884698808193, 0.63699359446764, 0.63699359446764, 0.636148618534207, 0.636148618534207, 0.638369658961892, 0.638369658961892, 0.634178251028061, 0.634178251028061, 0.643412763252854, 0.643412763252854, 0.633781384676695, 0.633781384676695, 0.632525561377406, 0.632525561377406, 0.632309082895517, 0.632309082895517, 0.632173266261816, 0.632173266261816, 0.647736189886928, 0.647736189886928, 0.691238556057215, 0.691238556057215, 0.695376875810325, 0.695376875810325, 0.665254828520119, 0.665254828520119, 0.645800108090043, 0.645800108090043, 0.629979571327567, 0.629979571327567, 0.642597373574972, 0.642597373574972, 0.632830211892724, 0.632830211892724, 0.636701023206115, 0.636701023206115, 0.644877929240465, 0.644877929240465, 0.628565112128854, 0.628565112128854, 0.629457061178982, 0.629457061178982, 0.666270231828094, 0.666270231828094, 0.651004608720541, 0.651004608720541, 0.671591302379966, 0.671591302379966, 0.637884424068034, 0.637884424068034, 0.627734832465649, 0.627734832465649, 0.650953007861972, 0.650953007861972, 0.673990340903401, 0.673990340903401, 0.624984843656421, 0.624984843656421, 0.642864992842078, 0.642864992842078],      \"fFunctions\" : {        \"_typename\" : \"TList\",        \"name\" : \"TList\",        \"arr\" : [],        \"opt\" : []      },      \"fHistogram\" : null,      \"fMinimum\" : -1111,      \"fMaximum\" : -1111    }, {      \"_typename\" : \"TGraph\",      \"fUniqueID\" : 0,      \"fBits\" : 50332680,      \"fName\" : \"Error on test set\",      \"fTitle\" : \"Error on test set\",      \"fLineColor\" : 4,      \"fLineStyle\" : 1,      \"fLineWidth\" : 1,      \"fFillColor\" : 4,      \"fFillStyle\" : 1000,      \"fMarkerColor\" : 4,      \"fMarkerStyle\" : 1,      \"fMarkerSize\" : 1,      \"fNpoints\" : 92,      \"fX\" : [7, 7, 14, 14, 21, 21, 28, 28, 35, 35, 42, 42, 49, 49, 56, 56, 63, 63, 70, 70, 77, 77, 84, 84, 91, 91, 98, 98, 105, 105, 112, 112, 119, 119, 126, 126, 133, 133, 140, 140, 147, 147, 154, 154, 161, 161, 168, 168, 175, 175, 182, 182, 189, 189, 196, 196, 203, 203, 210, 210, 217, 217, 224, 224, 231, 231, 238, 238, 245, 245, 252, 252, 259, 259, 266, 266, 273, 273, 280, 280, 287, 287, 294, 294, 301, 301, 308, 308, 315, 315, 322, 322],      \"fY\" : [0.69950145483017, 0.69950145483017, 0.697533346712589, 0.697533346712589, 0.705983474850655, 0.705983474850655, 0.7094956189394, 0.7094956189394, 0.69187867641449, 0.69187867641449, 0.68785484880209, 0.68785484880209, 0.693413726985455, 0.693413726985455, 0.679884925484657, 0.679884925484657, 0.676676318049431, 0.676676318049431, 0.720704898238182, 0.720704898238182, 0.67446044832468, 0.67446044832468, 0.680401884019375, 0.680401884019375, 0.694070115685463, 0.694070115685463, 0.674440138041973, 0.674440138041973, 0.673869334161282, 0.673869334161282, 0.673528887331486, 0.673528887331486, 0.675819091498852, 0.675819091498852, 0.674026131629944, 0.674026131629944, 0.677195571362972, 0.677195571362972, 0.672364041209221, 0.672364041209221, 0.685560680925846, 0.685560680925846, 0.674806125462055, 0.674806125462055, 0.673901923000813, 0.673901923000813, 0.67365637421608, 0.67365637421608, 0.673860803246498, 0.673860803246498, 0.693854995071888, 0.693854995071888, 0.737445719540119, 0.737445719540119, 0.743517629802227, 0.743517629802227, 0.710688672959805, 0.710688672959805, 0.690357267856598, 0.690357267856598, 0.671598091721535, 0.671598091721535, 0.688565768301487, 0.688565768301487, 0.676071405410767, 0.676071405410767, 0.680290743708611, 0.680290743708611, 0.691122449934483, 0.691122449934483, 0.670673958957195, 0.670673958957195, 0.672965653240681, 0.672965653240681, 0.713759928941727, 0.713759928941727, 0.696593128144741, 0.696593128144741, 0.718328975141048, 0.718328975141048, 0.680445060133934, 0.680445060133934, 0.666868515312672, 0.666868515312672, 0.695123575627804, 0.695123575627804, 0.72080734372139, 0.72080734372139, 0.665941424667835, 0.665941424667835, 0.682740159332752, 0.682740159332752],      \"fFunctions\" : {        \"_typename\" : \"TList\",        \"name\" : \"TList\",        \"arr\" : [],        \"opt\" : []      },      \"fHistogram\" : null,      \"fMinimum\" : -1111,      \"fMaximum\" : -1111    }],    \"opt\" : [\"\", \"\"]  },  \"fFunctions\" : null,  \"fHistogram\" : null,  \"fMaximum\" : -1111,  \"fMinimum\" : -1111}');\n",
       "var script = document.getElementById(\"dataInserterScript\");\n",
       "script.parentElement.parentElement.remove();\n",
       "});\n",
       "</script>"
      ],
      "text/plain": [
       "<IPython.core.display.HTML object>"
      ]
     },
     "metadata": {},
     "output_type": "display_data"
    },
    {
     "data": {
      "text/html": [
       "\n",
       "     <script type=\"text/javascript\" id=\"progressBarScriptInc\">\n",
       "     require([\"jquery\"], function(jQ){\n",
       "         jQ(\"#jsmva_bar_2\").css(\"width\", 7 + \"%\");\n",
       "         jQ(\"#jsmva_label_2\").text(7 + '%');\n",
       "         jQ(\"#progressBarScriptInc\").parent().parent().remove();\n",
       "     });\n",
       "     </script>\n",
       "     "
      ],
      "text/plain": [
       "<IPython.core.display.HTML object>"
      ]
     },
     "metadata": {},
     "output_type": "display_data"
    },
    {
     "data": {
      "text/html": [
       "<script id=\"dataInserterScript\">\n",
       "require(['JsMVA'],function(jsmva){\n",
       "jsmva.updateTrainingTestingErrors('jstmva_5', '{  \"_typename\" : \"TMultiGraph\",  \"fUniqueID\" : 0,  \"fBits\" : 50331656,  \"fName\" : \"\",  \"fTitle\" : \"\",  \"fGraphs\" : {    \"_typename\" : \"TList\",    \"name\" : \"TList\",    \"arr\" : [{      \"_typename\" : \"TGraph\",      \"fUniqueID\" : 0,      \"fBits\" : 50332680,      \"fName\" : \"Error on training set\",      \"fTitle\" : \"Error on training set\",      \"fLineColor\" : 2,      \"fLineStyle\" : 1,      \"fLineWidth\" : 1,      \"fFillColor\" : 2,      \"fFillStyle\" : 1000,      \"fMarkerColor\" : 2,      \"fMarkerStyle\" : 1,      \"fMarkerSize\" : 1,      \"fNpoints\" : 100,      \"fX\" : [7, 7, 14, 14, 21, 21, 28, 28, 35, 35, 42, 42, 49, 49, 56, 56, 63, 63, 70, 70, 77, 77, 84, 84, 91, 91, 98, 98, 105, 105, 112, 112, 119, 119, 126, 126, 133, 133, 140, 140, 147, 147, 154, 154, 161, 161, 168, 168, 175, 175, 182, 182, 189, 189, 196, 196, 203, 203, 210, 210, 217, 217, 224, 224, 231, 231, 238, 238, 245, 245, 252, 252, 259, 259, 266, 266, 273, 273, 280, 280, 287, 287, 294, 294, 301, 301, 308, 308, 315, 315, 322, 322, 329, 329, 336, 336, 343, 343, 350, 350],      \"fY\" : [0.691367127001286, 0.691367127001286, 0.68757544644177, 0.68757544644177, 0.691233430057764, 0.691233430057764, 0.691455043852329, 0.691455043852329, 0.673537012189627, 0.673537012189627, 0.66773134469986, 0.66773134469986, 0.668419050052762, 0.668419050052762, 0.657169060781598, 0.657169060781598, 0.65177720785141, 0.65177720785141, 0.690621865913272, 0.690621865913272, 0.646501997485757, 0.646501997485757, 0.653797740116715, 0.653797740116715, 0.660892063751817, 0.660892063751817, 0.64072136208415, 0.64072136208415, 0.638995612040162, 0.638995612040162, 0.637884698808193, 0.637884698808193, 0.63699359446764, 0.63699359446764, 0.636148618534207, 0.636148618534207, 0.638369658961892, 0.638369658961892, 0.634178251028061, 0.634178251028061, 0.643412763252854, 0.643412763252854, 0.633781384676695, 0.633781384676695, 0.632525561377406, 0.632525561377406, 0.632309082895517, 0.632309082895517, 0.632173266261816, 0.632173266261816, 0.647736189886928, 0.647736189886928, 0.691238556057215, 0.691238556057215, 0.695376875810325, 0.695376875810325, 0.665254828520119, 0.665254828520119, 0.645800108090043, 0.645800108090043, 0.629979571327567, 0.629979571327567, 0.642597373574972, 0.642597373574972, 0.632830211892724, 0.632830211892724, 0.636701023206115, 0.636701023206115, 0.644877929240465, 0.644877929240465, 0.628565112128854, 0.628565112128854, 0.629457061178982, 0.629457061178982, 0.666270231828094, 0.666270231828094, 0.651004608720541, 0.651004608720541, 0.671591302379966, 0.671591302379966, 0.637884424068034, 0.637884424068034, 0.627734832465649, 0.627734832465649, 0.650953007861972, 0.650953007861972, 0.673990340903401, 0.673990340903401, 0.624984843656421, 0.624984843656421, 0.642864992842078, 0.642864992842078, 0.664031144231558, 0.664031144231558, 0.624670777469873, 0.624670777469873, 0.6369324401021, 0.6369324401021, 0.63507073558867, 0.63507073558867],      \"fFunctions\" : {        \"_typename\" : \"TList\",        \"name\" : \"TList\",        \"arr\" : [],        \"opt\" : []      },      \"fHistogram\" : null,      \"fMinimum\" : -1111,      \"fMaximum\" : -1111    }, {      \"_typename\" : \"TGraph\",      \"fUniqueID\" : 0,      \"fBits\" : 50332680,      \"fName\" : \"Error on test set\",      \"fTitle\" : \"Error on test set\",      \"fLineColor\" : 4,      \"fLineStyle\" : 1,      \"fLineWidth\" : 1,      \"fFillColor\" : 4,      \"fFillStyle\" : 1000,      \"fMarkerColor\" : 4,      \"fMarkerStyle\" : 1,      \"fMarkerSize\" : 1,      \"fNpoints\" : 100,      \"fX\" : [7, 7, 14, 14, 21, 21, 28, 28, 35, 35, 42, 42, 49, 49, 56, 56, 63, 63, 70, 70, 77, 77, 84, 84, 91, 91, 98, 98, 105, 105, 112, 112, 119, 119, 126, 126, 133, 133, 140, 140, 147, 147, 154, 154, 161, 161, 168, 168, 175, 175, 182, 182, 189, 189, 196, 196, 203, 203, 210, 210, 217, 217, 224, 224, 231, 231, 238, 238, 245, 245, 252, 252, 259, 259, 266, 266, 273, 273, 280, 280, 287, 287, 294, 294, 301, 301, 308, 308, 315, 315, 322, 322, 329, 329, 336, 336, 343, 343, 350, 350],      \"fY\" : [0.69950145483017, 0.69950145483017, 0.697533346712589, 0.697533346712589, 0.705983474850655, 0.705983474850655, 0.7094956189394, 0.7094956189394, 0.69187867641449, 0.69187867641449, 0.68785484880209, 0.68785484880209, 0.693413726985455, 0.693413726985455, 0.679884925484657, 0.679884925484657, 0.676676318049431, 0.676676318049431, 0.720704898238182, 0.720704898238182, 0.67446044832468, 0.67446044832468, 0.680401884019375, 0.680401884019375, 0.694070115685463, 0.694070115685463, 0.674440138041973, 0.674440138041973, 0.673869334161282, 0.673869334161282, 0.673528887331486, 0.673528887331486, 0.675819091498852, 0.675819091498852, 0.674026131629944, 0.674026131629944, 0.677195571362972, 0.677195571362972, 0.672364041209221, 0.672364041209221, 0.685560680925846, 0.685560680925846, 0.674806125462055, 0.674806125462055, 0.673901923000813, 0.673901923000813, 0.67365637421608, 0.67365637421608, 0.673860803246498, 0.673860803246498, 0.693854995071888, 0.693854995071888, 0.737445719540119, 0.737445719540119, 0.743517629802227, 0.743517629802227, 0.710688672959805, 0.710688672959805, 0.690357267856598, 0.690357267856598, 0.671598091721535, 0.671598091721535, 0.688565768301487, 0.688565768301487, 0.676071405410767, 0.676071405410767, 0.680290743708611, 0.680290743708611, 0.691122449934483, 0.691122449934483, 0.670673958957195, 0.670673958957195, 0.672965653240681, 0.672965653240681, 0.713759928941727, 0.713759928941727, 0.696593128144741, 0.696593128144741, 0.718328975141048, 0.718328975141048, 0.680445060133934, 0.680445060133934, 0.666868515312672, 0.666868515312672, 0.695123575627804, 0.695123575627804, 0.72080734372139, 0.72080734372139, 0.665941424667835, 0.665941424667835, 0.682740159332752, 0.682740159332752, 0.70792829990387, 0.70792829990387, 0.665428966283798, 0.665428966283798, 0.67864615470171, 0.67864615470171, 0.675902850925922, 0.675902850925922],      \"fFunctions\" : {        \"_typename\" : \"TList\",        \"name\" : \"TList\",        \"arr\" : [],        \"opt\" : []      },      \"fHistogram\" : null,      \"fMinimum\" : -1111,      \"fMaximum\" : -1111    }],    \"opt\" : [\"\", \"\"]  },  \"fFunctions\" : null,  \"fHistogram\" : null,  \"fMaximum\" : -1111,  \"fMinimum\" : -1111}');\n",
       "var script = document.getElementById(\"dataInserterScript\");\n",
       "script.parentElement.parentElement.remove();\n",
       "});\n",
       "</script>"
      ],
      "text/plain": [
       "<IPython.core.display.HTML object>"
      ]
     },
     "metadata": {},
     "output_type": "display_data"
    },
    {
     "data": {
      "text/html": [
       "\n",
       "     <script type=\"text/javascript\" id=\"progressBarScriptInc\">\n",
       "     require([\"jquery\"], function(jQ){\n",
       "         jQ(\"#jsmva_bar_2\").css(\"width\", 35 + \"%\");\n",
       "         jQ(\"#jsmva_label_2\").text(35 + '%');\n",
       "         jQ(\"#progressBarScriptInc\").parent().parent().remove();\n",
       "     });\n",
       "     </script>\n",
       "     "
      ],
      "text/plain": [
       "<IPython.core.display.HTML object>"
      ]
     },
     "metadata": {},
     "output_type": "display_data"
    },
    {
     "data": {
      "text/html": [
       "<script id=\"dataInserterScript\">\n",
       "require(['JsMVA'],function(jsmva){\n",
       "jsmva.updateTrainingTestingErrors('jstmva_5', '{  \"_typename\" : \"TMultiGraph\",  \"fUniqueID\" : 0,  \"fBits\" : 50331656,  \"fName\" : \"\",  \"fTitle\" : \"\",  \"fGraphs\" : {    \"_typename\" : \"TList\",    \"name\" : \"TList\",    \"arr\" : [{      \"_typename\" : \"TGraph\",      \"fUniqueID\" : 0,      \"fBits\" : 50332680,      \"fName\" : \"Error on training set\",      \"fTitle\" : \"Error on training set\",      \"fLineColor\" : 2,      \"fLineStyle\" : 1,      \"fLineWidth\" : 1,      \"fFillColor\" : 2,      \"fFillStyle\" : 1000,      \"fMarkerColor\" : 2,      \"fMarkerStyle\" : 1,      \"fMarkerSize\" : 1,      \"fNpoints\" : 106,      \"fX\" : [7, 7, 14, 14, 21, 21, 28, 28, 35, 35, 42, 42, 49, 49, 56, 56, 63, 63, 70, 70, 77, 77, 84, 84, 91, 91, 98, 98, 105, 105, 112, 112, 119, 119, 126, 126, 133, 133, 140, 140, 147, 147, 154, 154, 161, 161, 168, 168, 175, 175, 182, 182, 189, 189, 196, 196, 203, 203, 210, 210, 217, 217, 224, 224, 231, 231, 238, 238, 245, 245, 252, 252, 259, 259, 266, 266, 273, 273, 280, 280, 287, 287, 294, 294, 301, 301, 308, 308, 315, 315, 322, 322, 329, 329, 336, 336, 343, 343, 350, 350, 357, 357, 364, 364, 371, 371],      \"fY\" : [0.691367127001286, 0.691367127001286, 0.68757544644177, 0.68757544644177, 0.691233430057764, 0.691233430057764, 0.691455043852329, 0.691455043852329, 0.673537012189627, 0.673537012189627, 0.66773134469986, 0.66773134469986, 0.668419050052762, 0.668419050052762, 0.657169060781598, 0.657169060781598, 0.65177720785141, 0.65177720785141, 0.690621865913272, 0.690621865913272, 0.646501997485757, 0.646501997485757, 0.653797740116715, 0.653797740116715, 0.660892063751817, 0.660892063751817, 0.64072136208415, 0.64072136208415, 0.638995612040162, 0.638995612040162, 0.637884698808193, 0.637884698808193, 0.63699359446764, 0.63699359446764, 0.636148618534207, 0.636148618534207, 0.638369658961892, 0.638369658961892, 0.634178251028061, 0.634178251028061, 0.643412763252854, 0.643412763252854, 0.633781384676695, 0.633781384676695, 0.632525561377406, 0.632525561377406, 0.632309082895517, 0.632309082895517, 0.632173266261816, 0.632173266261816, 0.647736189886928, 0.647736189886928, 0.691238556057215, 0.691238556057215, 0.695376875810325, 0.695376875810325, 0.665254828520119, 0.665254828520119, 0.645800108090043, 0.645800108090043, 0.629979571327567, 0.629979571327567, 0.642597373574972, 0.642597373574972, 0.632830211892724, 0.632830211892724, 0.636701023206115, 0.636701023206115, 0.644877929240465, 0.644877929240465, 0.628565112128854, 0.628565112128854, 0.629457061178982, 0.629457061178982, 0.666270231828094, 0.666270231828094, 0.651004608720541, 0.651004608720541, 0.671591302379966, 0.671591302379966, 0.637884424068034, 0.637884424068034, 0.627734832465649, 0.627734832465649, 0.650953007861972, 0.650953007861972, 0.673990340903401, 0.673990340903401, 0.624984843656421, 0.624984843656421, 0.642864992842078, 0.642864992842078, 0.664031144231558, 0.664031144231558, 0.624670777469873, 0.624670777469873, 0.6369324401021, 0.6369324401021, 0.63507073558867, 0.63507073558867, 0.62535360455513, 0.62535360455513, 0.626090744510293, 0.626090744510293, 0.632205935195088, 0.632205935195088],      \"fFunctions\" : {        \"_typename\" : \"TList\",        \"name\" : \"TList\",        \"arr\" : [],        \"opt\" : []      },      \"fHistogram\" : null,      \"fMinimum\" : -1111,      \"fMaximum\" : -1111    }, {      \"_typename\" : \"TGraph\",      \"fUniqueID\" : 0,      \"fBits\" : 50332680,      \"fName\" : \"Error on test set\",      \"fTitle\" : \"Error on test set\",      \"fLineColor\" : 4,      \"fLineStyle\" : 1,      \"fLineWidth\" : 1,      \"fFillColor\" : 4,      \"fFillStyle\" : 1000,      \"fMarkerColor\" : 4,      \"fMarkerStyle\" : 1,      \"fMarkerSize\" : 1,      \"fNpoints\" : 106,      \"fX\" : [7, 7, 14, 14, 21, 21, 28, 28, 35, 35, 42, 42, 49, 49, 56, 56, 63, 63, 70, 70, 77, 77, 84, 84, 91, 91, 98, 98, 105, 105, 112, 112, 119, 119, 126, 126, 133, 133, 140, 140, 147, 147, 154, 154, 161, 161, 168, 168, 175, 175, 182, 182, 189, 189, 196, 196, 203, 203, 210, 210, 217, 217, 224, 224, 231, 231, 238, 238, 245, 245, 252, 252, 259, 259, 266, 266, 273, 273, 280, 280, 287, 287, 294, 294, 301, 301, 308, 308, 315, 315, 322, 322, 329, 329, 336, 336, 343, 343, 350, 350, 357, 357, 364, 364, 371, 371],      \"fY\" : [0.69950145483017, 0.69950145483017, 0.697533346712589, 0.697533346712589, 0.705983474850655, 0.705983474850655, 0.7094956189394, 0.7094956189394, 0.69187867641449, 0.69187867641449, 0.68785484880209, 0.68785484880209, 0.693413726985455, 0.693413726985455, 0.679884925484657, 0.679884925484657, 0.676676318049431, 0.676676318049431, 0.720704898238182, 0.720704898238182, 0.67446044832468, 0.67446044832468, 0.680401884019375, 0.680401884019375, 0.694070115685463, 0.694070115685463, 0.674440138041973, 0.674440138041973, 0.673869334161282, 0.673869334161282, 0.673528887331486, 0.673528887331486, 0.675819091498852, 0.675819091498852, 0.674026131629944, 0.674026131629944, 0.677195571362972, 0.677195571362972, 0.672364041209221, 0.672364041209221, 0.685560680925846, 0.685560680925846, 0.674806125462055, 0.674806125462055, 0.673901923000813, 0.673901923000813, 0.67365637421608, 0.67365637421608, 0.673860803246498, 0.673860803246498, 0.693854995071888, 0.693854995071888, 0.737445719540119, 0.737445719540119, 0.743517629802227, 0.743517629802227, 0.710688672959805, 0.710688672959805, 0.690357267856598, 0.690357267856598, 0.671598091721535, 0.671598091721535, 0.688565768301487, 0.688565768301487, 0.676071405410767, 0.676071405410767, 0.680290743708611, 0.680290743708611, 0.691122449934483, 0.691122449934483, 0.670673958957195, 0.670673958957195, 0.672965653240681, 0.672965653240681, 0.713759928941727, 0.713759928941727, 0.696593128144741, 0.696593128144741, 0.718328975141048, 0.718328975141048, 0.680445060133934, 0.680445060133934, 0.666868515312672, 0.666868515312672, 0.695123575627804, 0.695123575627804, 0.72080734372139, 0.72080734372139, 0.665941424667835, 0.665941424667835, 0.682740159332752, 0.682740159332752, 0.70792829990387, 0.70792829990387, 0.665428966283798, 0.665428966283798, 0.67864615470171, 0.67864615470171, 0.675902850925922, 0.675902850925922, 0.66413501650095, 0.66413501650095, 0.661752991378307, 0.661752991378307, 0.673247590661049, 0.673247590661049],      \"fFunctions\" : {        \"_typename\" : \"TList\",        \"name\" : \"TList\",        \"arr\" : [],        \"opt\" : []      },      \"fHistogram\" : null,      \"fMinimum\" : -1111,      \"fMaximum\" : -1111    }],    \"opt\" : [\"\", \"\"]  },  \"fFunctions\" : null,  \"fHistogram\" : null,  \"fMaximum\" : -1111,  \"fMinimum\" : -1111}');\n",
       "var script = document.getElementById(\"dataInserterScript\");\n",
       "script.parentElement.parentElement.remove();\n",
       "});\n",
       "</script>"
      ],
      "text/plain": [
       "<IPython.core.display.HTML object>"
      ]
     },
     "metadata": {},
     "output_type": "display_data"
    },
    {
     "data": {
      "text/html": [
       "\n",
       "     <script type=\"text/javascript\" id=\"progressBarScriptInc\">\n",
       "     require([\"jquery\"], function(jQ){\n",
       "         jQ(\"#jsmva_bar_2\").css(\"width\", 7 + \"%\");\n",
       "         jQ(\"#jsmva_label_2\").text(7 + '%');\n",
       "         jQ(\"#progressBarScriptInc\").parent().parent().remove();\n",
       "     });\n",
       "     </script>\n",
       "     "
      ],
      "text/plain": [
       "<IPython.core.display.HTML object>"
      ]
     },
     "metadata": {},
     "output_type": "display_data"
    },
    {
     "data": {
      "text/html": [
       "<script id=\"dataInserterScript\">\n",
       "require(['JsMVA'],function(jsmva){\n",
       "jsmva.updateTrainingTestingErrors('jstmva_5', '{  \"_typename\" : \"TMultiGraph\",  \"fUniqueID\" : 0,  \"fBits\" : 50331656,  \"fName\" : \"\",  \"fTitle\" : \"\",  \"fGraphs\" : {    \"_typename\" : \"TList\",    \"name\" : \"TList\",    \"arr\" : [{      \"_typename\" : \"TGraph\",      \"fUniqueID\" : 0,      \"fBits\" : 50332680,      \"fName\" : \"Error on training set\",      \"fTitle\" : \"Error on training set\",      \"fLineColor\" : 2,      \"fLineStyle\" : 1,      \"fLineWidth\" : 1,      \"fFillColor\" : 2,      \"fFillStyle\" : 1000,      \"fMarkerColor\" : 2,      \"fMarkerStyle\" : 1,      \"fMarkerSize\" : 1,      \"fNpoints\" : 114,      \"fX\" : [7, 7, 14, 14, 21, 21, 28, 28, 35, 35, 42, 42, 49, 49, 56, 56, 63, 63, 70, 70, 77, 77, 84, 84, 91, 91, 98, 98, 105, 105, 112, 112, 119, 119, 126, 126, 133, 133, 140, 140, 147, 147, 154, 154, 161, 161, 168, 168, 175, 175, 182, 182, 189, 189, 196, 196, 203, 203, 210, 210, 217, 217, 224, 224, 231, 231, 238, 238, 245, 245, 252, 252, 259, 259, 266, 266, 273, 273, 280, 280, 287, 287, 294, 294, 301, 301, 308, 308, 315, 315, 322, 322, 329, 329, 336, 336, 343, 343, 350, 350, 357, 357, 364, 364, 371, 371, 378, 378, 385, 385, 392, 392, 399, 399],      \"fY\" : [0.691367127001286, 0.691367127001286, 0.68757544644177, 0.68757544644177, 0.691233430057764, 0.691233430057764, 0.691455043852329, 0.691455043852329, 0.673537012189627, 0.673537012189627, 0.66773134469986, 0.66773134469986, 0.668419050052762, 0.668419050052762, 0.657169060781598, 0.657169060781598, 0.65177720785141, 0.65177720785141, 0.690621865913272, 0.690621865913272, 0.646501997485757, 0.646501997485757, 0.653797740116715, 0.653797740116715, 0.660892063751817, 0.660892063751817, 0.64072136208415, 0.64072136208415, 0.638995612040162, 0.638995612040162, 0.637884698808193, 0.637884698808193, 0.63699359446764, 0.63699359446764, 0.636148618534207, 0.636148618534207, 0.638369658961892, 0.638369658961892, 0.634178251028061, 0.634178251028061, 0.643412763252854, 0.643412763252854, 0.633781384676695, 0.633781384676695, 0.632525561377406, 0.632525561377406, 0.632309082895517, 0.632309082895517, 0.632173266261816, 0.632173266261816, 0.647736189886928, 0.647736189886928, 0.691238556057215, 0.691238556057215, 0.695376875810325, 0.695376875810325, 0.665254828520119, 0.665254828520119, 0.645800108090043, 0.645800108090043, 0.629979571327567, 0.629979571327567, 0.642597373574972, 0.642597373574972, 0.632830211892724, 0.632830211892724, 0.636701023206115, 0.636701023206115, 0.644877929240465, 0.644877929240465, 0.628565112128854, 0.628565112128854, 0.629457061178982, 0.629457061178982, 0.666270231828094, 0.666270231828094, 0.651004608720541, 0.651004608720541, 0.671591302379966, 0.671591302379966, 0.637884424068034, 0.637884424068034, 0.627734832465649, 0.627734832465649, 0.650953007861972, 0.650953007861972, 0.673990340903401, 0.673990340903401, 0.624984843656421, 0.624984843656421, 0.642864992842078, 0.642864992842078, 0.664031144231558, 0.664031144231558, 0.624670777469873, 0.624670777469873, 0.6369324401021, 0.6369324401021, 0.63507073558867, 0.63507073558867, 0.62535360455513, 0.62535360455513, 0.626090744510293, 0.626090744510293, 0.632205935195088, 0.632205935195088, 0.630243599414825, 0.630243599414825, 0.635520903393626, 0.635520903393626, 0.626317147165537, 0.626317147165537, 0.62368640769273, 0.62368640769273],      \"fFunctions\" : {        \"_typename\" : \"TList\",        \"name\" : \"TList\",        \"arr\" : [],        \"opt\" : []      },      \"fHistogram\" : null,      \"fMinimum\" : -1111,      \"fMaximum\" : -1111    }, {      \"_typename\" : \"TGraph\",      \"fUniqueID\" : 0,      \"fBits\" : 50332680,      \"fName\" : \"Error on test set\",      \"fTitle\" : \"Error on test set\",      \"fLineColor\" : 4,      \"fLineStyle\" : 1,      \"fLineWidth\" : 1,      \"fFillColor\" : 4,      \"fFillStyle\" : 1000,      \"fMarkerColor\" : 4,      \"fMarkerStyle\" : 1,      \"fMarkerSize\" : 1,      \"fNpoints\" : 114,      \"fX\" : [7, 7, 14, 14, 21, 21, 28, 28, 35, 35, 42, 42, 49, 49, 56, 56, 63, 63, 70, 70, 77, 77, 84, 84, 91, 91, 98, 98, 105, 105, 112, 112, 119, 119, 126, 126, 133, 133, 140, 140, 147, 147, 154, 154, 161, 161, 168, 168, 175, 175, 182, 182, 189, 189, 196, 196, 203, 203, 210, 210, 217, 217, 224, 224, 231, 231, 238, 238, 245, 245, 252, 252, 259, 259, 266, 266, 273, 273, 280, 280, 287, 287, 294, 294, 301, 301, 308, 308, 315, 315, 322, 322, 329, 329, 336, 336, 343, 343, 350, 350, 357, 357, 364, 364, 371, 371, 378, 378, 385, 385, 392, 392, 399, 399],      \"fY\" : [0.69950145483017, 0.69950145483017, 0.697533346712589, 0.697533346712589, 0.705983474850655, 0.705983474850655, 0.7094956189394, 0.7094956189394, 0.69187867641449, 0.69187867641449, 0.68785484880209, 0.68785484880209, 0.693413726985455, 0.693413726985455, 0.679884925484657, 0.679884925484657, 0.676676318049431, 0.676676318049431, 0.720704898238182, 0.720704898238182, 0.67446044832468, 0.67446044832468, 0.680401884019375, 0.680401884019375, 0.694070115685463, 0.694070115685463, 0.674440138041973, 0.674440138041973, 0.673869334161282, 0.673869334161282, 0.673528887331486, 0.673528887331486, 0.675819091498852, 0.675819091498852, 0.674026131629944, 0.674026131629944, 0.677195571362972, 0.677195571362972, 0.672364041209221, 0.672364041209221, 0.685560680925846, 0.685560680925846, 0.674806125462055, 0.674806125462055, 0.673901923000813, 0.673901923000813, 0.67365637421608, 0.67365637421608, 0.673860803246498, 0.673860803246498, 0.693854995071888, 0.693854995071888, 0.737445719540119, 0.737445719540119, 0.743517629802227, 0.743517629802227, 0.710688672959805, 0.710688672959805, 0.690357267856598, 0.690357267856598, 0.671598091721535, 0.671598091721535, 0.688565768301487, 0.688565768301487, 0.676071405410767, 0.676071405410767, 0.680290743708611, 0.680290743708611, 0.691122449934483, 0.691122449934483, 0.670673958957195, 0.670673958957195, 0.672965653240681, 0.672965653240681, 0.713759928941727, 0.713759928941727, 0.696593128144741, 0.696593128144741, 0.718328975141048, 0.718328975141048, 0.680445060133934, 0.680445060133934, 0.666868515312672, 0.666868515312672, 0.695123575627804, 0.695123575627804, 0.72080734372139, 0.72080734372139, 0.665941424667835, 0.665941424667835, 0.682740159332752, 0.682740159332752, 0.70792829990387, 0.70792829990387, 0.665428966283798, 0.665428966283798, 0.67864615470171, 0.67864615470171, 0.675902850925922, 0.675902850925922, 0.66413501650095, 0.66413501650095, 0.661752991378307, 0.661752991378307, 0.673247590661049, 0.673247590661049, 0.668053142726421, 0.668053142726421, 0.676235429942608, 0.676235429942608, 0.664531014859676, 0.664531014859676, 0.663478769361973, 0.663478769361973],      \"fFunctions\" : {        \"_typename\" : \"TList\",        \"name\" : \"TList\",        \"arr\" : [],        \"opt\" : []      },      \"fHistogram\" : null,      \"fMinimum\" : -1111,      \"fMaximum\" : -1111    }],    \"opt\" : [\"\", \"\"]  },  \"fFunctions\" : null,  \"fHistogram\" : null,  \"fMaximum\" : -1111,  \"fMinimum\" : -1111}');\n",
       "var script = document.getElementById(\"dataInserterScript\");\n",
       "script.parentElement.parentElement.remove();\n",
       "});\n",
       "</script>"
      ],
      "text/plain": [
       "<IPython.core.display.HTML object>"
      ]
     },
     "metadata": {},
     "output_type": "display_data"
    },
    {
     "data": {
      "text/html": [
       "\n",
       "     <script type=\"text/javascript\" id=\"progressBarScriptInc\">\n",
       "     require([\"jquery\"], function(jQ){\n",
       "         jQ(\"#jsmva_bar_2\").css(\"width\", 35 + \"%\");\n",
       "         jQ(\"#jsmva_label_2\").text(35 + '%');\n",
       "         jQ(\"#progressBarScriptInc\").parent().parent().remove();\n",
       "     });\n",
       "     </script>\n",
       "     "
      ],
      "text/plain": [
       "<IPython.core.display.HTML object>"
      ]
     },
     "metadata": {},
     "output_type": "display_data"
    },
    {
     "data": {
      "text/html": [
       "<script id=\"dataInserterScript\">\n",
       "require(['JsMVA'],function(jsmva){\n",
       "jsmva.updateTrainingTestingErrors('jstmva_5', '{  \"_typename\" : \"TMultiGraph\",  \"fUniqueID\" : 0,  \"fBits\" : 50331656,  \"fName\" : \"\",  \"fTitle\" : \"\",  \"fGraphs\" : {    \"_typename\" : \"TList\",    \"name\" : \"TList\",    \"arr\" : [{      \"_typename\" : \"TGraph\",      \"fUniqueID\" : 0,      \"fBits\" : 50332680,      \"fName\" : \"Error on training set\",      \"fTitle\" : \"Error on training set\",      \"fLineColor\" : 2,      \"fLineStyle\" : 1,      \"fLineWidth\" : 1,      \"fFillColor\" : 2,      \"fFillStyle\" : 1000,      \"fMarkerColor\" : 2,      \"fMarkerStyle\" : 1,      \"fMarkerSize\" : 1,      \"fNpoints\" : 120,      \"fX\" : [7, 7, 14, 14, 21, 21, 28, 28, 35, 35, 42, 42, 49, 49, 56, 56, 63, 63, 70, 70, 77, 77, 84, 84, 91, 91, 98, 98, 105, 105, 112, 112, 119, 119, 126, 126, 133, 133, 140, 140, 147, 147, 154, 154, 161, 161, 168, 168, 175, 175, 182, 182, 189, 189, 196, 196, 203, 203, 210, 210, 217, 217, 224, 224, 231, 231, 238, 238, 245, 245, 252, 252, 259, 259, 266, 266, 273, 273, 280, 280, 287, 287, 294, 294, 301, 301, 308, 308, 315, 315, 322, 322, 329, 329, 336, 336, 343, 343, 350, 350, 357, 357, 364, 364, 371, 371, 378, 378, 385, 385, 392, 392, 399, 399, 406, 406, 413, 413, 420, 420],      \"fY\" : [0.691367127001286, 0.691367127001286, 0.68757544644177, 0.68757544644177, 0.691233430057764, 0.691233430057764, 0.691455043852329, 0.691455043852329, 0.673537012189627, 0.673537012189627, 0.66773134469986, 0.66773134469986, 0.668419050052762, 0.668419050052762, 0.657169060781598, 0.657169060781598, 0.65177720785141, 0.65177720785141, 0.690621865913272, 0.690621865913272, 0.646501997485757, 0.646501997485757, 0.653797740116715, 0.653797740116715, 0.660892063751817, 0.660892063751817, 0.64072136208415, 0.64072136208415, 0.638995612040162, 0.638995612040162, 0.637884698808193, 0.637884698808193, 0.63699359446764, 0.63699359446764, 0.636148618534207, 0.636148618534207, 0.638369658961892, 0.638369658961892, 0.634178251028061, 0.634178251028061, 0.643412763252854, 0.643412763252854, 0.633781384676695, 0.633781384676695, 0.632525561377406, 0.632525561377406, 0.632309082895517, 0.632309082895517, 0.632173266261816, 0.632173266261816, 0.647736189886928, 0.647736189886928, 0.691238556057215, 0.691238556057215, 0.695376875810325, 0.695376875810325, 0.665254828520119, 0.665254828520119, 0.645800108090043, 0.645800108090043, 0.629979571327567, 0.629979571327567, 0.642597373574972, 0.642597373574972, 0.632830211892724, 0.632830211892724, 0.636701023206115, 0.636701023206115, 0.644877929240465, 0.644877929240465, 0.628565112128854, 0.628565112128854, 0.629457061178982, 0.629457061178982, 0.666270231828094, 0.666270231828094, 0.651004608720541, 0.651004608720541, 0.671591302379966, 0.671591302379966, 0.637884424068034, 0.637884424068034, 0.627734832465649, 0.627734832465649, 0.650953007861972, 0.650953007861972, 0.673990340903401, 0.673990340903401, 0.624984843656421, 0.624984843656421, 0.642864992842078, 0.642864992842078, 0.664031144231558, 0.664031144231558, 0.624670777469873, 0.624670777469873, 0.6369324401021, 0.6369324401021, 0.63507073558867, 0.63507073558867, 0.62535360455513, 0.62535360455513, 0.626090744510293, 0.626090744510293, 0.632205935195088, 0.632205935195088, 0.630243599414825, 0.630243599414825, 0.635520903393626, 0.635520903393626, 0.626317147165537, 0.626317147165537, 0.62368640769273, 0.62368640769273, 0.623632817529142, 0.623632817529142, 0.622068591415882, 0.622068591415882, 0.62883541919291, 0.62883541919291],      \"fFunctions\" : {        \"_typename\" : \"TList\",        \"name\" : \"TList\",        \"arr\" : [],        \"opt\" : []      },      \"fHistogram\" : null,      \"fMinimum\" : -1111,      \"fMaximum\" : -1111    }, {      \"_typename\" : \"TGraph\",      \"fUniqueID\" : 0,      \"fBits\" : 50332680,      \"fName\" : \"Error on test set\",      \"fTitle\" : \"Error on test set\",      \"fLineColor\" : 4,      \"fLineStyle\" : 1,      \"fLineWidth\" : 1,      \"fFillColor\" : 4,      \"fFillStyle\" : 1000,      \"fMarkerColor\" : 4,      \"fMarkerStyle\" : 1,      \"fMarkerSize\" : 1,      \"fNpoints\" : 120,      \"fX\" : [7, 7, 14, 14, 21, 21, 28, 28, 35, 35, 42, 42, 49, 49, 56, 56, 63, 63, 70, 70, 77, 77, 84, 84, 91, 91, 98, 98, 105, 105, 112, 112, 119, 119, 126, 126, 133, 133, 140, 140, 147, 147, 154, 154, 161, 161, 168, 168, 175, 175, 182, 182, 189, 189, 196, 196, 203, 203, 210, 210, 217, 217, 224, 224, 231, 231, 238, 238, 245, 245, 252, 252, 259, 259, 266, 266, 273, 273, 280, 280, 287, 287, 294, 294, 301, 301, 308, 308, 315, 315, 322, 322, 329, 329, 336, 336, 343, 343, 350, 350, 357, 357, 364, 364, 371, 371, 378, 378, 385, 385, 392, 392, 399, 399, 406, 406, 413, 413, 420, 420],      \"fY\" : [0.69950145483017, 0.69950145483017, 0.697533346712589, 0.697533346712589, 0.705983474850655, 0.705983474850655, 0.7094956189394, 0.7094956189394, 0.69187867641449, 0.69187867641449, 0.68785484880209, 0.68785484880209, 0.693413726985455, 0.693413726985455, 0.679884925484657, 0.679884925484657, 0.676676318049431, 0.676676318049431, 0.720704898238182, 0.720704898238182, 0.67446044832468, 0.67446044832468, 0.680401884019375, 0.680401884019375, 0.694070115685463, 0.694070115685463, 0.674440138041973, 0.674440138041973, 0.673869334161282, 0.673869334161282, 0.673528887331486, 0.673528887331486, 0.675819091498852, 0.675819091498852, 0.674026131629944, 0.674026131629944, 0.677195571362972, 0.677195571362972, 0.672364041209221, 0.672364041209221, 0.685560680925846, 0.685560680925846, 0.674806125462055, 0.674806125462055, 0.673901923000813, 0.673901923000813, 0.67365637421608, 0.67365637421608, 0.673860803246498, 0.673860803246498, 0.693854995071888, 0.693854995071888, 0.737445719540119, 0.737445719540119, 0.743517629802227, 0.743517629802227, 0.710688672959805, 0.710688672959805, 0.690357267856598, 0.690357267856598, 0.671598091721535, 0.671598091721535, 0.688565768301487, 0.688565768301487, 0.676071405410767, 0.676071405410767, 0.680290743708611, 0.680290743708611, 0.691122449934483, 0.691122449934483, 0.670673958957195, 0.670673958957195, 0.672965653240681, 0.672965653240681, 0.713759928941727, 0.713759928941727, 0.696593128144741, 0.696593128144741, 0.718328975141048, 0.718328975141048, 0.680445060133934, 0.680445060133934, 0.666868515312672, 0.666868515312672, 0.695123575627804, 0.695123575627804, 0.72080734372139, 0.72080734372139, 0.665941424667835, 0.665941424667835, 0.682740159332752, 0.682740159332752, 0.70792829990387, 0.70792829990387, 0.665428966283798, 0.665428966283798, 0.67864615470171, 0.67864615470171, 0.675902850925922, 0.675902850925922, 0.66413501650095, 0.66413501650095, 0.661752991378307, 0.661752991378307, 0.673247590661049, 0.673247590661049, 0.668053142726421, 0.668053142726421, 0.676235429942608, 0.676235429942608, 0.664531014859676, 0.664531014859676, 0.663478769361973, 0.663478769361973, 0.6636893004179, 0.6636893004179, 0.661020636558533, 0.661020636558533, 0.668154679238796, 0.668154679238796],      \"fFunctions\" : {        \"_typename\" : \"TList\",        \"name\" : \"TList\",        \"arr\" : [],        \"opt\" : []      },      \"fHistogram\" : null,      \"fMinimum\" : -1111,      \"fMaximum\" : -1111    }],    \"opt\" : [\"\", \"\"]  },  \"fFunctions\" : null,  \"fHistogram\" : null,  \"fMaximum\" : -1111,  \"fMinimum\" : -1111}');\n",
       "var script = document.getElementById(\"dataInserterScript\");\n",
       "script.parentElement.parentElement.remove();\n",
       "});\n",
       "</script>"
      ],
      "text/plain": [
       "<IPython.core.display.HTML object>"
      ]
     },
     "metadata": {},
     "output_type": "display_data"
    },
    {
     "data": {
      "text/html": [
       "\n",
       "     <script type=\"text/javascript\" id=\"progressBarScriptInc\">\n",
       "     require([\"jquery\"], function(jQ){\n",
       "         jQ(\"#jsmva_bar_2\").css(\"width\", 7 + \"%\");\n",
       "         jQ(\"#jsmva_label_2\").text(7 + '%');\n",
       "         jQ(\"#progressBarScriptInc\").parent().parent().remove();\n",
       "     });\n",
       "     </script>\n",
       "     "
      ],
      "text/plain": [
       "<IPython.core.display.HTML object>"
      ]
     },
     "metadata": {},
     "output_type": "display_data"
    },
    {
     "data": {
      "text/html": [
       "<script id=\"dataInserterScript\">\n",
       "require(['JsMVA'],function(jsmva){\n",
       "jsmva.updateTrainingTestingErrors('jstmva_5', '{  \"_typename\" : \"TMultiGraph\",  \"fUniqueID\" : 0,  \"fBits\" : 50331656,  \"fName\" : \"\",  \"fTitle\" : \"\",  \"fGraphs\" : {    \"_typename\" : \"TList\",    \"name\" : \"TList\",    \"arr\" : [{      \"_typename\" : \"TGraph\",      \"fUniqueID\" : 0,      \"fBits\" : 50332680,      \"fName\" : \"Error on training set\",      \"fTitle\" : \"Error on training set\",      \"fLineColor\" : 2,      \"fLineStyle\" : 1,      \"fLineWidth\" : 1,      \"fFillColor\" : 2,      \"fFillStyle\" : 1000,      \"fMarkerColor\" : 2,      \"fMarkerStyle\" : 1,      \"fMarkerSize\" : 1,      \"fNpoints\" : 126,      \"fX\" : [7, 7, 14, 14, 21, 21, 28, 28, 35, 35, 42, 42, 49, 49, 56, 56, 63, 63, 70, 70, 77, 77, 84, 84, 91, 91, 98, 98, 105, 105, 112, 112, 119, 119, 126, 126, 133, 133, 140, 140, 147, 147, 154, 154, 161, 161, 168, 168, 175, 175, 182, 182, 189, 189, 196, 196, 203, 203, 210, 210, 217, 217, 224, 224, 231, 231, 238, 238, 245, 245, 252, 252, 259, 259, 266, 266, 273, 273, 280, 280, 287, 287, 294, 294, 301, 301, 308, 308, 315, 315, 322, 322, 329, 329, 336, 336, 343, 343, 350, 350, 357, 357, 364, 364, 371, 371, 378, 378, 385, 385, 392, 392, 399, 399, 406, 406, 413, 413, 420, 420, 427, 427, 434, 434, 441, 441],      \"fY\" : [0.691367127001286, 0.691367127001286, 0.68757544644177, 0.68757544644177, 0.691233430057764, 0.691233430057764, 0.691455043852329, 0.691455043852329, 0.673537012189627, 0.673537012189627, 0.66773134469986, 0.66773134469986, 0.668419050052762, 0.668419050052762, 0.657169060781598, 0.657169060781598, 0.65177720785141, 0.65177720785141, 0.690621865913272, 0.690621865913272, 0.646501997485757, 0.646501997485757, 0.653797740116715, 0.653797740116715, 0.660892063751817, 0.660892063751817, 0.64072136208415, 0.64072136208415, 0.638995612040162, 0.638995612040162, 0.637884698808193, 0.637884698808193, 0.63699359446764, 0.63699359446764, 0.636148618534207, 0.636148618534207, 0.638369658961892, 0.638369658961892, 0.634178251028061, 0.634178251028061, 0.643412763252854, 0.643412763252854, 0.633781384676695, 0.633781384676695, 0.632525561377406, 0.632525561377406, 0.632309082895517, 0.632309082895517, 0.632173266261816, 0.632173266261816, 0.647736189886928, 0.647736189886928, 0.691238556057215, 0.691238556057215, 0.695376875810325, 0.695376875810325, 0.665254828520119, 0.665254828520119, 0.645800108090043, 0.645800108090043, 0.629979571327567, 0.629979571327567, 0.642597373574972, 0.642597373574972, 0.632830211892724, 0.632830211892724, 0.636701023206115, 0.636701023206115, 0.644877929240465, 0.644877929240465, 0.628565112128854, 0.628565112128854, 0.629457061178982, 0.629457061178982, 0.666270231828094, 0.666270231828094, 0.651004608720541, 0.651004608720541, 0.671591302379966, 0.671591302379966, 0.637884424068034, 0.637884424068034, 0.627734832465649, 0.627734832465649, 0.650953007861972, 0.650953007861972, 0.673990340903401, 0.673990340903401, 0.624984843656421, 0.624984843656421, 0.642864992842078, 0.642864992842078, 0.664031144231558, 0.664031144231558, 0.624670777469873, 0.624670777469873, 0.6369324401021, 0.6369324401021, 0.63507073558867, 0.63507073558867, 0.62535360455513, 0.62535360455513, 0.626090744510293, 0.626090744510293, 0.632205935195088, 0.632205935195088, 0.630243599414825, 0.630243599414825, 0.635520903393626, 0.635520903393626, 0.626317147165537, 0.626317147165537, 0.62368640769273, 0.62368640769273, 0.623632817529142, 0.623632817529142, 0.622068591415882, 0.622068591415882, 0.62883541919291, 0.62883541919291, 0.6249756263569, 0.6249756263569, 0.6263213083148, 0.6263213083148, 0.631204588338733, 0.631204588338733],      \"fFunctions\" : {        \"_typename\" : \"TList\",        \"name\" : \"TList\",        \"arr\" : [],        \"opt\" : []      },      \"fHistogram\" : null,      \"fMinimum\" : -1111,      \"fMaximum\" : -1111    }, {      \"_typename\" : \"TGraph\",      \"fUniqueID\" : 0,      \"fBits\" : 50332680,      \"fName\" : \"Error on test set\",      \"fTitle\" : \"Error on test set\",      \"fLineColor\" : 4,      \"fLineStyle\" : 1,      \"fLineWidth\" : 1,      \"fFillColor\" : 4,      \"fFillStyle\" : 1000,      \"fMarkerColor\" : 4,      \"fMarkerStyle\" : 1,      \"fMarkerSize\" : 1,      \"fNpoints\" : 126,      \"fX\" : [7, 7, 14, 14, 21, 21, 28, 28, 35, 35, 42, 42, 49, 49, 56, 56, 63, 63, 70, 70, 77, 77, 84, 84, 91, 91, 98, 98, 105, 105, 112, 112, 119, 119, 126, 126, 133, 133, 140, 140, 147, 147, 154, 154, 161, 161, 168, 168, 175, 175, 182, 182, 189, 189, 196, 196, 203, 203, 210, 210, 217, 217, 224, 224, 231, 231, 238, 238, 245, 245, 252, 252, 259, 259, 266, 266, 273, 273, 280, 280, 287, 287, 294, 294, 301, 301, 308, 308, 315, 315, 322, 322, 329, 329, 336, 336, 343, 343, 350, 350, 357, 357, 364, 364, 371, 371, 378, 378, 385, 385, 392, 392, 399, 399, 406, 406, 413, 413, 420, 420, 427, 427, 434, 434, 441, 441],      \"fY\" : [0.69950145483017, 0.69950145483017, 0.697533346712589, 0.697533346712589, 0.705983474850655, 0.705983474850655, 0.7094956189394, 0.7094956189394, 0.69187867641449, 0.69187867641449, 0.68785484880209, 0.68785484880209, 0.693413726985455, 0.693413726985455, 0.679884925484657, 0.679884925484657, 0.676676318049431, 0.676676318049431, 0.720704898238182, 0.720704898238182, 0.67446044832468, 0.67446044832468, 0.680401884019375, 0.680401884019375, 0.694070115685463, 0.694070115685463, 0.674440138041973, 0.674440138041973, 0.673869334161282, 0.673869334161282, 0.673528887331486, 0.673528887331486, 0.675819091498852, 0.675819091498852, 0.674026131629944, 0.674026131629944, 0.677195571362972, 0.677195571362972, 0.672364041209221, 0.672364041209221, 0.685560680925846, 0.685560680925846, 0.674806125462055, 0.674806125462055, 0.673901923000813, 0.673901923000813, 0.67365637421608, 0.67365637421608, 0.673860803246498, 0.673860803246498, 0.693854995071888, 0.693854995071888, 0.737445719540119, 0.737445719540119, 0.743517629802227, 0.743517629802227, 0.710688672959805, 0.710688672959805, 0.690357267856598, 0.690357267856598, 0.671598091721535, 0.671598091721535, 0.688565768301487, 0.688565768301487, 0.676071405410767, 0.676071405410767, 0.680290743708611, 0.680290743708611, 0.691122449934483, 0.691122449934483, 0.670673958957195, 0.670673958957195, 0.672965653240681, 0.672965653240681, 0.713759928941727, 0.713759928941727, 0.696593128144741, 0.696593128144741, 0.718328975141048, 0.718328975141048, 0.680445060133934, 0.680445060133934, 0.666868515312672, 0.666868515312672, 0.695123575627804, 0.695123575627804, 0.72080734372139, 0.72080734372139, 0.665941424667835, 0.665941424667835, 0.682740159332752, 0.682740159332752, 0.70792829990387, 0.70792829990387, 0.665428966283798, 0.665428966283798, 0.67864615470171, 0.67864615470171, 0.675902850925922, 0.675902850925922, 0.66413501650095, 0.66413501650095, 0.661752991378307, 0.661752991378307, 0.673247590661049, 0.673247590661049, 0.668053142726421, 0.668053142726421, 0.676235429942608, 0.676235429942608, 0.664531014859676, 0.664531014859676, 0.663478769361973, 0.663478769361973, 0.6636893004179, 0.6636893004179, 0.661020636558533, 0.661020636558533, 0.668154679238796, 0.668154679238796, 0.663498982787132, 0.663498982787132, 0.66486231982708, 0.66486231982708, 0.670709282159805, 0.670709282159805],      \"fFunctions\" : {        \"_typename\" : \"TList\",        \"name\" : \"TList\",        \"arr\" : [],        \"opt\" : []      },      \"fHistogram\" : null,      \"fMinimum\" : -1111,      \"fMaximum\" : -1111    }],    \"opt\" : [\"\", \"\"]  },  \"fFunctions\" : null,  \"fHistogram\" : null,  \"fMaximum\" : -1111,  \"fMinimum\" : -1111}');\n",
       "var script = document.getElementById(\"dataInserterScript\");\n",
       "script.parentElement.parentElement.remove();\n",
       "});\n",
       "</script>"
      ],
      "text/plain": [
       "<IPython.core.display.HTML object>"
      ]
     },
     "metadata": {},
     "output_type": "display_data"
    },
    {
     "data": {
      "text/html": [
       "\n",
       "     <script type=\"text/javascript\" id=\"progressBarScriptInc\">\n",
       "     require([\"jquery\"], function(jQ){\n",
       "         jQ(\"#jsmva_bar_2\").css(\"width\", 28 + \"%\");\n",
       "         jQ(\"#jsmva_label_2\").text(28 + '%');\n",
       "         jQ(\"#progressBarScriptInc\").parent().parent().remove();\n",
       "     });\n",
       "     </script>\n",
       "     "
      ],
      "text/plain": [
       "<IPython.core.display.HTML object>"
      ]
     },
     "metadata": {},
     "output_type": "display_data"
    },
    {
     "data": {
      "text/html": [
       "<script id=\"dataInserterScript\">\n",
       "require(['JsMVA'],function(jsmva){\n",
       "jsmva.updateTrainingTestingErrors('jstmva_5', '{  \"_typename\" : \"TMultiGraph\",  \"fUniqueID\" : 0,  \"fBits\" : 50331656,  \"fName\" : \"\",  \"fTitle\" : \"\",  \"fGraphs\" : {    \"_typename\" : \"TList\",    \"name\" : \"TList\",    \"arr\" : [{      \"_typename\" : \"TGraph\",      \"fUniqueID\" : 0,      \"fBits\" : 50332680,      \"fName\" : \"Error on training set\",      \"fTitle\" : \"Error on training set\",      \"fLineColor\" : 2,      \"fLineStyle\" : 1,      \"fLineWidth\" : 1,      \"fFillColor\" : 2,      \"fFillStyle\" : 1000,      \"fMarkerColor\" : 2,      \"fMarkerStyle\" : 1,      \"fMarkerSize\" : 1,      \"fNpoints\" : 134,      \"fX\" : [7, 7, 14, 14, 21, 21, 28, 28, 35, 35, 42, 42, 49, 49, 56, 56, 63, 63, 70, 70, 77, 77, 84, 84, 91, 91, 98, 98, 105, 105, 112, 112, 119, 119, 126, 126, 133, 133, 140, 140, 147, 147, 154, 154, 161, 161, 168, 168, 175, 175, 182, 182, 189, 189, 196, 196, 203, 203, 210, 210, 217, 217, 224, 224, 231, 231, 238, 238, 245, 245, 252, 252, 259, 259, 266, 266, 273, 273, 280, 280, 287, 287, 294, 294, 301, 301, 308, 308, 315, 315, 322, 322, 329, 329, 336, 336, 343, 343, 350, 350, 357, 357, 364, 364, 371, 371, 378, 378, 385, 385, 392, 392, 399, 399, 406, 406, 413, 413, 420, 420, 427, 427, 434, 434, 441, 441, 448, 448, 455, 455, 462, 462, 469, 469],      \"fY\" : [0.691367127001286, 0.691367127001286, 0.68757544644177, 0.68757544644177, 0.691233430057764, 0.691233430057764, 0.691455043852329, 0.691455043852329, 0.673537012189627, 0.673537012189627, 0.66773134469986, 0.66773134469986, 0.668419050052762, 0.668419050052762, 0.657169060781598, 0.657169060781598, 0.65177720785141, 0.65177720785141, 0.690621865913272, 0.690621865913272, 0.646501997485757, 0.646501997485757, 0.653797740116715, 0.653797740116715, 0.660892063751817, 0.660892063751817, 0.64072136208415, 0.64072136208415, 0.638995612040162, 0.638995612040162, 0.637884698808193, 0.637884698808193, 0.63699359446764, 0.63699359446764, 0.636148618534207, 0.636148618534207, 0.638369658961892, 0.638369658961892, 0.634178251028061, 0.634178251028061, 0.643412763252854, 0.643412763252854, 0.633781384676695, 0.633781384676695, 0.632525561377406, 0.632525561377406, 0.632309082895517, 0.632309082895517, 0.632173266261816, 0.632173266261816, 0.647736189886928, 0.647736189886928, 0.691238556057215, 0.691238556057215, 0.695376875810325, 0.695376875810325, 0.665254828520119, 0.665254828520119, 0.645800108090043, 0.645800108090043, 0.629979571327567, 0.629979571327567, 0.642597373574972, 0.642597373574972, 0.632830211892724, 0.632830211892724, 0.636701023206115, 0.636701023206115, 0.644877929240465, 0.644877929240465, 0.628565112128854, 0.628565112128854, 0.629457061178982, 0.629457061178982, 0.666270231828094, 0.666270231828094, 0.651004608720541, 0.651004608720541, 0.671591302379966, 0.671591302379966, 0.637884424068034, 0.637884424068034, 0.627734832465649, 0.627734832465649, 0.650953007861972, 0.650953007861972, 0.673990340903401, 0.673990340903401, 0.624984843656421, 0.624984843656421, 0.642864992842078, 0.642864992842078, 0.664031144231558, 0.664031144231558, 0.624670777469873, 0.624670777469873, 0.6369324401021, 0.6369324401021, 0.63507073558867, 0.63507073558867, 0.62535360455513, 0.62535360455513, 0.626090744510293, 0.626090744510293, 0.632205935195088, 0.632205935195088, 0.630243599414825, 0.630243599414825, 0.635520903393626, 0.635520903393626, 0.626317147165537, 0.626317147165537, 0.62368640769273, 0.62368640769273, 0.623632817529142, 0.623632817529142, 0.622068591415882, 0.622068591415882, 0.62883541919291, 0.62883541919291, 0.6249756263569, 0.6249756263569, 0.6263213083148, 0.6263213083148, 0.631204588338733, 0.631204588338733, 0.624088989570737, 0.624088989570737, 0.621667187660933, 0.621667187660933, 0.623881287872791, 0.623881287872791, 0.628251994028687, 0.628251994028687],      \"fFunctions\" : {        \"_typename\" : \"TList\",        \"name\" : \"TList\",        \"arr\" : [],        \"opt\" : []      },      \"fHistogram\" : null,      \"fMinimum\" : -1111,      \"fMaximum\" : -1111    }, {      \"_typename\" : \"TGraph\",      \"fUniqueID\" : 0,      \"fBits\" : 50332680,      \"fName\" : \"Error on test set\",      \"fTitle\" : \"Error on test set\",      \"fLineColor\" : 4,      \"fLineStyle\" : 1,      \"fLineWidth\" : 1,      \"fFillColor\" : 4,      \"fFillStyle\" : 1000,      \"fMarkerColor\" : 4,      \"fMarkerStyle\" : 1,      \"fMarkerSize\" : 1,      \"fNpoints\" : 134,      \"fX\" : [7, 7, 14, 14, 21, 21, 28, 28, 35, 35, 42, 42, 49, 49, 56, 56, 63, 63, 70, 70, 77, 77, 84, 84, 91, 91, 98, 98, 105, 105, 112, 112, 119, 119, 126, 126, 133, 133, 140, 140, 147, 147, 154, 154, 161, 161, 168, 168, 175, 175, 182, 182, 189, 189, 196, 196, 203, 203, 210, 210, 217, 217, 224, 224, 231, 231, 238, 238, 245, 245, 252, 252, 259, 259, 266, 266, 273, 273, 280, 280, 287, 287, 294, 294, 301, 301, 308, 308, 315, 315, 322, 322, 329, 329, 336, 336, 343, 343, 350, 350, 357, 357, 364, 364, 371, 371, 378, 378, 385, 385, 392, 392, 399, 399, 406, 406, 413, 413, 420, 420, 427, 427, 434, 434, 441, 441, 448, 448, 455, 455, 462, 462, 469, 469],      \"fY\" : [0.69950145483017, 0.69950145483017, 0.697533346712589, 0.697533346712589, 0.705983474850655, 0.705983474850655, 0.7094956189394, 0.7094956189394, 0.69187867641449, 0.69187867641449, 0.68785484880209, 0.68785484880209, 0.693413726985455, 0.693413726985455, 0.679884925484657, 0.679884925484657, 0.676676318049431, 0.676676318049431, 0.720704898238182, 0.720704898238182, 0.67446044832468, 0.67446044832468, 0.680401884019375, 0.680401884019375, 0.694070115685463, 0.694070115685463, 0.674440138041973, 0.674440138041973, 0.673869334161282, 0.673869334161282, 0.673528887331486, 0.673528887331486, 0.675819091498852, 0.675819091498852, 0.674026131629944, 0.674026131629944, 0.677195571362972, 0.677195571362972, 0.672364041209221, 0.672364041209221, 0.685560680925846, 0.685560680925846, 0.674806125462055, 0.674806125462055, 0.673901923000813, 0.673901923000813, 0.67365637421608, 0.67365637421608, 0.673860803246498, 0.673860803246498, 0.693854995071888, 0.693854995071888, 0.737445719540119, 0.737445719540119, 0.743517629802227, 0.743517629802227, 0.710688672959805, 0.710688672959805, 0.690357267856598, 0.690357267856598, 0.671598091721535, 0.671598091721535, 0.688565768301487, 0.688565768301487, 0.676071405410767, 0.676071405410767, 0.680290743708611, 0.680290743708611, 0.691122449934483, 0.691122449934483, 0.670673958957195, 0.670673958957195, 0.672965653240681, 0.672965653240681, 0.713759928941727, 0.713759928941727, 0.696593128144741, 0.696593128144741, 0.718328975141048, 0.718328975141048, 0.680445060133934, 0.680445060133934, 0.666868515312672, 0.666868515312672, 0.695123575627804, 0.695123575627804, 0.72080734372139, 0.72080734372139, 0.665941424667835, 0.665941424667835, 0.682740159332752, 0.682740159332752, 0.70792829990387, 0.70792829990387, 0.665428966283798, 0.665428966283798, 0.67864615470171, 0.67864615470171, 0.675902850925922, 0.675902850925922, 0.66413501650095, 0.66413501650095, 0.661752991378307, 0.661752991378307, 0.673247590661049, 0.673247590661049, 0.668053142726421, 0.668053142726421, 0.676235429942608, 0.676235429942608, 0.664531014859676, 0.664531014859676, 0.663478769361973, 0.663478769361973, 0.6636893004179, 0.6636893004179, 0.661020636558533, 0.661020636558533, 0.668154679238796, 0.668154679238796, 0.663498982787132, 0.663498982787132, 0.66486231982708, 0.66486231982708, 0.670709282159805, 0.670709282159805, 0.660839796066284, 0.660839796066284, 0.661589175462723, 0.661589175462723, 0.660803928971291, 0.660803928971291, 0.662618197500706, 0.662618197500706],      \"fFunctions\" : {        \"_typename\" : \"TList\",        \"name\" : \"TList\",        \"arr\" : [],        \"opt\" : []      },      \"fHistogram\" : null,      \"fMinimum\" : -1111,      \"fMaximum\" : -1111    }],    \"opt\" : [\"\", \"\"]  },  \"fFunctions\" : null,  \"fHistogram\" : null,  \"fMaximum\" : -1111,  \"fMinimum\" : -1111}');\n",
       "var script = document.getElementById(\"dataInserterScript\");\n",
       "script.parentElement.parentElement.remove();\n",
       "});\n",
       "</script>"
      ],
      "text/plain": [
       "<IPython.core.display.HTML object>"
      ]
     },
     "metadata": {},
     "output_type": "display_data"
    },
    {
     "data": {
      "text/html": [
       "\n",
       "     <script type=\"text/javascript\" id=\"progressBarScriptInc\">\n",
       "     require([\"jquery\"], function(jQ){\n",
       "         jQ(\"#jsmva_bar_2\").css(\"width\", 56 + \"%\");\n",
       "         jQ(\"#jsmva_label_2\").text(56 + '%');\n",
       "         jQ(\"#progressBarScriptInc\").parent().parent().remove();\n",
       "     });\n",
       "     </script>\n",
       "     "
      ],
      "text/plain": [
       "<IPython.core.display.HTML object>"
      ]
     },
     "metadata": {},
     "output_type": "display_data"
    },
    {
     "data": {
      "text/html": [
       "<script id=\"dataInserterScript\">\n",
       "require(['JsMVA'],function(jsmva){\n",
       "jsmva.updateTrainingTestingErrors('jstmva_5', '{  \"_typename\" : \"TMultiGraph\",  \"fUniqueID\" : 0,  \"fBits\" : 50331656,  \"fName\" : \"\",  \"fTitle\" : \"\",  \"fGraphs\" : {    \"_typename\" : \"TList\",    \"name\" : \"TList\",    \"arr\" : [{      \"_typename\" : \"TGraph\",      \"fUniqueID\" : 0,      \"fBits\" : 50332680,      \"fName\" : \"Error on training set\",      \"fTitle\" : \"Error on training set\",      \"fLineColor\" : 2,      \"fLineStyle\" : 1,      \"fLineWidth\" : 1,      \"fFillColor\" : 2,      \"fFillStyle\" : 1000,      \"fMarkerColor\" : 2,      \"fMarkerStyle\" : 1,      \"fMarkerSize\" : 1,      \"fNpoints\" : 140,      \"fX\" : [7, 7, 14, 14, 21, 21, 28, 28, 35, 35, 42, 42, 49, 49, 56, 56, 63, 63, 70, 70, 77, 77, 84, 84, 91, 91, 98, 98, 105, 105, 112, 112, 119, 119, 126, 126, 133, 133, 140, 140, 147, 147, 154, 154, 161, 161, 168, 168, 175, 175, 182, 182, 189, 189, 196, 196, 203, 203, 210, 210, 217, 217, 224, 224, 231, 231, 238, 238, 245, 245, 252, 252, 259, 259, 266, 266, 273, 273, 280, 280, 287, 287, 294, 294, 301, 301, 308, 308, 315, 315, 322, 322, 329, 329, 336, 336, 343, 343, 350, 350, 357, 357, 364, 364, 371, 371, 378, 378, 385, 385, 392, 392, 399, 399, 406, 406, 413, 413, 420, 420, 427, 427, 434, 434, 441, 441, 448, 448, 455, 455, 462, 462, 469, 469, 476, 476, 483, 483, 490, 490],      \"fY\" : [0.691367127001286, 0.691367127001286, 0.68757544644177, 0.68757544644177, 0.691233430057764, 0.691233430057764, 0.691455043852329, 0.691455043852329, 0.673537012189627, 0.673537012189627, 0.66773134469986, 0.66773134469986, 0.668419050052762, 0.668419050052762, 0.657169060781598, 0.657169060781598, 0.65177720785141, 0.65177720785141, 0.690621865913272, 0.690621865913272, 0.646501997485757, 0.646501997485757, 0.653797740116715, 0.653797740116715, 0.660892063751817, 0.660892063751817, 0.64072136208415, 0.64072136208415, 0.638995612040162, 0.638995612040162, 0.637884698808193, 0.637884698808193, 0.63699359446764, 0.63699359446764, 0.636148618534207, 0.636148618534207, 0.638369658961892, 0.638369658961892, 0.634178251028061, 0.634178251028061, 0.643412763252854, 0.643412763252854, 0.633781384676695, 0.633781384676695, 0.632525561377406, 0.632525561377406, 0.632309082895517, 0.632309082895517, 0.632173266261816, 0.632173266261816, 0.647736189886928, 0.647736189886928, 0.691238556057215, 0.691238556057215, 0.695376875810325, 0.695376875810325, 0.665254828520119, 0.665254828520119, 0.645800108090043, 0.645800108090043, 0.629979571327567, 0.629979571327567, 0.642597373574972, 0.642597373574972, 0.632830211892724, 0.632830211892724, 0.636701023206115, 0.636701023206115, 0.644877929240465, 0.644877929240465, 0.628565112128854, 0.628565112128854, 0.629457061178982, 0.629457061178982, 0.666270231828094, 0.666270231828094, 0.651004608720541, 0.651004608720541, 0.671591302379966, 0.671591302379966, 0.637884424068034, 0.637884424068034, 0.627734832465649, 0.627734832465649, 0.650953007861972, 0.650953007861972, 0.673990340903401, 0.673990340903401, 0.624984843656421, 0.624984843656421, 0.642864992842078, 0.642864992842078, 0.664031144231558, 0.664031144231558, 0.624670777469873, 0.624670777469873, 0.6369324401021, 0.6369324401021, 0.63507073558867, 0.63507073558867, 0.62535360455513, 0.62535360455513, 0.626090744510293, 0.626090744510293, 0.632205935195088, 0.632205935195088, 0.630243599414825, 0.630243599414825, 0.635520903393626, 0.635520903393626, 0.626317147165537, 0.626317147165537, 0.62368640769273, 0.62368640769273, 0.623632817529142, 0.623632817529142, 0.622068591415882, 0.622068591415882, 0.62883541919291, 0.62883541919291, 0.6249756263569, 0.6249756263569, 0.6263213083148, 0.6263213083148, 0.631204588338733, 0.631204588338733, 0.624088989570737, 0.624088989570737, 0.621667187660933, 0.621667187660933, 0.623881287872791, 0.623881287872791, 0.628251994028687, 0.628251994028687, 0.654454689472914, 0.654454689472914, 0.624494634568691, 0.624494634568691, 0.635901654139161, 0.635901654139161],      \"fFunctions\" : {        \"_typename\" : \"TList\",        \"name\" : \"TList\",        \"arr\" : [],        \"opt\" : []      },      \"fHistogram\" : null,      \"fMinimum\" : -1111,      \"fMaximum\" : -1111    }, {      \"_typename\" : \"TGraph\",      \"fUniqueID\" : 0,      \"fBits\" : 50332680,      \"fName\" : \"Error on test set\",      \"fTitle\" : \"Error on test set\",      \"fLineColor\" : 4,      \"fLineStyle\" : 1,      \"fLineWidth\" : 1,      \"fFillColor\" : 4,      \"fFillStyle\" : 1000,      \"fMarkerColor\" : 4,      \"fMarkerStyle\" : 1,      \"fMarkerSize\" : 1,      \"fNpoints\" : 140,      \"fX\" : [7, 7, 14, 14, 21, 21, 28, 28, 35, 35, 42, 42, 49, 49, 56, 56, 63, 63, 70, 70, 77, 77, 84, 84, 91, 91, 98, 98, 105, 105, 112, 112, 119, 119, 126, 126, 133, 133, 140, 140, 147, 147, 154, 154, 161, 161, 168, 168, 175, 175, 182, 182, 189, 189, 196, 196, 203, 203, 210, 210, 217, 217, 224, 224, 231, 231, 238, 238, 245, 245, 252, 252, 259, 259, 266, 266, 273, 273, 280, 280, 287, 287, 294, 294, 301, 301, 308, 308, 315, 315, 322, 322, 329, 329, 336, 336, 343, 343, 350, 350, 357, 357, 364, 364, 371, 371, 378, 378, 385, 385, 392, 392, 399, 399, 406, 406, 413, 413, 420, 420, 427, 427, 434, 434, 441, 441, 448, 448, 455, 455, 462, 462, 469, 469, 476, 476, 483, 483, 490, 490],      \"fY\" : [0.69950145483017, 0.69950145483017, 0.697533346712589, 0.697533346712589, 0.705983474850655, 0.705983474850655, 0.7094956189394, 0.7094956189394, 0.69187867641449, 0.69187867641449, 0.68785484880209, 0.68785484880209, 0.693413726985455, 0.693413726985455, 0.679884925484657, 0.679884925484657, 0.676676318049431, 0.676676318049431, 0.720704898238182, 0.720704898238182, 0.67446044832468, 0.67446044832468, 0.680401884019375, 0.680401884019375, 0.694070115685463, 0.694070115685463, 0.674440138041973, 0.674440138041973, 0.673869334161282, 0.673869334161282, 0.673528887331486, 0.673528887331486, 0.675819091498852, 0.675819091498852, 0.674026131629944, 0.674026131629944, 0.677195571362972, 0.677195571362972, 0.672364041209221, 0.672364041209221, 0.685560680925846, 0.685560680925846, 0.674806125462055, 0.674806125462055, 0.673901923000813, 0.673901923000813, 0.67365637421608, 0.67365637421608, 0.673860803246498, 0.673860803246498, 0.693854995071888, 0.693854995071888, 0.737445719540119, 0.737445719540119, 0.743517629802227, 0.743517629802227, 0.710688672959805, 0.710688672959805, 0.690357267856598, 0.690357267856598, 0.671598091721535, 0.671598091721535, 0.688565768301487, 0.688565768301487, 0.676071405410767, 0.676071405410767, 0.680290743708611, 0.680290743708611, 0.691122449934483, 0.691122449934483, 0.670673958957195, 0.670673958957195, 0.672965653240681, 0.672965653240681, 0.713759928941727, 0.713759928941727, 0.696593128144741, 0.696593128144741, 0.718328975141048, 0.718328975141048, 0.680445060133934, 0.680445060133934, 0.666868515312672, 0.666868515312672, 0.695123575627804, 0.695123575627804, 0.72080734372139, 0.72080734372139, 0.665941424667835, 0.665941424667835, 0.682740159332752, 0.682740159332752, 0.70792829990387, 0.70792829990387, 0.665428966283798, 0.665428966283798, 0.67864615470171, 0.67864615470171, 0.675902850925922, 0.675902850925922, 0.66413501650095, 0.66413501650095, 0.661752991378307, 0.661752991378307, 0.673247590661049, 0.673247590661049, 0.668053142726421, 0.668053142726421, 0.676235429942608, 0.676235429942608, 0.664531014859676, 0.664531014859676, 0.663478769361973, 0.663478769361973, 0.6636893004179, 0.6636893004179, 0.661020636558533, 0.661020636558533, 0.668154679238796, 0.668154679238796, 0.663498982787132, 0.663498982787132, 0.66486231982708, 0.66486231982708, 0.670709282159805, 0.670709282159805, 0.660839796066284, 0.660839796066284, 0.661589175462723, 0.661589175462723, 0.660803928971291, 0.660803928971291, 0.662618197500706, 0.662618197500706, 0.690591633319855, 0.690591633319855, 0.664121530950069, 0.664121530950069, 0.673407919704914, 0.673407919704914],      \"fFunctions\" : {        \"_typename\" : \"TList\",        \"name\" : \"TList\",        \"arr\" : [],        \"opt\" : []      },      \"fHistogram\" : null,      \"fMinimum\" : -1111,      \"fMaximum\" : -1111    }],    \"opt\" : [\"\", \"\"]  },  \"fFunctions\" : null,  \"fHistogram\" : null,  \"fMaximum\" : -1111,  \"fMinimum\" : -1111}');\n",
       "var script = document.getElementById(\"dataInserterScript\");\n",
       "script.parentElement.parentElement.remove();\n",
       "});\n",
       "</script>"
      ],
      "text/plain": [
       "<IPython.core.display.HTML object>"
      ]
     },
     "metadata": {},
     "output_type": "display_data"
    },
    {
     "data": {
      "text/html": [
       "\n",
       "     <script type=\"text/javascript\" id=\"progressBarScriptInc\">\n",
       "     require([\"jquery\"], function(jQ){\n",
       "         jQ(\"#jsmva_bar_2\").css(\"width\", 77 + \"%\");\n",
       "         jQ(\"#jsmva_label_2\").text(77 + '%');\n",
       "         jQ(\"#progressBarScriptInc\").parent().parent().remove();\n",
       "     });\n",
       "     </script>\n",
       "     "
      ],
      "text/plain": [
       "<IPython.core.display.HTML object>"
      ]
     },
     "metadata": {},
     "output_type": "display_data"
    },
    {
     "data": {
      "text/html": [
       "<script id=\"dataInserterScript\">\n",
       "require(['JsMVA'],function(jsmva){\n",
       "jsmva.updateTrainingTestingErrors('jstmva_5', '{  \"_typename\" : \"TMultiGraph\",  \"fUniqueID\" : 0,  \"fBits\" : 50331656,  \"fName\" : \"\",  \"fTitle\" : \"\",  \"fGraphs\" : {    \"_typename\" : \"TList\",    \"name\" : \"TList\",    \"arr\" : [{      \"_typename\" : \"TGraph\",      \"fUniqueID\" : 0,      \"fBits\" : 50332680,      \"fName\" : \"Error on training set\",      \"fTitle\" : \"Error on training set\",      \"fLineColor\" : 2,      \"fLineStyle\" : 1,      \"fLineWidth\" : 1,      \"fFillColor\" : 2,      \"fFillStyle\" : 1000,      \"fMarkerColor\" : 2,      \"fMarkerStyle\" : 1,      \"fMarkerSize\" : 1,      \"fNpoints\" : 146,      \"fX\" : [7, 7, 14, 14, 21, 21, 28, 28, 35, 35, 42, 42, 49, 49, 56, 56, 63, 63, 70, 70, 77, 77, 84, 84, 91, 91, 98, 98, 105, 105, 112, 112, 119, 119, 126, 126, 133, 133, 140, 140, 147, 147, 154, 154, 161, 161, 168, 168, 175, 175, 182, 182, 189, 189, 196, 196, 203, 203, 210, 210, 217, 217, 224, 224, 231, 231, 238, 238, 245, 245, 252, 252, 259, 259, 266, 266, 273, 273, 280, 280, 287, 287, 294, 294, 301, 301, 308, 308, 315, 315, 322, 322, 329, 329, 336, 336, 343, 343, 350, 350, 357, 357, 364, 364, 371, 371, 378, 378, 385, 385, 392, 392, 399, 399, 406, 406, 413, 413, 420, 420, 427, 427, 434, 434, 441, 441, 448, 448, 455, 455, 462, 462, 469, 469, 476, 476, 483, 483, 490, 490, 497, 497, 504, 504, 511, 511],      \"fY\" : [0.691367127001286, 0.691367127001286, 0.68757544644177, 0.68757544644177, 0.691233430057764, 0.691233430057764, 0.691455043852329, 0.691455043852329, 0.673537012189627, 0.673537012189627, 0.66773134469986, 0.66773134469986, 0.668419050052762, 0.668419050052762, 0.657169060781598, 0.657169060781598, 0.65177720785141, 0.65177720785141, 0.690621865913272, 0.690621865913272, 0.646501997485757, 0.646501997485757, 0.653797740116715, 0.653797740116715, 0.660892063751817, 0.660892063751817, 0.64072136208415, 0.64072136208415, 0.638995612040162, 0.638995612040162, 0.637884698808193, 0.637884698808193, 0.63699359446764, 0.63699359446764, 0.636148618534207, 0.636148618534207, 0.638369658961892, 0.638369658961892, 0.634178251028061, 0.634178251028061, 0.643412763252854, 0.643412763252854, 0.633781384676695, 0.633781384676695, 0.632525561377406, 0.632525561377406, 0.632309082895517, 0.632309082895517, 0.632173266261816, 0.632173266261816, 0.647736189886928, 0.647736189886928, 0.691238556057215, 0.691238556057215, 0.695376875810325, 0.695376875810325, 0.665254828520119, 0.665254828520119, 0.645800108090043, 0.645800108090043, 0.629979571327567, 0.629979571327567, 0.642597373574972, 0.642597373574972, 0.632830211892724, 0.632830211892724, 0.636701023206115, 0.636701023206115, 0.644877929240465, 0.644877929240465, 0.628565112128854, 0.628565112128854, 0.629457061178982, 0.629457061178982, 0.666270231828094, 0.666270231828094, 0.651004608720541, 0.651004608720541, 0.671591302379966, 0.671591302379966, 0.637884424068034, 0.637884424068034, 0.627734832465649, 0.627734832465649, 0.650953007861972, 0.650953007861972, 0.673990340903401, 0.673990340903401, 0.624984843656421, 0.624984843656421, 0.642864992842078, 0.642864992842078, 0.664031144231558, 0.664031144231558, 0.624670777469873, 0.624670777469873, 0.6369324401021, 0.6369324401021, 0.63507073558867, 0.63507073558867, 0.62535360455513, 0.62535360455513, 0.626090744510293, 0.626090744510293, 0.632205935195088, 0.632205935195088, 0.630243599414825, 0.630243599414825, 0.635520903393626, 0.635520903393626, 0.626317147165537, 0.626317147165537, 0.62368640769273, 0.62368640769273, 0.623632817529142, 0.623632817529142, 0.622068591415882, 0.622068591415882, 0.62883541919291, 0.62883541919291, 0.6249756263569, 0.6249756263569, 0.6263213083148, 0.6263213083148, 0.631204588338733, 0.631204588338733, 0.624088989570737, 0.624088989570737, 0.621667187660933, 0.621667187660933, 0.623881287872791, 0.623881287872791, 0.628251994028687, 0.628251994028687, 0.654454689472914, 0.654454689472914, 0.624494634568691, 0.624494634568691, 0.635901654139161, 0.635901654139161, 0.635885456576943, 0.635885456576943, 0.624717524275184, 0.624717524275184, 0.64226421713829, 0.64226421713829],      \"fFunctions\" : {        \"_typename\" : \"TList\",        \"name\" : \"TList\",        \"arr\" : [],        \"opt\" : []      },      \"fHistogram\" : null,      \"fMinimum\" : -1111,      \"fMaximum\" : -1111    }, {      \"_typename\" : \"TGraph\",      \"fUniqueID\" : 0,      \"fBits\" : 50332680,      \"fName\" : \"Error on test set\",      \"fTitle\" : \"Error on test set\",      \"fLineColor\" : 4,      \"fLineStyle\" : 1,      \"fLineWidth\" : 1,      \"fFillColor\" : 4,      \"fFillStyle\" : 1000,      \"fMarkerColor\" : 4,      \"fMarkerStyle\" : 1,      \"fMarkerSize\" : 1,      \"fNpoints\" : 146,      \"fX\" : [7, 7, 14, 14, 21, 21, 28, 28, 35, 35, 42, 42, 49, 49, 56, 56, 63, 63, 70, 70, 77, 77, 84, 84, 91, 91, 98, 98, 105, 105, 112, 112, 119, 119, 126, 126, 133, 133, 140, 140, 147, 147, 154, 154, 161, 161, 168, 168, 175, 175, 182, 182, 189, 189, 196, 196, 203, 203, 210, 210, 217, 217, 224, 224, 231, 231, 238, 238, 245, 245, 252, 252, 259, 259, 266, 266, 273, 273, 280, 280, 287, 287, 294, 294, 301, 301, 308, 308, 315, 315, 322, 322, 329, 329, 336, 336, 343, 343, 350, 350, 357, 357, 364, 364, 371, 371, 378, 378, 385, 385, 392, 392, 399, 399, 406, 406, 413, 413, 420, 420, 427, 427, 434, 434, 441, 441, 448, 448, 455, 455, 462, 462, 469, 469, 476, 476, 483, 483, 490, 490, 497, 497, 504, 504, 511, 511],      \"fY\" : [0.69950145483017, 0.69950145483017, 0.697533346712589, 0.697533346712589, 0.705983474850655, 0.705983474850655, 0.7094956189394, 0.7094956189394, 0.69187867641449, 0.69187867641449, 0.68785484880209, 0.68785484880209, 0.693413726985455, 0.693413726985455, 0.679884925484657, 0.679884925484657, 0.676676318049431, 0.676676318049431, 0.720704898238182, 0.720704898238182, 0.67446044832468, 0.67446044832468, 0.680401884019375, 0.680401884019375, 0.694070115685463, 0.694070115685463, 0.674440138041973, 0.674440138041973, 0.673869334161282, 0.673869334161282, 0.673528887331486, 0.673528887331486, 0.675819091498852, 0.675819091498852, 0.674026131629944, 0.674026131629944, 0.677195571362972, 0.677195571362972, 0.672364041209221, 0.672364041209221, 0.685560680925846, 0.685560680925846, 0.674806125462055, 0.674806125462055, 0.673901923000813, 0.673901923000813, 0.67365637421608, 0.67365637421608, 0.673860803246498, 0.673860803246498, 0.693854995071888, 0.693854995071888, 0.737445719540119, 0.737445719540119, 0.743517629802227, 0.743517629802227, 0.710688672959805, 0.710688672959805, 0.690357267856598, 0.690357267856598, 0.671598091721535, 0.671598091721535, 0.688565768301487, 0.688565768301487, 0.676071405410767, 0.676071405410767, 0.680290743708611, 0.680290743708611, 0.691122449934483, 0.691122449934483, 0.670673958957195, 0.670673958957195, 0.672965653240681, 0.672965653240681, 0.713759928941727, 0.713759928941727, 0.696593128144741, 0.696593128144741, 0.718328975141048, 0.718328975141048, 0.680445060133934, 0.680445060133934, 0.666868515312672, 0.666868515312672, 0.695123575627804, 0.695123575627804, 0.72080734372139, 0.72080734372139, 0.665941424667835, 0.665941424667835, 0.682740159332752, 0.682740159332752, 0.70792829990387, 0.70792829990387, 0.665428966283798, 0.665428966283798, 0.67864615470171, 0.67864615470171, 0.675902850925922, 0.675902850925922, 0.66413501650095, 0.66413501650095, 0.661752991378307, 0.661752991378307, 0.673247590661049, 0.673247590661049, 0.668053142726421, 0.668053142726421, 0.676235429942608, 0.676235429942608, 0.664531014859676, 0.664531014859676, 0.663478769361973, 0.663478769361973, 0.6636893004179, 0.6636893004179, 0.661020636558533, 0.661020636558533, 0.668154679238796, 0.668154679238796, 0.663498982787132, 0.663498982787132, 0.66486231982708, 0.66486231982708, 0.670709282159805, 0.670709282159805, 0.660839796066284, 0.660839796066284, 0.661589175462723, 0.661589175462723, 0.660803928971291, 0.660803928971291, 0.662618197500706, 0.662618197500706, 0.690591633319855, 0.690591633319855, 0.664121530950069, 0.664121530950069, 0.673407919704914, 0.673407919704914, 0.677028603851795, 0.677028603851795, 0.662336587905884, 0.662336587905884, 0.679581344127655, 0.679581344127655],      \"fFunctions\" : {        \"_typename\" : \"TList\",        \"name\" : \"TList\",        \"arr\" : [],        \"opt\" : []      },      \"fHistogram\" : null,      \"fMinimum\" : -1111,      \"fMaximum\" : -1111    }],    \"opt\" : [\"\", \"\"]  },  \"fFunctions\" : null,  \"fHistogram\" : null,  \"fMaximum\" : -1111,  \"fMinimum\" : -1111}');\n",
       "var script = document.getElementById(\"dataInserterScript\");\n",
       "script.parentElement.parentElement.remove();\n",
       "});\n",
       "</script>"
      ],
      "text/plain": [
       "<IPython.core.display.HTML object>"
      ]
     },
     "metadata": {},
     "output_type": "display_data"
    },
    {
     "data": {
      "text/html": [
       "\n",
       "     <script type=\"text/javascript\" id=\"progressBarScriptInc\">\n",
       "     require([\"jquery\"], function(jQ){\n",
       "         jQ(\"#jsmva_bar_2\").css(\"width\", 98 + \"%\");\n",
       "         jQ(\"#jsmva_label_2\").text(98 + '%');\n",
       "         jQ(\"#progressBarScriptInc\").parent().parent().remove();\n",
       "     });\n",
       "     </script>\n",
       "     "
      ],
      "text/plain": [
       "<IPython.core.display.HTML object>"
      ]
     },
     "metadata": {},
     "output_type": "display_data"
    },
    {
     "data": {
      "text/html": [
       "\n",
       "     <script type=\"text/javascript\" id=\"progressBarScriptInc\">\n",
       "     require([\"jquery\"], function(jQ){\n",
       "         jQ(\"#jsmva_bar_2\").css(\"width\", 100 + \"%\");\n",
       "         jQ(\"#jsmva_label_2\").text(100 + '%');\n",
       "         jQ(\"#progressBarScriptInc\").parent().parent().remove();\n",
       "     });\n",
       "     </script>\n",
       "     "
      ],
      "text/plain": [
       "<IPython.core.display.HTML object>"
      ]
     },
     "metadata": {},
     "output_type": "display_data"
    },
    {
     "data": {
      "text/html": [
       "<table class='tmva_output_table'><tbody class='tmva_output_tbody_multiple_row'><tr><td rowspan='14' class='tmva_output_header'>LD                      </td><td>Results for LD coefficients:</td></tr><tr></tr><tr><td>Variable:  Coefficient:</td></tr><tr></tr><tr><td>m_jj:       -0.026</td></tr><tr><td>m_jjj:       +0.170</td></tr><tr><td>m_lv:       +0.031</td></tr><tr><td>m_jlv:       +0.060</td></tr><tr><td>m_bb:       -0.197</td></tr><tr><td>m_wbb:       +0.632</td></tr><tr><td>m_wwbb:       -0.780</td></tr><tr><td>(offset):       +0.024</td></tr><tr></tr><tr><td><b>Elapsed time for training with 2000 events : <b style='color:rgb(0,0,179)'> 0.00198 sec         </b></b></td></tr></tbody><tbody class='tmva_output_tbody_multiple_row'><tr><td rowspan='6' class='tmva_output_header'>LD                      </td><td><table class='tmva_output_dataset'><tbody><tr><td rowspan='1'>Dataset: dataset</td><td>Evaluation of LD on training sample (2000 events)</td><td class='tmva_output_hidden_td'></td></tr></tbody></table></td></tr><tr><td><b>Elapsed time for evaluation of 2000 events : <b style='color:rgb(0,0,179)'> 0.000386 sec       </b></b></td></tr><tr><td><CreateMVAPdfs> Separation from histogram (PDF): 0.106 (0.000)</td></tr><tr><td><table class='tmva_output_dataset'><tbody><tr><td rowspan='1'>Dataset: dataset</td><td>Evaluation of LD on training sample</td><td class='tmva_output_hidden_td'></td></tr></tbody></table></td></tr><tr><td>Creating xml weight file: dataset/weights/TMVAClassification_LD.weights.xml</td></tr><tr><td>Creating standalone class: dataset/weights/TMVAClassification_LD.class.C</td></tr></tbody><tbody class='tmva_output_tbody_multiple_row'><tr><td rowspan='4' class='tmva_output_header'>BDT                     </td><td>#events: (reweighted) sig: 1000 bkg: 1000</td></tr><tr><td>#events: (unweighted) sig: 1000 bkg: 1000</td></tr><tr><td>Training 850 Decision Trees ... patience please</td></tr><tr><td><b>Elapsed time for training with 2000 events : <b style='color:rgb(0,0,179)'> 0.765 sec         </b></b></td></tr></tbody><tbody class='tmva_output_tbody_multiple_row'><tr><td rowspan='5' class='tmva_output_header'>BDT                     </td><td><table class='tmva_output_dataset'><tbody><tr><td rowspan='1'>Dataset: dataset</td><td>Evaluation of BDT on training sample (2000 events)</td><td class='tmva_output_hidden_td'></td></tr></tbody></table></td></tr><tr><td><b>Elapsed time for evaluation of 2000 events : <b style='color:rgb(0,0,179)'> 0.137 sec       </b></b></td></tr><tr><td>Creating xml weight file: dataset/weights/TMVAClassification_BDT.weights.xml</td></tr><tr><td>Creating standalone class: dataset/weights/TMVAClassification_BDT.class.C</td></tr><tr><td>TMVAOutput.root:/dataset/Method_BDT/BDT</td></tr></tbody><tbody class='tmva_output_tbody_multiple_row'><tr><td rowspan='5' class='tmva_output_header'>TFHandler_DNN           </td><td><table class='tmva_output_varmeanrms'><tr><td>Variable<td>Mean<td>RMS<td>Min<td>Max<td class='tmva_output_hidden_td'></td></tr><tr><td>m_jj<td>-0.83496<td>0.13055<td>-1.0000<td>1.0000<td class='tmva_output_hidden_td'></td></tr><tr><td>m_jjj<td>-0.76582<td>0.14989<td>-1.0000<td>1.0000<td class='tmva_output_hidden_td'></td></tr><tr><td>m_lv<td>-0.47710<td>0.15959<td>-1.0000<td>1.0000<td class='tmva_output_hidden_td'></td></tr><tr><td>m_jlv<td>-0.77166<td>0.15806<td>-1.0000<td>1.0000<td class='tmva_output_hidden_td'></td></tr><tr><td>m_bb<td>-0.72518<td>0.16583<td>-1.0000<td>1.0000<td class='tmva_output_hidden_td'></td></tr><tr><td>m_wbb<td>-0.58662<td>0.24288<td>-1.0000<td>1.0000<td class='tmva_output_hidden_td'></td></tr><tr><td>m_wwbb<td>-0.65222<td>0.21569<td>-1.0000<td>1.0000<td class='tmva_output_hidden_td'></td></tr></table></td></tr><tr><td>Start of neural network training on CPU.</td></tr><tr></tr><tr><td>Training phase 1 of 1:</td></tr><tr><td><b>Elapsed time for training with 2000 events : <b style='color:rgb(0,0,179)'> 12.2 sec         </b></b></td></tr></tbody><tbody class='tmva_output_tbody_multiple_row'><tr><td rowspan='4' class='tmva_output_header'>DNN                     </td><td><table class='tmva_output_dataset'><tbody><tr><td rowspan='1'>Dataset: dataset</td><td>Evaluation of DNN on training sample (2000 events)</td><td class='tmva_output_hidden_td'></td></tr></tbody></table></td></tr><tr><td><b>Elapsed time for evaluation of 2000 events : <b style='color:rgb(0,0,179)'> 0.0265 sec       </b></b></td></tr><tr><td>Creating xml weight file: dataset/weights/TMVAClassification_DNN.weights.xml</td></tr><tr><td>Creating standalone class: dataset/weights/TMVAClassification_DNN.class.C</td></tr></tbody></table>"
      ],
      "text/plain": [
       "<IPython.core.display.HTML object>"
      ]
     },
     "metadata": {},
     "output_type": "display_data"
    },
    {
     "data": {
      "text/html": [],
      "text/plain": [
       "<IPython.core.display.HTML object>"
      ]
     },
     "metadata": {},
     "output_type": "display_data"
    }
   ],
   "source": [
    "factory.TrainAllMethods();"
   ]
  },
  {
   "cell_type": "markdown",
   "metadata": {},
   "source": [
    "## Test and Evaluate Methods\n",
    "\n",
    "To test test the methods and evaluate the performance we need to run Factory.TestAllMethods and Factory.EvaluateAllMethods functions."
   ]
  },
  {
   "cell_type": "code",
   "execution_count": 18,
   "metadata": {
    "collapsed": false
   },
   "outputs": [
    {
     "data": {
      "text/html": [
       "<table class='tmva_output_table'><tbody><tr><td rowspan='1' class='tmva_output_header'>Factory                 </td><td>Test all methods</td></tr></tbody><tbody class='tmva_output_tbody_multiple_row'><tr><td rowspan='2' class='tmva_output_header'>Factory                 </td><td>Test method: LD for Classification performance</td></tr><tr></tr></tbody><tbody class='tmva_output_tbody_multiple_row'><tr><td rowspan='3' class='tmva_output_header'>LD                      </td><td><table class='tmva_output_dataset'><tbody><tr><td rowspan='1'>Dataset: dataset</td><td>Evaluation of LD on testing sample (20000 events)</td><td class='tmva_output_hidden_td'></td></tr></tbody></table></td></tr><tr><td><b>Elapsed time for evaluation of 20000 events : <b style='color:rgb(0,0,179)'> 0.00591 sec       </b></b></td></tr><tr><td><table class='tmva_output_dataset'><tbody><tr><td rowspan='1'>Dataset: dataset</td><td>Evaluation of LD on testing sample</td><td class='tmva_output_hidden_td'></td></tr></tbody></table></td></tr></tbody><tbody class='tmva_output_tbody_multiple_row'><tr><td rowspan='2' class='tmva_output_header'>Factory                 </td><td>Test method: BDT for Classification performance</td></tr><tr></tr></tbody><tbody class='tmva_output_tbody_multiple_row'><tr><td rowspan='2' class='tmva_output_header'>BDT                     </td><td><table class='tmva_output_dataset'><tbody><tr><td rowspan='1'>Dataset: dataset</td><td>Evaluation of BDT on testing sample (20000 events)</td><td class='tmva_output_hidden_td'></td></tr></tbody></table></td></tr><tr><td><b>Elapsed time for evaluation of 20000 events : <b style='color:rgb(0,0,179)'> 1.56 sec       </b></b></td></tr></tbody><tbody class='tmva_output_tbody_multiple_row'><tr><td rowspan='2' class='tmva_output_header'>Factory                 </td><td>Test method: DNN for Classification performance</td></tr><tr></tr></tbody><tbody class='tmva_output_tbody_multiple_row'><tr><td rowspan='2' class='tmva_output_header'>DNN                     </td><td><table class='tmva_output_dataset'><tbody><tr><td rowspan='1'>Dataset: dataset</td><td>Evaluation of DNN on testing sample (20000 events)</td><td class='tmva_output_hidden_td'></td></tr></tbody></table></td></tr><tr><td><b>Elapsed time for evaluation of 20000 events : <b style='color:rgb(0,0,179)'> 0.22 sec       </b></b></td></tr></tbody><tbody><tr><td rowspan='1' class='tmva_output_header'>Factory                 </td><td>Evaluate all methods</td></tr></tbody><tbody class='tmva_output_tbody_multiple_row'><tr><td rowspan='2' class='tmva_output_header'>Factory                 </td><td>Evaluate classifier: LD</td></tr><tr></tr></tbody><tbody class='tmva_output_tbody_multiple_row'><tr><td rowspan='2' class='tmva_output_header'>LD                      </td><td><table class='tmva_output_dataset'><tbody class='tmva_output_tbody_multiple_row'><tr><td rowspan='2'>Dataset: dataset</td><td>Loop over test events and fill histograms with classifier response...</td><td class='tmva_output_hidden_td'></td></tr></tbody></table></td></tr><tr><td>Also filling probability and rarity histograms (on request)...</td></tr></tbody><tbody><tr><td rowspan='1' class='tmva_output_header'>TFHandler_LD            </td><td><table class='tmva_output_varmeanrms'><tr><td>Variable<td>Mean<td>RMS<td>Min<td>Max<td class='tmva_output_hidden_td'></td></tr><tr><td>m_jj<td>1.0450<td>0.68261<td>0.12555<td>15.012<td class='tmva_output_hidden_td'></td></tr><tr><td>m_jjj<td>1.0286<td>0.38284<td>0.30314<td>7.7016<td class='tmva_output_hidden_td'></td></tr><tr><td>m_lv<td>1.0505<td>0.16785<td>0.35165<td>5.6464<td class='tmva_output_hidden_td'></td></tr><tr><td>m_jlv<td>1.0087<td>0.39519<td>0.37088<td>6.1990<td class='tmva_output_hidden_td'></td></tr><tr><td>m_bb<td>0.98133<td>0.53420<td>0.082810<td>11.056<td class='tmva_output_hidden_td'></td></tr><tr><td>m_wbb<td>1.0359<td>0.36811<td>0.30335<td>5.3269<td class='tmva_output_hidden_td'></td></tr><tr><td>m_wwbb<td>0.96375<td>0.31628<td>0.35094<td>4.6778<td class='tmva_output_hidden_td'></td></tr></table></td></tr></tbody><tbody class='tmva_output_tbody_multiple_row'><tr><td rowspan='2' class='tmva_output_header'>Factory                 </td><td>Evaluate classifier: BDT</td></tr><tr></tr></tbody><tbody><tr><td rowspan='1' class='tmva_output_header'>BDT                     </td><td><table class='tmva_output_dataset'><tbody class='tmva_output_tbody_multiple_row'><tr><td rowspan='2'>Dataset: dataset</td><td>Loop over test events and fill histograms with classifier response...</td><td class='tmva_output_hidden_td'></td></tr></tbody></table></td></tr></tbody><tbody><tr><td rowspan='1' class='tmva_output_header'>TFHandler_BDT           </td><td><table class='tmva_output_varmeanrms'><tr><td>Variable<td>Mean<td>RMS<td>Min<td>Max<td class='tmva_output_hidden_td'></td></tr><tr><td>m_jj<td>1.0450<td>0.68261<td>0.12555<td>15.012<td class='tmva_output_hidden_td'></td></tr><tr><td>m_jjj<td>1.0286<td>0.38284<td>0.30314<td>7.7016<td class='tmva_output_hidden_td'></td></tr><tr><td>m_lv<td>1.0505<td>0.16785<td>0.35165<td>5.6464<td class='tmva_output_hidden_td'></td></tr><tr><td>m_jlv<td>1.0087<td>0.39519<td>0.37088<td>6.1990<td class='tmva_output_hidden_td'></td></tr><tr><td>m_bb<td>0.98133<td>0.53420<td>0.082810<td>11.056<td class='tmva_output_hidden_td'></td></tr><tr><td>m_wbb<td>1.0359<td>0.36811<td>0.30335<td>5.3269<td class='tmva_output_hidden_td'></td></tr><tr><td>m_wwbb<td>0.96375<td>0.31628<td>0.35094<td>4.6778<td class='tmva_output_hidden_td'></td></tr></table></td></tr></tbody><tbody class='tmva_output_tbody_multiple_row'><tr><td rowspan='2' class='tmva_output_header'>Factory                 </td><td>Evaluate classifier: DNN</td></tr><tr></tr></tbody><tbody><tr><td rowspan='1' class='tmva_output_header'>TFHandler_DNN           </td><td><table class='tmva_output_varmeanrms'><tr><td>Variable<td>Mean<td>RMS<td>Min<td>Max<td class='tmva_output_hidden_td'></td></tr><tr><td>m_jj<td>-0.83044<td>0.13921<td>-1.0180<td>2.0179<td class='tmva_output_hidden_td'></td></tr><tr><td>m_jjj<td>-0.75853<td>0.16010<td>-1.0619<td>2.0322<td class='tmva_output_hidden_td'></td></tr><tr><td>m_lv<td>-0.46940<td>0.18532<td>-1.2410<td>4.6046<td class='tmva_output_hidden_td'></td></tr><tr><td>m_jlv<td>-0.76617<td>0.15680<td>-1.0192<td>1.2931<td class='tmva_output_hidden_td'></td></tr><tr><td>m_bb<td>-0.72198<td>0.17269<td>-1.0124<td>2.5350<td class='tmva_output_hidden_td'></td></tr><tr><td>m_wbb<td>-0.57585<td>0.25991<td>-1.0931<td>2.4538<td class='tmva_output_hidden_td'></td></tr><tr><td>m_wwbb<td>-0.64036<td>0.22996<td>-1.0859<td>2.0600<td class='tmva_output_hidden_td'></td></tr></table></td></tr></tbody><tbody><tr><td rowspan='1' class='tmva_output_header'>DNN                     </td><td><table class='tmva_output_dataset'><tbody class='tmva_output_tbody_multiple_row'><tr><td rowspan='2'>Dataset: dataset</td><td>Loop over test events and fill histograms with classifier response...</td><td class='tmva_output_hidden_td'></td></tr></tbody></table></td></tr></tbody><tbody class='tmva_output_tbody_multiple_row'><tr><td rowspan='20' class='tmva_output_header'>TFHandler_DNN           </td><td><table class='tmva_output_varmeanrms'><tr><td>Variable<td>Mean<td>RMS<td>Min<td>Max<td class='tmva_output_hidden_td'></td></tr><tr><td>m_jj<td>-0.83044<td>0.13921<td>-1.0180<td>2.0179<td class='tmva_output_hidden_td'></td></tr><tr><td>m_jjj<td>-0.75853<td>0.16010<td>-1.0619<td>2.0322<td class='tmva_output_hidden_td'></td></tr><tr><td>m_lv<td>-0.46940<td>0.18532<td>-1.2410<td>4.6046<td class='tmva_output_hidden_td'></td></tr><tr><td>m_jlv<td>-0.76617<td>0.15680<td>-1.0192<td>1.2931<td class='tmva_output_hidden_td'></td></tr><tr><td>m_bb<td>-0.72198<td>0.17269<td>-1.0124<td>2.5350<td class='tmva_output_hidden_td'></td></tr><tr><td>m_wbb<td>-0.57585<td>0.25991<td>-1.0931<td>2.4538<td class='tmva_output_hidden_td'></td></tr><tr><td>m_wwbb<td>-0.64036<td>0.22996<td>-1.0859<td>2.0600<td class='tmva_output_hidden_td'></td></tr></table></td></tr><tr><td>Evaluation results ranked by best signal efficiency and purity (area)</td></tr><tr></tr><tr><td>DataSet       MVA                       </td></tr><tr><td>Name:         Method:          ROC-integ</td></tr><tr><td>dataset       BDT            : 0.749</td></tr><tr><td>dataset       DNN            : 0.679</td></tr><tr><td>dataset       LD             : 0.647</td></tr><tr></tr><tr></tr><tr><td>Testing efficiency compared to training efficiency (overtraining check)</td></tr><tr></tr><tr><td>DataSet              MVA              Signal efficiency: from test sample (from training sample) </td></tr><tr><td>Name:                Method:          @B=0.01             @B=0.10            @B=0.30   </td></tr><tr></tr><tr><td>dataset              BDT            : 0.097 (0.190)       0.387 (0.518)      0.666 (0.749)</td></tr><tr><td>dataset              DNN            : 0.019 (0.030)       0.229 (0.243)      0.563 (0.590)</td></tr><tr><td>dataset              LD             : 0.014 (0.015)       0.128 (0.149)      0.504 (0.531)</td></tr><tr></tr><tr></tr></tbody><tbody class='tmva_output_tbody_multiple_row'><tr><td rowspan='2' class='tmva_output_header'>Dataset:dataset         </td><td>Created tree 'TestTree' with 20000 events</td></tr><tr></tr></tbody><tbody class='tmva_output_tbody_multiple_row'><tr><td rowspan='2' class='tmva_output_header'>Dataset:dataset         </td><td>Created tree 'TrainTree' with 2000 events</td></tr><tr></tr></tbody><tbody class='tmva_output_tbody_multiple_row'><tr><td rowspan='2' class='tmva_output_header'>Factory                 </td><td>Thank you for using TMVA!</td></tr><tr><td>For citation information, please visit: http://tmva.sf.net/citeTMVA.html</td></tr></tbody></table>"
      ],
      "text/plain": [
       "<IPython.core.display.HTML object>"
      ]
     },
     "metadata": {},
     "output_type": "display_data"
    },
    {
     "data": {
      "text/html": [],
      "text/plain": [
       "<IPython.core.display.HTML object>"
      ]
     },
     "metadata": {},
     "output_type": "display_data"
    }
   ],
   "source": [
    "factory.TestAllMethods();\n",
    "factory.EvaluateAllMethods();    "
   ]
  },
  {
   "cell_type": "markdown",
   "metadata": {},
   "source": [
    "## Classifier Output Distribution\n",
    "\n",
    "To draw the classifier output distribution we have to use Factory.DrawOutputDistribution function which is inserted by invoking jsmva magic. The parameters of the function are the following:\n",
    "The options string can contain the following options:\n",
    "<table>\n",
    "<tr><th>Keyword</th><th>Can be used as positional argument</th><th>Default</th><th>Predefined values</th><th>Description</th></tr>\n",
    "<tr>\n",
    "    <td>datasetName</td>\n",
    "    <td>yes, 1.</td>\n",
    "    <td>-</td>\n",
    "    <td>-</td>\n",
    "    <td> The name of dataset</td>\n",
    "</tr>\n",
    "<tr>\n",
    "    <td>methodName</td>\n",
    "    <td>yes, 2.</td>\n",
    "    <td>-</td>\n",
    "    <td>-</td>\n",
    "    <td> The name of method</td>\n",
    "</tr>\n",
    "</table>"
   ]
  },
  {
   "cell_type": "code",
   "execution_count": 19,
   "metadata": {
    "collapsed": false
   },
   "outputs": [
    {
     "data": {
      "text/html": [
       "\n",
       "<div id=\"jstmva_6\" style=\"width: 800px; height:450px\"></div>\n",
       "<script>\n",
       "    require(['JsMVA'],function(jsmva){\n",
       "        jsmva.draw('jstmva_6','{  \"_typename\" : \"TCanvas\",  \"fUniqueID\" : 0,  \"fBits\" : 53673992,  \"fLineColor\" : 1,  \"fLineStyle\" : 1,  \"fLineWidth\" : 1,  \"fFillColor\" : 0,  \"fFillStyle\" : 1001,  \"fLeftMargin\" : 0.1,  \"fRightMargin\" : 0.1,  \"fBottomMargin\" : 0.1,  \"fTopMargin\" : 0.1,  \"fXfile\" : 2,  \"fYfile\" : 2,  \"fAfile\" : 1,  \"fXstat\" : 0.99,  \"fYstat\" : 0.99,  \"fAstat\" : 2,  \"fFrameFillColor\" : 0,  \"fFrameLineColor\" : 1,  \"fFrameFillStyle\" : 1001,  \"fFrameLineStyle\" : 1,  \"fFrameLineWidth\" : 1,  \"fFrameBorderSize\" : 1,  \"fFrameBorderMode\" : 0,  \"fX1\" : 0,  \"fY1\" : 0,  \"fX2\" : 1,  \"fY2\" : 1,  \"fXtoAbsPixelk\" : 5e-5,  \"fXtoPixelk\" : 5e-5,  \"fXtoPixel\" : 796,  \"fYtoAbsPixelk\" : 422.00005,  \"fYtoPixelk\" : 422.00005,  \"fYtoPixel\" : -422,  \"fUtoAbsPixelk\" : 5e-5,  \"fUtoPixelk\" : 5e-5,  \"fUtoPixel\" : 796,  \"fVtoAbsPixelk\" : 422.00005,  \"fVtoPixelk\" : 422,  \"fVtoPixel\" : -422,  \"fAbsPixeltoXk\" : 0,  \"fPixeltoXk\" : 0,  \"fPixeltoX\" : 0.00125628140703518,  \"fAbsPixeltoYk\" : 1,  \"fPixeltoYk\" : 0,  \"fPixeltoY\" : -0.0023696682464455,  \"fXlowNDC\" : 0,  \"fYlowNDC\" : 0,  \"fXUpNDC\" : 0,  \"fYUpNDC\" : 0,  \"fWNDC\" : 1,  \"fHNDC\" : 1,  \"fAbsXlowNDC\" : 0,  \"fAbsYlowNDC\" : 0,  \"fAbsWNDC\" : 1,  \"fAbsHNDC\" : 1,  \"fUxmin\" : 0,  \"fUymin\" : 0,  \"fUxmax\" : 1,  \"fUymax\" : 1,  \"fTheta\" : 30,  \"fPhi\" : 30,  \"fAspectRatio\" : 0,  \"fNumber\" : 0,  \"fTickx\" : 0,  \"fTicky\" : 0,  \"fLogx\" : 0,  \"fLogy\" : 0,  \"fLogz\" : 0,  \"fPadPaint\" : 0,  \"fCrosshair\" : 0,  \"fCrosshairPos\" : 0,  \"fBorderSize\" : 2,  \"fBorderMode\" : 0,  \"fModified\" : true,  \"fGridx\" : false,  \"fGridy\" : false,  \"fAbsCoord\" : false,  \"fEditable\" : true,  \"fFixedAspectRatio\" : false,  \"fPrimitives\" : {    \"_typename\" : \"TList\",    \"name\" : \"TList\",    \"arr\" : [{      \"_typename\" : \"TH1D\",      \"fUniqueID\" : 0,      \"fBits\" : 50331656,      \"fName\" : \"MVA_LD_S\",      \"fTitle\" : \"TMVA response for classifier: LD\",      \"fLineColor\" : 602,      \"fLineStyle\" : 1,      \"fLineWidth\" : 1,      \"fFillColor\" : 600,      \"fFillStyle\" : 1001,      \"fMarkerColor\" : 1,      \"fMarkerStyle\" : 1,      \"fMarkerSize\" : 1,      \"fNcells\" : 42,      \"fXaxis\" : {        \"_typename\" : \"TAxis\",        \"fUniqueID\" : 0,        \"fBits\" : 50331656,        \"fName\" : \"xaxis\",        \"fTitle\" : \"LD response\",        \"fNdivisions\" : 510,        \"fAxisColor\" : 1,        \"fLabelColor\" : 1,        \"fLabelFont\" : 42,        \"fLabelOffset\" : 0.005,        \"fLabelSize\" : 0.035,        \"fTickLength\" : 0.03,        \"fTitleOffset\" : 1,        \"fTitleSize\" : 0.035,        \"fTitleColor\" : 1,        \"fTitleFont\" : 42,        \"fNbins\" : 40,        \"fXmin\" : -1.26685166358948,        \"fXmax\" : 1.03971193862915,        \"fXbins\" : [],        \"fFirst\" : 0,        \"fLast\" : 0,        \"fBits2\" : 0,        \"fTimeDisplay\" : false,        \"fTimeFormat\" : \"\",        \"fLabels\" : null,        \"fModLabs\" : null      },      \"fYaxis\" : {        \"_typename\" : \"TAxis\",        \"fUniqueID\" : 0,        \"fBits\" : 50331656,        \"fName\" : \"yaxis\",        \"fTitle\" : \"(1\\/N) dN^{ }\\/^{ }dx\",        \"fNdivisions\" : 510,        \"fAxisColor\" : 1,        \"fLabelColor\" : 1,        \"fLabelFont\" : 42,        \"fLabelOffset\" : 0.005,        \"fLabelSize\" : 0.035,        \"fTickLength\" : 0.03,        \"fTitleOffset\" : 0,        \"fTitleSize\" : 0.035,        \"fTitleColor\" : 1,        \"fTitleFont\" : 42,        \"fNbins\" : 1,        \"fXmin\" : 0,        \"fXmax\" : 1,        \"fXbins\" : [],        \"fFirst\" : 0,        \"fLast\" : 0,        \"fBits2\" : 0,        \"fTimeDisplay\" : false,        \"fTimeFormat\" : \"\",        \"fLabels\" : null,        \"fModLabs\" : null      },      \"fZaxis\" : {        \"_typename\" : \"TAxis\",        \"fUniqueID\" : 0,        \"fBits\" : 50331648,        \"fName\" : \"zaxis\",        \"fTitle\" : \"\",        \"fNdivisions\" : 510,        \"fAxisColor\" : 1,        \"fLabelColor\" : 1,        \"fLabelFont\" : 42,        \"fLabelOffset\" : 0.005,        \"fLabelSize\" : 0.035,        \"fTickLength\" : 0.03,        \"fTitleOffset\" : 1,        \"fTitleSize\" : 0.035,        \"fTitleColor\" : 1,        \"fTitleFont\" : 42,        \"fNbins\" : 1,        \"fXmin\" : 0,        \"fXmax\" : 1,        \"fXbins\" : [],        \"fFirst\" : 0,        \"fLast\" : 0,        \"fBits2\" : 0,        \"fTimeDisplay\" : false,        \"fTimeFormat\" : \"\",        \"fLabels\" : null,        \"fModLabs\" : null      },      \"fBarOffset\" : 0,      \"fBarWidth\" : 1000,      \"fEntries\" : 10000,      \"fTsumw\" : 10000,      \"fTsumw2\" : 10000,      \"fTsumwx\" : 43.3041681301474,      \"fTsumwx2\" : 127.375090870641,      \"fMaximum\" : 6.39236654294628,      \"fMinimum\" : -1111,      \"fNormFactor\" : 0,      \"fContour\" : [],      \"fSumw2\" : [0, 0, 0, 0, 0, 0, 6.01477116779694e-6, 3.00738558389847e-6, 1.50369279194923e-5, 9.02215675169541e-6, 3.00738558389847e-6, 1.20295423355939e-5, 1.80443135033908e-5, 3.00738558389847e-5, 3.60886270067816e-5, 6.61624828457663e-5, 1.14280652188142e-4, 1.92472677369502e-4, 3.09760715141542e-4, 6.76661756377156e-4, 0.00140745645326448, 0.0033412053837112, 0.00661324089899274, 0.0100777490916438, 0.00486895726033162, 0.00133828658483482, 4.15019210577989e-4, 2.10516990872893e-4, 8.72141819330556e-5, 7.51846395974617e-5, 3.60886270067816e-5, 1.80443135033908e-5, 1.50369279194923e-5, 2.70664702550862e-5, 9.02215675169541e-6, 9.02215675169541e-6, 1.80443135033908e-5, 6.01477116779694e-6, 0, 6.01477116779694e-6, 3.00738558389847e-6, 0],      \"fOption\" : \"\",      \"fFunctions\" : {        \"_typename\" : \"TList\",        \"name\" : \"TList\",        \"arr\" : [],        \"opt\" : []      },      \"fBufferSize\" : 0,      \"fBuffer\" : [],      \"fBinStatErrOpt\" : 0,      \"fStatOverflows\" : 2,      \"fArray\" : [0, 0, 0, 0, 0, 0, 0.00346836306282861, 0.00173418153141431, 0.00867090765707153, 0.00520254459424292, 0.00173418153141431, 0.00693672612565723, 0.0104050891884858, 0.0173418153141431, 0.0208101783769717, 0.0381519936911147, 0.0658988981937437, 0.110987618010516, 0.178620697735674, 0.390190844568219, 0.811596956701895, 1.92667568140129, 3.81346518758006, 5.81124231176934, 2.80763989935976, 0.771710781479366, 0.239317051335174, 0.121392707199001, 0.0502912644110149, 0.0433545382853577, 0.0208101783769717, 0.0104050891884858, 0.00867090765707153, 0.0156076337827288, 0.00520254459424292, 0.00520254459424292, 0.0104050891884858, 0.00346836306282861, 0, 0.00346836306282861, 0.00173418153141431, 0]    }, {      \"_typename\" : \"TH1D\",      \"fUniqueID\" : 0,      \"fBits\" : 50331656,      \"fName\" : \"MVA_LD_B\",      \"fTitle\" : \"MVA_LD_B\",      \"fLineColor\" : 632,      \"fLineStyle\" : 1,      \"fLineWidth\" : 1,      \"fFillColor\" : 1181,      \"fFillStyle\" : 1001,      \"fMarkerColor\" : 1,      \"fMarkerStyle\" : 1,      \"fMarkerSize\" : 1,      \"fNcells\" : 42,      \"fXaxis\" : {        \"_typename\" : \"TAxis\",        \"fUniqueID\" : 0,        \"fBits\" : 50331648,        \"fName\" : \"xaxis\",        \"fTitle\" : \"\",        \"fNdivisions\" : 510,        \"fAxisColor\" : 1,        \"fLabelColor\" : 1,        \"fLabelFont\" : 42,        \"fLabelOffset\" : 0.005,        \"fLabelSize\" : 0.035,        \"fTickLength\" : 0.03,        \"fTitleOffset\" : 1,        \"fTitleSize\" : 0.035,        \"fTitleColor\" : 1,        \"fTitleFont\" : 42,        \"fNbins\" : 40,        \"fXmin\" : -1.26685166358948,        \"fXmax\" : 1.03971193862915,        \"fXbins\" : [],        \"fFirst\" : 0,        \"fLast\" : 0,        \"fBits2\" : 0,        \"fTimeDisplay\" : false,        \"fTimeFormat\" : \"\",        \"fLabels\" : null,        \"fModLabs\" : null      },      \"fYaxis\" : {        \"_typename\" : \"TAxis\",        \"fUniqueID\" : 0,        \"fBits\" : 50331648,        \"fName\" : \"yaxis\",        \"fTitle\" : \"\",        \"fNdivisions\" : 510,        \"fAxisColor\" : 1,        \"fLabelColor\" : 1,        \"fLabelFont\" : 42,        \"fLabelOffset\" : 0.005,        \"fLabelSize\" : 0.035,        \"fTickLength\" : 0.03,        \"fTitleOffset\" : 0,        \"fTitleSize\" : 0.035,        \"fTitleColor\" : 1,        \"fTitleFont\" : 42,        \"fNbins\" : 1,        \"fXmin\" : 0,        \"fXmax\" : 1,        \"fXbins\" : [],        \"fFirst\" : 0,        \"fLast\" : 0,        \"fBits2\" : 0,        \"fTimeDisplay\" : false,        \"fTimeFormat\" : \"\",        \"fLabels\" : null,        \"fModLabs\" : null      },      \"fZaxis\" : {        \"_typename\" : \"TAxis\",        \"fUniqueID\" : 0,        \"fBits\" : 50331648,        \"fName\" : \"zaxis\",        \"fTitle\" : \"\",        \"fNdivisions\" : 510,        \"fAxisColor\" : 1,        \"fLabelColor\" : 1,        \"fLabelFont\" : 42,        \"fLabelOffset\" : 0.005,        \"fLabelSize\" : 0.035,        \"fTickLength\" : 0.03,        \"fTitleOffset\" : 1,        \"fTitleSize\" : 0.035,        \"fTitleColor\" : 1,        \"fTitleFont\" : 42,        \"fNbins\" : 1,        \"fXmin\" : 0,        \"fXmax\" : 1,        \"fXbins\" : [],        \"fFirst\" : 0,        \"fLast\" : 0,        \"fBits2\" : 0,        \"fTimeDisplay\" : false,        \"fTimeFormat\" : \"\",        \"fLabels\" : null,        \"fModLabs\" : null      },      \"fBarOffset\" : 0,      \"fBarWidth\" : 1000,      \"fEntries\" : 10000,      \"fTsumw\" : 10000,      \"fTsumw2\" : 10000,      \"fTsumwx\" : -559.772693400986,      \"fTsumwx2\" : 239.136086032299,      \"fMaximum\" : -1111,      \"fMinimum\" : -1111,      \"fNormFactor\" : 0,      \"fContour\" : [],      \"fSumw2\" : [0, 3.00738558389847e-6, 0, 0, 1.20295423355939e-5, 1.20295423355939e-5, 9.02215675169541e-6, 2.40590846711878e-5, 1.80443135033908e-5, 2.10516990872893e-5, 2.40590846711878e-5, 3.60886270067816e-5, 6.31550972618679e-5, 7.21772540135633e-5, 1.53376664778822e-4, 2.25553918792385e-4, 3.87952740322903e-4, 6.8869129871275e-4, 0.00119693946239159, 0.00183450520617807, 0.00308557760907983, 0.00525089522948673, 0.0066733886106707, 0.00557569287254776, 0.00282694244886456, 0.00109468835253904, 3.939675114907e-4, 1.71420978282213e-4, 1.02251109852548e-4, 5.41329405101725e-5, 1.80443135033908e-5, 1.80443135033908e-5, 9.02215675169541e-6, 1.20295423355939e-5, 6.01477116779694e-6, 0, 0, 0, 0, 0, 0, 0],      \"fOption\" : \"\",      \"fFunctions\" : {        \"_typename\" : \"TList\",        \"name\" : \"TList\",        \"arr\" : [],        \"opt\" : []      },      \"fBufferSize\" : 0,      \"fBuffer\" : [],      \"fBinStatErrOpt\" : 0,      \"fStatOverflows\" : 2,      \"fArray\" : [0, 0.00173418153141431, 0, 0, 0.00693672612565723, 0.00693672612565723, 0.00520254459424292, 0.0138734522513145, 0.0104050891884858, 0.0121392707199001, 0.0138734522513145, 0.0208101783769717, 0.0364178121597004, 0.0416203567539434, 0.0884432581021296, 0.130063614856073, 0.223709417552446, 0.397127570693876, 0.690204249502894, 1.05785073416273, 1.77927025123108, 3.02788095384938, 3.84814881820835, 3.21517255924212, 1.63013063952945, 0.631242077434808, 0.227177780615274, 0.0988483472906155, 0.0589621720680864, 0.0312152675654575, 0.0104050891884858, 0.0104050891884858, 0.00520254459424292, 0.00693672612565723, 0.00346836306282861, 0, 0, 0, 0, 0, 0, 0]    }, {      \"_typename\" : \"TLegend\",      \"fUniqueID\" : 0,      \"fBits\" : 50331656,      \"fLineColor\" : 1,      \"fLineStyle\" : 1,      \"fLineWidth\" : 1,      \"fFillColor\" : 0,      \"fFillStyle\" : 1,      \"fX1\" : 0.509999998509884,      \"fY1\" : 0.749999998509884,      \"fX2\" : 0.889999998509884,      \"fY2\" : 0.889999998509884,      \"fX1NDC\" : 0,      \"fY1NDC\" : 0,      \"fX2NDC\" : 0,      \"fY2NDC\" : 0,      \"fBorderSize\" : 1,      \"fInit\" : 0,      \"fShadowColor\" : 1,      \"fCornerRadius\" : 0,      \"fOption\" : \"brNDC\",      \"fName\" : \"TPave\",      \"fTextAngle\" : 0,      \"fTextSize\" : 0,      \"fTextAlign\" : 12,      \"fTextColor\" : 1,      \"fTextFont\" : 42,      \"fPrimitives\" : {        \"_typename\" : \"TList\",        \"name\" : \"TList\",        \"arr\" : [{          \"_typename\" : \"TLegendEntry\",          \"fUniqueID\" : 0,          \"fBits\" : 50331656,          \"fTextAngle\" : 0,          \"fTextSize\" : 0,          \"fTextAlign\" : 0,          \"fTextColor\" : 0,          \"fTextFont\" : 0,          \"fLineColor\" : 1,          \"fLineStyle\" : 1,          \"fLineWidth\" : 1,          \"fFillColor\" : 0,          \"fFillStyle\" : 0,          \"fMarkerColor\" : 1,          \"fMarkerStyle\" : 21,          \"fMarkerSize\" : 1,          \"fObject\" : {\"$ref\":2},          \"fLabel\" : \"Signal\",          \"fOption\" : \"F\"        }, {          \"_typename\" : \"TLegendEntry\",          \"fUniqueID\" : 0,          \"fBits\" : 50331656,          \"fTextAngle\" : 0,          \"fTextSize\" : 0,          \"fTextAlign\" : 0,          \"fTextColor\" : 0,          \"fTextFont\" : 0,          \"fLineColor\" : 1,          \"fLineStyle\" : 1,          \"fLineWidth\" : 1,          \"fFillColor\" : 0,          \"fFillStyle\" : 0,          \"fMarkerColor\" : 1,          \"fMarkerStyle\" : 21,          \"fMarkerSize\" : 1,          \"fObject\" : {\"$ref\":7},          \"fLabel\" : \"Background\",          \"fOption\" : \"F\"        }],        \"opt\" : [\"F\", \"F\"]      },      \"fEntrySeparation\" : 0.1,      \"fMargin\" : 0.3,      \"fNColumns\" : 1,      \"fColumnSeparation\" : 0    }],    \"opt\" : [\"hist\", \"histsame\", \"\"]  },  \"fExecs\" : null,  \"fName\" : \"csbplot\",  \"fTitle\" : \"TMVA response for classifier: LD\",  \"fNumPaletteColor\" : 0,  \"fNextPaletteColor\" : 0,  \"fDISPLAY\" : \"$DISPLAY\",  \"fDoubleBuffer\" : 0,  \"fRetained\" : true,  \"fXsizeUser\" : 0,  \"fYsizeUser\" : 0,  \"fXsizeReal\" : 20,  \"fYsizeReal\" : 11.25,  \"fWindowTopX\" : 0,  \"fWindowTopY\" : 0,  \"fWindowWidth\" : 0,  \"fWindowHeight\" : 0,  \"fCw\" : 796,  \"fCh\" : 422,  \"fCatt\" : {    \"_typename\" : \"TAttCanvas\",    \"fXBetween\" : 2,    \"fYBetween\" : 2,    \"fTitleFromTop\" : 1.2,    \"fXdate\" : 0.2,    \"fYdate\" : 0.3,    \"fAdate\" : 1  },  \"kMoveOpaque\" : true,  \"kResizeOpaque\" : true,  \"fHighLightColor\" : 2,  \"fBatch\" : true,  \"kShowEventStatus\" : false,  \"kAutoExec\" : true,  \"kMenuBar\" : true}');\n",
       "    });\n",
       "</script>\n"
      ],
      "text/plain": [
       "<IPython.core.display.HTML object>"
      ]
     },
     "metadata": {},
     "output_type": "display_data"
    }
   ],
   "source": [
    "factory.DrawOutputDistribution(loader.GetName(), \"LD\")"
   ]
  },
  {
   "cell_type": "code",
   "execution_count": 20,
   "metadata": {
    "collapsed": false
   },
   "outputs": [
    {
     "data": {
      "text/html": [
       "\n",
       "<div id=\"jstmva_7\" style=\"width: 800px; height:450px\"></div>\n",
       "<script>\n",
       "    require(['JsMVA'],function(jsmva){\n",
       "        jsmva.draw('jstmva_7','{  \"_typename\" : \"TCanvas\",  \"fUniqueID\" : 0,  \"fBits\" : 53673992,  \"fLineColor\" : 1,  \"fLineStyle\" : 1,  \"fLineWidth\" : 1,  \"fFillColor\" : 0,  \"fFillStyle\" : 1001,  \"fLeftMargin\" : 0.1,  \"fRightMargin\" : 0.1,  \"fBottomMargin\" : 0.1,  \"fTopMargin\" : 0.1,  \"fXfile\" : 2,  \"fYfile\" : 2,  \"fAfile\" : 1,  \"fXstat\" : 0.99,  \"fYstat\" : 0.99,  \"fAstat\" : 2,  \"fFrameFillColor\" : 0,  \"fFrameLineColor\" : 1,  \"fFrameFillStyle\" : 1001,  \"fFrameLineStyle\" : 1,  \"fFrameLineWidth\" : 1,  \"fFrameBorderSize\" : 1,  \"fFrameBorderMode\" : 0,  \"fX1\" : 0,  \"fY1\" : 0,  \"fX2\" : 1,  \"fY2\" : 1,  \"fXtoAbsPixelk\" : 5e-5,  \"fXtoPixelk\" : 5e-5,  \"fXtoPixel\" : 796,  \"fYtoAbsPixelk\" : 422.00005,  \"fYtoPixelk\" : 422.00005,  \"fYtoPixel\" : -422,  \"fUtoAbsPixelk\" : 5e-5,  \"fUtoPixelk\" : 5e-5,  \"fUtoPixel\" : 796,  \"fVtoAbsPixelk\" : 422.00005,  \"fVtoPixelk\" : 422,  \"fVtoPixel\" : -422,  \"fAbsPixeltoXk\" : 0,  \"fPixeltoXk\" : 0,  \"fPixeltoX\" : 0.00125628140703518,  \"fAbsPixeltoYk\" : 1,  \"fPixeltoYk\" : 0,  \"fPixeltoY\" : -0.0023696682464455,  \"fXlowNDC\" : 0,  \"fYlowNDC\" : 0,  \"fXUpNDC\" : 0,  \"fYUpNDC\" : 0,  \"fWNDC\" : 1,  \"fHNDC\" : 1,  \"fAbsXlowNDC\" : 0,  \"fAbsYlowNDC\" : 0,  \"fAbsWNDC\" : 1,  \"fAbsHNDC\" : 1,  \"fUxmin\" : 0,  \"fUymin\" : 0,  \"fUxmax\" : 1,  \"fUymax\" : 1,  \"fTheta\" : 30,  \"fPhi\" : 30,  \"fAspectRatio\" : 0,  \"fNumber\" : 0,  \"fTickx\" : 0,  \"fTicky\" : 0,  \"fLogx\" : 0,  \"fLogy\" : 0,  \"fLogz\" : 0,  \"fPadPaint\" : 0,  \"fCrosshair\" : 0,  \"fCrosshairPos\" : 0,  \"fBorderSize\" : 2,  \"fBorderMode\" : 0,  \"fModified\" : true,  \"fGridx\" : false,  \"fGridy\" : false,  \"fAbsCoord\" : false,  \"fEditable\" : true,  \"fFixedAspectRatio\" : false,  \"fPrimitives\" : {    \"_typename\" : \"TList\",    \"name\" : \"TList\",    \"arr\" : [{      \"_typename\" : \"TH1D\",      \"fUniqueID\" : 0,      \"fBits\" : 50331656,      \"fName\" : \"MVA_BDT_S\",      \"fTitle\" : \"TMVA response for classifier: BDT\",      \"fLineColor\" : 602,      \"fLineStyle\" : 1,      \"fLineWidth\" : 1,      \"fFillColor\" : 600,      \"fFillStyle\" : 1001,      \"fMarkerColor\" : 1,      \"fMarkerStyle\" : 1,      \"fMarkerSize\" : 1,      \"fNcells\" : 42,      \"fXaxis\" : {        \"_typename\" : \"TAxis\",        \"fUniqueID\" : 0,        \"fBits\" : 50331656,        \"fName\" : \"xaxis\",        \"fTitle\" : \"BDT response\",        \"fNdivisions\" : 510,        \"fAxisColor\" : 1,        \"fLabelColor\" : 1,        \"fLabelFont\" : 42,        \"fLabelOffset\" : 0.005,        \"fLabelSize\" : 0.035,        \"fTickLength\" : 0.03,        \"fTitleOffset\" : 1,        \"fTitleSize\" : 0.035,        \"fTitleColor\" : 1,        \"fTitleFont\" : 42,        \"fNbins\" : 40,        \"fXmin\" : -0.297529190778732,        \"fXmax\" : 0.247599766979218,        \"fXbins\" : [],        \"fFirst\" : 0,        \"fLast\" : 0,        \"fBits2\" : 0,        \"fTimeDisplay\" : false,        \"fTimeFormat\" : \"\",        \"fLabels\" : null,        \"fModLabs\" : null      },      \"fYaxis\" : {        \"_typename\" : \"TAxis\",        \"fUniqueID\" : 0,        \"fBits\" : 50331656,        \"fName\" : \"yaxis\",        \"fTitle\" : \"(1\\/N) dN^{ }\\/^{ }dx\",        \"fNdivisions\" : 510,        \"fAxisColor\" : 1,        \"fLabelColor\" : 1,        \"fLabelFont\" : 42,        \"fLabelOffset\" : 0.005,        \"fLabelSize\" : 0.035,        \"fTickLength\" : 0.03,        \"fTitleOffset\" : 0,        \"fTitleSize\" : 0.035,        \"fTitleColor\" : 1,        \"fTitleFont\" : 42,        \"fNbins\" : 1,        \"fXmin\" : 0,        \"fXmax\" : 1,        \"fXbins\" : [],        \"fFirst\" : 0,        \"fLast\" : 0,        \"fBits2\" : 0,        \"fTimeDisplay\" : false,        \"fTimeFormat\" : \"\",        \"fLabels\" : null,        \"fModLabs\" : null      },      \"fZaxis\" : {        \"_typename\" : \"TAxis\",        \"fUniqueID\" : 0,        \"fBits\" : 50331648,        \"fName\" : \"zaxis\",        \"fTitle\" : \"\",        \"fNdivisions\" : 510,        \"fAxisColor\" : 1,        \"fLabelColor\" : 1,        \"fLabelFont\" : 42,        \"fLabelOffset\" : 0.005,        \"fLabelSize\" : 0.035,        \"fTickLength\" : 0.03,        \"fTitleOffset\" : 1,        \"fTitleSize\" : 0.035,        \"fTitleColor\" : 1,        \"fTitleFont\" : 42,        \"fNbins\" : 1,        \"fXmin\" : 0,        \"fXmax\" : 1,        \"fXbins\" : [],        \"fFirst\" : 0,        \"fLast\" : 0,        \"fBits2\" : 0,        \"fTimeDisplay\" : false,        \"fTimeFormat\" : \"\",        \"fLabels\" : null,        \"fModLabs\" : null      },      \"fBarOffset\" : 0,      \"fBarWidth\" : 1000,      \"fEntries\" : 10000,      \"fTsumw\" : 10000,      \"fTsumw2\" : 10000,      \"fTsumwx\" : 395.337411593944,      \"fTsumwx2\" : 83.5165701659381,      \"fMaximum\" : 5.32717985106461,      \"fMinimum\" : -1111,      \"fNormFactor\" : 0,      \"fContour\" : [],      \"fSumw2\" : [0, 0, 0, 5.38420363772753e-5, 0, 1.07684072754551e-4, 2.69210181886376e-4, 4.84578327395477e-4, 8.07630545659129e-4, 9.69156654790955e-4, 0.00107684072754551, 0.00199215534595918, 0.00419967883742747, 0.00511499345584115, 0.00673025454715941, 0.00872240989311859, 0.0116298798574915, 0.0163679790586917, 0.0176601879317463, 0.0212676043690237, 0.0235828119332466, 0.0270287022613922, 0.0295592779711241, 0.0320360116444788, 0.0335435886630425, 0.0323052218263652, 0.0306899607350469, 0.0311745390624424, 0.0305284346259151, 0.0283747531708241, 0.0285362792799559, 0.0257903354247149, 0.0220213928783056, 0.01857550255016, 0.0158834007312962, 0.0110376174573414, 0.00899162007500497, 0.00554572974685935, 0.00387662661916382, 0.00134605090943188, 5.38420363772753e-4, 0],      \"fOption\" : \"\",      \"fFunctions\" : {        \"_typename\" : \"TList\",        \"name\" : \"TList\",        \"arr\" : [],        \"opt\" : []      },      \"fBufferSize\" : 0,      \"fBuffer\" : [],      \"fBinStatErrOpt\" : 0,      \"fStatOverflows\" : 2,      \"fArray\" : [0, 0, 0, 0.00733771329347742, 0, 0.0146754265869548, 0.0366885664673871, 0.0660394196412968, 0.110065699402161, 0.132078839282594, 0.146754265869548, 0.271495391858665, 0.572341636891239, 0.697082762880355, 0.917214161684678, 1.18870955354334, 1.58494607139112, 2.23066484121714, 2.40676996026059, 2.89839675092358, 3.21391842254311, 3.68353207332567, 4.0284045981191, 4.36593940961907, 4.57139538183643, 4.40262797608645, 4.18249657728213, 4.24853599692343, 4.1604834374017, 3.8669749056626, 3.88898804554303, 3.51476466757568, 3.00112473703227, 2.53151108624971, 2.16462542157584, 1.50423122516287, 1.22539812001073, 0.755784469228174, 0.528315357130374, 0.183442832336936, 0.0733771329347742, 0]    }, {      \"_typename\" : \"TH1D\",      \"fUniqueID\" : 0,      \"fBits\" : 50331656,      \"fName\" : \"MVA_BDT_B\",      \"fTitle\" : \"MVA_BDT_B\",      \"fLineColor\" : 632,      \"fLineStyle\" : 1,      \"fLineWidth\" : 1,      \"fFillColor\" : 1182,      \"fFillStyle\" : 1001,      \"fMarkerColor\" : 1,      \"fMarkerStyle\" : 1,      \"fMarkerSize\" : 1,      \"fNcells\" : 42,      \"fXaxis\" : {        \"_typename\" : \"TAxis\",        \"fUniqueID\" : 0,        \"fBits\" : 50331648,        \"fName\" : \"xaxis\",        \"fTitle\" : \"\",        \"fNdivisions\" : 510,        \"fAxisColor\" : 1,        \"fLabelColor\" : 1,        \"fLabelFont\" : 42,        \"fLabelOffset\" : 0.005,        \"fLabelSize\" : 0.035,        \"fTickLength\" : 0.03,        \"fTitleOffset\" : 1,        \"fTitleSize\" : 0.035,        \"fTitleColor\" : 1,        \"fTitleFont\" : 42,        \"fNbins\" : 40,        \"fXmin\" : -0.297529190778732,        \"fXmax\" : 0.247599766979218,        \"fXbins\" : [],        \"fFirst\" : 0,        \"fLast\" : 0,        \"fBits2\" : 0,        \"fTimeDisplay\" : false,        \"fTimeFormat\" : \"\",        \"fLabels\" : null,        \"fModLabs\" : null      },      \"fYaxis\" : {        \"_typename\" : \"TAxis\",        \"fUniqueID\" : 0,        \"fBits\" : 50331648,        \"fName\" : \"yaxis\",        \"fTitle\" : \"\",        \"fNdivisions\" : 510,        \"fAxisColor\" : 1,        \"fLabelColor\" : 1,        \"fLabelFont\" : 42,        \"fLabelOffset\" : 0.005,        \"fLabelSize\" : 0.035,        \"fTickLength\" : 0.03,        \"fTitleOffset\" : 0,        \"fTitleSize\" : 0.035,        \"fTitleColor\" : 1,        \"fTitleFont\" : 42,        \"fNbins\" : 1,        \"fXmin\" : 0,        \"fXmax\" : 1,        \"fXbins\" : [],        \"fFirst\" : 0,        \"fLast\" : 0,        \"fBits2\" : 0,        \"fTimeDisplay\" : false,        \"fTimeFormat\" : \"\",        \"fLabels\" : null,        \"fModLabs\" : null      },      \"fZaxis\" : {        \"_typename\" : \"TAxis\",        \"fUniqueID\" : 0,        \"fBits\" : 50331648,        \"fName\" : \"zaxis\",        \"fTitle\" : \"\",        \"fNdivisions\" : 510,        \"fAxisColor\" : 1,        \"fLabelColor\" : 1,        \"fLabelFont\" : 42,        \"fLabelOffset\" : 0.005,        \"fLabelSize\" : 0.035,        \"fTickLength\" : 0.03,        \"fTitleOffset\" : 1,        \"fTitleSize\" : 0.035,        \"fTitleColor\" : 1,        \"fTitleFont\" : 42,        \"fNbins\" : 1,        \"fXmin\" : 0,        \"fXmax\" : 1,        \"fXbins\" : [],        \"fFirst\" : 0,        \"fLast\" : 0,        \"fBits2\" : 0,        \"fTimeDisplay\" : false,        \"fTimeFormat\" : \"\",        \"fLabels\" : null,        \"fModLabs\" : null      },      \"fBarOffset\" : 0,      \"fBarWidth\" : 1000,      \"fEntries\" : 10000,      \"fTsumw\" : 10000,      \"fTsumw2\" : 10000,      \"fTsumwx\" : -394.742624346597,      \"fTsumwx2\" : 83.763898861945,      \"fMaximum\" : -1111,      \"fMinimum\" : -1111,      \"fNormFactor\" : 0,      \"fContour\" : [],      \"fSumw2\" : [0, 1.07684072754551e-4, 3.76894254640927e-4, 0.00113068276392278, 0.00129220887305461, 0.00355357440090017, 0.00366125847365472, 0.005868781965123, 0.00656872843802758, 0.00909930414775952, 0.0107145652390778, 0.0116837218938687, 0.0142681396399779, 0.0199753954959691, 0.0214291304781556, 0.0253057570973194, 0.0312822231351969, 0.032466747935497, 0.0355357440090017, 0.0338666408813061, 0.0351050077179835, 0.0355357440090017, 0.0354819019726244, 0.0289670155709741, 0.0272440704069013, 0.0219675508419283, 0.01976002735046, 0.0161526109131826, 0.0135143511306961, 0.0106607232027005, 0.00861472582036404, 0.00538420363772753, 0.0043612049465593, 0.00323052218263652, 0.00204599738233646, 6.46104436527303e-4, 6.46104436527303e-4, 4.84578327395477e-4, 1.61526109131826e-4, 2.15368145509101e-4, 5.38420363772753e-5, 0],      \"fOption\" : \"\",      \"fFunctions\" : {        \"_typename\" : \"TList\",        \"name\" : \"TList\",        \"arr\" : [],        \"opt\" : []      },      \"fBufferSize\" : 0,      \"fBuffer\" : [],      \"fBinStatErrOpt\" : 0,      \"fStatOverflows\" : 2,      \"fArray\" : [0, 0.0146754265869548, 0.051363993054342, 0.154091979163026, 0.176105119043458, 0.48428907736951, 0.498964503956465, 0.799810748989039, 0.895201021804245, 1.24007354659768, 1.46020494540201, 1.5922837846846, 1.94449402277152, 2.72229163188012, 2.92040989080401, 3.44872524793439, 4.26321142351038, 4.42464111596689, 4.8428907736951, 4.6154216615973, 4.78418906734728, 4.8428907736951, 4.83555306040162, 3.94768975189085, 3.71288292649958, 2.99378702373879, 2.69294077870621, 2.20131398804323, 1.84176603666283, 1.45286723210853, 1.17403412695639, 0.733771329347742, 0.594354776771671, 0.440262797608645, 0.278833105152142, 0.0880525595217291, 0.0880525595217291, 0.0660394196412968, 0.0220131398804323, 0.0293508531739097, 0.00733771329347742, 0]    }, {      \"_typename\" : \"TLegend\",      \"fUniqueID\" : 0,      \"fBits\" : 50331656,      \"fLineColor\" : 1,      \"fLineStyle\" : 1,      \"fLineWidth\" : 1,      \"fFillColor\" : 0,      \"fFillStyle\" : 1,      \"fX1\" : 0.509999998509884,      \"fY1\" : 0.749999998509884,      \"fX2\" : 0.889999998509884,      \"fY2\" : 0.889999998509884,      \"fX1NDC\" : 0,      \"fY1NDC\" : 0,      \"fX2NDC\" : 0,      \"fY2NDC\" : 0,      \"fBorderSize\" : 1,      \"fInit\" : 0,      \"fShadowColor\" : 1,      \"fCornerRadius\" : 0,      \"fOption\" : \"brNDC\",      \"fName\" : \"TPave\",      \"fTextAngle\" : 0,      \"fTextSize\" : 0,      \"fTextAlign\" : 12,      \"fTextColor\" : 1,      \"fTextFont\" : 42,      \"fPrimitives\" : {        \"_typename\" : \"TList\",        \"name\" : \"TList\",        \"arr\" : [{          \"_typename\" : \"TLegendEntry\",          \"fUniqueID\" : 0,          \"fBits\" : 50331656,          \"fTextAngle\" : 0,          \"fTextSize\" : 0,          \"fTextAlign\" : 0,          \"fTextColor\" : 0,          \"fTextFont\" : 0,          \"fLineColor\" : 1,          \"fLineStyle\" : 1,          \"fLineWidth\" : 1,          \"fFillColor\" : 0,          \"fFillStyle\" : 0,          \"fMarkerColor\" : 1,          \"fMarkerStyle\" : 21,          \"fMarkerSize\" : 1,          \"fObject\" : {\"$ref\":2},          \"fLabel\" : \"Signal\",          \"fOption\" : \"F\"        }, {          \"_typename\" : \"TLegendEntry\",          \"fUniqueID\" : 0,          \"fBits\" : 50331656,          \"fTextAngle\" : 0,          \"fTextSize\" : 0,          \"fTextAlign\" : 0,          \"fTextColor\" : 0,          \"fTextFont\" : 0,          \"fLineColor\" : 1,          \"fLineStyle\" : 1,          \"fLineWidth\" : 1,          \"fFillColor\" : 0,          \"fFillStyle\" : 0,          \"fMarkerColor\" : 1,          \"fMarkerStyle\" : 21,          \"fMarkerSize\" : 1,          \"fObject\" : {\"$ref\":7},          \"fLabel\" : \"Background\",          \"fOption\" : \"F\"        }],        \"opt\" : [\"F\", \"F\"]      },      \"fEntrySeparation\" : 0.1,      \"fMargin\" : 0.3,      \"fNColumns\" : 1,      \"fColumnSeparation\" : 0    }],    \"opt\" : [\"hist\", \"histsame\", \"\"]  },  \"fExecs\" : null,  \"fName\" : \"csbplot\",  \"fTitle\" : \"TMVA response for classifier: BDT\",  \"fNumPaletteColor\" : 0,  \"fNextPaletteColor\" : 0,  \"fDISPLAY\" : \"$DISPLAY\",  \"fDoubleBuffer\" : 0,  \"fRetained\" : true,  \"fXsizeUser\" : 0,  \"fYsizeUser\" : 0,  \"fXsizeReal\" : 20,  \"fYsizeReal\" : 11.25,  \"fWindowTopX\" : 0,  \"fWindowTopY\" : 0,  \"fWindowWidth\" : 0,  \"fWindowHeight\" : 0,  \"fCw\" : 796,  \"fCh\" : 422,  \"fCatt\" : {    \"_typename\" : \"TAttCanvas\",    \"fXBetween\" : 2,    \"fYBetween\" : 2,    \"fTitleFromTop\" : 1.2,    \"fXdate\" : 0.2,    \"fYdate\" : 0.3,    \"fAdate\" : 1  },  \"kMoveOpaque\" : true,  \"kResizeOpaque\" : true,  \"fHighLightColor\" : 2,  \"fBatch\" : true,  \"kShowEventStatus\" : false,  \"kAutoExec\" : true,  \"kMenuBar\" : true}');\n",
       "    });\n",
       "</script>\n"
      ],
      "text/plain": [
       "<IPython.core.display.HTML object>"
      ]
     },
     "metadata": {},
     "output_type": "display_data"
    }
   ],
   "source": [
    "factory.DrawOutputDistribution(loader.GetName(), \"BDT\")"
   ]
  },
  {
   "cell_type": "code",
   "execution_count": 21,
   "metadata": {
    "collapsed": false
   },
   "outputs": [
    {
     "name": "stdout",
     "output_type": "stream",
     "text": [
      "Factory.GetMethodObject: no method object found\n"
     ]
    }
   ],
   "source": [
    "factory.DrawOutputDistribution(loader.GetName(), \"Fisher\")"
   ]
  },
  {
   "cell_type": "code",
   "execution_count": 22,
   "metadata": {
    "collapsed": false
   },
   "outputs": [
    {
     "data": {
      "text/html": [
       "\n",
       "<div id=\"jstmva_8\" style=\"width: 800px; height:450px\"></div>\n",
       "<script>\n",
       "    require(['JsMVA'],function(jsmva){\n",
       "        jsmva.draw('jstmva_8','{  \"_typename\" : \"TCanvas\",  \"fUniqueID\" : 0,  \"fBits\" : 53673992,  \"fLineColor\" : 1,  \"fLineStyle\" : 1,  \"fLineWidth\" : 1,  \"fFillColor\" : 0,  \"fFillStyle\" : 1001,  \"fLeftMargin\" : 0.1,  \"fRightMargin\" : 0.1,  \"fBottomMargin\" : 0.1,  \"fTopMargin\" : 0.1,  \"fXfile\" : 2,  \"fYfile\" : 2,  \"fAfile\" : 1,  \"fXstat\" : 0.99,  \"fYstat\" : 0.99,  \"fAstat\" : 2,  \"fFrameFillColor\" : 0,  \"fFrameLineColor\" : 1,  \"fFrameFillStyle\" : 1001,  \"fFrameLineStyle\" : 1,  \"fFrameLineWidth\" : 1,  \"fFrameBorderSize\" : 1,  \"fFrameBorderMode\" : 0,  \"fX1\" : 0,  \"fY1\" : 0,  \"fX2\" : 1,  \"fY2\" : 1,  \"fXtoAbsPixelk\" : 5e-5,  \"fXtoPixelk\" : 5e-5,  \"fXtoPixel\" : 796,  \"fYtoAbsPixelk\" : 422.00005,  \"fYtoPixelk\" : 422.00005,  \"fYtoPixel\" : -422,  \"fUtoAbsPixelk\" : 5e-5,  \"fUtoPixelk\" : 5e-5,  \"fUtoPixel\" : 796,  \"fVtoAbsPixelk\" : 422.00005,  \"fVtoPixelk\" : 422,  \"fVtoPixel\" : -422,  \"fAbsPixeltoXk\" : 0,  \"fPixeltoXk\" : 0,  \"fPixeltoX\" : 0.00125628140703518,  \"fAbsPixeltoYk\" : 1,  \"fPixeltoYk\" : 0,  \"fPixeltoY\" : -0.0023696682464455,  \"fXlowNDC\" : 0,  \"fYlowNDC\" : 0,  \"fXUpNDC\" : 0,  \"fYUpNDC\" : 0,  \"fWNDC\" : 1,  \"fHNDC\" : 1,  \"fAbsXlowNDC\" : 0,  \"fAbsYlowNDC\" : 0,  \"fAbsWNDC\" : 1,  \"fAbsHNDC\" : 1,  \"fUxmin\" : 0,  \"fUymin\" : 0,  \"fUxmax\" : 1,  \"fUymax\" : 1,  \"fTheta\" : 30,  \"fPhi\" : 30,  \"fAspectRatio\" : 0,  \"fNumber\" : 0,  \"fTickx\" : 0,  \"fTicky\" : 0,  \"fLogx\" : 0,  \"fLogy\" : 0,  \"fLogz\" : 0,  \"fPadPaint\" : 0,  \"fCrosshair\" : 0,  \"fCrosshairPos\" : 0,  \"fBorderSize\" : 2,  \"fBorderMode\" : 0,  \"fModified\" : true,  \"fGridx\" : false,  \"fGridy\" : false,  \"fAbsCoord\" : false,  \"fEditable\" : true,  \"fFixedAspectRatio\" : false,  \"fPrimitives\" : {    \"_typename\" : \"TList\",    \"name\" : \"TList\",    \"arr\" : [{      \"_typename\" : \"TH1D\",      \"fUniqueID\" : 0,      \"fBits\" : 50331656,      \"fName\" : \"MVA_DNN_S\",      \"fTitle\" : \"TMVA response for classifier: DNN\",      \"fLineColor\" : 602,      \"fLineStyle\" : 1,      \"fLineWidth\" : 1,      \"fFillColor\" : 600,      \"fFillStyle\" : 1001,      \"fMarkerColor\" : 1,      \"fMarkerStyle\" : 1,      \"fMarkerSize\" : 1,      \"fNcells\" : 42,      \"fXaxis\" : {        \"_typename\" : \"TAxis\",        \"fUniqueID\" : 0,        \"fBits\" : 50331656,        \"fName\" : \"xaxis\",        \"fTitle\" : \"DNN response\",        \"fNdivisions\" : 510,        \"fAxisColor\" : 1,        \"fLabelColor\" : 1,        \"fLabelFont\" : 42,        \"fLabelOffset\" : 0.005,        \"fLabelSize\" : 0.035,        \"fTickLength\" : 0.03,        \"fTitleOffset\" : 1,        \"fTitleSize\" : 0.035,        \"fTitleColor\" : 1,        \"fTitleFont\" : 42,        \"fNbins\" : 40,        \"fXmin\" : 0.0488156899809837,        \"fXmax\" : 0.7993303997612,        \"fXbins\" : [],        \"fFirst\" : 0,        \"fLast\" : 0,        \"fBits2\" : 0,        \"fTimeDisplay\" : false,        \"fTimeFormat\" : \"\",        \"fLabels\" : null,        \"fModLabs\" : null      },      \"fYaxis\" : {        \"_typename\" : \"TAxis\",        \"fUniqueID\" : 0,        \"fBits\" : 50331656,        \"fName\" : \"yaxis\",        \"fTitle\" : \"(1\\/N) dN^{ }\\/^{ }dx\",        \"fNdivisions\" : 510,        \"fAxisColor\" : 1,        \"fLabelColor\" : 1,        \"fLabelFont\" : 42,        \"fLabelOffset\" : 0.005,        \"fLabelSize\" : 0.035,        \"fTickLength\" : 0.03,        \"fTitleOffset\" : 0,        \"fTitleSize\" : 0.035,        \"fTitleColor\" : 1,        \"fTitleFont\" : 42,        \"fNbins\" : 1,        \"fXmin\" : 0,        \"fXmax\" : 1,        \"fXbins\" : [],        \"fFirst\" : 0,        \"fLast\" : 0,        \"fBits2\" : 0,        \"fTimeDisplay\" : false,        \"fTimeFormat\" : \"\",        \"fLabels\" : null,        \"fModLabs\" : null      },      \"fZaxis\" : {        \"_typename\" : \"TAxis\",        \"fUniqueID\" : 0,        \"fBits\" : 50331648,        \"fName\" : \"zaxis\",        \"fTitle\" : \"\",        \"fNdivisions\" : 510,        \"fAxisColor\" : 1,        \"fLabelColor\" : 1,        \"fLabelFont\" : 42,        \"fLabelOffset\" : 0.005,        \"fLabelSize\" : 0.035,        \"fTickLength\" : 0.03,        \"fTitleOffset\" : 1,        \"fTitleSize\" : 0.035,        \"fTitleColor\" : 1,        \"fTitleFont\" : 42,        \"fNbins\" : 1,        \"fXmin\" : 0,        \"fXmax\" : 1,        \"fXbins\" : [],        \"fFirst\" : 0,        \"fLast\" : 0,        \"fBits2\" : 0,        \"fTimeDisplay\" : false,        \"fTimeFormat\" : \"\",        \"fLabels\" : null,        \"fModLabs\" : null      },      \"fBarOffset\" : 0,      \"fBarWidth\" : 1000,      \"fEntries\" : 10000,      \"fTsumw\" : 10000,      \"fTsumw2\" : 10000,      \"fTsumwx\" : 6061.71296022087,      \"fTsumwx2\" : 3976.99666342042,      \"fMaximum\" : 8.44220628514458,      \"fMinimum\" : -1111,      \"fNormFactor\" : 0,      \"fContour\" : [],      \"fSumw2\" : [0, 9.65785058871455e-4, 0.00110781227341137, 0.00170432657447904, 0.00198838100355888, 0.00173273201738702, 0.00207359733228283, 0.00164751568866307, 0.00161911024575509, 0.00164751568866307, 0.0021304082180988, 0.00198838100355888, 0.00201678644646686, 0.00258489530462654, 0.00309619327697025, 0.00281213884789041, 0.00383473479257784, 0.00303938239115428, 0.00346546403477404, 0.00357908580640598, 0.00343705859186606, 0.00426081643619759, 0.00426081643619759, 0.00420400555038163, 0.00434603276492155, 0.00423241099328961, 0.00494254706598921, 0.00499935795180518, 0.00676049541210018, 0.00653325186883631, 0.00829438932913132, 0.00962944514580656, 0.0134073690525684, 0.0131233146234886, 0.0147708303121517, 0.0197417828210489, 0.0255080877313696, 0.0317856906140341, 0.0409038377874969, 0.014117505125268, 0.00176113746029501, 0],      \"fOption\" : \"\",      \"fFunctions\" : {        \"_typename\" : \"TList\",        \"name\" : \"TList\",        \"arr\" : [],        \"opt\" : []      },      \"fBufferSize\" : 0,      \"fBuffer\" : [],      \"fBinStatErrOpt\" : 0,      \"fStatOverflows\" : 2,      \"fArray\" : [0, 0.181208973292245, 0.207857351717575, 0.319780541103961, 0.373077297954621, 0.325110216789027, 0.38906632500982, 0.309121189733829, 0.303791514048763, 0.309121189733829, 0.399725676379952, 0.373077297954621, 0.378406973639688, 0.485000487341008, 0.580934649672196, 0.527637892821536, 0.719506217483913, 0.570275298302064, 0.650220433578055, 0.671539136318319, 0.644890757892989, 0.799451352759903, 0.799451352759903, 0.788792001389771, 0.815440379815101, 0.794121677074837, 0.927363569201488, 0.93802292057162, 1.26846281304571, 1.22582540756518, 1.55626530003928, 1.80676005723738, 2.51560692335116, 2.4623101665005, 2.77143135623433, 3.70412460112088, 4.78604876518929, 5.96390709158888, 7.67473298649507, 2.64884881547781, 0.330439892474093, 0]    }, {      \"_typename\" : \"TH1D\",      \"fUniqueID\" : 0,      \"fBits\" : 50331656,      \"fName\" : \"MVA_DNN_B\",      \"fTitle\" : \"MVA_DNN_B\",      \"fLineColor\" : 632,      \"fLineStyle\" : 1,      \"fLineWidth\" : 1,      \"fFillColor\" : 1183,      \"fFillStyle\" : 1001,      \"fMarkerColor\" : 1,      \"fMarkerStyle\" : 1,      \"fMarkerSize\" : 1,      \"fNcells\" : 42,      \"fXaxis\" : {        \"_typename\" : \"TAxis\",        \"fUniqueID\" : 0,        \"fBits\" : 50331648,        \"fName\" : \"xaxis\",        \"fTitle\" : \"\",        \"fNdivisions\" : 510,        \"fAxisColor\" : 1,        \"fLabelColor\" : 1,        \"fLabelFont\" : 42,        \"fLabelOffset\" : 0.005,        \"fLabelSize\" : 0.035,        \"fTickLength\" : 0.03,        \"fTitleOffset\" : 1,        \"fTitleSize\" : 0.035,        \"fTitleColor\" : 1,        \"fTitleFont\" : 42,        \"fNbins\" : 40,        \"fXmin\" : 0.0488156899809837,        \"fXmax\" : 0.7993303997612,        \"fXbins\" : [],        \"fFirst\" : 0,        \"fLast\" : 0,        \"fBits2\" : 0,        \"fTimeDisplay\" : false,        \"fTimeFormat\" : \"\",        \"fLabels\" : null,        \"fModLabs\" : null      },      \"fYaxis\" : {        \"_typename\" : \"TAxis\",        \"fUniqueID\" : 0,        \"fBits\" : 50331648,        \"fName\" : \"yaxis\",        \"fTitle\" : \"\",        \"fNdivisions\" : 510,        \"fAxisColor\" : 1,        \"fLabelColor\" : 1,        \"fLabelFont\" : 42,        \"fLabelOffset\" : 0.005,        \"fLabelSize\" : 0.035,        \"fTickLength\" : 0.03,        \"fTitleOffset\" : 0,        \"fTitleSize\" : 0.035,        \"fTitleColor\" : 1,        \"fTitleFont\" : 42,        \"fNbins\" : 1,        \"fXmin\" : 0,        \"fXmax\" : 1,        \"fXbins\" : [],        \"fFirst\" : 0,        \"fLast\" : 0,        \"fBits2\" : 0,        \"fTimeDisplay\" : false,        \"fTimeFormat\" : \"\",        \"fLabels\" : null,        \"fModLabs\" : null      },      \"fZaxis\" : {        \"_typename\" : \"TAxis\",        \"fUniqueID\" : 0,        \"fBits\" : 50331648,        \"fName\" : \"zaxis\",        \"fTitle\" : \"\",        \"fNdivisions\" : 510,        \"fAxisColor\" : 1,        \"fLabelColor\" : 1,        \"fLabelFont\" : 42,        \"fLabelOffset\" : 0.005,        \"fLabelSize\" : 0.035,        \"fTickLength\" : 0.03,        \"fTitleOffset\" : 1,        \"fTitleSize\" : 0.035,        \"fTitleColor\" : 1,        \"fTitleFont\" : 42,        \"fNbins\" : 1,        \"fXmin\" : 0,        \"fXmax\" : 1,        \"fXbins\" : [],        \"fFirst\" : 0,        \"fLast\" : 0,        \"fBits2\" : 0,        \"fTimeDisplay\" : false,        \"fTimeFormat\" : \"\",        \"fLabels\" : null,        \"fModLabs\" : null      },      \"fBarOffset\" : 0,      \"fBarWidth\" : 1000,      \"fEntries\" : 10000,      \"fTsumw\" : 10000,      \"fTsumw2\" : 10000,      \"fTsumwx\" : 4791.68508041278,      \"fTsumwx2\" : 2771.60936518489,      \"fMaximum\" : -1111,      \"fMinimum\" : -1111,      \"fNormFactor\" : 0,      \"fContour\" : [],      \"fSumw2\" : [0, 0.00184635378901896, 0.00343705859186606, 0.0111917445057457, 0.0081523621145914, 0.00627760288266446, 0.00516979060925308, 0.00494254706598921, 0.00454487086527743, 0.00394835656420977, 0.00477211440854131, 0.00480051985144929, 0.00488573618017324, 0.00559587225287284, 0.00576630491032074, 0.00582311579613671, 0.00497095250889719, 0.00653325186883631, 0.00613557566812454, 0.00607876478230857, 0.00579471035322873, 0.0061923865539405, 0.00590833212486066, 0.00576630491032074, 0.0060219538964926, 0.00633441376848042, 0.00647644098302034, 0.00636281921138841, 0.00724338794153591, 0.00783990224260357, 0.00877728185856705, 0.00985668868907043, 0.0103679866614141, 0.00934539071672672, 0.0117314479209974, 0.0113905826061016, 0.0138050452532802, 0.0151685065128634, 0.0173273201738702, 0.00664687364046825, 8.23757844331535e-4, 0],      \"fOption\" : \"\",      \"fFunctions\" : {        \"_typename\" : \"TList\",        \"name\" : \"TList\",        \"arr\" : [],        \"opt\" : []      },      \"fBufferSize\" : 0,      \"fBuffer\" : [],      \"fBinStatErrOpt\" : 0,      \"fStatOverflows\" : 2,      \"fArray\" : [0, 0.346428919529291, 0.644890757892989, 2.09989221991601, 1.52961692161395, 1.17785832639959, 0.970000974682016, 0.927363569201488, 0.852748109610563, 0.740824920224177, 0.895385515091092, 0.900715190776158, 0.916704217831356, 1.04994610995801, 1.0819241640684, 1.09258351543853, 0.932693244886554, 1.22582540756518, 1.15120994797426, 1.14055059660413, 1.08725383975347, 1.16186929934439, 1.10857254249373, 1.0819241640684, 1.129891245234, 1.18851767776972, 1.21516605619505, 1.19384735345479, 1.35906729969184, 1.47099048907822, 1.6468697866854, 1.84939746271791, 1.9453316250491, 1.75346330038672, 2.20115605793227, 2.13719994971147, 2.59022238294209, 2.84604681582526, 3.25110216789027, 1.24714411030545, 0.154560594866915, 0]    }, {      \"_typename\" : \"TLegend\",      \"fUniqueID\" : 0,      \"fBits\" : 50331656,      \"fLineColor\" : 1,      \"fLineStyle\" : 1,      \"fLineWidth\" : 1,      \"fFillColor\" : 0,      \"fFillStyle\" : 1,      \"fX1\" : 0.509999998509884,      \"fY1\" : 0.749999998509884,      \"fX2\" : 0.889999998509884,      \"fY2\" : 0.889999998509884,      \"fX1NDC\" : 0,      \"fY1NDC\" : 0,      \"fX2NDC\" : 0,      \"fY2NDC\" : 0,      \"fBorderSize\" : 1,      \"fInit\" : 0,      \"fShadowColor\" : 1,      \"fCornerRadius\" : 0,      \"fOption\" : \"brNDC\",      \"fName\" : \"TPave\",      \"fTextAngle\" : 0,      \"fTextSize\" : 0,      \"fTextAlign\" : 12,      \"fTextColor\" : 1,      \"fTextFont\" : 42,      \"fPrimitives\" : {        \"_typename\" : \"TList\",        \"name\" : \"TList\",        \"arr\" : [{          \"_typename\" : \"TLegendEntry\",          \"fUniqueID\" : 0,          \"fBits\" : 50331656,          \"fTextAngle\" : 0,          \"fTextSize\" : 0,          \"fTextAlign\" : 0,          \"fTextColor\" : 0,          \"fTextFont\" : 0,          \"fLineColor\" : 1,          \"fLineStyle\" : 1,          \"fLineWidth\" : 1,          \"fFillColor\" : 0,          \"fFillStyle\" : 0,          \"fMarkerColor\" : 1,          \"fMarkerStyle\" : 21,          \"fMarkerSize\" : 1,          \"fObject\" : {\"$ref\":2},          \"fLabel\" : \"Signal\",          \"fOption\" : \"F\"        }, {          \"_typename\" : \"TLegendEntry\",          \"fUniqueID\" : 0,          \"fBits\" : 50331656,          \"fTextAngle\" : 0,          \"fTextSize\" : 0,          \"fTextAlign\" : 0,          \"fTextColor\" : 0,          \"fTextFont\" : 0,          \"fLineColor\" : 1,          \"fLineStyle\" : 1,          \"fLineWidth\" : 1,          \"fFillColor\" : 0,          \"fFillStyle\" : 0,          \"fMarkerColor\" : 1,          \"fMarkerStyle\" : 21,          \"fMarkerSize\" : 1,          \"fObject\" : {\"$ref\":7},          \"fLabel\" : \"Background\",          \"fOption\" : \"F\"        }],        \"opt\" : [\"F\", \"F\"]      },      \"fEntrySeparation\" : 0.1,      \"fMargin\" : 0.3,      \"fNColumns\" : 1,      \"fColumnSeparation\" : 0    }],    \"opt\" : [\"hist\", \"histsame\", \"\"]  },  \"fExecs\" : null,  \"fName\" : \"csbplot\",  \"fTitle\" : \"TMVA response for classifier: DNN\",  \"fNumPaletteColor\" : 0,  \"fNextPaletteColor\" : 0,  \"fDISPLAY\" : \"$DISPLAY\",  \"fDoubleBuffer\" : 0,  \"fRetained\" : true,  \"fXsizeUser\" : 0,  \"fYsizeUser\" : 0,  \"fXsizeReal\" : 20,  \"fYsizeReal\" : 11.25,  \"fWindowTopX\" : 0,  \"fWindowTopY\" : 0,  \"fWindowWidth\" : 0,  \"fWindowHeight\" : 0,  \"fCw\" : 796,  \"fCh\" : 422,  \"fCatt\" : {    \"_typename\" : \"TAttCanvas\",    \"fXBetween\" : 2,    \"fYBetween\" : 2,    \"fTitleFromTop\" : 1.2,    \"fXdate\" : 0.2,    \"fYdate\" : 0.3,    \"fAdate\" : 1  },  \"kMoveOpaque\" : true,  \"kResizeOpaque\" : true,  \"fHighLightColor\" : 2,  \"fBatch\" : true,  \"kShowEventStatus\" : false,  \"kAutoExec\" : true,  \"kMenuBar\" : true}');\n",
       "    });\n",
       "</script>\n"
      ],
      "text/plain": [
       "<IPython.core.display.HTML object>"
      ]
     },
     "metadata": {},
     "output_type": "display_data"
    }
   ],
   "source": [
    "if (bookDNN) : factory.DrawOutputDistribution(loader.GetName(), \"DNN\")"
   ]
  },
  {
   "cell_type": "markdown",
   "metadata": {},
   "source": [
    "# ROC curve\n",
    "\n",
    "To draw the ROC (receiver operating characteristic) curve we have to use Factory.DrawROCCurve function which is inserted by invoking jsmva magic. The parameters of the function are the following:\n",
    "The options string can contain the following options:\n",
    "<table>\n",
    "<tr><th>Keyword</th><th>Can be used as positional argument</th><th>Default</th><th>Predefined values</th><th>Description</th></tr>\n",
    "<tr>\n",
    "    <td>datasetName</td>\n",
    "    <td>yes, 1.</td>\n",
    "    <td>-</td>\n",
    "    <td>-</td>\n",
    "    <td> The name of dataset</td>\n",
    "</tr>\n",
    "</table>"
   ]
  },
  {
   "cell_type": "code",
   "execution_count": 23,
   "metadata": {
    "collapsed": false
   },
   "outputs": [
    {
     "data": {
      "image/png": "[encoded data removed]",
      "text/plain": [
       "<IPython.core.display.Image object>"
      ]
     },
     "metadata": {},
     "output_type": "display_data"
    }
   ],
   "source": [
    "roc = factory.GetROCCurve(loader)\n",
    "roc.Draw();"
   ]
  },
  {
   "cell_type": "markdown",
   "metadata": {},
   "source": [
    "We can also get the integra of the ROC curve for some of the methods"
   ]
  },
  {
   "cell_type": "code",
   "execution_count": 24,
   "metadata": {
    "collapsed": false
   },
   "outputs": [
    {
     "name": "stdout",
     "output_type": "stream",
     "text": [
      "ROC integral for LD =  0.646664085\n"
     ]
    }
   ],
   "source": [
    "print 'ROC integral for LD = ',factory.GetROCIntegral(loader, 'LD')"
   ]
  },
  {
   "cell_type": "code",
   "execution_count": 25,
   "metadata": {
    "collapsed": false
   },
   "outputs": [
    {
     "name": "stdout",
     "output_type": "stream",
     "text": [
      "ROC integral for BDT =  0.748682815\n"
     ]
    }
   ],
   "source": [
    "print 'ROC integral for BDT = ',factory.GetROCIntegral(loader, 'BDT')"
   ]
  },
  {
   "cell_type": "code",
   "execution_count": 26,
   "metadata": {
    "collapsed": false
   },
   "outputs": [
    {
     "name": "stdout",
     "output_type": "stream",
     "text": [
      "ROC integral for DNN =  0.679097375\n"
     ]
    }
   ],
   "source": [
    "if (bookDNN) : print 'ROC integral for DNN = ',factory.GetROCIntegral(loader, 'DNN')"
   ]
  },
  {
   "cell_type": "markdown",
   "metadata": {},
   "source": [
    "## Draw Neural Network"
   ]
  },
  {
   "cell_type": "markdown",
   "metadata": {},
   "source": [
    "If we trained a neural network then the weights of the network will be saved to XML and C file. \n",
    "We can read back the XML file and we can visualize the network using Factory.DrawNeuralNetwork function.\n",
    "\n",
    "The arguments of this function:\n",
    "<table>\n",
    "<tr><th>Keyword</th><th>Can be used as positional argument</th><th>Default</th><th>Predefined values</th><th>Description</th></tr>\n",
    "<tr>\n",
    "    <td>datasetName</td>\n",
    "    <td>yes, 1.</td>\n",
    "    <td>-</td>\n",
    "    <td>-</td>\n",
    "    <td> The name of dataset</td>\n",
    "</tr>\n",
    "<tr>\n",
    "    <td>methodName</td>\n",
    "    <td>yes, 2.</td>\n",
    "    <td>-</td>\n",
    "    <td>-</td>\n",
    "    <td> The name of method</td>\n",
    "</tr>\n",
    "</table>"
   ]
  },
  {
   "cell_type": "markdown",
   "metadata": {},
   "source": [
    "This visualization will be interactive, and we can do the following with it:\n",
    "* Mouseover (node, weight): focusing\n",
    "* Zooming and grab and move supported\n",
    "* Reset: double click\n",
    "\n",
    "The synapses are drawn with 2 colors, one for positive weight and one for negative weight. The absolute value of the synapses are scaled and transformed to thickness of line between to node."
   ]
  },
  {
   "cell_type": "code",
   "execution_count": 27,
   "metadata": {
    "collapsed": false
   },
   "outputs": [
    {
     "data": {
      "text/html": [
       "\n",
       "<div id=\"jstmva_9\" style=\"width: 800px; height:450px\"></div>\n",
       "<script>\n",
       "    require(['JsMVA'],function(jsmva){\n",
       "        jsmva.drawNeuralNetwork('jstmva_9','{\"layers\": [{\"ActivationFunction\": \"3\", \"Biases\": {\"cols\": 1, \"data\": [-0.023537566885352135, 0.16741818189620972, 0.006564375478774309, -0.05678052827715874, -0.2754276990890503, -0.13799311220645905, -0.31363147497177124, -0.19367370009422302, -0.4478990435600281, 0.17822524905204773, 0.12685845792293549, 0.15297190845012665, 0.3277885913848877, 0.05779079720377922, -0.02903776615858078, 0.0610998198390007, 0.006608907599002123, 0.013676281087100506, -0.015283153392374516, 0.0018620715709403157, -0.06807461380958557, 0.05326969549059868, -0.05322146788239479, 0.23811481893062592, -0.3692074418067932, -0.1384429633617401, -0.06141367927193642, -0.02909146621823311, -0.12442278116941452, -0.09821673482656479, 0.36089658737182617, 0.21826785802841187, -0.11645286530256271, 0.00195202452596277, 0.041856810450553894, 0.03613859415054321, -0.030131567269563675, -0.18615101277828217, -0.02900342270731926, -0.15721213817596436, -0.07438970357179642, 0.005759794265031815, -0.060304220765829086, 0.2238544076681137, -0.035407353192567825, 0.027787037193775177, -0.05478930473327637, 0.18094149231910706, -0.13783015310764313, -0.13434670865535736], \"row\": 50}, \"Weights\": {\"cols\": 7, \"data\": [1.134884238243103, 0.3418731093406677, 1.2947123050689697, 0.4860070049762726, -0.21954521536827087, -0.2612830400466919, 0.4567629396915436, -0.08242329210042953, -0.08260542899370193, 0.08049461245536804, 0.1833564192056656, -0.04872448742389679, 0.5495697855949402, -0.25433316826820374, 1.1177071332931519, -1.4645378589630127, 0.005930708255618811, -0.8720590472221375, 0.5745484232902527, 0.4128962457180023, 0.3314349055290222, -0.35856878757476807, 0.013861600309610367, -0.38503003120422363, 0.8239330053329468, 1.3509703874588013, 0.33874714374542236, -0.034734275192022324, -0.041687823832035065, 0.04317132756114006, 0.19502845406532288, -1.3020124435424805, 0.1442621499300003, -0.5031482577323914, 0.7606611847877502, -0.8191024661064148, -0.49176719784736633, 0.030636843293905258, -0.8800452947616577, 0.4908762276172638, 0.030441099777817726, -1.093481421470642, -0.43300971388816833, -0.49246278405189514, 0.5016881227493286, -0.8521989583969116, 0.7960731387138367, -0.054359596222639084, 0.7209740281105042, 0.605165958404541, -0.48671141266822815, -0.3897761404514313, 0.647210419178009, -0.3051842451095581, -0.9785506725311279, 0.3237552344799042, 0.07734362781047821, -0.13101905584335327, -0.002643224550411105, -0.016010740771889687, 0.47327521443367004, -2.6552112102508545, 1.5771369934082031, -0.40040847659111023, -0.1563587784767151, -0.3841109871864319, -0.6165794730186462, 1.0363229513168335, 0.7216206192970276, 0.5219070315361023, -0.6327319145202637, 1.1537381410598755, 0.0842418298125267, -0.25377750396728516, 0.5289799571037292, 0.5943446159362793, 0.8371708989143372, -0.1401764452457428, -0.09417175501585007, -0.65416020154953, 0.0065312632359564304, 0.7327123880386353, -0.3511611819267273, 0.7457550168037415, -0.5662712454795837, 0.021680790930986404, 1.0018683671951294, -0.2836788296699524, 0.6354131102561951, 1.2142562866210938, -1.1256654262542725, -0.7345633506774902, 0.04657965898513794, 1.131902813911438, 0.142633855342865, 0.24712812900543213, -1.1016035079956055, 0.8558104038238525, -0.05189244821667671, 0.637729287147522, -0.33242881298065186, 0.41718149185180664, -1.5345821380615234, 0.9229337573051453, -0.3044327199459076, 0.009319348260760307, -0.1914074718952179, -0.8461862802505493, 0.23427288234233856, -0.13197562098503113, 0.29228752851486206, -1.334671974182129, 0.044656168669462204, -0.32555803656578064, -0.40758809447288513, 1.1913074254989624, 0.2332507222890854, 0.6169790029525757, 0.49634602665901184, -0.4162154495716095, -0.2975071966648102, -1.0000956058502197, 0.1337164044380188, -0.7219938039779663, -0.44972193241119385, -0.49227970838546753, 0.06586655229330063, 0.10723306238651276, 0.7445234656333923, 0.020227570086717606, 0.20785140991210938, -0.16202667355537415, 0.7325816750526428, 0.6125487089157104, -0.010782448574900627, 0.10412867367267609, 0.24580153822898865, -1.120104193687439, 0.1350911408662796, -0.15669263899326324, 0.7686274647712708, 0.32668396830558777, -0.19799241423606873, -0.5512982606887817, 0.20535330474376678, -0.6473839282989502, -0.4587802290916443, 1.0857504606246948, -0.1824621707201004, 0.05242197960615158, 1.302061915397644, -0.2241889238357544, -0.6970551013946533, 0.5473194122314453, -0.04837601259350777, 0.45086485147476196, 0.1781822293996811, -0.06914256513118744, 0.4204427897930145, -1.9690886735916138, 0.8489155173301697, 0.3655393123626709, 0.524108350276947, 0.3906763195991516, -0.6130247712135315, -0.4562681317329407, 1.4399069547653198, -1.014250636100769, -0.2786312401294708, -0.7391535639762878, -0.40476498007774353, 1.1150838136672974, -0.7685211300849915, -0.7127005457878113, 0.9262035489082336, -0.3664003014564514, 0.9132119417190552, -0.2679843306541443, -0.6064512729644775, 0.4276510179042816, -0.5207657217979431, -0.3787047863006592, 0.4295596778392792, -0.3661597967147827, 0.06764619797468185, -0.14990964531898499, -0.4983009994029999, 0.7111525535583496, -0.7235140204429626, 0.8039458394050598, 0.35918667912483215, 0.6910077929496765, -0.1809883713722229, -0.6889957785606384, 0.1450512707233429, -0.8666022419929504, -0.5294135808944702, 0.51860511302948, -0.007878337986767292, -0.31128600239753723, 0.22820517420768738, -0.8663694262504578, 0.4406723082065582, -0.0481230728328228, -1.0161492824554443, -0.3250843286514282, -0.7713335156440735, 1.8315125703811646, 0.4392766058444977, 0.6748510599136353, -0.11593681573867798, -0.004816708620637655, -0.12576204538345337, -0.4350225031375885, 0.38426369428634644, 0.4580576717853546, 0.8228659629821777, -0.5185702443122864, -0.2602599859237671, 0.6972451210021973, -0.18599793314933777, 0.9306985139846802, -0.17772962152957916, 0.5412567257881165, 0.4849132299423218, 1.0803706645965576, -0.644774317741394, 0.16260726749897003, -0.921088457107544, -0.17507268488407135, -0.833945095539093, 0.3161700665950775, 0.5472090840339661, 0.25610506534576416, -0.09591042995452881, 0.19983845949172974, 1.148382544517517, 0.9858726263046265, 0.04578880965709686, 0.018474236130714417, -0.1993492841720581, -0.3283132016658783, 0.04208701103925705, -1.0860713720321655, -0.6084557771682739, 0.4355730712413788, 0.9909042119979858, -0.12589922547340393, 1.2863699197769165, 0.15459084510803223, 0.006648029666393995, -0.25548866391181946, 0.47690674662590027, 0.03540316969156265, -0.3202913999557495, 0.09027374535799026, -0.6881162524223328, -0.0172280240803957, 0.13471274077892303, 0.4696572422981262, 0.39481303095817566, -0.7703151702880859, 0.2534787654876709, -0.10929933190345764, -0.6976121664047241, -0.31395024061203003, -0.4472847580909729, 0.8460100889205933, -0.6073178052902222, -0.18775226175785065, 0.5860919952392578, 0.8917484879493713, -1.0886316299438477, 0.2179078608751297, -0.22612230479717255, 0.6136524081230164, -0.505017876625061, -0.24831248819828033, -0.34575650095939636, -0.03251229599118233, -0.6534458994865417, 0.5887246131896973, 0.06482285261154175, -0.39533141255378723, -0.6209662556648254, 0.6809055805206299, 0.4848838746547699, 0.44282931089401245, -0.7301881313323975, 0.29224011301994324, -0.17546473443508148, 0.0202961266040802, 1.131578803062439, -0.644858717918396, -0.30505549907684326, -0.25676631927490234, 0.003267052350565791, 0.7705605030059814, 0.22379787266254425, -0.7682497501373291, 0.05759302154183388, -0.33624720573425293, -0.14571858942508698, 0.5846452713012695, -0.5134555101394653, 0.4992256760597229, 0.6531888246536255, -0.12606099247932434, 0.5057520866394043, -0.7393937110900879, 0.5682944655418396, -0.021996499970555305, 0.6666063666343689, -1.9104409217834473, 0.8918203711509705, 0.6895104050636292, 0.030035313218832016, -0.49500882625579834, 0.045806776732206345, 0.8172404766082764, 0.2778994143009186, 0.4037247896194458, -0.6176750063896179, 0.48783284425735474, 0.04385658726096153, -0.10515221208333969, -0.3976311981678009, 0.3422130048274994, -1.27786386013031, 0.6485795378684998, 0.6839192509651184, -0.21054762601852417, 0.7985018491744995, -1.498401165008545, 0.10972131043672562, -1.3735018968582153, 0.3503774106502533, 0.1674114167690277, -0.711313784122467, -0.2596885859966278, 0.9807531833648682, -1.7979507446289062, 0.8063130378723145, 0.4535143971443176, -0.13924041390419006, -0.7059894800186157, -0.47050610184669495, -0.35508692264556885, -0.7170575857162476, 1.7011075019836426], \"row\": 50}}, {\"ActivationFunction\": \"3\", \"Biases\": {\"cols\": 1, \"data\": [-0.002806411124765873, -0.04270581901073456, -0.052651260048151016, -0.040426626801490784, -0.05571267008781433, -0.07119493186473846, -0.01557255070656538, 0.011673687025904655, -0.017883872613310814, 0.0501064769923687, 0.010463139042258263, 0.08701583743095398, 0.01416016835719347, -0.007299033459275961, -0.018970126286149025, -0.010702943429350853, 0.046640004962682724, 0.03734767436981201, 0.024592675268650055, -0.06670241057872772, 0.004824803210794926, -0.05743057653307915, 0.10700673609972, -0.028274670243263245, -0.00983451958745718, -0.019881408661603928, -0.06366212666034698, -0.047507740557193756, 0.06195902079343796, 0.12596578896045685, 0.0015620023477822542, -0.04592861607670784, 0.05218563228845596, -0.04863594099879265, 0.002265930874273181, 0.037761420011520386, -0.03954387083649635, -0.014085429720580578, 0.008260144852101803, -0.008235582150518894, -0.00041141360998153687, -0.010348097421228886, -0.02376069687306881, -0.03495585545897484, -0.0015506802592426538, -0.017425335943698883, -0.06983975321054459, 0.07056841254234314, 0.023908991366624832, -0.03316810354590416], \"row\": 50}, \"Weights\": {\"cols\": 50, \"data\": [0.4810454845428467, 0.12940116226673126, 0.5741459131240845, 0.3425082564353943, -0.12257496267557144, 0.026896150782704353, 0.38240402936935425, -0.0030698440968990326, 0.09972158074378967, 0.3902195394039154, 0.13186822831630707, 0.11089511215686798, 0.1049862653017044, 0.11456143856048584, 0.47004589438438416, -0.43520280718803406, 0.018167860805988312, -0.13659904897212982, 0.08179003745317459, -0.06442368775606155, 0.04431872069835663, -0.09163498878479004, -0.003366204909980297, -0.1211574450135231, 0.5850508213043213, 0.2918200194835663, 0.048389993607997894, -0.07104191184043884, -0.07768434286117554, 0.3619284927845001, 0.02386002615094185, -0.3545655608177185, -0.4181775748729706, -0.05199788510799408, 0.16759225726127625, -0.2787780463695526, -0.22433553636074066, -0.032667819410562515, -0.4727257192134857, 0.17622427642345428, 0.09801086783409119, -0.37820595502853394, -0.24174904823303223, -0.24560897052288055, 0.18099673092365265, -0.31268903613090515, -0.012022124603390694, -0.04790642485022545, 0.30703940987586975, 0.16639791429042816, -0.10558115690946579, -0.12606270611286163, 0.13623937964439392, -0.10429643094539642, -0.23739439249038696, -0.06670845299959183, -0.33257365226745605, -0.028987448662519455, -0.029901903122663498, -0.2764190435409546, -0.011247042566537857, -0.595501720905304, 0.28090858459472656, -0.10838554054498672, 0.10212097316980362, -0.2989591956138611, 0.05755910277366638, 0.17298997938632965, 0.323400616645813, 0.31057628989219666, -0.20707584917545319, 0.46682488918304443, 0.12339532375335693, -0.06370220333337784, 0.07008137553930283, 0.1414419561624527, 0.32216331362724304, 0.08348899334669113, 0.06272132694721222, -0.6101905107498169, 0.0495622344315052, 0.29368123412132263, 0.2662276327610016, 0.2932720482349396, -0.09899180382490158, 0.07280360907316208, 0.41183316707611084, 0.026626506820321083, 0.16737839579582214, 0.17423374950885773, -0.2083015888929367, -0.2155097872018814, 0.15548698604106903, 0.3613259792327881, 0.14261336624622345, -0.02660307288169861, -0.13273319602012634, 0.1933121383190155, -0.11519906669855118, 0.13979697227478027, -0.29109272360801697, 0.08599545806646347, -0.4401027262210846, 0.16144216060638428, -0.15385839343070984, -0.06218086555600166, -0.11884553730487823, -0.25467267632484436, 0.0725681260228157, -0.167804554104805, 0.05508381873369217, -0.49760910868644714, -0.06745409220457077, -0.1900768280029297, -0.018778234720230103, 0.36113396286964417, 0.15633586049079895, 0.09565546363592148, 0.2464890480041504, -0.057413093745708466, -0.19244979321956635, -0.312629759311676, -0.005154565908014774, -0.20773561298847198, -0.2812002897262573, -0.20859737694263458, 0.0843556672334671, 0.10375005006790161, 0.2549799978733063, -0.08730532228946686, 0.12595021724700928, -0.11698208004236221, 0.32349875569343567, 0.27220427989959717, -0.011089763604104519, -0.004868430085480213, 0.08707360178232193, -0.19929441809654236, 0.006032348144799471, -0.11832019686698914, 0.21216662228107452, 0.006242475472390652, -0.08110986649990082, -0.23389890789985657, 0.04721764847636223, -0.26236751675605774, -0.07397614419460297, 0.662652313709259, -0.16574011743068695, -0.05009793862700462, 0.4566674530506134, -0.04151276871562004, -0.24860791862010956, 0.10157692432403564, -0.027211477980017662, 0.23577477037906647, 0.08707194030284882, -0.046691037714481354, 0.10019726306200027, -0.4753018915653229, 0.1461513638496399, 0.23425152897834778, 0.1123277023434639, 0.13495567440986633, -0.17793788015842438, -0.08865661174058914, 0.3546256721019745, -0.20149901509284973, -0.09662798047065735, -0.13990025222301483, -0.12057618796825409, 0.3749329745769501, -0.32331714034080505, -0.0840439721941948, 0.015780281275510788, -0.1505032479763031, 0.37497708201408386, -0.09175380319356918, -0.28269922733306885, -0.03754842281341553, -0.1499660462141037, -0.18909338116645813, 0.24103213846683502, -0.19088655710220337, -0.10125090181827545, -0.10013867169618607, -0.20063240826129913, 0.17210043966770172, -0.30482107400894165, 0.23822680115699768, -0.01978405751287937, 0.27836236357688904, -0.1390729695558548, -0.13710948824882507, -0.031858574599027634, -0.31058502197265625, -0.18623760342597961, 0.19397996366024017, -0.02037578821182251, -0.11114415526390076, 0.16062328219413757, -0.3917917013168335, -0.24343793094158173, 0.06326267868280411, -0.280721515417099, -0.23428402841091156, -0.43495306372642517, 0.719926655292511, 0.9462186694145203, -0.274283230304718, -0.013723805546760559, -0.00044931506272405386, -0.513451874256134, 0.10990691184997559, 0.21663281321525574, 0.031018557026982307, 0.3716115653514862, -0.19010218977928162, -0.04336424544453621, 0.4966299533843994, 0.32602179050445557, 0.24179750680923462, 0.2148304581642151, -0.16895043849945068, 0.3838180601596832, 0.21888399124145508, -0.32375162839889526, 0.17029476165771484, -0.09530340880155563, -0.4851838946342468, -0.3545319437980652, -0.03263000026345253, 0.5093703866004944, 0.19226132333278656, -0.02749350480735302, 0.10826915502548218, 0.609312891960144, 0.6044573187828064, -0.12215662747621536, 0.018668079748749733, -0.12831738591194153, -0.34191274642944336, 0.25321337580680847, -0.7357509136199951, 0.13257339596748352, 0.14585186541080475, 0.17228122055530548, 0.15100480616092682, 0.7679265141487122, 0.296207994222641, 0.11279119551181793, -0.09048483520746231, 0.08080104738473892, -0.01470145396888256, -0.19375887513160706, -0.06256312131881714, -0.19759660959243774, 0.07451817393302917, 0.11955083906650543, 0.05291014537215233, 0.0492938756942749, -0.3707374036312103, 0.1504884511232376, -0.021036304533481598, -0.005321844946593046, -0.19020527601242065, -0.13781419396400452, 0.20608018338680267, -0.24464847147464752, 0.04286212474107742, 0.04241275414824486, 0.13381892442703247, -0.41776901483535767, 0.08284815400838852, -0.06471235305070877, 0.20877616107463837, -0.21078430116176605, -0.019862892106175423, -0.06838367879390717, -0.07317105680704117, -0.36763569712638855, 0.11537453532218933, 0.08355516940355301, -0.13594776391983032, -0.15731674432754517, 0.16659113764762878, 0.1849166303873062, 0.12950687110424042, -0.3174142837524414, -0.05166006088256836, -0.05243830010294914, 0.005878905300050974, 0.19733372330665588, -0.22349761426448822, -0.08754970878362656, 0.022910797968506813, 0.09775253385305405, 0.430337518453598, -0.10036329180002213, -0.24318605661392212, -0.17936044931411743, -0.03702397271990776, 0.10686440020799637, 0.21950705349445343, -0.11492715030908585, 0.07417064160108566, 0.11662212014198303, -0.023738007992506027, 0.15170258283615112, -0.18946440517902374, 0.3513122797012329, 0.17417100071907043, 0.12106253206729889, -0.4013051390647888, 0.1287473738193512, 0.23485073447227478, 0.04680284112691879, -0.2003662884235382, 0.05253615975379944, 0.38421663641929626, 0.07159645110368729, 0.17916032671928406, -0.28384917974472046, 0.20593835413455963, -0.06255915015935898, -0.1136099323630333, -0.16594329476356506, 0.11428806185722351, -0.49999770522117615, 0.22364352643489838, 0.19006341695785522, 0.03909139707684517, 0.21139203011989594, -0.22642117738723755, -0.08962209522724152, -0.27071166038513184, 0.18505072593688965, 0.09613476693630219, -0.30196264386177063, -0.11375267803668976, 0.33203646540641785, -0.2595532238483429, 0.0776309221982956, 0.1577298492193222, -0.04630832374095917, -0.2024487406015396, -0.231953427195549, -0.24224230647087097, -0.0688752606511116, 0.42487090826034546, -0.099235400557518, 0.10710644721984863, -0.2739231288433075, -0.2547607719898224, -0.1394251435995102, 0.08290863037109375, -0.2995885908603668, -0.06453116238117218, -0.0975160077214241, -0.05282708629965782, 0.3104931712150574, -0.32245180010795593, -0.005659789312630892, -0.2059924304485321, 0.04473467916250229, 0.28121140599250793, 0.24630601704120636, 0.19757144153118134, -0.28953203558921814, 0.12332244217395782, -0.12134566903114319, 0.03482406586408615, -0.02810089848935604, 0.004478589165955782, 0.07019921392202377, -0.29056307673454285, 0.21718676388263702, 0.3689698278903961, 0.48120570182800293, 0.23468895256519318, 0.4183420240879059, 0.18344610929489136, 0.050030265003442764, 0.025141488760709763, -0.025060543790459633, 0.127976194024086, -0.22007715702056885, -0.07788216322660446, 0.0528801828622818, -0.43893614411354065, 0.023783087730407715, 0.04323310777544975, 0.01193232461810112, -0.24248506128787994, -0.5468922853469849, 0.004503458272665739, -0.15323950350284576, -0.20357510447502136, 0.07326175272464752, -0.2822462022304535, -0.2880048453807831, 0.12350979447364807, 0.21547313034534454, 0.29292455315589905, 0.03916613757610321, -0.2618415653705597, 0.007059799041599035, 0.0157692339271307, -0.27942022681236267, 0.08883299678564072, -0.0706782117486, 0.15585176646709442, 0.19110922515392303, 0.34791335463523865, 0.05370057001709938, -0.10092920809984207, 0.3318895101547241, 0.09516915678977966, 0.0933360829949379, 0.36953306198120117, -0.004035963676869869, 0.00953411404043436, 0.04348759353160858, -0.024853454902768135, -0.20256897807121277, 0.014294197782874107, 0.048637114465236664, 0.14092198014259338, 0.15248963236808777, 0.103744275867939, -0.024509502574801445, -0.11244411766529083, 0.29406479001045227, 0.046163298189640045, 0.13238127529621124, 0.22766083478927612, -0.09680625051259995, -0.020568285137414932, 0.07226983457803726, -0.08681690692901611, 0.1116650179028511, -0.1270706206560135, -0.16910284757614136, -0.23219317197799683, -0.45450061559677124, -0.3295469284057617, -0.031048711389303207, 0.45610830187797546, -0.11222019046545029, -0.2679213285446167, -0.18623290956020355, 0.20558473467826843, -0.1824117749929428, 0.15161053836345673, -0.08445987105369568, -0.22900424897670746, -0.04870922490954399, 0.12453021854162216, 0.2730801999568939, 0.10488261282444, 0.036452680826187134, -0.0707186609506607, -0.13851095736026764, -0.24581430852413177, -0.23777194321155548, 0.04756007716059685, 0.3166201412677765, 0.13215982913970947, -0.48513850569725037, 0.020921044051647186, 0.14471252262592316, 0.005833825562149286, 0.2739858329296112, -0.12418355792760849, 0.10319419950246811, 0.13385748863220215, 0.1438990980386734, 0.11775805056095123, 0.013689540326595306, -0.08928436785936356, 0.2624344527721405, 0.1107461228966713, 0.3526591360569, 0.23774613440036774, -0.2136739194393158, 0.30135679244995117, -0.04861566051840782, -0.07340826094150543, 0.0964423418045044, 0.18249288201332092, 0.2367154359817505, -0.304201602935791, 0.16880059242248535, 0.17498673498630524, 0.38742002844810486, -0.12138356268405914, -0.37930434942245483, 0.06484872847795486, 0.16548046469688416, -0.23460593819618225, -0.22504867613315582, -0.0548618920147419, 0.01815802976489067, 0.0025484892539680004, -0.06091342121362686, -0.2688361704349518, 0.00030626740772277117, 0.028911760076880455, 0.13696707785129547, 0.1280616819858551, -0.09525813907384872, -0.29877936840057373, 0.0656454861164093, -0.22878429293632507, 0.3404301106929779, -0.0439269132912159, 0.025080500170588493, -0.023551763966679573, 0.04710731655359268, 0.2868501543998718, -0.009549424052238464, 0.37272194027900696, -0.321689635515213, 0.07901456207036972, -0.16191048920154572, -0.041932616382837296, -0.40509048104286194, 0.507042646408081, -0.2966728210449219, -0.08564715087413788, -0.007115518674254417, -0.2508266270160675, -0.2083691656589508, 0.025323113426566124, 0.08390336483716965, 0.021051015704870224, -0.07826061546802521, -0.3417647182941437, 0.078252412378788, -0.20943695306777954, 0.2858179807662964, 0.3472774922847748, -0.02964279055595398, -0.01079646684229374, 0.03192157298326492, -0.08507118374109268, -0.15450406074523926, 0.22133228182792664, -0.21448439359664917, -0.3158174157142639, -0.01166228111833334, -0.08135285973548889, 0.17499126493930817, 0.13255682587623596, -0.17271798849105835, 0.07257147878408432, 0.4602780044078827, -0.14920957386493683, -0.015930669382214546, 0.584855318069458, 0.18764537572860718, 0.27459168434143066, 0.33771204948425293, 0.3391076326370239, -0.3726123571395874, 0.2800617218017578, 0.09527558088302612, 0.25272005796432495, -0.10518165677785873, -0.5811826586723328, 0.1941787600517273, 0.009701759554445744, 0.2388540804386139, 0.12967704236507416, -0.3064153790473938, 0.24212327599525452, 0.08869805186986923, -0.5173503160476685, 0.0934697762131691, 0.6524209976196289, 0.5175912380218506, 0.36845818161964417, -0.49333125352859497, 0.04907518997788429, 0.010766112245619297, -0.026694336906075478, -0.4092821478843689, -0.23318128287792206, 0.31873956322669983, 0.07896050810813904, -0.35053369402885437, 0.15132470428943634, 0.1555698961019516, 0.4365887939929962, 0.07591407001018524, 0.07400123029947281, 0.1991521269083023, -0.7016841173171997, 0.14372721314430237, -0.20619118213653564, -0.2857513725757599, -0.06648481637239456, 0.02401207759976387, -0.12978070974349976, 0.1285049021244049, -0.13569487631320953, 0.09262054413557053, 0.17817974090576172, 0.18443641066551208, -0.2786141335964203, -0.05770948529243469, -0.058542367070913315, -0.004890968091785908, -0.21988464891910553, 0.19562381505966187, 0.12460357695817947, -0.5162543654441833, 0.014239502139389515, -0.24804635345935822, 0.1257106512784958, 0.005066215060651302, -0.06666950136423111, 0.2183830589056015, 0.26163214445114136, -0.10457972437143326, -0.29275286197662354, 0.43056410551071167, -0.13679374754428864, 0.2512718141078949, -0.023279087617993355, -0.2539721429347992, -0.24349987506866455, -0.20006175339221954, -0.1515561193227768, -0.2503286898136139, -0.027678385376930237, -0.09394649416208267, 0.2535037696361542, -0.03966877982020378, 0.06672652065753937, -0.09571468830108643, -0.19688613712787628, 0.18189018964767456, -0.20774032175540924, 0.0013549185823649168, 0.16552871465682983, -0.15930649638175964, 0.4991913139820099, 0.3435543477535248, 0.18724274635314941, 0.05065423250198364, -0.1611349880695343, 0.49882468581199646, 0.322543203830719, 0.7968140244483948, -0.12303503602743149, 0.12987136840820312, -0.3210078179836273, 0.6451485753059387, 0.2040681391954422, -0.15108676254749298, 0.11643535643815994, -0.15336570143699646, 0.5757047533988953, -0.6873129606246948, 0.3522099256515503, -0.1984490156173706, -0.36766859889030457, -0.3375282287597656, -0.5339004993438721, -0.013100718148052692, 0.12253618985414505, 0.04993102326989174, 0.10130324214696884, 0.2858312726020813, -0.03591104969382286, -0.0043135834857821465, -0.38203850388526917, -0.15092402696609497, 0.6601401567459106, -0.10620399564504623, 0.28683650493621826, -0.33438822627067566, -0.1606578826904297, 0.3264031410217285, -0.019842807203531265, -0.27463942766189575, 0.19157245755195618, -0.35479316115379333, 0.023778175935149193, 0.06932853907346725, 0.1329992562532425, 0.23863182961940765, -0.20535430312156677, 0.49682074785232544, -0.09365443140268326, -0.13424329459667206, -0.2651691734790802, 0.3282305896282196, 0.08664495497941971, 0.3782498240470886, 0.13750731945037842, 0.10983727872371674, -0.222341850399971, 0.14991897344589233, -0.035765402019023895, -0.09136222302913666, -0.2488953024148941, 0.192441925406456, 0.3056983947753906, 0.03582292050123215, 0.13527576625347137, -0.30202749371528625, -0.40017563104629517, 0.3936060667037964, -0.11800739169120789, 0.14448149502277374, 0.15449552237987518, -0.13792838156223297, 0.022744324058294296, -0.07777252793312073, -0.21682484447956085, 0.1482730656862259, 0.0983595997095108, -0.02289634570479393, 0.17410381138324738, 0.08703077584505081, 0.09833332151174545, -0.05156482011079788, -0.06251025199890137, -0.21709054708480835, 0.028023736551404, -0.00343744782730937, 0.32077813148498535, 0.20248568058013916, 0.21746647357940674, -0.1752222180366516, 0.2912692427635193, 0.12013916671276093, -0.207230806350708, 0.2398572564125061, -0.10322470217943192, -0.11518900841474533, 0.4783584177494049, 0.11104237288236618, -0.08155786991119385, 0.23183611035346985, -0.2112533003091812, 0.061004795134067535, -0.26958388090133667, -0.11406347900629044, -0.23109431564807892, -0.2926333248615265, 0.15094231069087982, 0.12246300280094147, 0.175848126411438, -0.18175700306892395, 0.08952135592699051, -0.2230418473482132, -0.23259547352790833, -0.2580849230289459, -0.21890504658222198, 0.0456225611269474, -0.3758542835712433, 0.06914212554693222, -0.017270199954509735, 0.21075929701328278, -0.06075449660420418, -0.1255429983139038, 0.15304075181484222, -0.35197803378105164, -0.3442467153072357, -0.06047315523028374, 0.12261852622032166, 0.4406364858150482, -0.0903143510222435, 0.12208134680986404, 0.007979228161275387, -0.02345900796353817, -0.319833904504776, 0.11920701712369919, -0.162186399102211, 0.27701565623283386, 0.1639326810836792, 0.07633845508098602, 0.09886383265256882, 0.16875401139259338, 0.10585063695907593, 0.18827995657920837, 0.15778493881225586, 0.1432413011789322, 0.12483960390090942, 0.3389354348182678, -0.11773199588060379, -0.17280347645282745, -0.22753959894180298, 0.21182453632354736, 0.16515590250492096, -0.1620803028345108, 0.0749470442533493, 0.06506504863500595, 0.1484728306531906, -0.1371261030435562, 0.017511576414108276, 0.15284433960914612, 0.33387455344200134, -0.6562256217002869, 0.24814823269844055, -0.09532804787158966, -0.05721845105290413, 0.13933219015598297, -0.004142420366406441, 0.06747926026582718, -0.21077966690063477, -0.09545981138944626, 0.02940017729997635, 0.24926817417144775, -0.07622799277305603, 0.17365579307079315, 0.35344305634498596, -0.06988592445850372, -0.06020411103963852, 0.294795423746109, -0.009723217226564884, 0.19265888631343842, -0.10900744795799255, -0.017901841551065445, -0.09053642302751541, -0.014817724004387856, -0.01334746927022934, -0.18682800233364105, -0.12102902680635452, 0.0016047448152676225, -0.07079627364873886, 0.6378790140151978, 0.03875833749771118, 0.42449381947517395, 0.06299787014722824, 0.1571204960346222, 0.10319585353136063, 0.43217796087265015, -0.053811557590961456, -0.053713295608758926, -0.19423078000545502, 0.12360701709985733, 0.02237830124795437, 0.06547502428293228, 0.22738735377788544, 0.19284039735794067, 0.006852665916085243, 0.07378245145082474, -0.010697886347770691, -0.33897459506988525, -0.33366134762763977, 0.014984242618083954, -0.19254624843597412, -0.01194707676768303, -0.19713012874126434, 0.45122718811035156, -0.48529359698295593, -0.07936163991689682, 0.016415292397141457, -0.28198811411857605, 0.0950055792927742, 0.12724439799785614, -0.19270934164524078, 0.004705596249550581, -0.18650837242603302, -0.32583358883857727, 0.21344290673732758, -0.12071209400892258, 0.01741178333759308, 0.01578184776008129, -0.1875220388174057, 0.2485906332731247, -0.062198396772146225, 0.30671095848083496, 0.00025562563678249717, -0.05557608976960182, 0.1836598962545395, -0.29253748059272766, -0.014632009901106358, 0.28701716661453247, -0.2712015211582184, 0.04519598186016083, 0.0025191029999405146, -0.17210198938846588, 0.3149186372756958, -0.10518255829811096, -0.12939119338989258, 0.1841629594564438, -0.10893849283456802, -0.14164999127388, 0.0530603751540184, 0.27926185727119446, -0.29110273718833923, 0.2156764268875122, -0.22426019608974457, -0.21861974895000458, -0.017166394740343094, 0.03786512836813927, 0.04301561415195465, 0.1943645477294922, -0.17671647667884827, -0.1747773289680481, -0.018856573849916458, -0.0698002427816391, -0.08527150005102158, 0.27925753593444824, -0.03417770937085152, 0.3024611473083496, -0.2659749388694763, -0.08704609423875809, -0.1483660489320755, -0.31030791997909546, 0.01372784748673439, 0.15690547227859497, -0.0441599115729332, 0.03147125989198685, -0.2973540723323822, -0.24646814167499542, -0.49870723485946655, 0.30984237790107727, 0.4772215485572815, -0.05214289203286171, -0.1673220843076706, -0.2625975012779236, 0.28409019112586975, -0.19478513300418854, -0.01801161840558052, 0.05969555303454399, -0.19483090937137604, -0.15289120376110077, -0.06813507527112961, 0.2537594735622406, -0.12860223650932312, -0.15188367664813995, -0.37241896986961365, 0.16550564765930176, 0.0178164541721344, -0.017092781141400337, 0.1297389566898346, -0.07329884171485901, -0.28957894444465637, -0.21821273863315582, -0.4802844822406769, -0.22141249477863312, -0.09253498166799545, -0.29731205105781555, 0.14884522557258606, -0.3878333568572998, 0.05751097947359085, -0.0714978575706482, -0.2649100124835968, -0.28091737627983093, 0.003920690156519413, -0.24275921285152435, 0.24096176028251648, -0.2926975190639496, 0.1934782862663269, -0.11066561937332153, -0.2567484378814697, -0.18322783708572388, -0.07903255522251129, 0.2776685655117035, -0.07115186005830765, -0.10794076323509216, 0.5083364844322205, -0.008504877798259258, -0.14089998602867126, -0.14723031222820282, -0.03959722816944122, -0.2362954169511795, -0.2728203535079956, -0.2612193822860718, -0.19081678986549377, -0.27189457416534424, -0.15284743905067444, -0.34595558047294617, -0.013464001938700676, -0.192648246884346, -0.1961560994386673, -0.31214386224746704, 0.07931799441576004, -0.34768909215927124, 0.05990586802363396, -0.13842816650867462, -0.37092864513397217, 0.09465532749891281, -0.17059311270713806, 0.19918419420719147, 0.43203067779541016, -0.16466109454631805, -0.0314900279045105, 0.12161733210086823, 0.2731563448905945, 0.0030305045656859875, 0.10945169627666473, -0.2886601388454437, 0.36094725131988525, -0.02580999583005905, -0.1722617894411087, 0.07487135380506516, 0.24076391756534576, 0.04783869907259941, 0.1269206702709198, -0.1609312891960144, 0.22788338363170624, 0.16677963733673096, 0.08511614799499512, 0.20605289936065674, 0.16147379577159882, 0.16837455332279205, 0.11635223776102066, -0.12075086683034897, -0.09849320352077484, -0.29742929339408875, 0.44532233476638794, 0.153909370303154, 0.1113012284040451, -0.4727622866630554, 0.32351189851760864, 0.22237281501293182, -0.20365186035633087, 0.23575520515441895, 0.17043069005012512, 0.0855286717414856, -0.09376052767038345, -0.15787380933761597, -0.06693382561206818, -0.018083319067955017, 0.2974225878715515, -0.20466969907283783, -0.17337994277477264, 0.08387697488069534, 0.30532151460647583, -0.09922269731760025, -0.14929142594337463, -0.10684773325920105, 0.019893266260623932, 0.08148491382598877, 0.10877969115972519, -0.23002445697784424, -0.31363388895988464, -0.0723307877779007, 0.08728773891925812, 0.27858901023864746, -0.19504517316818237, -0.19344735145568848, 0.145577535033226, 0.1691604107618332, 0.03778984397649765, -0.031533967703580856, -0.4081897437572479, -0.14549417793750763, -0.18940655887126923, -0.10596570372581482, 0.258902370929718, -0.31878212094306946, -0.4020368754863739, 0.023351965472102165, 0.12757162749767303, 0.24463340640068054, -0.15973252058029175, 0.759536623954773, 0.29497769474983215, 0.0809042677283287, -0.009681898169219494, 0.1444581001996994, -0.4125944674015045, -0.13554081320762634, 0.02983696013689041, -0.15325383841991425, -0.06428538262844086, 0.5005053281784058, 0.27270156145095825, 0.11596143245697021, 0.014399629086256027, -0.3784931004047394, -0.6123539805412292, 0.009070475585758686, -0.28526365756988525, 0.5942360758781433, 0.012221046723425388, -0.5204012393951416, -0.07749912887811661, 0.03863149136304855, 0.07453539222478867, -0.06433026492595673, 0.06977006047964096, 0.19411566853523254, -0.09917503595352173, 0.28099092841148376, -0.3127829432487488, 0.020069554448127747, 0.35326290130615234, 0.3137896955013275, 0.39179790019989014, -0.01895446702837944, -0.3894529640674591, 0.10197053104639053, 0.046472448855638504, 0.5430992841720581, -0.053598128259181976, 0.25501328706741333, -0.10026199370622635, 0.5005207061767578, 0.01907028630375862, 0.20464980602264404, 0.0825631394982338, -0.041667237877845764, -0.19263099133968353, 0.23326778411865234, -0.44676586985588074, 0.0637313723564148, 0.17061373591423035, -0.26062706112861633, 0.24443358182907104, -0.021796345710754395, -0.18431222438812256, 0.14766155183315277, 0.1480572670698166, -0.026764338836073875, -0.30948328971862793, -0.40760597586631775, 0.2940639853477478, -0.04402277618646622, -0.20423685014247894, -0.02754613757133484, 0.18767189979553223, -0.25892239809036255, 0.00834660790860653, -0.40465864539146423, 0.06954557448625565, 0.1040581464767456, -0.09311018884181976, -0.052137263119220734, -0.24144026637077332, 0.7764424681663513, -0.4771582782268524, -0.021095607429742813, 0.1371738463640213, -0.2618786692619324, 0.013048374094069004, -0.060155849903821945, -0.16649460792541504, 0.07904314994812012, -0.05372929945588112, 0.5812483429908752, 0.09279484301805496, -0.22249941527843475, 0.0587005577981472, -0.18726077675819397, 0.31846827268600464, 0.019730404019355774, 0.1581893265247345, -0.07974179089069366, 0.01482123788446188, 0.09984660893678665, 0.06541462242603302, 0.4612569212913513, 0.20648100972175598, -0.3246254324913025, 0.004945363383740187, 0.09581008553504944, -0.18410633504390717, -0.16010448336601257, -0.05152577906847, 0.017938075587153435, 0.11573860049247742, 0.038166627287864685, -0.2986818253993988, -0.042648348957300186, 0.1962336301803589, 0.1481572389602661, -0.27395546436309814, 0.1035948172211647, -0.10329820960760117, -0.0494813546538353, -0.17519710958003998, -0.5229669213294983, -0.015182561241090298, -0.20074893534183502, 0.013115491718053818, -0.09072531759738922, -0.09721101820468903, 0.08758144080638885, -0.1253715306520462, 0.11069252341985703, 0.09481067955493927, 0.07561074942350388, -0.13206420838832855, 0.294982373714447, -0.37465864419937134, -0.11168015748262405, 0.10012372583150864, -0.22923067212104797, -0.0024140800815075636, 0.004431051667779684, -0.25059694051742554, 0.058232277631759644, -0.22818231582641602, 0.040342602878808975, -0.24807199835777283, 0.10544449836015701, -0.12433316558599472, -0.18739421665668488, 0.12570488452911377, 0.2547658383846283, -0.06055792421102524, -0.5023279786109924, -0.04312020540237427, 0.29345446825027466, 0.024486180394887924, -0.04674626514315605, 0.047888703644275665, -0.14741837978363037, 0.04004332050681114, -0.22328822314739227, -0.06497611850500107, 0.21551206707954407, -0.4628821611404419, 0.3020786941051483, 0.04571714252233505, 0.28634679317474365, 0.14253990352153778, -0.2786991596221924, 0.18305842578411102, 0.06115727126598358, 0.2573127746582031, 0.021777065470814705, 0.032939326018095016, 0.10043074935674667, 0.29554057121276855, 0.24767839908599854, -0.08827638626098633, -0.18047268688678741, 0.3114010691642761, 0.006144549697637558, -0.11079896241426468, -0.15758547186851501, -0.09400132298469543, -0.10794850438833237, -0.0008101915009319782, -0.06329469382762909, 0.3474821448326111, 0.07928483188152313, -0.18436361849308014, 0.06615723669528961, -0.06373420357704163, -0.1842653751373291, -0.0037821459118276834, 0.5062125325202942, 0.19163601100444794, 0.4009125232696533, 0.006542788352817297, 0.3655977249145508, 0.21807096898555756, 0.11486301571130753, -0.1068536564707756, 0.2696128189563751, 0.22225788235664368, -0.12927734851837158, 0.04350565746426582, 0.3169768154621124, 0.03585825487971306, -0.05437340959906578, 0.13558511435985565, 0.13873793184757233, 0.3112448453903198, -0.20390228927135468, 0.13267765939235687, 0.1852036565542221, 0.015087338164448738, 0.27936339378356934, 0.08228040486574173, -0.28289544582366943, -0.1485864669084549, 0.20013786852359772, -0.11030146479606628, 0.027227984741330147, 0.21987925469875336, -0.23755617439746857, 0.008492629043757915, 0.06517539918422699, -0.3224710524082184, 0.029162082821130753, 0.10188765078783035, 0.06923525035381317, 0.156950905919075, 0.31409358978271484, 0.34837254881858826, 0.4092291593551636, 0.13475549221038818, 0.025746043771505356, -0.3073218762874603, -0.0033571473322808743, -0.15666839480400085, -0.1298016458749771, 0.1749291718006134, 0.21144306659698486, -0.35904544591903687, 0.14454075694084167, 0.2682737708091736, 0.29981186985969543, -0.10839391499757767, -0.121348537504673, -0.4810020327568054, -0.29405349493026733, -0.0245707668364048, 0.11785902827978134, -0.15694062411785126, 0.586681067943573, -0.07388752698898315, 0.26596808433532715, 0.008176077157258987, -0.2646159529685974, -0.1541682481765747, -0.14480257034301758, -0.19823665916919708, 0.3349761664867401, 0.15490038692951202, -1.080235481262207, 0.6707327365875244, -0.7017176747322083, 0.030874067917466164, -0.04278858006000519, 0.2607375383377075, -0.059903934597969055, -0.34662726521492004, 0.01126293558627367, -0.08429519832134247, 0.2673579752445221, 0.21234235167503357, -0.080501027405262, -0.2569020688533783, -0.1592528373003006, 0.19076967239379883, 0.4901469051837921, -0.10828649252653122, 0.05377660691738129, 0.09599924832582474, -0.35350507497787476, -0.0657319724559784, -0.22796384990215302, 0.0981018990278244, 0.10764483362436295, 0.40238073468208313, -0.9418762922286987, -0.48043176531791687, 0.3958738446235657, 0.05225842818617821, 0.2230936884880066, -0.09840922057628632, -0.16899965703487396, -0.27941998839378357, -0.14378111064434052, -0.2451513111591339, -0.1286040097475052, -0.0501757487654686, 0.2466953694820404, -0.4797181189060211, 0.17421680688858032, 0.29778575897216797, 0.10471439361572266, 0.029020829126238823, -0.035909414291381836, -0.11502533406019211, 0.1611606329679489, -0.11202403157949448, 0.12614701688289642, -0.29595091938972473, 0.2811334431171417, 0.14309298992156982, -0.11130654066801071, -0.10292470455169678, -0.2225460708141327, 0.258273184299469, 0.44876477122306824, -0.06629365682601929, -0.11517889052629471, 0.22194106876850128, 0.24308648705482483, 0.029300080612301826, 0.10371676832437515, 0.03302443400025368, -0.17756445705890656, 0.44160231947898865, 0.08867654949426651, -0.19671984016895294, -0.03574150800704956, -0.2592073678970337, -0.21140189468860626, -0.03795981779694557, 0.1411638855934143, 0.41202929615974426, -0.11437354236841202, 0.05565302073955536, -0.2563644349575043, -0.17661592364311218, -0.08371856808662415, -0.44434699416160583, -0.051328688859939575, 0.11803138256072998, 0.3401191532611847, 0.2893259525299072, -0.06346132606267929, 0.2102356255054474, 0.8916246294975281, 0.44920480251312256, 0.2910144031047821, 0.21672223508358002, -0.567982017993927, 0.05159705877304077, -0.13898900151252747, -0.14591893553733826, -0.00904300156980753, 0.03792690485715866, -0.0013957160990685225, -0.00182086112909019, 0.11464696377515793, -0.025600329041481018, 0.0658978745341301, -0.41301196813583374, 0.27650466561317444, 0.08810010552406311, -0.17162780463695526, -0.05251717567443848, 0.5436519980430603, 0.4554867446422577, 0.24155597388744354, 0.2163262963294983, 0.29098615050315857, -0.11149340122938156, -0.17074798047542572, -0.11667625606060028, -0.11775113642215729, 0.17533636093139648, -0.06672084331512451, 0.34682533144950867, 0.08020145446062088, 0.1223367378115654, 0.11601904779672623, -0.21448954939842224, 0.7203754186630249, -0.17327852547168732, -0.0332670658826828, -0.3265136182308197, 0.3769579827785492, 0.566391110420227, -0.4598105549812317, 0.11879831552505493, 0.033591728657484055, -0.1293051838874817, -0.3179788291454315, 0.39805397391319275, 0.046334922313690186, -0.07362888753414154, 0.1383402794599533, 0.22533196210861206, -0.20248234272003174, 0.09995997697114944, -0.3542047441005707, 0.11710650473833084, -0.14295770227909088, -0.16172121465206146, -0.2744312584400177, 0.19528676569461823, 0.15341967344284058, -0.22536571323871613, 0.09948469698429108, -0.10751748085021973, -0.020780548453330994, -0.09933102875947952, 0.14111360907554626, -0.28567853569984436, 0.13198398053646088, -0.38131043314933777, 0.3487125635147095, 0.31501802802085876, -0.03247452899813652, 0.2668575644493103, 0.03447360917925835, -0.35468196868896484, -0.12226228415966034, -0.20945629477500916, 0.26192596554756165, 0.2533337473869324, 0.40171632170677185, -0.4952489733695984, -0.027826009318232536, -0.6910535097122192, 0.38206151127815247, 0.07791819423437119, 0.14922530949115753, -0.028239022940397263, -0.04135262966156006, -0.08108022063970566, 0.014452577568590641, -0.2726306617259979, 0.0689956396818161, 0.35343554615974426, -0.10367683321237564, -0.14383502304553986, 0.39039209485054016, -0.14662668108940125, 0.12115593999624252, 0.17818304896354675, -0.04297422617673874, 0.24358788132667542, -0.1504676342010498, -0.12724554538726807, 0.12690909206867218, 0.1787751019001007, -0.15878570079803467, -0.20891325175762177, 0.10909153521060944, 0.20353424549102783, -0.05545886605978012, 0.19655755162239075, -0.004448270425200462, 0.016986576840281487, -0.052295997738838196, -0.0008632077951915562, 0.22155676782131195, -0.2782961428165436, 0.3154422342777252, 0.4256063401699066, 0.035962559282779694, 0.15205617249011993, 0.030485711991786957, -0.004276697523891926, 0.10739100724458694, -0.026780562475323677, 0.28630727529525757, 0.26343780755996704, 0.2808684706687927, 0.023914232850074768, 0.2060530036687851, 0.0831179991364479, -0.05738797411322594, 0.18185730278491974, 0.04187927022576332, -0.12746602296829224, 0.26547959446907043, 0.24202266335487366, -0.24543578922748566, -0.20409521460533142, 0.11985009163618088, -0.03453785553574562, -0.21783868968486786, -0.21340419352054596, 0.10857801139354706, 0.06886302679777145, 0.1705830991268158, 0.2468721866607666, 0.37961336970329285, 0.07375356554985046, -0.27458059787750244, 0.07981220632791519, -0.27768561244010925, 0.2787143886089325, 0.11172762513160706, 0.3182976245880127, -0.2787281274795532, 0.008589928038418293, -0.21023686230182648, -0.3850308358669281, -0.06143242493271828, -0.38810551166534424, 0.1981009542942047, -0.009172697551548481, 0.1815253347158432, 0.02719796821475029, -0.3631482720375061, -0.16153599321842194, -0.004263017326593399, -0.17533448338508606, -0.2696802020072937, 0.27201002836227417, 0.16209547221660614, 0.3992074728012085, -0.44246265292167664, 0.08434142172336578, -0.24466972053050995, 0.1662544459104538, 0.11996006220579147, -0.49688124656677246, 0.08620709925889969, -0.3668416142463684, 0.14256255328655243, -0.06272631138563156, 0.07095156610012054, 0.17524905502796173, 0.22929085791110992, 0.28167924284935, -0.08385477215051651, -0.33379000425338745, -0.08626381307840347, -0.17108246684074402, -0.005302946548908949, -0.2480425238609314, -0.305615097284317, 0.04271542280912399, -0.02905329316854477, -0.05951101332902908, -0.0901794284582138, 0.022334646433591843, -0.16055329144001007, -0.050371356308460236, -0.0915006473660469, -0.19207057356834412, -0.08153575658798218, -0.0320502333343029, 0.09928696602582932, 0.08623214811086655, -0.11094974726438522, 0.21636132895946503, -0.3566935956478119, 0.3199880123138428, -0.19918817281723022, 0.03459019958972931, 0.1778087615966797, -0.0957825556397438, 0.20682279765605927, 0.05073060840368271, 0.2426423728466034, -0.24210038781166077, 0.02762608416378498, 0.27082255482673645, 0.1382419764995575, -0.21378205716609955, 0.20416973531246185, 0.0948997512459755, 0.14864930510520935, 0.2418782263994217, -0.1297069489955902, 0.3407686948776245, -0.1545131802558899, -0.34477007389068604, 0.08124496787786484, 0.2772516906261444, -0.09768974781036377, 0.01097631175071001, 0.12766219675540924, 0.234087273478508, -0.02844494953751564, 0.04876178130507469, -0.0006812610081396997, 0.15009848773479462, -0.03503473103046417, 0.044962238520383835, 0.5191556811332703, -0.09684377908706665, -0.02467927895486355, -0.29031696915626526, -0.22899247705936432, 0.0700204148888588, -0.35385680198669434, -0.11632318794727325, -0.13083426654338837, -0.14121758937835693, -0.07487823814153671, -0.027426350861787796, 0.32460081577301025, -0.2843104898929596, -0.04752231761813164, 0.35155048966407776, 0.39349812269210815, 0.5327640175819397, 0.08259733021259308, -0.05770197510719299, 0.019240180030465126, 0.34129798412323, -0.4060326814651489, -0.3495844900608063, 0.042417917400598526, 0.05730699375271797, -0.14485745131969452, 0.21012505888938904, -0.1737028807401657, -0.025444069877266884, -0.05074094235897064, -0.3044464588165283, -0.20605330169200897, -0.0846649780869484, 0.3122548758983612, 0.2576145827770233, 0.10536549985408783, -0.2609441578388214, -0.4351756274700165, 0.20749717950820923, -0.2135944813489914, -0.12085074186325073, -0.23530972003936768, 0.04915354773402214, 0.1777801513671875, 0.1882743090391159, 0.16747130453586578, -0.2128000110387802, -0.1912246197462082, -0.0807371661067009, -0.0796000137925148, -0.20011354982852936, -0.16106687486171722, 0.12813355028629303, 0.10918237268924713, -0.17286966741085052, -0.2649975121021271, -0.22304977476596832, 0.0017786958487704396, 0.19024591147899628, 0.008073218166828156, -0.0762903243303299, -0.1498287171125412, -0.23604412376880646, -0.015146263875067234, -0.0507371723651886, -0.08976539224386215, -0.05463305115699768, 0.20219163596630096, 0.2126184105873108, -0.02660341002047062, 0.07469379156827927, -0.5685815215110779, -0.30198684334754944, 0.019542604684829712, 0.187599778175354, 0.010657355189323425, -0.045639436691999435, -0.014787747524678707, -0.026536718010902405, 0.20092055201530457, -0.16824817657470703, 0.0370941199362278, -0.5250160694122314, 0.05528378486633301, -0.17539645731449127, 0.05545959249138832, 0.1252150535583496, -0.3363627791404724, 0.09425398707389832, 0.1817624419927597, 0.06252644956111908, -0.2692643105983734, 0.08311083912849426, -0.30979642271995544, 0.1350681632757187, -0.23737254738807678, -0.198776513338089, -0.3428250253200531, -0.16470636427402496, -0.09631584584712982, -0.21146099269390106, 0.08732255548238754, -0.20279282331466675, 0.4589958190917969, 0.06889572739601135, 0.6493895649909973, -0.1778458058834076, -0.020254017785191536, -0.03170167654752731, 0.20149919390678406, 0.18608427047729492, -0.21857212483882904, -0.15339042246341705, -0.13017359375953674, -0.16251921653747559, -0.009354081936180592, -0.4664193093776703, 0.2559366524219513, 0.18289922177791595, 0.19363728165626526, 0.020843584090471268, 0.11895300447940826, 0.1646510362625122, -0.06592290848493576, 0.29549598693847656, -0.08116304129362106, 0.2784827947616577, -0.16142036020755768, -0.20954769849777222, -0.09271556884050369, -0.00513745192438364, 0.05076298862695694, 0.08623069524765015, 0.0018579029710963368, 0.22995908558368683, -0.23603421449661255, 0.23823405802249908, -0.17057926952838898, -0.22159931063652039, -0.09506096690893173, -0.2905427813529968, 0.554916501045227, 0.18426653742790222, -0.31174466013908386, 0.3992251455783844, 0.18640407919883728, 0.22576339542865753, -0.17493224143981934, -0.16489163041114807, 0.02125188708305359, -0.009868430905044079, -0.14507342875003815, 0.6284337639808655, 0.12326086312532425, 0.05212008208036423, 0.21243537962436676, -0.004962279461324215, 0.10228574275970459, 0.003276749746873975, -0.08343807607889175, -0.004361539147794247, -0.11425289511680603, -0.09795184433460236, -0.10346344858407974, 0.36086973547935486, -0.1133473739027977, 0.013873301446437836, 0.08052545040845871, 0.1306999921798706, -0.5131560564041138, -0.024330776184797287, 0.20753037929534912, -0.14561888575553894, -0.18036827445030212, -0.06107696518301964, -0.2940560579299927, 0.022737542167305946, 0.2627542316913605, -0.10234500467777252, 0.182623490691185, 0.42920932173728943, 0.1333150416612625, 0.029506459832191467, 0.15783753991127014, -0.07766623795032501, 0.19728811085224152, -0.07752317935228348, 0.08249373733997345, 0.04271859675645828, 0.08216851949691772, -0.12093345075845718, -0.6130965948104858, -0.0008127468754537404, 0.15292686223983765, 0.036167211830616, -0.0412580631673336, -0.0015127015067264438, 0.31804728507995605, 0.35963132977485657, -0.3174419105052948, -0.1762181669473648, -0.3825490176677704, -0.2808534801006317, -0.0915021002292633, -0.04990631341934204, -0.26231494545936584, 0.054948411881923676, -0.17533479630947113, -0.17404009401798248, 0.09618519991636276, 0.17278815805912018, -0.15035170316696167, -0.14299331605434418, -0.4127246141433716, -0.28105905652046204, -0.21730686724185944, -0.06485933810472488, -0.24208508431911469, 0.21161288022994995, 0.05690961703658104, 0.4603634178638458, 0.15442924201488495, -0.25594499707221985, 0.2427181899547577, 0.0009344334830529988, 0.40077587962150574, 0.2833169400691986, -0.33352622389793396, 0.26366496086120605, 0.19696642458438873, -0.24932408332824707, 0.13188332319259644, 0.05628501623868942, -0.14159885048866272, -0.05574256181716919, 0.013166563585400581, -0.39831554889678955, -0.11335215717554092, 0.06996425241231918, -0.23082241415977478, 0.5645988583564758, -0.4373229444026947, -0.07970255613327026, 0.20087742805480957, -0.08069059997797012, -0.08659779280424118, -0.14458578824996948, 0.23743698000907898, 0.22789423167705536, -0.024493202567100525, -0.37673941254615784, -0.2963171601295471, 0.1199290007352829, -0.06504600495100021, -0.4026719331741333, 0.010543933138251305, 0.20559662580490112, -0.29794785380363464, -0.06207355856895447, 0.21173255145549774, 0.09090449661016464, 0.31035947799682617, 0.06792435795068741, -0.09291596710681915, 0.3169017434120178, -0.5451575517654419, -0.2742161154747009, -0.16635443270206451, -0.1364223212003708, -0.09433335810899734, -0.21890753507614136, -0.24055759608745575, -0.17974810302257538, -0.07218669354915619, -0.0009683617390692234, -0.3707478642463684, 0.23668043315410614, -0.07647815346717834, -0.08897049725055695, -0.0783872902393341, -0.17432399094104767, 0.06638822704553604, 0.2067558765411377, 0.04888684302568436, 0.2447897493839264, -0.1771252602338791, 0.025311019271612167, -0.07639024406671524, 0.24348963797092438, -0.4751996397972107, -0.41874200105667114, -0.1394813358783722, 0.25831830501556396, 0.06864098459482193, 0.19514374434947968, -0.14590126276016235, -0.08583281189203262, -0.05386817455291748, 0.06724639236927032, 0.04767247661948204, 0.2460179626941681, 0.0749872550368309, -0.05851755291223526, -0.07401227205991745, 0.17575806379318237, 0.26152220368385315, 0.2796550691127777, 0.04958336055278778, -0.14712193608283997, -0.19132326543331146, -0.1718664914369583, 0.37118443846702576, 0.07459437102079391, 0.1815447062253952, 0.14902596175670624, 0.18923021852970123, -0.032060325145721436, -0.22446079552173615, -0.29404884576797485, -0.010634095408022404, -0.12932273745536804, 0.16774220764636993, 0.0767425000667572, -0.2788834869861603, -0.2849237620830536, 0.2703557312488556, -0.12120503187179565, -0.36879563331604004, -0.15374907851219177, -0.17739322781562805, 0.0694022849202156, -0.02057761140167713, 0.017397230491042137, -0.1644974648952484, 0.07167913764715195, -0.19394300878047943, 0.15883006155490875, 0.31772980093955994, 0.15539847314357758, 0.0658855065703392, 0.07394250482320786, 0.26863646507263184, 0.29306313395500183, -0.15875524282455444, 0.04230599105358124, -0.3120157718658447, -0.13967111706733704, -0.12767507135868073, 0.11526542156934738, 0.09114962816238403, 0.006242589093744755, -0.30547207593917847, -0.15851432085037231, -0.569739818572998, -0.09947333484888077, -0.2503020763397217, -0.43122926354408264, -0.18585313856601715, 0.23277877271175385, -0.5286428928375244, -0.23315809667110443, -0.41413211822509766, -0.034249234944581985, 0.3368993401527405, 0.0022873664274811745, -0.1790989190340042, 0.025401009246706963, -0.09567054361104965, 0.06941455602645874, -0.003944544121623039, 0.11396489292383194, -0.5468931794166565, -0.08194548636674881, -0.08779209852218628, 0.004810250364243984, 0.18762953579425812, -0.7432839274406433, -0.3520575761795044, -0.24390843510627747, 0.616547703742981, 0.09211908280849457, 0.1717562973499298, 0.04744177311658859, -0.08908605575561523, 0.39456287026405334, -0.25146591663360596, 0.03876868635416031, -0.6007879972457886, 0.15151122212409973, -0.004175729118287563, 0.060346540063619614, -0.12020062655210495, -0.12815414369106293, -0.028887536376714706, 0.24168862402439117, -0.35138046741485596, -0.027033310383558273, 0.02773876115679741, -0.08789952844381332, -0.23458316922187805, 0.1964874565601349, 0.28253573179244995, 0.03574356436729431, -0.183070570230484, -0.4902879297733307, 0.07612138241529465, -0.19163501262664795, 0.31016719341278076, 0.09014694392681122, -0.15837571024894714, -0.18088598549365997, 0.1144060268998146, 0.10417242348194122, 0.16770067811012268, 0.27865010499954224, -0.04086032882332802, 0.06055467948317528, 0.16973741352558136, 0.019128086045384407, -0.2944912612438202, -0.1813511997461319, -0.10668956488370895, -0.00223771040327847, 0.08502074331045151, -0.1930333971977234, 0.2652287185192108, 0.08070168644189835, 0.3442036211490631, 0.14101047813892365, -0.37295272946357727, 0.5176905393600464, -0.5448038578033447, 0.07893427461385727, -0.45551979541778564, -0.10040874034166336, -0.42857372760772705, 0.3572337031364441, -0.43474191427230835, -0.05980951339006424, 0.3013986647129059, 0.07332425564527512, -0.015948817133903503, 0.3882303237915039, 0.270038902759552, 0.22586604952812195, -0.28410646319389343, 0.22739967703819275, -0.11477569490671158, -0.15788626670837402, -0.40726324915885925, 0.33501219749450684, 0.3711482882499695, -0.3402140438556671, -0.4681222140789032, 0.23410381376743317, -0.0935894027352333, 0.06879160553216934, 0.09763221442699432, 0.3112257719039917, -0.648472011089325, 0.04402467608451843, -0.061353448778390884, 0.44379448890686035, -0.06630835682153702, 0.34475359320640564, -0.3376323878765106, 0.280195951461792, 0.02003871090710163, -0.10360061377286911, 0.18944931030273438, 0.07840850204229355, 0.32159289717674255, 0.13906462490558624, -0.009064109064638615, -0.05649450421333313, -0.21574415266513824, 0.2263336479663849, 0.09059645980596542, 0.17008928954601288, -0.06484523415565491, 0.12177939713001251, 0.1167658120393753, 0.018028171733021736, -0.006219143513590097, 0.035459041595458984, 0.13520976901054382, 0.32141798734664917, 0.1576261818408966, -0.39433541893959045, -0.13830101490020752, -0.39442723989486694, -0.0602426715195179, 0.33739161491394043, 0.10138096660375595, 0.1286626011133194, 0.2666630744934082, 0.2416728138923645, 0.3552857041358948, 0.24202372133731842, 0.2823812663555145, 0.10131317377090454, 0.07701903581619263, -0.17428085207939148, -0.13689960539340973, -0.11530286818742752, -0.07518996298313141, -0.17756731808185577, -0.27643507719039917, -0.08477824181318283, 0.242432102560997, -0.46413323283195496, 0.2174118161201477, -0.37258943915367126, -0.3170686364173889, 0.10872603207826614, 0.04492820426821709, 0.14299996197223663, -0.4347464144229889, -0.06985113024711609, -0.2400439977645874, 0.30672869086265564, -0.4098106920719147, -0.3089994490146637, 0.3886699378490448, -0.2511546015739441, -0.02026423066854477, -0.031007446348667145, -0.15128561854362488, 0.1485481560230255, -0.060632042586803436, 0.3388458788394928, -0.1411689817905426, 0.2550625801086426, 0.12656176090240479, 0.01646227017045021, -0.14218305051326752, 0.005744150839745998, 0.13228406012058258, 0.07515259832143784, -0.014504495076835155, -0.14354488253593445, 0.1879461109638214, -0.03943426162004471, 0.08722501248121262, 0.19461606442928314, -0.08801212906837463, -0.2079530507326126, -0.11874053627252579, 0.1798555552959442, -0.28735795617103577, 0.23038101196289062, -0.17099127173423767, -0.02667517215013504, -0.4170473515987396, 0.020672855898737907, -0.7953606247901917, -0.4436783194541931, 0.01554742082953453, -0.33281415700912476, -0.5549854636192322, -0.3502116799354553, 0.16762030124664307, -0.07386136800050735, -0.21151946485042572, -0.020206868648529053, -0.17898239195346832, 0.40435951948165894, -0.04369897395372391, -0.04308788850903511, 0.17270196974277496, 0.33201470971107483, 0.07919389754533768, 0.2524205148220062, 0.33449116349220276, -0.10612228512763977, 0.12895363569259644, -0.3792257308959961, 0.07668750733137131, 0.03780735284090042, 0.25679486989974976, -0.0903351902961731, -0.34999868273735046, 0.164647176861763, 0.08513708412647247, 0.19412274658679962, 0.1282721608877182, -0.12354406714439392, 0.18430612981319427, -0.04424198344349861, 0.1203685849905014, -0.25796598196029663, -0.14163407683372498, -0.04907971993088722, -0.017571793869137764, 0.15928566455841064, -0.0030414981301873922, 0.0831720232963562, 0.008530677296221256, -0.602454423904419, -0.055029772222042084, 0.44871845841407776, -0.10657757520675659, 0.04288952425122261, -0.022162940353155136, 0.10942006856203079, 0.021802373230457306, 0.44000381231307983, -0.1955101042985916, -0.26900267601013184, 0.33081763982772827, 0.19174231588840485, 0.14930924773216248, -0.15337350964546204, -0.3164196014404297, 0.28188031911849976, -0.2635534405708313, 0.05504048243165016, -0.6457129716873169, -0.08390134572982788, -0.03843361884355545, -0.15276186168193817, 0.6247790455818176, 0.11065927147865295, 0.03995182737708092, -0.2873207926750183, 0.5507796406745911, 0.22280456125736237, 0.3268408179283142, 0.07068518549203873, -0.45343494415283203, -0.09370560199022293, -0.3741978108882904, -0.0510127916932106, -0.03629160672426224, 0.08449113368988037, -0.11192222684621811, -0.20916177332401276, -0.4113312065601349, 0.37225106358528137, 0.25040823221206665, 0.038733094930648804, 0.1306326538324356, -0.0507112555205822, 0.19130869209766388, -0.42502135038375854, 0.2861708998680115, 0.35563868284225464, 0.1293269544839859, 0.052862849086523056, -0.21714819967746735, -0.03335817903280258, -0.15245109796524048, -0.2638782560825348, -0.36909186840057373, -0.089234359562397, 0.018225036561489105, -0.5746868848800659, 0.050893139094114304, 0.1812473088502884, -0.7765050530433655, 0.0753602609038353, 0.25051745772361755, 0.057477861642837524, 0.3467588722705841, -0.15720057487487793, 0.058816470205783844, -0.1715448945760727, 0.1619817465543747, 0.11606001108884811, 0.6298176646232605, -0.39709851145744324, 0.17439749836921692, -0.04930127412080765, -0.22419822216033936, -0.07373064756393433, 0.04912498593330383, -0.1348598152399063, -0.26401230692863464, -0.282571941614151, 0.702682375907898, 0.1037953794002533, -0.1433250457048416, 0.08634356409311295, 0.27027902007102966, 0.18781015276908875, -0.4325016438961029, 0.10363951325416565, -0.20993736386299133, -0.11768800765275955, 0.4273715019226074, -0.12110075354576111, 0.20231643319129944, 0.04007455334067345, 0.024298960343003273, 0.2138109654188156, 0.30800580978393555, 0.660183310508728, -0.37730538845062256, -0.009188688360154629, -0.3260994851589203, -0.31395602226257324, 0.0649414211511612, -0.34177008271217346, -0.039600446820259094, 0.022824328392744064, 0.237374410033226, -0.30008599162101746, -0.12209290266036987, 0.10124287754297256, 0.09425754845142365, 0.10089318454265594, -0.22768323123455048, 0.2678208649158478, -0.16357535123825073, -0.1005847379565239, -0.16610507667064667, -0.05786917358636856, 0.2531801760196686, 0.31849589943885803, 0.15944819152355194, 0.1269587278366089, 0.06199238821864128, -0.31579843163490295, -0.18011441826820374, 0.5211889147758484, 0.29774078726768494, -0.25798550248146057, -0.2178465574979782, -0.29378753900527954, -0.1356307864189148, 0.18713976442813873, -0.09368989616632462, -0.19545860588550568, 0.351308137178421, 0.10282132029533386, 0.0883650928735733, 0.0024183872155845165, -0.12821145355701447, -0.12990537285804749, -0.08672284334897995, -0.25747817754745483, -0.1565045267343521, 0.1018977090716362, -0.18366260826587677, -0.20012444257736206, 0.19253836572170258, 0.09346373379230499, 0.02015344239771366, 0.10157079994678497, 0.046239230781793594, 0.04317418485879898, -0.2063712477684021, -0.14176160097122192, -0.2898698151111603, 0.08269662410020828, 0.08121849596500397, 0.3334328532218933, 0.026957295835018158, 0.12021815031766891, 0.02360600233078003, -0.08793942630290985, 0.2613687217235565, 0.33786332607269287, -0.3243301212787628, 0.059507932513952255, 0.15235286951065063, 0.0578419528901577, -0.3206017315387726, 0.29490065574645996, -0.2814147174358368, 0.4995257556438446, -0.03160271793603897, -0.16326411068439484, 0.09743641316890717, -0.0877121239900589, -0.15519589185714722, -0.30385032296180725, 0.06347743421792984, 0.041749484837055206, -0.20028267800807953, -0.06529217958450317, 0.27068963646888733, 0.2299613058567047, 0.1901731938123703, -0.2274559587240219, 0.05735452473163605, 0.12186554074287415, -0.008941661566495895, 0.272311270236969, -0.15478737652301788, -0.07467605173587799, 0.08638118207454681, -0.010713797062635422, -0.30305588245391846, 0.5417280197143555, -0.03758871927857399, -0.18413189053535461, -0.20696762204170227, -0.022289760410785675, -0.07488742470741272, 0.0722585991024971, -0.684782862663269, -0.18398578464984894, -0.21269680559635162, -0.23774322867393494, -0.4279382824897766, 0.12148945033550262, -0.1364438831806183, -0.033151861280202866, 0.20805971324443817, -0.5660568475723267, 0.3405717611312866, 0.016852358356118202, 0.37537142634391785, -0.1208459809422493, 0.2228611409664154, 0.05585936829447746, -0.20730043947696686, -0.05393673852086067, -0.4926282465457916, 0.4854026138782501, -0.036662887781858444, 0.07211782783269882, 0.32684504985809326, -0.029175342991948128, -0.17323920130729675, -0.23865772783756256, -0.3130868673324585, 0.187544047832489, -0.10157354921102524, -0.007352916989475489, 0.16356854140758514, 0.1502229869365692, 0.3057098090648651, -0.06690701097249985, 0.1253359168767929, -0.2868286371231079, 0.23151522874832153, 0.37553203105926514, -0.22465579211711884, -0.026765741407871246, -0.13339954614639282, -0.12350290268659592, 0.2533999979496002, 0.42438432574272156, -0.5019411444664001, -0.04171127453446388], \"row\": 50}}, {\"ActivationFunction\": \"3\", \"Biases\": {\"cols\": 1, \"data\": [-0.07236190140247345, -0.07343121618032455, -0.001413706922903657, 0.010134607553482056, 0.14887635409832, 0.06466065347194672, -0.2461709827184677, -0.02825583890080452, 0.18910065293312073, -0.09676455706357956], \"row\": 10}, \"Weights\": {\"cols\": 50, \"data\": [-0.07222399860620499, 0.32110869884490967, 0.7969881296157837, 0.0023150951601564884, -0.5212070941925049, 0.016063043847680092, 0.190318763256073, 0.04202985763549805, 0.2549956142902374, -0.010582184419035912, -0.04495570808649063, 0.1972179114818573, 0.19365659356117249, -0.2766435742378235, 0.2584954798221588, -0.3508070707321167, 0.05880361795425415, -0.20292876660823822, -0.061589598655700684, 0.15041114389896393, -0.02442953735589981, -0.1043989360332489, -0.3851434290409088, -0.1459406614303589, -0.0766487717628479, 0.46565884351730347, -0.1824871003627777, 0.04099664092063904, -0.5178015232086182, -0.016794003546237946, -0.3368735611438751, -0.43769076466560364, -0.16535814106464386, 0.2817494571208954, 0.5959380865097046, -0.5631203651428223, -0.1393081098794937, 0.13642746210098267, -0.4509369730949402, -0.10753761231899261, 0.4823179543018341, -0.3961179256439209, -0.1753443330526352, -0.13576878607273102, 0.17860618233680725, -0.5755810737609863, 0.3690444529056549, 0.00980210117995739, 0.009120527654886246, 0.2305738627910614, -0.2344193458557129, -0.20457318425178528, 0.41750314831733704, 0.13991960883140564, -0.34876856207847595, 0.2384955734014511, 0.059212759137153625, 0.08403880894184113, -0.19156643748283386, 0.004392868373543024, 0.13809457421302795, -1.0139167308807373, 0.15639856457710266, -0.269096314907074, 0.19396832585334778, 0.17394611239433289, -0.21491286158561707, 0.23979519307613373, 0.33479541540145874, 0.28090229630470276, -0.13806560635566711, 0.8272101283073425, 0.22367540001869202, 0.1129731610417366, 0.30211567878723145, -0.2292047142982483, 0.9046834707260132, 0.07700660824775696, 0.009511549957096577, -0.24681320786476135, 0.04958637058734894, -0.17739783227443695, 0.19767792522907257, 0.34396645426750183, -0.0841904804110527, 0.07087500393390656, 0.27412891387939453, -0.26549914479255676, 0.3013456463813782, 0.525269627571106, -0.277294784784317, -0.1184280663728714, -0.27976134419441223, 0.31315797567367554, 0.1950569450855255, 0.07919051498174667, -0.590636134147644, 0.17397412657737732, 0.22516442835330963, 0.513823390007019, -0.4363396465778351, 0.13415446877479553, -0.1328306496143341, 0.08191746473312378, -0.165372833609581, 0.20696189999580383, -0.017359167337417603, -0.07855288684368134, -0.017833232879638672, -0.1431940495967865, 0.0759132131934166, -0.2506248652935028, 0.1897522360086441, -0.23152047395706177, -0.2907875180244446, 0.5412293076515198, 0.06893166154623032, 0.20103003084659576, 0.2227364480495453, 0.1373874694108963, -0.0826733335852623, -0.6526063680648804, 0.015464350581169128, -0.11193637549877167, -0.10662730783224106, -0.2808411717414856, 0.07581991702318192, 0.18109872937202454, 0.16460436582565308, -0.06435313075780869, -0.07995513081550598, -0.22537003457546234, 0.22237098217010498, 0.24789682030677795, 0.2394886165857315, -0.05435153469443321, 0.20226173102855682, -0.13195618987083435, 0.07534895837306976, -0.004742021672427654, 0.562386691570282, 0.11497871577739716, -0.10541347414255142, -0.2917966842651367, 0.2325993925333023, -0.4272424578666687, 0.038013964891433716, 0.4884647727012634, -0.05257045105099678, 0.15366379916667938, 0.42830735445022583, -0.035839978605508804, -0.12822125852108002, 0.21893544495105743, -0.13120439648628235, 0.3156530261039734, 0.1324491947889328, 0.03298674151301384, 0.17097243666648865, -0.429320752620697, 0.20405420660972595, 0.12313704192638397, 0.20475013554096222, 0.09829755872488022, -0.13569892942905426, 0.05016074702143669, 0.4292146861553192, -0.27618980407714844, -0.09575118124485016, -0.2411867380142212, -0.2264041155576706, 0.2284403294324875, -0.21585215628147125, -0.08702848106622696, 0.1543056070804596, -0.07977136969566345, 0.35758042335510254, -0.07158225029706955, -0.33347469568252563, 0.11128566414117813, -0.24348978698253632, -0.27130600810050964, 0.12157975137233734, -0.04444073885679245, 0.078349769115448, -0.10968721657991409, -0.2563636004924774, 0.26496654748916626, -0.25508782267570496, 0.2513846158981323, 0.03343622386455536, 0.2025480419397354, -0.18902841210365295, -0.19328010082244873, -0.10199207067489624, -0.20396330952644348, -0.1480347365140915, 0.16538217663764954, 0.008442266844213009, -0.1371251344680786, -0.0704457238316536, -0.29468023777008057, 0.028437314555048943, 0.0037268241867423058, -0.16758571565151215, -0.26451316475868225, 0.0896749421954155, 0.1749381124973297, 0.2170105278491974, -0.09992951899766922, 0.08075922727584839, 0.24507443606853485, 0.03995167091488838, 0.033791907131671906, 0.1522921621799469, 0.16981753706932068, 0.22390051186084747, -0.11750181019306183, -0.020740406587719917, 0.48590052127838135, 0.048949796706438065, 0.334429532289505, -0.1162111908197403, 0.18449825048446655, 0.13008974492549896, 0.2971799969673157, -0.3398110568523407, -0.05916754528880119, 0.050222016870975494, 0.207185298204422, -0.14732202887535095, 0.14464102685451508, 0.18097953498363495, 0.15156817436218262, -0.1712387055158615, 0.09091704338788986, 0.43469545245170593, 0.20255422592163086, 0.11235217750072479, -0.07218572497367859, -0.2465391308069229, -0.12860749661922455, 0.049068789929151535, -0.3803921639919281, -0.3176005780696869, 0.23982293903827667, 0.46357446908950806, -0.035346873104572296, 0.47625961899757385, -0.06087416782975197, 0.20866163074970245, -0.16999749839305878, 0.1318533569574356, 0.003936475608497858, 0.6483345031738281, 0.06831702589988708, -0.3953554630279541, -0.09216225892305374, 0.0997740775346756, 0.2823290228843689, 0.07414067536592484, -0.9137968420982361, 0.1516301929950714, -0.08515966683626175, -0.029869990423321724, -0.1839865893125534, 0.010289446450769901, 0.22061291337013245, -0.28505730628967285, 0.06680644303560257, 0.1460675299167633, 0.48561224341392517, -0.5017698407173157, 0.1344585120677948, -0.006998312659561634, 0.08307667821645737, -0.640519380569458, 0.01826171763241291, 0.31280189752578735, 0.17198209464550018, 0.02489818073809147, -0.0280687864869833, 0.15122127532958984, -0.3131144046783447, -0.41017478704452515, 0.10299444198608398, -0.009514369070529938, -0.008201995864510536, -0.2095392346382141, -0.124207504093647, -0.3810914158821106, 0.15238085389137268, 0.5289413928985596, -0.00780509551987052, 0.14325127005577087, -0.18292587995529175, 0.22275228798389435, 0.3452571928501129, -0.16151462495326996, -0.48542147874832153, -0.24774952232837677, 0.20048043131828308, 0.03956726938486099, 0.3577175736427307, -0.6877168416976929, 0.2291615605354309, 0.25440964102745056, 0.3285928964614868, 0.37002524733543396, -0.21281929314136505, 0.2379990518093109, 0.05604648217558861, 0.1800667643547058, -0.6881016492843628, 0.06857749819755554, 0.2384718507528305, 0.22528919577598572, -0.38715365529060364, -0.13382768630981445, 0.48646101355552673, -0.044166721403598785, 0.40156927704811096, -0.5807464122772217, 0.23881708085536957, -0.11074933409690857, -0.159650981426239, 0.16117729246616364, 0.12084776908159256, -0.6576822400093079, -0.17038391530513763, -0.13033585250377655, -0.2734118402004242, 0.3922500014305115, 0.08229104429483414, 0.2165231555700302, -0.4850897789001465, 0.0775282010436058, 0.41926321387290955, -0.09615641832351685, 0.18807081878185272, 0.47176292538642883, -0.17641326785087585, 0.04635017737746239, 0.05494338274002075, 0.20336897671222687, -0.3974595367908478, -0.2090945839881897, -0.23492933809757233, 0.05734538659453392, 0.8821435570716858, 0.020343542098999023, 0.08874065428972244, -0.15670792758464813, -0.3524087965488434, -0.02595379576086998, 0.18334750831127167, -0.4859166741371155, -0.16365553438663483, -0.11784753948450089, -0.1221928820014, 0.30922985076904297, -0.5673942565917969, 0.1094302162528038, -0.03464818745851517, -0.1351032704114914, 0.35751256346702576, 0.1987561583518982, 0.25188103318214417, -0.2542887032032013, 0.13127289712429047, -0.10914338380098343, 0.013762755319476128, 0.12642277777194977, -0.00969405472278595, 0.22217626869678497, -0.3584845960140228, 0.22759805619716644, 0.4708285331726074, 0.3369801342487335, 0.05502057820558548, 0.4891984462738037, -0.0472048744559288, 0.10831187665462494, 0.15722867846488953, 0.09180501103401184, 0.22752130031585693, -0.14968544244766235, -0.1374325007200241, 0.2258959412574768, -0.21580934524536133, 0.18837453424930573, 0.06335248798131943, -0.009158301167190075, -0.2786587178707123, -0.5677735209465027, 0.09883701056241989, -0.18038307130336761, -0.14848358929157257, 0.004358435980975628, -0.16778528690338135, -0.19497373700141907, 0.05338920280337334, 0.10818267613649368, 0.340131938457489, 0.477158784866333, -0.305676132440567, 0.19075220823287964, -0.35405102372169495, -0.1377771645784378, 0.2049381583929062, -0.2689182162284851, 0.6804046630859375, 0.2334558516740799, 0.5346323847770691, 0.02655373141169548, -0.3307308554649353, 0.48619529604911804, 0.1855042576789856, 0.05487709492444992, 0.18731333315372467, 0.16128872334957123, -0.5596975684165955, -0.055193547159433365, -0.10306011140346527, 0.03704383224248886, 0.0017304130597040057, -0.381555438041687, -0.047072142362594604, 0.4778541326522827, 0.4551584720611572, 0.25813281536102295, 0.15602394938468933, 0.4402603507041931, -0.07890643924474716, -0.015180770307779312, 0.2331550419330597, -0.21933436393737793, -0.1761769950389862, -0.04199151322245598, -0.20902910828590393, 0.021876076236367226, -0.13652804493904114, 0.17649491131305695, -0.2425841987133026, -0.490276575088501, -0.30934974551200867, 0.04300614446401596, 0.14207400381565094, -0.1247188150882721, -0.7214277386665344, -0.28921622037887573, 0.49668967723846436, -0.0357416532933712, 0.08487564325332642, -0.41028958559036255, -0.1162206307053566, -0.3867098093032837, 0.13427947461605072, 0.22377245128154755, 0.17615436017513275, -0.018813617527484894, -0.057972077280282974, 0.004557797685265541, -0.21875642240047455, -0.1607130616903305, -0.02799343690276146, 0.25119850039482117, 0.08494354039430618, -0.3080049157142639, -0.29084885120391846, -0.11101029813289642, -0.1591905951499939, 0.6329185962677002, -0.07705705612897873, 0.22476987540721893, 0.026733556762337685, 0.43105435371398926, 0.10634128749370575, -0.18608039617538452, -0.17359888553619385, 0.199506476521492, 0.04350699111819267, 0.17325077950954437, 0.3243291676044464, -0.19939734041690826, 0.3800835907459259, 0.09345807880163193, -0.25190070271492004, 0.03961862996220589, 0.31507614254951477, 0.3763887882232666, -0.10898315906524658, 0.002312971046194434, 0.03946709632873535, 0.5894091129302979, -0.126292884349823, -0.4424717128276825, 0.1095290556550026, -0.04617512598633766, 0.10743191838264465], \"row\": 10}}, {\"ActivationFunction\": \"0\", \"Biases\": {\"cols\": 1, \"data\": [-0.770160973072052], \"row\": 1}, \"Weights\": {\"cols\": 10, \"data\": [0.35173311829566956, 0.27870798110961914, 0.18453359603881836, -0.020480919629335403, -0.12861059606075287, -0.2887391448020935, 0.24554412066936493, 0.08604692667722702, -0.33458057045936584, 0.3444976508617401], \"row\": 1}}], \"variables\": [\"m_jj\", \"m_jjj\", \"m_lv\", \"m_jlv\", \"m_bb\", \"m_wbb\", \"m_wwbb\"]}');\n",
       "    });\n",
       "</script>\n"
      ],
      "text/plain": [
       "<IPython.core.display.HTML object>"
      ]
     },
     "metadata": {},
     "output_type": "display_data"
    }
   ],
   "source": [
    "if (bookDNN):  factory.DrawNeuralNetwork(loader.GetName(), \"DNN\")"
   ]
  }
 ],
 "metadata": {
  "kernelspec": {
   "display_name": "Python 2",
   "language": "python",
   "name": "python2"
  },
  "language_info": {
   "codemirror_mode": {
    "name": "ipython",
    "version": 2
   },
   "file_extension": ".py",
   "mimetype": "text/x-python",
   "name": "python",
   "nbconvert_exporter": "python",
   "pygments_lexer": "ipython2",
   "version": "2.7.10"
  }
 },
 "nbformat": 4,
 "nbformat_minor": 1
}
