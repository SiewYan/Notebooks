{
 "cells": [
  {
   "cell_type": "markdown",
   "metadata": {},
   "source": [
    "<img src=\"http://oproject.org/tiki-download_file.php?fileId=8&display&x=450&y=128\">\n",
    "<img src=\"http://files.oproject.org/tmvalogo.png\" height=\"50%\" width=\"50%\">\n",
    "\n",
    "# TMVA  Example of Hyper-parameter Optimisation \n",
    "\n",
    "Example of performing in TMVA an hyper-parameter optimisation"
   ]
  },
  {
   "cell_type": "markdown",
   "metadata": {},
   "source": [
    "### Input Data File"
   ]
  },
  {
   "cell_type": "code",
   "execution_count": 1,
   "metadata": {
    "collapsed": false
   },
   "outputs": [],
   "source": [
    "auto inputFile = TFile::Open(\"Higgs_data.root\");"
   ]
  },
  {
   "cell_type": "code",
   "execution_count": 2,
   "metadata": {
    "collapsed": false
   },
   "outputs": [
    {
     "name": "stdout",
     "output_type": "stream",
     "text": [
      "TFile**\t\tHiggs_data.root\t\n",
      " TFile*\t\tHiggs_data.root\t\n",
      "  KEY: TTree\tsig_tree;1\ttree\n",
      "  KEY: TTree\tbkg_tree;1\ttree\n"
     ]
    }
   ],
   "source": [
    "inputFile->ls();"
   ]
  },
  {
   "cell_type": "markdown",
   "metadata": {},
   "source": [
    "## Declare DataLoader\n",
    "\n",
    "First we need to declare a DataLoader and add the variables (passing the variable names used in the test and train trees in input dataset). To add variable names to DataLoader we use the AddVariable function. Arguments of this function:\n",
    "\n",
    "1. String containing the variable name. Using \":=\" we can add definition too.\n",
    "\n",
    "2. String (label to variable, if not present the variable name will be used) or character (defining the type of data points)\n",
    "\n",
    "3. If we have label for variable, the data point type still can be passed as third argument \n",
    "\n",
    "Example: \n",
    "\n",
    "loader.AddVariable( \"myvar1 := var1+var2\", 'F' )\n"
   ]
  },
  {
   "cell_type": "code",
   "execution_count": 3,
   "metadata": {
    "collapsed": false
   },
   "outputs": [],
   "source": [
    "TMVA::DataLoader loader(\"dataset\");\n",
    "\n",
    "// add variables to loader \n",
    "loader.AddVariable(\"m_jj\");\n",
    "loader.AddVariable(\"m_jjj\");\n",
    "loader.AddVariable(\"m_lv\");\n",
    "loader.AddVariable(\"m_jlv\");\n",
    "loader.AddVariable(\"m_bb\");\n",
    "loader.AddVariable(\"m_wbb\");\n",
    "loader.AddVariable(\"m_wwbb\");\n",
    "\n",
    "TMVA::gConfig().SetDrawProgressBar( false);"
   ]
  },
  {
   "cell_type": "markdown",
   "metadata": {},
   "source": [
    "## Setup Dataset(s)\n",
    "\n",
    "To pass the signal and background trees to DataLoader we use the AddSignalTree and AddBackgroundTree functions, and we set up the corresponding DataLoader using the  *PrepareTrainingAndTestTree* function. \n",
    "With the *PrepareTrainingAndTestTree*  we can specify the number of event used for training and testing. \n",
    "In this case, we use a very small number (e.g. 500), since we will repeat the train and test procedure several times "
   ]
  },
  {
   "cell_type": "code",
   "execution_count": 4,
   "metadata": {
    "collapsed": false
   },
   "outputs": [
    {
     "name": "stdout",
     "output_type": "stream",
     "text": [
      "DataSetInfo              : [dataset] : Added class \"Signal\"\n",
      "                         : Add Tree sig_tree of type Signal with 10000 events\n",
      "DataSetInfo              : [dataset] : Added class \"Background\"\n",
      "                         : Add Tree bkg_tree of type Background with 10000 events\n"
     ]
    }
   ],
   "source": [
    "TCut mycuts;\n",
    "TCut mycutb;\n",
    "\n",
    "auto tsignal =  (TTree*) inputFile->Get(\"sig_tree\");\n",
    "auto tbackground =  (TTree*) inputFile->Get(\"bkg_tree\");\n",
    "\n",
    "loader.AddSignalTree    (tsignal,     1.0);   //signal weight  = 1\n",
    "loader.AddBackgroundTree(tbackground, 1.0);   //background weight = 1 \n",
    "\n",
    "\n",
    "loader.PrepareTrainingAndTestTree(mycuts, mycutb,\n",
    "                                  \"nTrain_Signal=100:nTrain_Background=100:nTest_Signal=1000:nTest_Background=1000:\"\n",
    "                                  \"SplitMode=Random:NormMode=NumEvents:!V\" );\n"
   ]
  },
  {
   "cell_type": "markdown",
   "metadata": {},
   "source": [
    "## Hyper-Parameter Optimisation\n",
    "\n",
    "Run now the hyperparameter optimisation algorithm\n",
    " "
   ]
  },
  {
   "cell_type": "code",
   "execution_count": 5,
   "metadata": {
    "collapsed": false
   },
   "outputs": [],
   "source": [
    "TMVA::HyperParameterOptimisation optim(&loader);\n",
    "\n",
    "TStopwatch tw; "
   ]
  },
  {
   "cell_type": "markdown",
   "metadata": {},
   "source": [
    "#### Book method\n",
    "Define the method we want to use for the hyperparameter optimisation"
   ]
  },
  {
   "cell_type": "code",
   "execution_count": 6,
   "metadata": {
    "collapsed": false
   },
   "outputs": [],
   "source": [
    "optim.BookMethod(TMVA::Types::kBDT, \"BDT\",\n",
    "             \"V:NTrees=500:MinNodeSize=2.5%:MaxDepth=3:BoostType=AdaBoost:AdaBoostBeta=0.5:\"\n",
    "             \"UseBaggedBoost:BaggedSampleFraction=0.5:SeparationType=GiniIndex:nCuts=20\" );\n"
   ]
  },
  {
   "cell_type": "markdown",
   "metadata": {},
   "source": [
    "#### Run the algorithm\n",
    "Run here the hyper-parameter optimisation algorithm. Be patient it may take some time...."
   ]
  },
  {
   "cell_type": "code",
   "execution_count": 7,
   "metadata": {
    "collapsed": false
   },
   "outputs": [
    {
     "name": "stdout",
     "output_type": "stream",
     "text": [
      "Real time 0:07:13, CP time 431.350\n"
     ]
    }
   ],
   "source": [
    "optim.SetFitter(\"Scan\");\n",
    "optim.SetNumFolds(3);\n",
    "tw.Start();\n",
    "\n",
    "optim.Evaluate();\n",
    "tw.Print();"
   ]
  },
  {
   "cell_type": "markdown",
   "metadata": {
    "collapsed": true
   },
   "source": [
    "#### Get the result\n",
    "Retrieve the obtained result in terms of importance of each variable. Visualize also the variable importance in an histogram."
   ]
  },
  {
   "cell_type": "code",
   "execution_count": 8,
   "metadata": {
    "collapsed": false
   },
   "outputs": [
    {
     "name": "stdout",
     "output_type": "stream",
     "text": [
      "<HEADER> HyperParameterOptimisa...: ===========================================================\n",
      "                         : Optimisation for BDT fold 1\n",
      "                         : AdaBoostBeta     0.2\n",
      "                         : MaxDepth     4\n",
      "                         : MinNodeSize     5.16527\n",
      "                         : NTrees     257.5\n",
      "<HEADER> HyperParameterOptimisa...: ===========================================================\n",
      "                         : Optimisation for BDT fold 2\n",
      "                         : AdaBoostBeta     0.2\n",
      "                         : MaxDepth     4\n",
      "                         : MinNodeSize     1.5986\n",
      "                         : NTrees     257.5\n",
      "<HEADER> HyperParameterOptimisa...: ===========================================================\n",
      "                         : Optimisation for BDT fold 3\n",
      "                         : AdaBoostBeta     0.2\n",
      "                         : MaxDepth     2\n",
      "                         : MinNodeSize     3.63318\n",
      "                         : NTrees     1000\n"
     ]
    }
   ],
   "source": [
    "auto results=optim.GetResults();\n",
    "\n",
    "results.Print();"
   ]
  },
  {
   "cell_type": "code",
   "execution_count": 9,
   "metadata": {
    "collapsed": false
   },
   "outputs": [
    {
     "data": {
      "image/png": "[encoded data removed]",
      "text/plain": [
       "<IPython.core.display.Image object>"
      ]
     },
     "metadata": {},
     "output_type": "display_data"
    },
    {
     "name": "stderr",
     "output_type": "stream",
     "text": [
      "Info in <TCanvas::MakeDefCanvas>:  created default TCanvas with name c1\n"
     ]
    }
   ],
   "source": [
    "auto graph = results.GetROCCurves(); \n",
    "graph->Draw(); \n",
    "gPad->Draw(); "
   ]
  },
  {
   "cell_type": "code",
   "execution_count": null,
   "metadata": {
    "collapsed": true
   },
   "outputs": [],
   "source": []
  }
 ],
 "metadata": {
  "kernelspec": {
   "display_name": "ROOT C++",
   "language": "c++",
   "name": "root"
  },
  "language_info": {
   "codemirror_mode": "text/x-c++src",
   "file_extension": ".C",
   "mimetype": " text/x-c++src",
   "name": "c++"
  }
 },
 "nbformat": 4,
 "nbformat_minor": 1
}
