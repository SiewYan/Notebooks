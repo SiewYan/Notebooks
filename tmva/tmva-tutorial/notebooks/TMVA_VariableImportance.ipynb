{
 "cells": [
  {
   "cell_type": "markdown",
   "metadata": {},
   "source": [
    "<img src=\"http://oproject.org/tiki-download_file.php?fileId=8&display&x=450&y=128\">\n",
    "<img src=\"http://files.oproject.org/tmvalogo.png\" height=\"50%\" width=\"50%\">\n",
    "\n",
    "# TMVA  Variable Importance Example \n",
    "\n",
    "Example of finding the importance of the input variables by training and test the classifier using various combination of the input variables"
   ]
  },
  {
   "cell_type": "markdown",
   "metadata": {},
   "source": [
    "### Input Data File"
   ]
  },
  {
   "cell_type": "code",
   "execution_count": 1,
   "metadata": {
    "collapsed": false
   },
   "outputs": [],
   "source": [
    "auto inputFile = TFile::Open(\"Higgs_data.root\");"
   ]
  },
  {
   "cell_type": "code",
   "execution_count": 2,
   "metadata": {
    "collapsed": false
   },
   "outputs": [
    {
     "name": "stdout",
     "output_type": "stream",
     "text": [
      "TFile**\t\tHiggs_data.root\t\n",
      " TFile*\t\tHiggs_data.root\t\n",
      "  KEY: TTree\tsig_tree;1\ttree\n",
      "  KEY: TTree\tbkg_tree;1\ttree\n"
     ]
    }
   ],
   "source": [
    "inputFile->ls();"
   ]
  },
  {
   "cell_type": "markdown",
   "metadata": {},
   "source": [
    "## Declare DataLoader\n",
    "\n",
    "First we need to declare a DataLoader and add the variables (passing the variable names used in the test and train trees in input dataset). To add variable names to DataLoader we use the AddVariable function. Arguments of this function:\n",
    "\n",
    "1. String containing the variable name. Using \":=\" we can add definition too.\n",
    "\n",
    "2. String (label to variable, if not present the variable name will be used) or character (defining the type of data points)\n",
    "\n",
    "3. If we have label for variable, the data point type still can be passed as third argument \n",
    "\n",
    "Example: \n",
    "\n",
    "loader.AddVariable( \"myvar1 := var1+var2\", 'F' )\n"
   ]
  },
  {
   "cell_type": "code",
   "execution_count": 3,
   "metadata": {
    "collapsed": false
   },
   "outputs": [],
   "source": [
    "TMVA::DataLoader loader(\"dataset\");\n",
    "\n",
    "// add variables to loader \n",
    "loader.AddVariable(\"m_jj\");\n",
    "loader.AddVariable(\"m_jjj\");\n",
    "loader.AddVariable(\"m_lv\");\n",
    "loader.AddVariable(\"m_jlv\");\n",
    "loader.AddVariable(\"m_bb\");\n",
    "loader.AddVariable(\"m_wbb\");\n",
    "loader.AddVariable(\"m_wwbb\");\n",
    "\n",
    "TMVA::gConfig().SetDrawProgressBar( false);"
   ]
  },
  {
   "cell_type": "markdown",
   "metadata": {},
   "source": [
    "## Setup Dataset(s)\n",
    "\n",
    "To pass the signal and background trees to DataLoader we use the AddSignalTree and AddBackgroundTree functions, and we set up the corresponding DataLoader using the  *PrepareTrainingAndTestTree* function. \n",
    "With the *PrepareTrainingAndTestTree*  we can specify the number of event used for training and testing. \n",
    "In this case, we use a very small number (e.g. 500), since we will repeat the train and test procedure several times "
   ]
  },
  {
   "cell_type": "code",
   "execution_count": 4,
   "metadata": {
    "collapsed": false
   },
   "outputs": [
    {
     "name": "stdout",
     "output_type": "stream",
     "text": [
      "DataSetInfo              : [dataset] : Added class \"Signal\"\n",
      "                         : Add Tree sig_tree of type Signal with 10000 events\n",
      "DataSetInfo              : [dataset] : Added class \"Background\"\n",
      "                         : Add Tree bkg_tree of type Background with 10000 events\n"
     ]
    }
   ],
   "source": [
    "TCut mycuts;\n",
    "TCut mycutb;\n",
    "\n",
    "auto tsignal =  (TTree*) inputFile->Get(\"sig_tree\");\n",
    "auto tbackground =  (TTree*) inputFile->Get(\"bkg_tree\");\n",
    "\n",
    "loader.AddSignalTree    (tsignal,     1.0);   //signal weight  = 1\n",
    "loader.AddBackgroundTree(tbackground, 1.0);   //background weight = 1 \n",
    "\n",
    "\n",
    "loader.PrepareTrainingAndTestTree(mycuts, mycutb,\n",
    "                                  \"nTrain_Signal=1000:nTrain_Background=1000:nTest_Signal=1000:nTest_Background=1000:\"\n",
    "                                  \"SplitMode=Random:NormMode=NumEvents:!V\" );\n"
   ]
  },
  {
   "cell_type": "markdown",
   "metadata": {},
   "source": [
    "## Variable Importance\n",
    "\n",
    "Run now the variable importance algorithm which will perform a train and test on different variables random combinations. \n",
    "By looking at the different performance obtained one can extract the importance of each single variable "
   ]
  },
  {
   "cell_type": "code",
   "execution_count": 5,
   "metadata": {
    "collapsed": false
   },
   "outputs": [],
   "source": [
    "TMVA::VariableImportance vi(&loader);"
   ]
  },
  {
   "cell_type": "markdown",
   "metadata": {},
   "source": [
    "#### Book method\n",
    "Define the method we want to use for the variable importance"
   ]
  },
  {
   "cell_type": "code",
   "execution_count": 6,
   "metadata": {
    "collapsed": false
   },
   "outputs": [],
   "source": [
    "vi.BookMethod(TMVA::Types::kBDT, \"BDT\",\n",
    "             \"V:NTrees=500:MinNodeSize=2.5%:MaxDepth=3:BoostType=AdaBoost:AdaBoostBeta=0.5:\"\n",
    "             \"UseBaggedBoost:BaggedSampleFraction=0.5:SeparationType=GiniIndex:nCuts=20\" );\n"
   ]
  },
  {
   "cell_type": "markdown",
   "metadata": {},
   "source": [
    "#### Run the algorithm\n",
    "Run here the VariableImportance algorithm. Be patient it may take some time...."
   ]
  },
  {
   "cell_type": "code",
   "execution_count": 7,
   "metadata": {
    "collapsed": false
   },
   "outputs": [
    {
     "name": "stdout",
     "output_type": "stream",
     "text": [
      "                         : Evaluation done.\n",
      "Real time 0:00:19, CP time 19.480\n"
     ]
    }
   ],
   "source": [
    "\n",
    "TStopwatch tw; tw.Start();\n",
    "//vi.SetType(TMVA::kRandom)\n",
    "vi.SetType(TMVA::kShort);\n",
    "\n",
    "vi.Evaluate();\n",
    "tw.Print();"
   ]
  },
  {
   "cell_type": "markdown",
   "metadata": {
    "collapsed": true
   },
   "source": [
    "#### Get the result\n",
    "Retrieve the obtained result in terms of importance of each variable. Visualize also the variable importance in an histogram."
   ]
  },
  {
   "cell_type": "code",
   "execution_count": 8,
   "metadata": {
    "collapsed": false
   },
   "outputs": [
    {
     "data": {
      "image/png": "[encoded data removed]",
      "text/plain": [
       "<IPython.core.display.Image object>"
      ]
     },
     "metadata": {},
     "output_type": "display_data"
    },
    {
     "name": "stdout",
     "output_type": "stream",
     "text": [
      "                         : Variable Importance Results (Short)\n",
      "                         : VariableImportance: 1\n",
      "                         : m_bb: 35.091 % \n",
      "                         : m_jj: 3.09783 % \n",
      "                         : m_jjj: 11.7737 % \n",
      "                         : m_jlv: 10.4126 % \n",
      "                         : m_lv: 0.628847 % \n",
      "                         : m_wbb: 17.9761 % \n",
      "                         : m_wwbb: 21.0199 % \n"
     ]
    }
   ],
   "source": [
    "auto results=vi.GetResults();\n",
    "results.Print();\n",
    "results.Draw();\n",
    "gPad->Draw();"
   ]
  },
  {
   "cell_type": "code",
   "execution_count": null,
   "metadata": {
    "collapsed": true
   },
   "outputs": [],
   "source": []
  }
 ],
 "metadata": {
  "kernelspec": {
   "display_name": "ROOT C++",
   "language": "c++",
   "name": "root"
  },
  "language_info": {
   "codemirror_mode": "text/x-c++src",
   "file_extension": ".C",
   "mimetype": " text/x-c++src",
   "name": "c++"
  }
 },
 "nbformat": 4,
 "nbformat_minor": 1
}
