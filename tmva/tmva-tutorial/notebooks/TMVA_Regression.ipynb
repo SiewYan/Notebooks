{
 "cells": [
  {
   "cell_type": "markdown",
   "metadata": {},
   "source": [
    "<img src=\"http://oproject.org/tiki-download_file.php?fileId=8&display&x=450&y=128\">\n",
    "<img src=\"http://files.oproject.org/tmvalogo.png\" height=\"50%\" width=\"50%\">\n",
    "\n",
    "# Regression Example"
   ]
  },
  {
   "cell_type": "markdown",
   "metadata": {},
   "source": [
    "## Declare Factory\n",
    "Initiate the TMVA library, get the data sample from github, and create a factory to do the regression."
   ]
  },
  {
   "cell_type": "code",
   "execution_count": null,
   "metadata": {
    "collapsed": true
   },
   "outputs": [],
   "source": [
    "TMVA::Tools::Instance();\n",
    "\n",
    "auto inputFile = TFile::Open(\"inputdata_regression.root\");\n",
    "auto outputFile = TFile::Open(\"TMVA_RegressionOutput.root\", \"RECREATE\");\n",
    "\n",
    "TMVA::Factory factory(\"TMVARegression\", outputFile,\n",
    "                      \"!V:!Silent:Color:DrawProgressBar:AnalysisType=Regression\" ); "
   ]
  },
  {
   "cell_type": "markdown",
   "metadata": {},
   "source": [
    "## Declare DataLoader\n",
    "Define the features and the target for the regression."
   ]
  },
  {
   "cell_type": "code",
   "execution_count": null,
   "metadata": {
    "collapsed": true
   },
   "outputs": [],
   "source": [
    "TMVA::DataLoader loader(\"dataset\"); \n",
    "\n",
    "// Add the feature variables, names reference branches in inputFile ttree\n",
    "loader.AddVariable(\"var1\");\n",
    "loader.AddVariable(\"var2\");\n",
    "loader.AddVariable(\"var3\");\n",
    "loader.AddVariable(\"var4\");\n",
    "loader.AddVariable(\"var5 := var1-var3\"); // create new features\n",
    "loader.AddVariable(\"var6 := var1+var2\");\n",
    "\n",
    "loader.AddTarget( \"target := var2+var3\" ); // define the target for the regression\n"
   ]
  },
  {
   "cell_type": "markdown",
   "metadata": {},
   "source": [
    "## Setup Dataset\n",
    "Link dataloader to dataset."
   ]
  },
  {
   "cell_type": "code",
   "execution_count": null,
   "metadata": {
    "collapsed": false
   },
   "outputs": [],
   "source": [
    "TTree *tree;\n",
    "inputFile->GetObject(\"Sig\", tree);\n",
    "\n",
    "TCut mycuts = \"\"; // e.g. TCut mycuts = \"abs(var1)<0.5\";\n",
    "\n",
    "loader.AddRegressionTree(tree, 1.0);   // link the TTree to the loader, weight for each event  = 1\n",
    "loader.PrepareTrainingAndTestTree(mycuts,\n",
    "                                   \"nTrain_Regression=1000:nTest_Regression=1000:SplitMode=Random:NormMode=NumEvents:!V\" );"
   ]
  },
  {
   "cell_type": "markdown",
   "metadata": {},
   "source": [
    "# Book The Regression Method"
   ]
  },
  {
   "cell_type": "markdown",
   "metadata": {},
   "source": [
    "Book the method for regression. Here we choose the Boosted Decision Tree model. You have to use gradient boosted trees for regression, hence the BDTG and BoostType=Grad. \n",
    "\n",
    "Define the hyperparameters: ntrees, boosttype, shrinkage, and the depth. Also define the loss function you want to use: 'AbsoluteDeviation', 'Huber', or 'LeastSquares'. nCuts determines how finely to look at each feature. Larger values take more time, but you may get more accurate results."
   ]
  },
  {
   "cell_type": "code",
   "execution_count": null,
   "metadata": {
    "collapsed": false
   },
   "outputs": [],
   "source": [
    "// Boosted Decision Trees \n",
    "factory.BookMethod(&loader,TMVA::Types::kBDT, \"BDTG\",\n",
    "                   TString(\"!H:!V:NTrees=64::BoostType=Grad:Shrinkage=0.3:nCuts=20:MaxDepth=4:\")+\n",
    "                   TString(\"RegressionLossFunctionBDTG=AbsoluteDeviation\"));"
   ]
  },
  {
   "cell_type": "markdown",
   "metadata": {},
   "source": [
    "# Train Method"
   ]
  },
  {
   "cell_type": "code",
   "execution_count": null,
   "metadata": {
    "collapsed": false
   },
   "outputs": [],
   "source": [
    "factory.TrainAllMethods();"
   ]
  },
  {
   "cell_type": "markdown",
   "metadata": {},
   "source": [
    "# Test and Evaluate the Model"
   ]
  },
  {
   "cell_type": "code",
   "execution_count": null,
   "metadata": {
    "collapsed": false
   },
   "outputs": [],
   "source": [
    "factory.TestAllMethods();    "
   ]
  },
  {
   "cell_type": "code",
   "execution_count": null,
   "metadata": {
    "collapsed": true
   },
   "outputs": [],
   "source": [
    "factory.EvaluateAllMethods();"
   ]
  },
  {
   "cell_type": "markdown",
   "metadata": {},
   "source": [
    "## Gather and Plot the Results\n",
    "Let's plot the residuals for the BDTG predictions. First, close the output file so that it saves to disk and we can open it without issue. Then get the results on the test set. Finally, plot the residuals."
   ]
  },
  {
   "cell_type": "code",
   "execution_count": null,
   "metadata": {
    "collapsed": false
   },
   "outputs": [],
   "source": [
    "%jsroot on\n",
    "outputFile->Close();\n",
    "auto resultsFile = TFile::Open(\"TMVA_RegressionOutput.root\");\n",
    "auto resultsTree = resultsFile->Get(\"dataset/TestTree\"); \n",
    "TCanvas c;\n",
    "resultsTree->Draw(\"BDTG-target\"); // BDTG is the predicted value, target is the true value\n",
    "c.Draw();"
   ]
  },
  {
   "cell_type": "code",
   "execution_count": null,
   "metadata": {
    "collapsed": true
   },
   "outputs": [],
   "source": []
  }
 ],
 "metadata": {
  "kernelspec": {
   "display_name": "ROOT C++",
   "language": "c++",
   "name": "root"
  },
  "language_info": {
   "codemirror_mode": "text/x-c++src",
   "file_extension": ".C",
   "mimetype": " text/x-c++src",
   "name": "c++"
  }
 },
 "nbformat": 4,
 "nbformat_minor": 1
}
