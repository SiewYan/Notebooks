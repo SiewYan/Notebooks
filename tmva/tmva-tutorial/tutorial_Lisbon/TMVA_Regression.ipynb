{
 "cells": [
  {
   "cell_type": "markdown",
   "metadata": {},
   "source": [
    "<img src=\"http://oproject.org/tiki-download_file.php?fileId=8&display&x=450&y=128\">\n",
    "<img src=\"http://files.oproject.org/tmvalogo.png\" height=\"50%\" width=\"50%\">\n",
    "\n",
    "# Regression Example"
   ]
  },
  {
   "cell_type": "markdown",
   "metadata": {},
   "source": [
    "## Declare Factory\n",
    "Initiate the TMVA library, get the data sample from github, and create a factory to do the regression."
   ]
  },
  {
   "cell_type": "code",
   "execution_count": 1,
   "metadata": {},
   "outputs": [],
   "source": [
    "TMVA::Tools::Instance();\n",
    "\n",
    "auto inputFile = TFile::Open(\"inputdata_regression.root\");\n",
    "auto outputFile = TFile::Open(\"TMVA_RegressionOutput.root\", \"RECREATE\");\n",
    "\n",
    "TMVA::Factory factory(\"TMVARegression\", outputFile,\n",
    "                      \"!V:!Silent:Color:DrawProgressBar:AnalysisType=Regression\" ); "
   ]
  },
  {
   "cell_type": "markdown",
   "metadata": {},
   "source": [
    "## Declare DataLoader\n",
    "Define the features and the target for the regression."
   ]
  },
  {
   "cell_type": "code",
   "execution_count": 2,
   "metadata": {
    "collapsed": true
   },
   "outputs": [],
   "source": [
    "TMVA::DataLoader loader(\"dataset\"); \n",
    "\n",
    "// Add the feature variables, names reference branches in inputFile ttree\n",
    "loader.AddVariable(\"var1\");\n",
    "loader.AddVariable(\"var2\");\n",
    "loader.AddVariable(\"var3\");\n",
    "loader.AddVariable(\"var4\");\n",
    "loader.AddVariable(\"var5 := var1-var3\"); // create new features\n",
    "loader.AddVariable(\"var6 := var1+var2\");\n",
    "\n",
    "loader.AddTarget( \"target := var2+var3\" ); // define the target for the regression\n"
   ]
  },
  {
   "cell_type": "markdown",
   "metadata": {},
   "source": [
    "## Setup Dataset\n",
    "Link dataloader to dataset."
   ]
  },
  {
   "cell_type": "code",
   "execution_count": 3,
   "metadata": {},
   "outputs": [
    {
     "name": "stdout",
     "output_type": "stream",
     "text": [
      "DataSetInfo              : [dataset] : Added class \"Regression\"\n",
      "                         : Add Tree Sig of type Regression with 6000 events\n",
      "                         : Dataset[dataset] : Class index : 0  name : Regression\n"
     ]
    }
   ],
   "source": [
    "TTree *tree;\n",
    "inputFile->GetObject(\"Sig\", tree);\n",
    "\n",
    "TCut mycuts = \"\"; // e.g. TCut mycuts = \"abs(var1)<0.5\";\n",
    "\n",
    "loader.AddRegressionTree(tree, 1.0);   // link the TTree to the loader, weight for each event  = 1\n",
    "loader.PrepareTrainingAndTestTree(mycuts,\n",
    "                                   \"nTrain_Regression=1000:nTest_Regression=1000:SplitMode=Random:NormMode=NumEvents:!V\" );"
   ]
  },
  {
   "cell_type": "markdown",
   "metadata": {},
   "source": [
    "# Book The Regression Method"
   ]
  },
  {
   "cell_type": "markdown",
   "metadata": {},
   "source": [
    "Book the method for regression. Here we choose the Boosted Decision Tree model. You have to use gradient boosted trees for regression, hence the BDTG and BoostType=Grad. \n",
    "\n",
    "Define the hyperparameters: ntrees, boosttype, shrinkage, and the depth. Also define the loss function you want to use: 'AbsoluteDeviation', 'Huber', or 'LeastSquares'. nCuts determines how finely to look at each feature. Larger values take more time, but you may get more accurate results."
   ]
  },
  {
   "cell_type": "code",
   "execution_count": 4,
   "metadata": {},
   "outputs": [
    {
     "name": "stdout",
     "output_type": "stream",
     "text": [
      "Factory                  : Booking method: \u001b[1mBDTG\u001b[0m\n",
      "                         : \n",
      "                         : the option *InverseBoostNegWeights* does not exist for BoostType=Grad --> change\n",
      "                         : to new default for GradBoost *Pray*\n",
      "DataSetFactory           : [dataset] : Number of events in input trees\n",
      "                         : \n",
      "                         : Number of training and testing events\n",
      "                         : ---------------------------------------------------------------------------\n",
      "                         : Regression -- training events            : 1000\n",
      "                         : Regression -- testing events             : 1000\n",
      "                         : Regression -- training and testing events: 2000\n",
      "                         : \n",
      "DataSetInfo              : Correlation matrix (Regression):\n",
      "                         : --------------------------------------------------------------\n",
      "                         :               var1    var2    var3    var4 var1-var3 var1+var2\n",
      "                         :      var1:  +1.000  +0.409  +0.585  +0.810    +0.461    +0.836\n",
      "                         :      var2:  +0.409  +1.000  +0.689  +0.745    -0.303    +0.842\n",
      "                         :      var3:  +0.585  +0.689  +1.000  +0.849    -0.449    +0.760\n",
      "                         :      var4:  +0.810  +0.745  +0.849  +1.000    -0.037    +0.926\n",
      "                         : var1-var3:  +0.461  -0.303  -0.449  -0.037    +1.000    +0.090\n",
      "                         : var1+var2:  +0.836  +0.842  +0.760  +0.926    +0.090    +1.000\n",
      "                         : --------------------------------------------------------------\n",
      "DataSetFactory           : [dataset] :  \n",
      "                         : \n"
     ]
    }
   ],
   "source": [
    "// Boosted Decision Trees \n",
    "factory.BookMethod(&loader,TMVA::Types::kBDT, \"BDTG\",\n",
    "                   TString(\"!H:!V:NTrees=64::BoostType=Grad:Shrinkage=0.3:nCuts=20:MaxDepth=4:\")+\n",
    "                   TString(\"RegressionLossFunctionBDTG=AbsoluteDeviation\"));"
   ]
  },
  {
   "cell_type": "markdown",
   "metadata": {},
   "source": [
    "# Train Method"
   ]
  },
  {
   "cell_type": "code",
   "execution_count": 5,
   "metadata": {},
   "outputs": [
    {
     "name": "stdout",
     "output_type": "stream",
     "text": [
      "Factory                  : \u001b[1mTrain all methods\u001b[0m\n",
      "Factory                  : [dataset] : Create Transformation \"I\" with events from all classes.\n",
      "                         : \n",
      "                         : Transformation, Variable selection : \n",
      "                         : Input : variable 'var1' <---> Output : variable 'var1'\n",
      "                         : Input : variable 'var2' <---> Output : variable 'var2'\n",
      "                         : Input : variable 'var3' <---> Output : variable 'var3'\n",
      "                         : Input : variable 'var4' <---> Output : variable 'var4'\n",
      "                         : Input : variable 'var5' <---> Output : variable 'var5'\n",
      "                         : Input : variable 'var6' <---> Output : variable 'var6'\n",
      "TFHandler_Factory        : Variable        Mean        RMS   [        Min        Max ]\n",
      "                         : -----------------------------------------------------------\n",
      "                         :     var1:    0.23401    0.98660   [    -3.3494     3.0772 ]\n",
      "                         :     var2:    0.29105     1.0042   [    -3.1385     3.6372 ]\n",
      "                         :     var3:    0.38703    0.97970   [    -2.6377     3.2477 ]\n",
      "                         :     var4:    0.79301     1.0746   [    -2.5804     4.2226 ]\n",
      "                         :     var5:   -0.15302    0.89520   [    -2.9267     3.0035 ]\n",
      "                         :     var6:    0.52506     1.6710   [    -5.0563     5.2734 ]\n",
      "                         :   target:    0.67808     1.8231   [    -4.6696     6.0522 ]\n",
      "                         : -----------------------------------------------------------\n",
      "                         : Ranking input variables (method unspecific)...\n",
      "IdTransformation         : Ranking result (top variable is best ranked)\n",
      "                         : --------------------------------------------\n",
      "                         : Rank : Variable  : |Correlation with target|\n",
      "                         : --------------------------------------------\n",
      "                         :    1 : var2      : 9.210e-01\n",
      "                         :    2 : var3      : 9.168e-01\n",
      "                         :    3 : var6      : 8.723e-01\n",
      "                         :    4 : var4      : 8.663e-01\n",
      "                         :    5 : var1      : 5.400e-01\n",
      "                         :    6 : var5      : 4.083e-01\n",
      "                         : --------------------------------------------\n",
      "IdTransformation         : Ranking result (top variable is best ranked)\n",
      "                         : -------------------------------------\n",
      "                         : Rank : Variable  : Mutual information\n",
      "                         : -------------------------------------\n",
      "                         :    1 : var3      : 2.535e+00\n",
      "                         :    2 : var5      : 2.520e+00\n",
      "                         :    3 : var6      : 2.473e+00\n",
      "                         :    4 : var1      : 2.467e+00\n",
      "                         :    5 : var4      : 2.462e+00\n",
      "                         :    6 : var2      : 2.413e+00\n",
      "                         : -------------------------------------\n",
      "IdTransformation         : Ranking result (top variable is best ranked)\n",
      "                         : ------------------------------------\n",
      "                         : Rank : Variable  : Correlation Ratio\n",
      "                         : ------------------------------------\n",
      "                         :    1 : var3      : 5.911e-01\n",
      "                         :    2 : var2      : 5.823e-01\n",
      "                         :    3 : var4      : 5.252e-01\n",
      "                         :    4 : var6      : 5.188e-01\n",
      "                         :    5 : var1      : 2.892e-01\n",
      "                         :    6 : var5      : 2.762e-01\n",
      "                         : ------------------------------------\n",
      "IdTransformation         : Ranking result (top variable is best ranked)\n",
      "                         : ----------------------------------------\n",
      "                         : Rank : Variable  : Correlation Ratio (T)\n",
      "                         : ----------------------------------------\n",
      "                         :    1 : var2      : 7.971e-01\n",
      "                         :    2 : var3      : 7.746e-01\n",
      "                         :    3 : var4      : 6.805e-01\n",
      "                         :    4 : var6      : 6.673e-01\n",
      "                         :    5 : var1      : 2.666e-01\n",
      "                         :    6 : var5      : 2.429e-01\n",
      "                         : ----------------------------------------\n",
      "Factory                  : Train method: BDTG for Regression\n",
      "                         : \n",
      "                         : Regression Loss Function: AbsoluteDeviation\n",
      "                         : Training 64 Decision Trees ... patience please\n"
     ]
    },
    {
     "name": "stderr",
     "output_type": "stream",
     "text": [
      "1%, time left: unknown\n",
      "7%, time left: 0 sec\n"
     ]
    },
    {
     "name": "stdout",
     "output_type": "stream",
     "text": [
      "                         : Elapsed time for training with 1000 events: 0.0888 sec         \n",
      "                         : Dataset[dataset] : Create results for training\n",
      "                         : Dataset[dataset] : Evaluation of BDTG on training sample\n",
      "                         : Dataset[dataset] : Elapsed time for evaluation of 1000 events: 0.0101 sec       \n",
      "                         : Create variable histograms\n",
      "                         : Create regression target histograms\n",
      "                         : Create regression average deviation\n",
      "                         : Results created\n",
      "                         : Creating xml weight file: \u001b[0;36mdataset/weights/TMVARegression_BDTG.weights.xml\u001b[0m\n"
     ]
    },
    {
     "name": "stderr",
     "output_type": "stream",
     "text": [
      "14%, time left: 0 sec\n",
      "20%, time left: 0 sec\n",
      "26%, time left: 0 sec\n",
      "32%, time left: 0 sec\n",
      "39%, time left: 0 sec\n",
      "45%, time left: 0 sec\n",
      "51%, time left: 0 sec\n",
      "57%, time left: 0 sec\n",
      "64%, time left: 0 sec\n",
      "70%, time left: 0 sec\n",
      "76%, time left: 0 sec\n",
      "82%, time left: 0 sec\n",
      "89%, time left: 0 sec\n",
      "95%, time left: 0 sec\n",
      "0%, time left: unknown\n",
      "6%, time left: 0 sec\n",
      "12%, time left: 0 sec\n",
      "18%, time left: 0 sec\n",
      "25%, time left: 0 sec\n",
      "31%, time left: 0 sec\n",
      "37%, time left: 0 sec\n",
      "43%, time left: 0 sec\n",
      "50%, time left: 0 sec\n",
      "56%, time left: 0 sec\n",
      "62%, time left: 0 sec\n",
      "68%, time left: 0 sec\n",
      "75%, time left: 0 sec\n",
      "81%, time left: 0 sec\n",
      "87%, time left: 0 sec\n",
      "93%, time left: 0 sec\n"
     ]
    },
    {
     "name": "stdout",
     "output_type": "stream",
     "text": [
      "Factory                  : Training finished\n",
      "                         : \n",
      "Factory                  : === Destroy and recreate all methods via weight files for testing ===\n",
      "                         : \n"
     ]
    }
   ],
   "source": [
    "factory.TrainAllMethods();"
   ]
  },
  {
   "cell_type": "markdown",
   "metadata": {},
   "source": [
    "# Test and Evaluate the Model"
   ]
  },
  {
   "cell_type": "code",
   "execution_count": 6,
   "metadata": {},
   "outputs": [
    {
     "name": "stdout",
     "output_type": "stream",
     "text": [
      "Factory                  : \u001b[1mTest all methods\u001b[0m\n",
      "Factory                  : Test method: BDTG for Regression performance\n",
      "                         : \n",
      "                         : Dataset[dataset] : Create results for testing\n",
      "                         : Dataset[dataset] : Evaluation of BDTG on testing sample\n",
      "                         : Dataset[dataset] : Elapsed time for evaluation of 1000 events: 0.0167 sec       \n",
      "                         : Create variable histograms\n",
      "                         : Create regression target histograms\n",
      "                         : Create regression average deviation\n",
      "                         : Results created\n",
      "Factory                  : \u001b[1mEvaluate all methods\u001b[0m\n",
      "                         : Evaluate regression method: BDTG\n",
      "TFHandler_BDTG           : Variable        Mean        RMS   [        Min        Max ]\n",
      "                         : -----------------------------------------------------------\n",
      "                         :     var1:    0.18637     1.0183   [    -3.3780     3.2875 ]\n",
      "                         :     var2:    0.28619    0.98472   [    -3.2880     3.4734 ]\n",
      "                         :     var3:    0.41629    0.99802   [    -2.6232     4.6422 ]\n",
      "                         :     var4:    0.79365     1.0945   [    -2.9492     4.0073 ]\n",
      "                         :     var5:   -0.22992    0.90495   [    -2.9587     2.6624 ]\n",
      "                         :     var6:    0.47256     1.6676   [    -5.1623     5.5897 ]\n",
      "                         :   target:    0.70248     1.8157   [    -5.9113     7.0144 ]\n",
      "                         : -----------------------------------------------------------\n"
     ]
    },
    {
     "name": "stderr",
     "output_type": "stream",
     "text": [
      "0%, time left: unknown\n",
      "6%, time left: 0 sec\n",
      "12%, time left: 0 sec\n",
      "18%, time left: 0 sec\n",
      "25%, time left: 0 sec\n",
      "31%, time left: 0 sec\n",
      "37%, time left: 0 sec\n",
      "43%, time left: 0 sec\n",
      "50%, time left: 0 sec\n",
      "56%, time left: 0 sec\n",
      "62%, time left: 0 sec\n",
      "68%, time left: 0 sec\n",
      "75%, time left: 0 sec\n",
      "81%, time left: 0 sec\n",
      "87%, time left: 0 sec\n",
      "93%, time left: 0 sec\n"
     ]
    },
    {
     "name": "stdout",
     "output_type": "stream",
     "text": [
      "                         : \n",
      "                         : Evaluation results ranked by smallest RMS on test sample:\n",
      "                         : (\"Bias\" quotes the mean deviation of the regression from true target.\n",
      "                         :  \"MutInf\" is the \"Mutual Information\" between regression and target.\n",
      "                         :  Indicated by \"_T\" are the corresponding \"truncated\" quantities ob-\n",
      "                         :  tained when removing events deviating more than 2sigma from average.)\n",
      "                         : --------------------------------------------------------------------------------------------------\n",
      "                         : --------------------------------------------------------------------------------------------------\n",
      "                         : dataset              BDTG           :  0.00749  0.00412    0.171    0.136  |  2.435  2.454\n",
      "                         : --------------------------------------------------------------------------------------------------\n",
      "                         : \n",
      "                         : Evaluation results ranked by smallest RMS on training sample:\n",
      "                         : (overtraining check)\n",
      "                         : --------------------------------------------------------------------------------------------------\n",
      "                         : DataSet Name:         MVA Method:        <Bias>   <Bias_T>    RMS    RMS_T  |  MutInf MutInf_T\n",
      "                         : --------------------------------------------------------------------------------------------------\n",
      "                         : dataset              BDTG           :  0.00731  0.00478    0.122   0.0978  |  2.682  2.763\n",
      "                         : --------------------------------------------------------------------------------------------------\n",
      "                         : \n",
      "Dataset:dataset          : Created tree 'TestTree' with 1000 events\n",
      "                         : \n",
      "Dataset:dataset          : Created tree 'TrainTree' with 1000 events\n",
      "                         : \n",
      "Factory                  : \u001b[1mThank you for using TMVA!\u001b[0m\n",
      "                         : \u001b[1mFor citation information, please visit: http://tmva.sf.net/citeTMVA.html\u001b[0m\n"
     ]
    }
   ],
   "source": [
    "factory.TestAllMethods();\n",
    "factory.EvaluateAllMethods();    "
   ]
  },
  {
   "cell_type": "markdown",
   "metadata": {},
   "source": [
    "## Gather and Plot the Results\n",
    "Let's plot the residuals for the BDTG predictions. First, close the output file so that it saves to disk and we can open it without issue. Then get the results on the test set. Finally, plot the residuals."
   ]
  },
  {
   "cell_type": "code",
   "execution_count": 7,
   "metadata": {},
   "outputs": [
    {
     "data": {
      "text/html": [
       "\n",
       "<div id=\"root_plot_1\"\n",
       "     style=\"width: 696px; height: 472px\">\n",
       "</div>\n",
       "\n",
       "<script>\n",
       " requirejs.config({\n",
       "     paths: {\n",
       "       'JSRootCore' : 'https://root.cern.ch/js/notebook//scripts/JSRootCore',\n",
       "     }\n",
       "   });\n",
       " require(['JSRootCore'],\n",
       "     function(Core) {\n",
       "       var obj = Core.JSONR_unref({\"_typename\":\"TCanvas\",\"fUniqueID\":0,\"fBits\":36896776,\"fLineColor\":1,\"fLineStyle\":1,\"fLineWidth\":1,\"fFillColor\":0,\"fFillStyle\":1001,\"fLeftMargin\":0.1,\"fRightMargin\":0.1,\"fBottomMargin\":0.1,\"fTopMargin\":0.1,\"fXfile\":2,\"fYfile\":2,\"fAfile\":1,\"fXstat\":0.99,\"fYstat\":0.99,\"fAstat\":2,\"fFrameFillColor\":0,\"fFrameLineColor\":1,\"fFrameFillStyle\":1001,\"fFrameLineStyle\":1,\"fFrameLineWidth\":1,\"fFrameBorderSize\":1,\"fFrameBorderMode\":0,\"fX1\":-2.3187500349246,\"fY1\":-13.9125010365621,\"fX2\":2.3687500349246,\"fY2\":125.212501036562,\"fXtoAbsPixelk\":344.288050055313,\"fXtoPixelk\":344.288050055313,\"fXtoPixel\":148.479997787475,\"fYtoAbsPixelk\":424.800047186661,\"fYtoPixelk\":424.800047186661,\"fYtoPixel\":-3.39263247415383,\"fUtoAbsPixelk\":5e-5,\"fUtoPixelk\":5e-5,\"fUtoPixel\":696,\"fVtoAbsPixelk\":472.00005,\"fVtoPixelk\":472,\"fVtoPixel\":-472,\"fAbsPixeltoXk\":-2.3187500349246,\"fPixeltoXk\":-2.3187500349246,\"fPixeltoX\":0.00673491389346149,\"fAbsPixeltoYk\":125.212501036562,\"fPixeltoYk\":-13.9125010365621,\"fPixeltoY\":-0.294756360324416,\"fXlowNDC\":0,\"fYlowNDC\":0,\"fXUpNDC\":0,\"fYUpNDC\":0,\"fWNDC\":1,\"fHNDC\":1,\"fAbsXlowNDC\":0,\"fAbsYlowNDC\":0,\"fAbsWNDC\":1,\"fAbsHNDC\":1,\"fUxmin\":-1.85,\"fUymin\":0,\"fUxmax\":1.9,\"fUymax\":111.3,\"fTheta\":30,\"fPhi\":30,\"fAspectRatio\":0,\"fNumber\":0,\"fTickx\":0,\"fTicky\":0,\"fLogx\":0,\"fLogy\":0,\"fLogz\":0,\"fPadPaint\":0,\"fCrosshair\":0,\"fCrosshairPos\":0,\"fBorderSize\":2,\"fBorderMode\":0,\"fModified\":false,\"fGridx\":false,\"fGridy\":false,\"fAbsCoord\":false,\"fEditable\":true,\"fFixedAspectRatio\":false,\"fPrimitives\":{\"_typename\":\"TList\",\"name\":\"TList\",\"arr\":[{\"_typename\":\"TFrame\",\"fUniqueID\":0,\"fBits\":50331656,\"fLineColor\":1,\"fLineStyle\":1,\"fLineWidth\":1,\"fFillColor\":0,\"fFillStyle\":1001,\"fX1\":-1.85,\"fY1\":0,\"fX2\":1.9,\"fY2\":111.3,\"fBorderSize\":1,\"fBorderMode\":0},{\"_typename\":\"TH1F\",\"fUniqueID\":0,\"fBits\":50331657,\"fName\":\"htemp\",\"fTitle\":\"BDTG-target\",\"fLineColor\":602,\"fLineStyle\":1,\"fLineWidth\":1,\"fFillColor\":0,\"fFillStyle\":1001,\"fMarkerColor\":1,\"fMarkerStyle\":1,\"fMarkerSize\":1,\"fNcells\":102,\"fXaxis\":{\"_typename\":\"TAxis\",\"fUniqueID\":0,\"fBits\":50331648,\"fName\":\"xaxis\",\"fTitle\":\"BDTG-target\",\"fNdivisions\":510,\"fAxisColor\":1,\"fLabelColor\":1,\"fLabelFont\":42,\"fLabelOffset\":0.005,\"fLabelSize\":0.035,\"fTickLength\":0.03,\"fTitleOffset\":1,\"fTitleSize\":0.035,\"fTitleColor\":1,\"fTitleFont\":42,\"fNbins\":100,\"fXmin\":-1.85,\"fXmax\":1.9,\"fXbins\":[],\"fFirst\":1,\"fLast\":100,\"fBits2\":0,\"fTimeDisplay\":false,\"fTimeFormat\":\"\",\"fLabels\":null,\"fModLabs\":null},\"fYaxis\":{\"_typename\":\"TAxis\",\"fUniqueID\":0,\"fBits\":50331648,\"fName\":\"yaxis\",\"fTitle\":\"\",\"fNdivisions\":510,\"fAxisColor\":1,\"fLabelColor\":1,\"fLabelFont\":42,\"fLabelOffset\":0.005,\"fLabelSize\":0.035,\"fTickLength\":0.03,\"fTitleOffset\":0,\"fTitleSize\":0.035,\"fTitleColor\":1,\"fTitleFont\":42,\"fNbins\":1,\"fXmin\":0,\"fXmax\":1,\"fXbins\":[],\"fFirst\":0,\"fLast\":0,\"fBits2\":0,\"fTimeDisplay\":false,\"fTimeFormat\":\"\",\"fLabels\":null,\"fModLabs\":null},\"fZaxis\":{\"_typename\":\"TAxis\",\"fUniqueID\":0,\"fBits\":50331648,\"fName\":\"zaxis\",\"fTitle\":\"\",\"fNdivisions\":510,\"fAxisColor\":1,\"fLabelColor\":1,\"fLabelFont\":42,\"fLabelOffset\":0.005,\"fLabelSize\":0.035,\"fTickLength\":0.03,\"fTitleOffset\":1,\"fTitleSize\":0.035,\"fTitleColor\":1,\"fTitleFont\":42,\"fNbins\":1,\"fXmin\":0,\"fXmax\":1,\"fXbins\":[],\"fFirst\":0,\"fLast\":0,\"fBits2\":0,\"fTimeDisplay\":false,\"fTimeFormat\":\"\",\"fLabels\":null,\"fModLabs\":null},\"fBarOffset\":0,\"fBarWidth\":1000,\"fEntries\":1000,\"fTsumw\":1000,\"fTsumw2\":1000,\"fTsumwx\":7.4941707556136,\"fTsumwx2\":29.3030070075753,\"fMaximum\":-1111,\"fMinimum\":-1111,\"fNormFactor\":0,\"fContour\":[],\"fSumw2\":[],\"fOption\":\"\",\"fFunctions\":{\"_typename\":\"TList\",\"name\":\"TList\",\"arr\":[{\"_typename\":\"TPaveStats\",\"fUniqueID\":0,\"fBits\":50331657,\"fLineColor\":1,\"fLineStyle\":1,\"fLineWidth\":1,\"fFillColor\":0,\"fFillStyle\":1001,\"fX1\":1.3375000949949,\"fY1\":93.9093763993588,\"fX2\":2.27500012293458,\"fY2\":116.169376233509,\"fX1NDC\":0.780000016093254,\"fY1NDC\":0.775000005960464,\"fX2NDC\":0.980000019073486,\"fY2NDC\":0.935000002384186,\"fBorderSize\":1,\"fInit\":1,\"fShadowColor\":1,\"fCornerRadius\":0,\"fOption\":\"brNDC\",\"fName\":\"stats\",\"fTextAngle\":0,\"fTextSize\":0,\"fTextAlign\":12,\"fTextColor\":1,\"fTextFont\":42,\"fLabel\":\"\",\"fLongest\":18,\"fMargin\":0.05,\"fLines\":{\"_typename\":\"TList\",\"name\":\"TList\",\"arr\":[{\"_typename\":\"TLatex\",\"fUniqueID\":0,\"fBits\":50331648,\"fName\":\"\",\"fTitle\":\"htemp\",\"fTextAngle\":0,\"fTextSize\":0.0368,\"fTextAlign\":0,\"fTextColor\":0,\"fTextFont\":0,\"fX\":0,\"fY\":0,\"fLineColor\":1,\"fLineStyle\":1,\"fLineWidth\":2,\"fLimitFactorSize\":3,\"fOriginSize\":0.0368000008165836},{\"_typename\":\"TLatex\",\"fUniqueID\":0,\"fBits\":50331648,\"fName\":\"\",\"fTitle\":\"Entries = 1000   \",\"fTextAngle\":0,\"fTextSize\":0,\"fTextAlign\":0,\"fTextColor\":0,\"fTextFont\":0,\"fX\":0,\"fY\":0,\"fLineColor\":1,\"fLineStyle\":1,\"fLineWidth\":2,\"fLimitFactorSize\":3,\"fOriginSize\":0.04},{\"_typename\":\"TLatex\",\"fUniqueID\":0,\"fBits\":50331648,\"fName\":\"\",\"fTitle\":\"Mean  = 0.007494\",\"fTextAngle\":0,\"fTextSize\":0,\"fTextAlign\":0,\"fTextColor\":0,\"fTextFont\":0,\"fX\":0,\"fY\":0,\"fLineColor\":1,\"fLineStyle\":1,\"fLineWidth\":2,\"fLimitFactorSize\":3,\"fOriginSize\":0.04},{\"_typename\":\"TLatex\",\"fUniqueID\":0,\"fBits\":50331648,\"fName\":\"\",\"fTitle\":\"Std Dev   =  0.171\",\"fTextAngle\":0,\"fTextSize\":0,\"fTextAlign\":0,\"fTextColor\":0,\"fTextFont\":0,\"fX\":0,\"fY\":0,\"fLineColor\":1,\"fLineStyle\":1,\"fLineWidth\":2,\"fLimitFactorSize\":3,\"fOriginSize\":0.04}],\"opt\":[\"\",\"\",\"\",\"\"]},\"fOptFit\":0,\"fOptStat\":1111,\"fFitFormat\":\"5.4g\",\"fStatFormat\":\"6.4g\",\"fParent\":{\"$ref\":3}}],\"opt\":[\"brNDC\"]},\"fBufferSize\":2001,\"fBuffer\":[-1000,1,0.145961880683899,1,-0.12488579750061,1,0.0541434288024902,1,-0.0646383762359619,1,-0.0464329719543457,1,-0.170689672231674,1,0.0885834693908691,1,-0.0345640182495117,1,-0.117491006851196,1,0.0963492393493652,1,0.0906268358230591,1,0.113176822662354,1,0.0492499470710754,1,0.331912994384766,1,0.117774963378906,1,0.0268098115921021,1,0.0716418623924255,1,0.140878915786743,1,0.0923347473144531,1,-0.0929837226867676,1,0.0838971138000488,1,-0.0165376663208008,1,0.105265140533447,1,0.0234380960464478,1,-0.089910089969635,1,0.0177888870239258,1,0.0728342533111572,1,0.149440765380859,1,0.100281298160553,1,-0.157707571983337,1,-0.130575627088547,1,0.0725610181689262,1,-0.140440821647644,1,-0.0970457792282104,1,-0.00202009081840515,1,-0.0716066360473633,1,-0.181563138961792,1,-0.00762158632278442,1,-0.0162284672260284,1,-0.0805138945579529,1,-0.0144398212432861,1,-0.147426128387451,1,0.0289638638496399,1,-0.0462585687637329,1,-0.224912822246552,1,0.073000431060791,1,-0.290379524230957,1,0.0592612028121948,1,0.0293341279029846,1,-0.0509016662836075,1,-0.153210401535034,1,0.144103288650513,1,0.169897876679897,1,-0.0890898704528809,1,-0.497695922851562,1,0.0921729654073715,1,-0.115180492401123,1,0.0875518620014191,1,-0.236993402242661,1,0.20500659942627,1,-0.15946501493454,1,-0.121586799621582,1,-0.0318222343921661,1,0.019397497177124,1,0.0967338085174561,1,-0.240964252501726,1,0.0198134779930115,1,-0.122591614723206,1,0.0155611336231232,1,-0.0447628498077393,1,0.180120587348938,1,0.00579380989074707,1,-0.033853679895401,1,-0.0604689121246338,1,0.088841438293457,1,0.108901329338551,1,-0.0922736525535583,1,-0.034660816192627,1,-0.0622464418411255,1,0.14184695482254,1,-0.00931805372238159,1,0.225679874420166,1,-0.0885039567947388,1,0.110052347183228,1,0.142851263284683,1,-0.267617344856262,1,-0.107245415449142,1,-0.150511026382446,1,0.309115409851074,1,-0.0825121402740479,1,0.697490930557251,1,-0.233122885227203,1,0.0438843965530396,1,-0.0222933292388916,1,0.103894829750061,1,0.174654006958008,1,0.349034309387207,1,0.0528712272644043,1,-0.128360271453857,1,0.178006887435913,1,0.0897403955459595,1,0.194982767105103,1,-0.0485620498657227,1,0.00633381307125092,1,0.152325391769409,1,0.139874696731567,1,-0.216786772012711,1,-0.0712907314300537,1,0.268487691879272,1,-0.105579495429993,1,-0.0377440452575684,1,0.0865129828453064,1,0.00226235389709473,1,-0.00573194026947021,1,-0.124339699745178,1,-0.0161079168319702,1,0.0374279022216797,1,-0.0301153659820557,1,0.109263181686401,1,-0.0287668704986572,1,0.0286288261413574,1,0.0041661262512207,1,-0.384007483720779,1,0.0210142135620117,1,-0.442017555236816,1,-0.0579757690429688,1,-0.17013692855835,1,0.160051822662354,1,-0.24999475479126,1,-0.142638683319092,1,-0.123455703258514,1,-0.19294285774231,1,-0.0316009521484375,1,0.108066558837891,1,0.0919878482818604,1,-0.0146052837371826,1,0.173595070838928,1,-0.38834810256958,1,-0.152312457561493,1,-0.110649108886719,1,-0.0571973919868469,1,0.0303483009338379,1,0.0510389655828476,1,-0.160834312438965,1,-0.0974372029304504,1,0.0516849756240845,1,-0.168362617492676,1,0.0533218383789062,1,-0.0250874906778336,1,-0.0640625953674316,1,0.120433568954468,1,-0.0738900899887085,1,0.0353002548217773,1,0.00624179840087891,1,-0.405026733875275,1,-0.0473268032073975,1,-0.0814527273178101,1,0.0839712619781494,1,0.0827889442443848,1,-0.193046092987061,1,-0.083727240562439,1,0.0726662576198578,1,0.0142613798379898,1,0.0367767810821533,1,0.134693086147308,1,-0.241096705198288,1,0.190634272992611,1,0.132642686367035,1,-0.0820554196834564,1,0.208447694778442,1,-0.0284475088119507,1,7.07149505615234e-4,1,0.0913877487182617,1,-0.0306138396263123,1,-0.0590651035308838,1,0.136258602142334,1,0.0360885858535767,1,0.142357707023621,1,-0.313367635011673,1,0.450111389160156,1,0.031281590461731,1,0.00957345962524414,1,-0.018805056810379,1,-0.115620732307434,1,-0.23005485534668,1,-0.0405676066875458,1,0.0492913872003555,1,0.245913572609425,1,0.117556840181351,1,0.0227746963500977,1,-0.269497260451317,1,-0.00986599922180176,1,0.0160236358642578,1,-0.00199341773986816,1,0.226413637399673,1,-0.0982955247163773,1,0.309232473373413,1,-0.0179063081741333,1,0.070805549621582,1,0.129326045513153,1,-0.0623397827148438,1,-0.145165950059891,1,-0.00803923606872559,1,0.0806503295898438,1,-0.0562766194343567,1,-0.0226173400878906,1,0.0194404125213623,1,3.1745433807373e-4,1,-0.142533659934998,1,-0.213492155075073,1,-0.137766450643539,1,-0.0849393606185913,1,0.0803431570529938,1,0.257523775100708,1,-0.104699730873108,1,-0.0310037136077881,1,0.0432150363922119,1,0.00881600379943848,1,-0.349825233221054,1,0.159550592303276,1,0.0332345962524414,1,-0.0634231567382812,1,0.303156137466431,1,0.0333540439605713,1,0.038693904876709,1,-0.216906726360321,1,-0.126104265451431,1,-0.129963338375092,1,-0.320543229579926,1,-0.0865789968520403,1,0.0277588367462158,1,-0.135439246892929,1,0.291585490107536,1,0.0750189423561096,1,0.306459903717041,1,0.0425207614898682,1,-0.0432982444763184,1,0.0933504104614258,1,0.177234411239624,1,-0.285185024142265,1,-0.0893378257751465,1,0.0893816947937012,1,-0.0881738662719727,1,-0.233069345355034,1,-0.0613511800765991,1,0.160723686218262,1,0.0827681124210358,1,-0.00332903861999512,1,-0.0345215797424316,1,0.0994465351104736,1,0.0611718893051147,1,0.279051065444946,1,-0.0140999555587769,1,-0.172064661979675,1,-0.162195205688477,1,0.141386389732361,1,0.101945161819458,1,-0.173811435699463,1,-0.0342490673065186,1,-0.0260976105928421,1,-0.154143288731575,1,-0.0428030490875244,1,0.0369071960449219,1,-0.0586695671081543,1,0.0262312889099121,1,-0.108930587768555,1,-0.119410663843155,1,-0.0700738430023193,1,0.435482263565063,1,0.0366649627685547,1,0.282706260681152,1,0.0184001922607422,1,-0.16622257232666,1,-0.103848569095135,1,0.0377491414546967,1,0.120714068412781,1,0.0155673027038574,1,0.020201563835144,1,-0.124431550502777,1,0.027492880821228,1,0.189206838607788,1,0.0117840766906738,1,0.279025495052338,1,0.132318913936615,1,-0.286682903766632,1,0.0646553039550781,1,0.128435373306274,1,0.0188767910003662,1,0.145371437072754,1,-0.0790642499923706,1,-0.0396310240030289,1,0.0285626649856567,1,-0.0568977743387222,1,-0.0123679935932159,1,-0.0375436544418335,1,-0.11873871088028,1,-0.0257854461669922,1,-0.193266004323959,1,0.236080050468445,1,0.287908554077148,1,-0.268530964851379,1,0.00111889839172363,1,0.0693440139293671,1,0.0977697372436523,1,0.0993010997772217,1,0.0563188791275024,1,-1.54778671264648,1,-0.00155873596668243,1,0.062199592590332,1,-0.00127959251403809,1,-0.120094537734985,1,0.0727706551551819,1,0.0947901010513306,1,-0.131725549697876,1,0.103487014770508,1,0.0291157066822052,1,0.0834288597106934,1,0.375730991363525,1,0.396060109138489,1,0.0176210403442383,1,-0.0925431251525879,1,0.112951755523682,1,-0.09096759557724,1,0.0257445573806763,1,-0.00786387920379639,1,0.179604530334473,1,0.275193348526955,1,-0.20134711265564,1,-0.0427199378609657,1,0.117959499359131,1,-0.192389249801636,1,0.377698123455048,1,0.112773805856705,1,0.2422034740448,1,-0.054600715637207,1,-0.173945307731628,1,-0.295162796974182,1,-1.06975436210632e-4,1,-0.133679628372192,1,0.138378649950027,1,-0.0371265113353729,1,0.10051441192627,1,-0.045269638299942,1,0.0924564301967621,1,0.148560643196106,1,0.0721863508224487,1,-0.0715517997741699,1,-0.230374470353127,1,-0.0387513637542725,1,0.0196526050567627,1,-0.0872902870178223,1,0.0925636291503906,1,0.0788842439651489,1,-0.0265599489212036,1,-0.0153565406799316,1,-0.00612092018127441,1,0.257872045040131,1,0.0958859920501709,1,0.113120377063751,1,0.0139509439468384,1,-0.213885247707367,1,-0.0482746362686157,1,-0.0340695381164551,1,-0.183142721652985,1,0.0100735425949097,1,0.100552313029766,1,-0.0350003242492676,1,-0.343586385250092,1,0.28879988193512,1,-0.0749547481536865,1,-0.0563356876373291,1,-0.0644521713256836,1,0.327667236328125,1,-0.130228281021118,1,0.213998079299927,1,-0.140007644891739,1,0.121714949607849,1,0.0818520188331604,1,0.819222450256348,1,0.128683567047119,1,-0.09653639793396,1,-0.0129941701889038,1,0.297763168811798,1,-0.264262467622757,1,0.0582761764526367,1,-0.14217035099864,1,-0.190535694360733,1,0.0105841308832169,1,0.159432753920555,1,0.0287843942642212,1,-0.04091477394104,1,0.153867125511169,1,-0.138223856687546,1,0.0469996929168701,1,-0.257225871086121,1,-0.0215498208999634,1,0.36794351041317,1,-0.0760489702224731,1,-0.0689850449562073,1,0.160384178161621,1,-0.0574166551232338,1,-0.121039867401123,1,-0.262503057718277,1,0.101563721895218,1,0.227290719747543,1,-0.0199607610702515,1,-0.0590322017669678,1,0.187172591686249,1,0.0499076843261719,1,-0.0262685418128967,1,0.00776970386505127,1,-0.0736135244369507,1,0.147353798151016,1,-0.168276190757751,1,-0.0479804277420044,1,-0.0388984680175781,1,0.0944880023598671,1,0.0196333527565002,1,0.0890185832977295,1,0.140206038951874,1,-0.0533781051635742,1,0.173503160476685,1,-0.0867481231689453,1,0.255271852016449,1,-0.032362699508667,1,-0.177169740200043,1,0.0459551811218262,1,-0.071844220161438,1,0.106294631958008,1,0.117153987288475,1,-0.0240921974182129,1,-0.0064626932144165,1,-0.0914438008330762,1,-0.0523740500211716,1,0.0499659776687622,1,0.280284643173218,1,-0.130072832107544,1,-0.0621585864573717,1,0.0880795121192932,1,-0.235005505383015,1,-0.0452976226806641,1,-0.120184183120728,1,-0.0743522644042969,1,-0.0199785232543945,1,0.142219305038452,1,-0.073981836438179,1,0.0641287565231323,1,1.61481523513794,1,0.00811910629272461,1,0.0864412020891905,1,0.114250183105469,1,-0.135784387588501,1,0.148294001817703,1,-0.138109222054482,1,-0.222935080528259,1,0.0965595245361328,1,-0.0271873474121094,1,-0.0899977684020996,1,-0.0589046478271484,1,-0.0920566916465759,1,0.0744917392730713,1,0.0119023323059082,1,-0.123174250125885,1,-0.0767078399658203,1,0.00966739654541016,1,0.0474361181259155,1,0.0683492869138718,1,-0.162149667739868,1,0.0522056818008423,1,-0.183292761445045,1,0.11244010925293,1,-0.121489528566599,1,-0.159926891326904,1,-0.252830564975739,1,-0.127509891986847,1,0.0023016482591629,1,-0.0990695953369141,1,-0.431237772107124,1,0.0674319267272949,1,0.135015815496445,1,-0.111076354980469,1,-0.201439082622528,1,-0.0162753872573376,1,0.00192469358444214,1,0.0123775005340576,1,0.073047399520874,1,-0.224127531051636,1,0.075249195098877,1,0.291009426116943,1,-0.267699226737022,1,0.085247278213501,1,-0.0619539022445679,1,-0.22545850276947,1,-3.84151935577393e-4,1,0.09952512383461,1,0.36450207233429,1,-0.0311766862869263,1,0.0805943012237549,1,0.114053010940552,1,0.0113521814346313,1,0.0221641063690186,1,-0.0222750902175903,1,0.0660064220428467,1,-0.0782437324523926,1,-0.0217829942703247,1,-0.0601922869682312,1,0.211555659770966,1,-0.0932512283325195,1,-0.0115174055099487,1,0.0249605178833008,1,0.0251476764678955,1,-0.050484299659729,1,0.039487361907959,1,-0.282556533813477,1,0.0980379581451416,1,0.107652962207794,1,-0.0941732227802277,1,-0.0891367197036743,1,0.0849989652633667,1,0.06358802318573,1,-0.368898630142212,1,0.165982484817505,1,0.0302529335021973,1,0.337232112884521,1,0.0135281085968018,1,-0.044829249382019,1,0.0429209470748901,1,0.0767712593078613,1,-0.0870234221220016,1,0.228548496961594,1,-0.0391526222229004,1,-0.164126396179199,1,0.0627841949462891,1,0.010608434677124,1,0.0880775451660156,1,0.0390821695327759,1,-0.0448343753814697,1,-0.121783819049597,1,-0.144709825515747,1,0.225068092346191,1,-0.0896474123001099,1,-0.018094539642334,1,-0.0996957272291183,1,0.0822937488555908,1,-0.213189736008644,1,0.0765795707702637,1,-0.103332817554474,1,-0.0416865348815918,1,0.195828437805176,1,-0.00277829170227051,1,0.225362300872803,1,0.163001775741577,1,0.00134479999542236,1,0.0873589515686035,1,-0.0801017284393311,1,-0.102366209030151,1,0.0714612007141113,1,0.0904669761657715,1,0.0647366046905518,1,0.0270485877990723,1,0.332023978233337,1,0.168851137161255,1,-0.206587195396423,1,0.0759106874465942,1,-0.0608749389648438,1,0.149102687835693,1,-0.229158639907837,1,0.10072623193264,1,-0.083406925201416,1,0.188557326793671,1,-0.0268700122833252,1,0.413353443145752,1,0.163065910339355,1,-0.00789666175842285,1,0.143868923187256,1,0.191091299057007,1,0.123274087905884,1,0.289427757263184,1,0.160914540290833,1,0.261663436889648,1,0.0931987762451172,1,0.17094087600708,1,0.1170390881598,1,0.139379262924194,1,0.0377416610717773,1,-0.0212694406509399,1,0.2645263671875,1,-0.0416127443313599,1,-0.0347671508789062,1,0.0208806991577148,1,0.235838234424591,1,0.176131248474121,1,0.0494775772094727,1,-0.0661242604255676,1,-0.16187909245491,1,-0.10793680511415,1,-0.143948197364807,1,-0.163687109947205,1,-0.394900023937225,1,0.295265913009644,1,0.0610141158103943,1,0.180907845497131,1,0.172962188720703,1,-0.150034971535206,1,0.272985696792603,1,0.0891585350036621,1,0.0928006172180176,1,0.015254944562912,1,0.165218353271484,1,-0.179688692092896,1,0.0936436653137207,1,0.0254793614149094,1,0.140756726264954,1,-0.0486215353012085,1,-0.141279101371765,1,0.0212647318840027,1,-0.141506433486938,1,-0.226171582937241,1,-0.135711818933487,1,-0.13613672554493,1,-0.181136131286621,1,0.0513827800750732,1,-0.225960373878479,1,-0.223987180739641,1,-0.0658409595489502,1,-0.33240519464016,1,0.0540561079978943,1,0.109973430633545,1,-0.196539282798767,1,-0.197163045406342,1,0.0285897254943848,1,-0.216902837157249,1,0.179992198944092,1,-0.0912142395973206,1,-0.0406164526939392,1,-0.0253177862614393,1,0.151724338531494,1,-0.0609818696975708,1,-0.141161620616913,1,-0.00222206115722656,1,-0.150769844651222,1,-0.0462777614593506,1,-0.116722881793976,1,0.13055431842804,1,0.326574802398682,1,0.154970556497574,1,-0.0999366790056229,1,-0.0993801355361938,1,-0.0568559169769287,1,-0.297592163085938,1,-0.0161950588226318,1,-0.00918173789978027,1,0.0156376361846924,1,0.0885656476020813,1,0.0615160465240479,1,-0.309255838394165,1,-0.170189678668976,1,0.117208123207092,1,0.22101616859436,1,-0.189592838287354,1,0.163540601730347,1,-0.165342509746552,1,-0.00892579555511475,1,-0.107945680618286,1,0.0728083103895187,1,-0.248585671186447,1,0.136437863111496,1,-0.165053904056549,1,-0.0748637914657593,1,-0.0603938102722168,1,0.0969811677932739,1,-0.120606422424316,1,0.089548647403717,1,0.178369998931885,1,-0.168312817811966,1,0.154998421669006,1,0.229870498180389,1,-0.0930070877075195,1,-0.00907814502716064,1,0.167406260967255,1,0.0419988632202148,1,0.231548190116882,1,0.10194981098175,1,-0.00278067588806152,1,-0.0997616052627563,1,0.0749189108610153,1,-0.0607490539550781,1,-0.0627281665802002,1,-0.239004790782928,1,0.0340085029602051,1,-0.100445568561554,1,0.321470737457275,1,-0.135448694229126,1,0.0418620109558105,1,0.330023169517517,1,-0.19812422990799,1,0.0431187152862549,1,-0.0905438512563705,1,-0.0373630523681641,1,-0.0545335114002228,1,0.368053674697876,1,0.281686663627625,1,0.00886750221252441,1,0.197329163551331,1,-0.0760536193847656,1,0.120614647865295,1,0.328035831451416,1,-0.0673190355300903,1,0.0195056200027466,1,0.0826050043106079,1,-0.159126877784729,1,-0.152695894241333,1,0.146062612533569,1,-0.0552306771278381,1,0.131539583206177,1,-0.163623452186584,1,0.0762513875961304,1,0.0137045383453369,1,0.281579732894897,1,0.0666068196296692,1,-0.057187557220459,1,0.0183925330638885,1,-0.0326862335205078,1,-0.0877054035663605,1,0.196694433689117,1,-0.185309156775475,1,-0.00199198722839355,1,-0.0737220644950867,1,0.0793402194976807,1,-0.148634552955627,1,0.0865821242332458,1,-0.463049411773682,1,-0.128923609852791,1,0.0800508856773376,1,0.0291540622711182,1,0.257808685302734,1,0.0518089532852173,1,-0.195616722106934,1,0.0827270746231079,1,-0.0165507793426514,1,0.119197905063629,1,-0.145593285560608,1,-0.0880273580551147,1,0.0488357543945312,1,-0.0256583690643311,1,0.0362060070037842,1,-0.00413846969604492,1,-0.0789291858673096,1,-0.110925436019897,1,-0.18646776676178,1,-0.287954449653625,1,0.0143439769744873,1,0.273207426071167,1,-0.0224611759185791,1,0.0143463313579559,1,-0.0666310787200928,1,-0.0516911745071411,1,-0.0803329050540924,1,0.213297605514526,1,-0.00677180290222168,1,-0.0328546762466431,1,0.00452888011932373,1,0.186465978622437,1,-0.0903362035751343,1,0.188275694847107,1,-0.380482614040375,1,-0.0209262371063232,1,-0.246567249298096,1,-0.108794175088406,1,-0.119751453399658,1,-0.0456926822662354,1,-0.140529155731201,1,-0.108338475227356,1,-0.0601989030838013,1,-0.00533056259155273,1,0.0486074686050415,1,0.157114744186401,1,0.0144816040992737,1,0.0388336181640625,1,0.187031745910645,1,0.112138509750366,1,0.112929105758667,1,-0.143910884857178,1,0.0991735756397247,1,-0.0720548629760742,1,-0.137732535600662,1,0.12542986869812,1,0.0884949266910553,1,-0.062079906463623,1,0.0775378942489624,1,-0.18463933467865,1,-0.0429204702377319,1,-0.274730682373047,1,0.102741479873657,1,-0.0240401029586792,1,0.0229091644287109,1,0.0110969543457031,1,0.258226960897446,1,0.0722024440765381,1,0.0537021160125732,1,-0.0276750326156616,1,-0.0579779744148254,1,0.0731546878814697,1,0.186100602149963,1,0.324978530406952,1,0.0885907411575317,1,0.0562885999679565,1,0.405921161174774,1,-0.148542493581772,1,-0.136291742324829,1,-0.122599869966507,1,0.0949423313140869,1,-0.0688414126634598,1,-0.0162089467048645,1,-0.0510849952697754,1,0.408299922943115,1,0.0276579856872559,1,0.00580847263336182,1,-0.00410318374633789,1,-0.0391156673431396,1,0.179341554641724,1,0.164424777030945,1,0.0867016315460205,1,-7.07924365997314e-4,1,0.174100995063782,1,-0.225720167160034,1,0.0811042785644531,1,0.0506553649902344,1,-0.241299569606781,1,-0.0254519581794739,1,0.160422682762146,1,-0.232414841651917,1,0.0911853909492493,1,0.265525221824646,1,0.143458664417267,1,-0.266993403434753,1,0.0577611923217773,1,0.269369959831238,1,0.19502454996109,1,0.136327743530273,1,0.250876903533936,1,-0.29870080947876,1,-0.332704067230225,1,0.127812385559082,1,-0.183094523847103,1,0.00705063343048096,1,0.14471971988678,1,-0.0659271478652954,1,-0.39096474647522,1,-0.0215853452682495,1,0.135642766952515,1,-0.254334926605225,1,0.274369955062866,1,0.246529966592789,1,-0.0879099369049072,1,0.0986757278442383,1,-0.165486097335815,1,0.0851811170578003,1,-0.148845672607422,1,0.0477463006973267,1,-0.160438597202301,1,0.154324769973755,1,0.048255443572998,1,0.486354023218155,1,-0.224913895130157,1,-0.0545053482055664,1,-0.0184080600738525,1,0.269218564033508,1,0.227658450603485,1,0.54818320274353,1,-0.171365737915039,1,0.296555042266846,1,0.0324454307556152,1,0.143406391143799,1,-0.0272812843322754,1,-0.0217071771621704,1,0.514184474945068,1,0.104152917861938,1,-0.11724853515625,1,0.292335748672485,1,0.0952427387237549,1,-0.0971217155456543,1,0.0573792457580566,1,0.0681236982345581,1,-0.20882248878479,1,0.00135552883148193,1,-0.0843496024608612,1,0.120214462280273,1,0.161349058151245,1,-0.00672996044158936,1,0.197988510131836,1,0.00886142253875732,1,-0.150066196918488,1,0.116858601570129,1,0.188251703977585,1,-0.144758701324463,1,0.0559439659118652,1,-0.142971038818359,1,-0.183441817760468,1,0.375996112823486,1,0.121115803718567,1,-0.164341151714325,1,0.0448755919933319,1,-0.159979820251465,1,0.228594303131104,1,-0.0211349725723267,1,-0.0363650321960449,1,0.0601894855499268,1,-0.219519078731537,1,0.0264604091644287,1,-0.00258016586303711,1,-0.143462598323822,1,-0.00445771217346191,1,-0.286152541637421,1,-0.0118210315704346,1,0.187494516372681,1,0.03240966796875,1,0.115654453635216,1,0.270868197083473,1,0.00354576110839844,1,-0.0277030467987061,1,-0.0836377143859863,1,-0.120477199554443,1,-0.179267168045044,1,-0.0138423442840576,1,0.181685015559196,1,-0.0774932503700256,1,-0.0762834548950195,1,0.0183782279491425,1,0.497000575065613,1,-0.110240146517754,1,-0.0274558067321777,1,-0.0672955513000488,1,-0.212685823440552,1,-0.0155749320983887,1,0.148892641067505,1,-0.312471866607666,1,0.00414729118347168,1,-0.201367974281311,1,0.140524625778198,1,0.0305739641189575,1,-0.0760478973388672,1,0.131004810333252,1,-0.127466678619385,1,0.031484566628933,1,-0.221924781799316,1,0.0488314628601074,1,-0.0651761293411255,1,-0.0651905536651611,1,0.0666117668151855,1,-0.0911538600921631,1,-0.0545258522033691,1,0.264967083930969,1,0.0270067453384399,1,0.381093740463257,1,-0.014773964881897,1,0.0741913318634033,1,-0.034065842628479,1,0.0700670480728149,1,0.00112810730934143,1,0.186674654483795,1,0.0125865936279297,1,0.0456990599632263,1,-0.102423787117004,1,0.210797905921936,1,0.276825666427612,1,0.0667450428009033,1,-0.0954444408416748,1,-0.136144161224365,1,-0.320836901664734,1,-0.151173114776611,1,0.11623477935791,1,-0.0948833227157593,1,0.293025076389313,1,0.124525159597397,1,0.194072723388672,1,0.0864245891571045,1,-0.149487495422363,1,-0.032726526260376,1,-0.0611961334943771,1,-0.257233500480652,1,0.104209899902344,1,0.09975266456604,1,-0.0904211401939392,1,-0.145483613014221,1,0.155414342880249,1,-0.0811370611190796,1,-0.0100666582584381,1,0.0556609034538269,1,0.0247722864151001,1,-0.193445801734924,1,0.254395976662636,1,-0.0110626220703125,1,0.243179500102997,1,-0.222403049468994,1,0.0492332950234413,1,0.214510917663574,1,0.0182133913040161,1,0.0860532522201538,1,-0.0351231545209885],\"fBinStatErrOpt\":0,\"fArray\":[0,0,0,0,0,0,0,0,0,1,0,0,0,0,0,0,0,0,0,0,0,0,0,0,0,0,0,0,0,0,0,0,0,0,0,0,0,2,2,4,3,7,11,19,32,41,64,77,91,103,105,89,106,63,57,33,20,26,16,8,8,4,1,2,2,0,0,0,1,0,0,0,1,0,0,0,0,0,0,0,0,0,0,0,0,0,0,0,0,0,0,0,0,1,0,0,0,0,0,0,0,0]},{\"_typename\":\"TPaveText\",\"fUniqueID\":0,\"fBits\":50331657,\"fLineColor\":1,\"fLineStyle\":1,\"fLineWidth\":1,\"fFillColor\":0,\"fFillStyle\":0,\"fX1\":-0.503421344080989,\"fY1\":116.027893512253,\"fX2\":0.553421344080988,\"fY2\":124.516876689596,\"fX1NDC\":0.387270114942529,\"fY1NDC\":0.933983055615829,\"fX2NDC\":0.612729885057471,\"fY2NDC\":0.995000004768372,\"fBorderSize\":0,\"fInit\":1,\"fShadowColor\":1,\"fCornerRadius\":0,\"fOption\":\"blNDC\",\"fName\":\"title\",\"fTextAngle\":0,\"fTextSize\":0,\"fTextAlign\":22,\"fTextColor\":1,\"fTextFont\":42,\"fLabel\":\"\",\"fLongest\":11,\"fMargin\":0.05,\"fLines\":{\"_typename\":\"TList\",\"name\":\"TList\",\"arr\":[{\"_typename\":\"TLatex\",\"fUniqueID\":0,\"fBits\":50331648,\"fName\":\"\",\"fTitle\":\"BDTG-target\",\"fTextAngle\":0,\"fTextSize\":0,\"fTextAlign\":0,\"fTextColor\":0,\"fTextFont\":0,\"fX\":0,\"fY\":0,\"fLineColor\":1,\"fLineStyle\":1,\"fLineWidth\":2,\"fLimitFactorSize\":3,\"fOriginSize\":0.0518644079566002}],\"opt\":[\"\"]}}],\"opt\":[\"\",\"\",\"blNDC\"]},\"fExecs\":null,\"fName\":\"c1\",\"fTitle\":\"c1\",\"fNumPaletteColor\":0,\"fNextPaletteColor\":0,\"fDISPLAY\":\"$DISPLAY\",\"fDoubleBuffer\":0,\"fRetained\":true,\"fXsizeUser\":0,\"fYsizeUser\":0,\"fXsizeReal\":20,\"fYsizeReal\":14.28571,\"fWindowTopX\":0,\"fWindowTopY\":0,\"fWindowWidth\":0,\"fWindowHeight\":0,\"fCw\":696,\"fCh\":472,\"fCatt\":{\"_typename\":\"TAttCanvas\",\"fXBetween\":2,\"fYBetween\":2,\"fTitleFromTop\":1.2,\"fXdate\":0.2,\"fYdate\":0.3,\"fAdate\":1},\"kMoveOpaque\":true,\"kResizeOpaque\":true,\"fHighLightColor\":2,\"fBatch\":true,\"kShowEventStatus\":false,\"kAutoExec\":true,\"kMenuBar\":true});\n",
       "       Core.draw(\"root_plot_1\", obj, \"\");\n",
       "     }\n",
       " );\n",
       "</script>\n"
      ],
      "text/plain": [
       "<IPython.core.display.HTML object>"
      ]
     },
     "metadata": {},
     "output_type": "display_data"
    }
   ],
   "source": [
    "%jsroot on\n",
    "outputFile->Close();\n",
    "auto resultsFile = TFile::Open(\"TMVA_RegressionOutput.root\");\n",
    "auto resultsTree = resultsFile->Get(\"dataset/TestTree\"); \n",
    "TCanvas c;\n",
    "resultsTree->Draw(\"BDTG-target\"); // BDTG is the predicted value, target is the true value\n",
    "c.Draw();"
   ]
  },
  {
   "cell_type": "code",
   "execution_count": null,
   "metadata": {
    "collapsed": true
   },
   "outputs": [],
   "source": []
  }
 ],
 "metadata": {
  "kernelspec": {
   "display_name": "ROOT C++",
   "language": "c++",
   "name": "root"
  },
  "language_info": {
   "codemirror_mode": "text/x-c++src",
   "file_extension": ".C",
   "mimetype": " text/x-c++src",
   "name": "c++"
  }
 },
 "nbformat": 4,
 "nbformat_minor": 1
}
