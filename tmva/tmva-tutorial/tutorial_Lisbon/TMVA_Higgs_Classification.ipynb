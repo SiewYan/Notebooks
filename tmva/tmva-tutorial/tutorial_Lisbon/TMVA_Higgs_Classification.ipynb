{
 "cells": [
  {
   "cell_type": "markdown",
   "metadata": {},
   "source": [
    "<img src=\"http://oproject.org/tiki-download_file.php?fileId=8&display&x=450&y=128\">\n",
    "<img src=\"http://files.oproject.org/tmvalogo.png\" height=\"50%\" width=\"50%\">\n",
    "\n",
    "# TMVA Classification Example"
   ]
  },
  {
   "cell_type": "markdown",
   "metadata": {},
   "source": [
    "## Declare Factory\n",
    "\n",
    "Create the Factory class. Later you can choose the methods\n",
    "whose performance you'd like to investigate. \n",
    "\n",
    "The factory is the major TMVA object you have to interact with. Here is the list of parameters you need to pass\n",
    "\n",
    " - The first argument is the base of the name of all the output\n",
    "weightfiles in the directory weight/ that will be created with the \n",
    "method parameters \n",
    "\n",
    " - The second argument is the output file for the training results\n",
    "  \n",
    " - The third argument is a string option defining some general configuration for the TMVA session. For example all TMVA output can be suppressed by removing the \"!\" (not) in front of the \"Silent\" argument in the option string"
   ]
  },
  {
   "cell_type": "code",
   "execution_count": 1,
   "metadata": {
    "collapsed": false
   },
   "outputs": [],
   "source": [
    "TMVA::Tools::Instance();\n",
    "\n",
    "\n",
    "auto outputFile = TFile::Open(\"Higgs_ClassificationOutput.root\", \"RECREATE\");\n",
    "\n",
    "TMVA::Factory factory(\"TMVAClassification\", outputFile,\n",
    "                      \"!V:ROC:!Silent:Color:!DrawProgressBar:AnalysisType=Classification\" ); "
   ]
  },
  {
   "cell_type": "markdown",
   "metadata": {},
   "source": [
    "## Declare DataLoader(s)\n",
    "\n",
    "The next step is to declare the DataLoader class that deals with input variables \n",
    "\n",
    "Define the input variables that shall be used for the MVA training\n",
    "note that you may also use variable expressions, which can be parsed by TTree::Draw( \"expression\" )]"
   ]
  },
  {
   "cell_type": "code",
   "execution_count": 2,
   "metadata": {
    "collapsed": false
   },
   "outputs": [],
   "source": [
    "TMVA::DataLoader * loader = new TMVA::DataLoader(\"dataset\");\n",
    "\n",
    "loader->AddVariable(\"m_jj\");\n",
    "loader->AddVariable(\"m_jjj\");\n",
    "loader->AddVariable(\"m_lv\");\n",
    "loader->AddVariable(\"m_jlv\");\n",
    "loader->AddVariable(\"m_bb\");\n",
    "loader->AddVariable(\"m_wbb\");\n",
    "loader->AddVariable(\"m_wwbb\");"
   ]
  },
  {
   "cell_type": "markdown",
   "metadata": {},
   "source": [
    "## Setup Dataset(s)\n",
    "\n",
    "Define input data file and signal and background trees"
   ]
  },
  {
   "cell_type": "code",
   "execution_count": 3,
   "metadata": {
    "collapsed": false
   },
   "outputs": [
    {
     "name": "stdout",
     "output_type": "stream",
     "text": [
      "DataSetInfo              : [dataset] : Added class \"Signal\"\n",
      "                         : Add Tree sig_tree of type Signal with 10000 events\n",
      "DataSetInfo              : [dataset] : Added class \"Background\"\n",
      "                         : Add Tree bkg_tree of type Background with 10000 events\n"
     ]
    }
   ],
   "source": [
    "TString inputFileName = \"Higgs_data.root\";\n",
    "\n",
    "//TString inputFileName = \"tmva_class_example.root\";\n",
    "\n",
    "auto inputFile = TFile::Open( inputFileName );\n",
    "\n",
    "// --- Register the training and test trees\n",
    "\n",
    "TTree *signalTree     = (TTree*)inputFile->Get(\"sig_tree\");\n",
    "TTree *backgroundTree = (TTree*)inputFile->Get(\"bkg_tree\");\n",
    "\n",
    "// global event weights per tree (see below for setting event-wise weights)\n",
    "Double_t signalWeight     = 1.0;\n",
    "Double_t backgroundWeight = 1.0;\n",
    "   \n",
    "// You can add an arbitrary number of signal or background trees\n",
    "loader->AddSignalTree    ( signalTree,     signalWeight     );\n",
    "loader->AddBackgroundTree( backgroundTree, backgroundWeight );\n",
    "\n",
    "\n",
    "// Set individual event weights (the variables must exist in the original TTree)\n",
    "//    for signal    : factory->SetSignalWeightExpression    (\"weight1*weight2\");\n",
    "//    for background: factory->SetBackgroundWeightExpression(\"weight1*weight2\");\n",
    "//loader->SetBackgroundWeightExpression( \"weight\" );\n",
    "\n",
    "// Apply additional cuts on the signal and background samples (can be different)\n",
    "TCut mycuts = \"\"; // for example: TCut mycuts = \"abs(var1)<0.5 && abs(var2-0.5)<1\";\n",
    "TCut mycutb = \"\"; // for example: TCut mycutb = \"abs(var1)<0.5\";\n",
    "\n",
    "// Tell the factory how to use the training and testing events\n",
    "//\n",
    "// If no numbers of events are given, half of the events in the tree are used \n",
    "// for training, and the other half for testing:\n",
    "//    loader->PrepareTrainingAndTestTree( mycut, \"SplitMode=random:!V\" );\n",
    "// To also specify the number of testing events, use:\n",
    "\n",
    "loader->PrepareTrainingAndTestTree( mycuts, mycutb,\n",
    "                                    \"nTrain_Signal=0:nTrain_Background=0:SplitMode=Random:NormMode=NumEvents:!V\" );\n",
    "\n",
    "\n",
    "\n",
    "//loader->PrepareTrainingAndTestTree(mycuts, mycutb,\n",
    "//                                   \"nTrain_Signal=5000:nTrain_Background=5000:nTest_Signal=5000:nTest_Background=5000:SplitMode=Random:NormMode=NumEvents:!V\" ); \n"
   ]
  },
  {
   "cell_type": "markdown",
   "metadata": {},
   "source": [
    "# Booking Methods"
   ]
  },
  {
   "cell_type": "code",
   "execution_count": 4,
   "metadata": {
    "collapsed": false
   },
   "outputs": [
    {
     "name": "stdout",
     "output_type": "stream",
     "text": [
      "Factory                  : Booking method: \u001b[1mLikelihoodKDE\u001b[0m\n",
      "                         : \n",
      "Factory                  : Booking method: \u001b[1mFisher\u001b[0m\n",
      "                         : \n",
      "Factory                  : Booking method: \u001b[1mBDT\u001b[0m\n",
      "                         : \n",
      "DataSetFactory           : [dataset] : Number of events in input trees\n",
      "                         : \n",
      "                         : \n",
      "                         : Number of training and testing events\n",
      "                         : ---------------------------------------------------------------------------\n",
      "                         : Signal     -- training events            : 5000\n",
      "                         : Signal     -- testing events             : 5000\n",
      "                         : Signal     -- training and testing events: 10000\n",
      "                         : Background -- training events            : 5000\n",
      "                         : Background -- testing events             : 5000\n",
      "                         : Background -- training and testing events: 10000\n",
      "                         : \n",
      "DataSetInfo              : Correlation matrix (Signal):\n",
      "                         : ----------------------------------------------------------------\n",
      "                         :             m_jj   m_jjj    m_lv   m_jlv    m_bb   m_wbb  m_wwbb\n",
      "                         :    m_jj:  +1.000  +0.786  +0.008  +0.103  +0.032  +0.541  +0.531\n",
      "                         :   m_jjj:  +0.786  +1.000  -0.000  +0.095  +0.165  +0.690  +0.667\n",
      "                         :    m_lv:  +0.008  -0.000  +1.000  +0.119  -0.032  +0.007  +0.026\n",
      "                         :   m_jlv:  +0.103  +0.095  +0.119  +1.000  +0.320  +0.551  +0.570\n",
      "                         :    m_bb:  +0.032  +0.165  -0.032  +0.320  +1.000  +0.454  +0.341\n",
      "                         :   m_wbb:  +0.541  +0.690  +0.007  +0.551  +0.454  +1.000  +0.909\n",
      "                         :  m_wwbb:  +0.531  +0.667  +0.026  +0.570  +0.341  +0.909  +1.000\n",
      "                         : ----------------------------------------------------------------\n",
      "DataSetInfo              : Correlation matrix (Background):\n",
      "                         : ----------------------------------------------------------------\n",
      "                         :             m_jj   m_jjj    m_lv   m_jlv    m_bb   m_wbb  m_wwbb\n",
      "                         :    m_jj:  +1.000  +0.807  +0.016  +0.125  +0.005  +0.388  +0.389\n",
      "                         :   m_jjj:  +0.807  +1.000  +0.018  +0.170  +0.154  +0.552  +0.531\n",
      "                         :    m_lv:  +0.016  +0.018  +1.000  +0.105  +0.001  +0.033  +0.047\n",
      "                         :   m_jlv:  +0.125  +0.170  +0.105  +1.000  +0.299  +0.586  +0.532\n",
      "                         :    m_bb:  +0.005  +0.154  +0.001  +0.299  +1.000  +0.624  +0.448\n",
      "                         :   m_wbb:  +0.388  +0.552  +0.033  +0.586  +0.624  +1.000  +0.883\n",
      "                         :  m_wwbb:  +0.389  +0.531  +0.047  +0.532  +0.448  +0.883  +1.000\n",
      "                         : ----------------------------------------------------------------\n",
      "DataSetFactory           : [dataset] :  \n",
      "                         : \n"
     ]
    }
   ],
   "source": [
    "// Likelihood (\"naive Bayes estimator\")\n",
    "//factory.BookMethod(loader, TMVA::Types::kLikelihood, \"Likelihood\",\n",
    "//                           \"H:!V:TransformOutput:PDFInterpol=Spline2:NSmoothSig[0]=20:NSmoothBkg[0]=20:NSmoothBkg[1]=10:NSmooth=1:NAvEvtPerBin=50\" );\n",
    "\n",
    "// Use a kernel density estimator to approximate the PDFs\n",
    "factory.BookMethod(loader, TMVA::Types::kLikelihood, \"LikelihoodKDE\",\n",
    "                           \"!H:!V:!TransformOutput:PDFInterpol=KDE:KDEtype=Gauss:KDEiter=Adaptive:KDEFineFactor=0.3:KDEborder=None:NAvEvtPerBin=50\" ); \n",
    "\n",
    "\n",
    "// Fisher discriminant (same as LD)\n",
    "factory.BookMethod(loader, TMVA::Types::kFisher, \"Fisher\", \"H:!V:Fisher:VarTransform=None:CreateMVAPdfs:PDFInterpolMVAPdf=Spline2:NbinsMVAPdf=50:NsmoothMVAPdf=10\" );\n",
    "\n",
    "\n",
    "//Boosted Decision Trees\n",
    "factory.BookMethod(loader,TMVA::Types::kBDT, \"BDT\",\n",
    "                   \"!V:NTrees=200:MinNodeSize=2.5%:MaxDepth=2:BoostType=AdaBoost:AdaBoostBeta=0.5:UseBaggedBoost:BaggedSampleFraction=0.5:SeparationType=GiniIndex:nCuts=20\" );\n",
    "\n",
    "//Multi-Layer Perceptron (Neural Network)\n",
    "//factory.BookMethod(loader, TMVA::Types::kMLP, \"MLP\",\n",
    "//                   \"!H:!V:NeuronType=tanh:VarTransform=N:NCycles=100:HiddenLayers=N+5:TestRate=5:!UseRegulator\" );"
   ]
  },
  {
   "cell_type": "markdown",
   "metadata": {},
   "source": [
    "## Train Methods"
   ]
  },
  {
   "cell_type": "code",
   "execution_count": 5,
   "metadata": {
    "collapsed": false
   },
   "outputs": [
    {
     "name": "stdout",
     "output_type": "stream",
     "text": [
      "Factory                  : \u001b[1mTrain all methods\u001b[0m\n",
      "Factory                  : [dataset] : Create Transformation \"I\" with events from all classes.\n",
      "                         : \n",
      "                         : Transformation, Variable selection : \n",
      "                         : Input : variable 'm_jj' <---> Output : variable 'm_jj'\n",
      "                         : Input : variable 'm_jjj' <---> Output : variable 'm_jjj'\n",
      "                         : Input : variable 'm_lv' <---> Output : variable 'm_lv'\n",
      "                         : Input : variable 'm_jlv' <---> Output : variable 'm_jlv'\n",
      "                         : Input : variable 'm_bb' <---> Output : variable 'm_bb'\n",
      "                         : Input : variable 'm_wbb' <---> Output : variable 'm_wbb'\n",
      "                         : Input : variable 'm_wwbb' <---> Output : variable 'm_wwbb'\n",
      "TFHandler_Factory        : Variable        Mean        RMS   [        Min        Max ]\n",
      "                         : -----------------------------------------------------------\n",
      "                         :     m_jj:     1.0325    0.65850   [    0.14661     16.132 ]\n",
      "                         :    m_jjj:     1.0230    0.37341   [    0.34201     8.9401 ]\n",
      "                         :     m_lv:     1.0498    0.15869   [    0.26679     3.6802 ]\n",
      "                         :    m_jlv:     1.0105    0.39781   [    0.44051     6.5831 ]\n",
      "                         :     m_bb:    0.97149    0.53394   [   0.098984     5.8638 ]\n",
      "                         :    m_wbb:     1.0328    0.36532   [    0.38503     6.4013 ]\n",
      "                         :   m_wwbb:    0.96002    0.31182   [    0.43228     4.5350 ]\n",
      "                         : -----------------------------------------------------------\n",
      "                         : Ranking input variables (method unspecific)...\n",
      "IdTransformation         : Ranking result (top variable is best ranked)\n",
      "                         : -------------------------------\n",
      "                         : Rank : Variable  : Separation\n",
      "                         : -------------------------------\n",
      "                         :    1 : m_bb      : 9.326e-02\n",
      "                         :    2 : m_wbb     : 4.550e-02\n",
      "                         :    3 : m_wwbb    : 4.244e-02\n",
      "                         :    4 : m_jjj     : 3.263e-02\n",
      "                         :    5 : m_jlv     : 2.264e-02\n",
      "                         :    6 : m_lv      : 4.149e-03\n",
      "                         :    7 : m_jj      : 3.776e-03\n",
      "                         : -------------------------------\n",
      "Factory                  : Train method: LikelihoodKDE for Classification\n",
      "                         : \n",
      "                         : Filling reference histograms\n",
      "                         : Building PDF out of reference histograms\n",
      "                         : Elapsed time for training with 10000 events: 6.33 sec         \n",
      "LikelihoodKDE            : [dataset] : Evaluation of LikelihoodKDE on training sample (10000 events)\n",
      "                         : Elapsed time for evaluation of 10000 events: 0.0121 sec       \n",
      "                         : Creating xml weight file: \u001b[0;36mdataset/weights/TMVAClassification_LikelihoodKDE.weights.xml\u001b[0m\n",
      "                         : Creating standalone class: \u001b[0;36mdataset/weights/TMVAClassification_LikelihoodKDE.class.C\u001b[0m\n",
      "                         : Higgs_ClassificationOutput.root:/dataset/Method_LikelihoodKDE/LikelihoodKDE\n",
      "Factory                  : Training finished\n",
      "                         : \n",
      "Factory                  : Train method: Fisher for Classification\n",
      "                         : \n",
      "                         : \n",
      "                         : \u001b[1m================================================================\u001b[0m\n",
      "                         : \u001b[1mH e l p   f o r   M V A   m e t h o d   [ Fisher ] :\u001b[0m\n",
      "                         : \n",
      "                         : \u001b[1m--- Short description:\u001b[0m\n",
      "                         : \n",
      "                         : Fisher discriminants select events by distinguishing the mean \n",
      "                         : values of the signal and background distributions in a trans- \n",
      "                         : formed variable space where linear correlations are removed.\n",
      "                         : \n",
      "                         :    (More precisely: the \"linear discriminator\" determines\n",
      "                         :     an axis in the (correlated) hyperspace of the input \n",
      "                         :     variables such that, when projecting the output classes \n",
      "                         :     (signal and background) upon this axis, they are pushed \n",
      "                         :     as far as possible away from each other, while events\n",
      "                         :     of a same class are confined in a close vicinity. The  \n",
      "                         :     linearity property of this classifier is reflected in the \n",
      "                         :     metric with which \"far apart\" and \"close vicinity\" are \n",
      "                         :     determined: the covariance matrix of the discriminating\n",
      "                         :     variable space.)\n",
      "                         : \n",
      "                         : \u001b[1m--- Performance optimisation:\u001b[0m\n",
      "                         : \n",
      "                         : Optimal performance for Fisher discriminants is obtained for \n",
      "                         : linearly correlated Gaussian-distributed variables. Any deviation\n",
      "                         : from this ideal reduces the achievable separation power. In \n",
      "                         : particular, no discrimination at all is achieved for a variable\n",
      "                         : that has the same sample mean for signal and background, even if \n",
      "                         : the shapes of the distributions are very different. Thus, Fisher \n",
      "                         : discriminants often benefit from suitable transformations of the \n",
      "                         : input variables. For example, if a variable x in [-1,1] has a \n",
      "                         : a parabolic signal distributions, and a uniform background\n",
      "                         : distributions, their mean value is zero in both cases, leading \n",
      "                         : to no separation. The simple transformation x -> |x| renders this \n",
      "                         : variable powerful for the use in a Fisher discriminant.\n",
      "                         : \n",
      "                         : \u001b[1m--- Performance tuning via configuration options:\u001b[0m\n",
      "                         : \n",
      "                         : <None>\n",
      "                         : \n",
      "                         : <Suppress this message by specifying \"!H\" in the booking option>\n",
      "                         : \u001b[1m================================================================\u001b[0m\n",
      "                         : \n",
      "Fisher                   : Results for Fisher coefficients:\n",
      "                         : -----------------------\n",
      "                         : Variable:  Coefficient:\n",
      "                         : -----------------------\n",
      "                         :     m_jj:       -0.047\n",
      "                         :    m_jjj:       +0.204\n",
      "                         :     m_lv:       +0.049\n",
      "                         :    m_jlv:       +0.084\n",
      "                         :     m_bb:       -0.189\n",
      "                         :    m_wbb:       +0.506\n",
      "                         :   m_wwbb:       -0.774\n",
      "                         : (offset):       +0.107\n",
      "                         : -----------------------\n",
      "                         : Elapsed time for training with 10000 events: 0.00813 sec         \n",
      "Fisher                   : [dataset] : Evaluation of Fisher on training sample (10000 events)\n",
      "                         : Elapsed time for evaluation of 10000 events: 0.00096 sec       \n",
      "                         : <CreateMVAPdfs> Separation from histogram (PDF): 0.089 (0.000)\n",
      "                         : Dataset[dataset] : Evaluation of Fisher on training sample\n",
      "                         : Creating xml weight file: \u001b[0;36mdataset/weights/TMVAClassification_Fisher.weights.xml\u001b[0m\n",
      "                         : Creating standalone class: \u001b[0;36mdataset/weights/TMVAClassification_Fisher.class.C\u001b[0m\n",
      "Factory                  : Training finished\n",
      "                         : \n",
      "Factory                  : Train method: BDT for Classification\n",
      "                         : \n",
      "BDT                      : #events: (reweighted) sig: 5000 bkg: 5000\n",
      "                         : #events: (unweighted) sig: 5000 bkg: 5000\n",
      "                         : Training 200 Decision Trees ... patience please\n",
      "                         : Elapsed time for training with 10000 events: 0.564 sec         \n",
      "BDT                      : [dataset] : Evaluation of BDT on training sample (10000 events)\n",
      "                         : Elapsed time for evaluation of 10000 events: 0.0727 sec       \n",
      "                         : Creating xml weight file: \u001b[0;36mdataset/weights/TMVAClassification_BDT.weights.xml\u001b[0m\n",
      "                         : Creating standalone class: \u001b[0;36mdataset/weights/TMVAClassification_BDT.class.C\u001b[0m\n",
      "                         : Higgs_ClassificationOutput.root:/dataset/Method_BDT/BDT\n",
      "Factory                  : Training finished\n",
      "                         : \n",
      "                         : Ranking input variables (method specific)...\n",
      "LikelihoodKDE            : Ranking result (top variable is best ranked)\n",
      "                         : -------------------------------------\n",
      "                         : Rank : Variable  : Delta Separation\n",
      "                         : -------------------------------------\n",
      "                         :    1 : m_bb      : 5.026e-02\n",
      "                         :    2 : m_jjj     : 2.380e-02\n",
      "                         :    3 : m_jlv     : 1.439e-02\n",
      "                         :    4 : m_lv      : 3.896e-03\n",
      "                         :    5 : m_jj      : 3.216e-03\n",
      "                         :    6 : m_wwbb    : 2.877e-03\n",
      "                         :    7 : m_wbb     : -3.989e-03\n",
      "                         : -------------------------------------\n",
      "Fisher                   : Ranking result (top variable is best ranked)\n",
      "                         : ---------------------------------\n",
      "                         : Rank : Variable  : Discr. power\n",
      "                         : ---------------------------------\n",
      "                         :    1 : m_bb      : 1.054e-02\n",
      "                         :    2 : m_wwbb    : 8.580e-03\n",
      "                         :    3 : m_wbb     : 2.231e-03\n",
      "                         :    4 : m_jlv     : 4.361e-04\n",
      "                         :    5 : m_jjj     : 3.365e-04\n",
      "                         :    6 : m_jj      : 1.359e-04\n",
      "                         :    7 : m_lv      : 1.237e-04\n",
      "                         : ---------------------------------\n",
      "BDT                      : Ranking result (top variable is best ranked)\n",
      "                         : ----------------------------------------\n",
      "                         : Rank : Variable  : Variable Importance\n",
      "                         : ----------------------------------------\n",
      "                         :    1 : m_bb      : 1.948e-01\n",
      "                         :    2 : m_wwbb    : 1.664e-01\n",
      "                         :    3 : m_jlv     : 1.501e-01\n",
      "                         :    4 : m_jjj     : 1.466e-01\n",
      "                         :    5 : m_wbb     : 1.449e-01\n",
      "                         :    6 : m_jj      : 1.202e-01\n",
      "                         :    7 : m_lv      : 7.695e-02\n",
      "                         : ----------------------------------------\n",
      "Factory                  : === Destroy and recreate all methods via weight files for testing ===\n",
      "                         : \n"
     ]
    }
   ],
   "source": [
    "factory.TrainAllMethods();"
   ]
  },
  {
   "cell_type": "markdown",
   "metadata": {},
   "source": [
    "## Test and Evaluate Methods"
   ]
  },
  {
   "cell_type": "code",
   "execution_count": 6,
   "metadata": {
    "collapsed": false
   },
   "outputs": [
    {
     "name": "stdout",
     "output_type": "stream",
     "text": [
      "Factory                  : \u001b[1mTest all methods\u001b[0m\n",
      "Factory                  : Test method: LikelihoodKDE for Classification performance\n",
      "                         : \n",
      "LikelihoodKDE            : [dataset] : Evaluation of LikelihoodKDE on testing sample (10000 events)\n",
      "                         : Elapsed time for evaluation of 10000 events: 0.014 sec       \n",
      "Factory                  : Test method: Fisher for Classification performance\n",
      "                         : \n",
      "Fisher                   : [dataset] : Evaluation of Fisher on testing sample (10000 events)\n",
      "                         : Elapsed time for evaluation of 10000 events: 0.00186 sec       \n",
      "                         : Dataset[dataset] : Evaluation of Fisher on testing sample\n",
      "Factory                  : Test method: BDT for Classification performance\n",
      "                         : \n",
      "BDT                      : [dataset] : Evaluation of BDT on testing sample (10000 events)\n",
      "                         : Elapsed time for evaluation of 10000 events: 0.0744 sec       \n",
      "Factory                  : \u001b[1mEvaluate all methods\u001b[0m\n",
      "Factory                  : Evaluate classifier: LikelihoodKDE\n",
      "                         : \n",
      "LikelihoodKDE            : [dataset] : Loop over test events and fill histograms with classifier response...\n",
      "                         : \n",
      "TFHandler_LikelihoodKDE  : Variable        Mean        RMS   [        Min        Max ]\n",
      "                         : -----------------------------------------------------------\n",
      "                         :     m_jj:     1.0388    0.65765   [    0.15861     11.319 ]\n",
      "                         :    m_jjj:     1.0239    0.37259   [    0.41899     6.4043 ]\n",
      "                         :     m_lv:     1.0511    0.16830   [    0.29757     3.6823 ]\n",
      "                         :    m_jlv:     1.0152    0.40315   [    0.38441     5.8799 ]\n",
      "                         :     m_bb:    0.98119    0.53443   [   0.080986     8.2551 ]\n",
      "                         :    m_wbb:     1.0352    0.36508   [    0.38878     4.7495 ]\n",
      "                         :   m_wwbb:    0.96140    0.31303   [    0.44118     4.3164 ]\n",
      "                         : -----------------------------------------------------------\n",
      "Factory                  : Evaluate classifier: Fisher\n",
      "                         : \n",
      "Fisher                   : [dataset] : Loop over test events and fill histograms with classifier response...\n",
      "                         : \n",
      "                         : Also filling probability and rarity histograms (on request)...\n",
      "TFHandler_Fisher         : Variable        Mean        RMS   [        Min        Max ]\n",
      "                         : -----------------------------------------------------------\n",
      "                         :     m_jj:     1.0388    0.65765   [    0.15861     11.319 ]\n",
      "                         :    m_jjj:     1.0239    0.37259   [    0.41899     6.4043 ]\n",
      "                         :     m_lv:     1.0511    0.16830   [    0.29757     3.6823 ]\n",
      "                         :    m_jlv:     1.0152    0.40315   [    0.38441     5.8799 ]\n",
      "                         :     m_bb:    0.98119    0.53443   [   0.080986     8.2551 ]\n",
      "                         :    m_wbb:     1.0352    0.36508   [    0.38878     4.7495 ]\n",
      "                         :   m_wwbb:    0.96140    0.31303   [    0.44118     4.3164 ]\n",
      "                         : -----------------------------------------------------------\n",
      "Factory                  : Evaluate classifier: BDT\n",
      "                         : \n",
      "BDT                      : [dataset] : Loop over test events and fill histograms with classifier response...\n",
      "                         : \n",
      "TFHandler_BDT            : Variable        Mean        RMS   [        Min        Max ]\n",
      "                         : -----------------------------------------------------------\n",
      "                         :     m_jj:     1.0388    0.65765   [    0.15861     11.319 ]\n",
      "                         :    m_jjj:     1.0239    0.37259   [    0.41899     6.4043 ]\n",
      "                         :     m_lv:     1.0511    0.16830   [    0.29757     3.6823 ]\n",
      "                         :    m_jlv:     1.0152    0.40315   [    0.38441     5.8799 ]\n",
      "                         :     m_bb:    0.98119    0.53443   [   0.080986     8.2551 ]\n",
      "                         :    m_wbb:     1.0352    0.36508   [    0.38878     4.7495 ]\n",
      "                         :   m_wwbb:    0.96140    0.31303   [    0.44118     4.3164 ]\n",
      "                         : -----------------------------------------------------------\n",
      "                         : \n",
      "                         : Evaluation results ranked by best signal efficiency and purity (area)\n",
      "                         : -------------------------------------------------------------------------------------------------------------------\n",
      "                         : DataSet       MVA                       \n",
      "                         : Name:         Method:          ROC-integ\n",
      "                         : dataset       BDT            : 0.751\n",
      "                         : dataset       LikelihoodKDE  : 0.706\n",
      "                         : dataset       Fisher         : 0.650\n",
      "                         : -------------------------------------------------------------------------------------------------------------------\n",
      "                         : \n",
      "                         : Testing efficiency compared to training efficiency (overtraining check)\n",
      "                         : -------------------------------------------------------------------------------------------------------------------\n",
      "                         : DataSet              MVA              Signal efficiency: from test sample (from training sample) \n",
      "                         : Name:                Method:          @B=0.01             @B=0.10            @B=0.30   \n",
      "                         : -------------------------------------------------------------------------------------------------------------------\n",
      "                         : dataset              BDT            : 0.091 (0.107)       0.384 (0.398)      0.668 (0.677)\n",
      "                         : dataset              LikelihoodKDE  : 0.069 (0.106)       0.340 (0.348)      0.596 (0.609)\n",
      "                         : dataset              Fisher         : 0.013 (0.012)       0.139 (0.129)      0.498 (0.497)\n",
      "                         : -------------------------------------------------------------------------------------------------------------------\n",
      "                         : \n",
      "Dataset:dataset          : Created tree 'TestTree' with 10000 events\n",
      "                         : \n",
      "Dataset:dataset          : Created tree 'TrainTree' with 10000 events\n",
      "                         : \n",
      "Factory                  : \u001b[1mThank you for using TMVA!\u001b[0m\n",
      "                         : \u001b[1mFor citation information, please visit: http://tmva.sf.net/citeTMVA.html\u001b[0m\n"
     ]
    }
   ],
   "source": [
    "factory.TestAllMethods();\n",
    "factory.EvaluateAllMethods();    "
   ]
  },
  {
   "cell_type": "markdown",
   "metadata": {},
   "source": [
    "## Plot ROC Curve\n",
    "We enable JavaScript visualisation for the plots"
   ]
  },
  {
   "cell_type": "code",
   "execution_count": 7,
   "metadata": {
    "collapsed": true
   },
   "outputs": [],
   "source": [
    "//%jsroot on"
   ]
  },
  {
   "cell_type": "code",
   "execution_count": 8,
   "metadata": {
    "collapsed": false
   },
   "outputs": [
    {
     "data": {
      "image/png": "[encoded data removed]",
      "text/plain": [
       "<IPython.core.display.Image object>"
      ]
     },
     "metadata": {},
     "output_type": "display_data"
    }
   ],
   "source": [
    "c1 = factory.GetROCCurve(loader);\n",
    "c1->Draw();\n"
   ]
  },
  {
   "cell_type": "code",
   "execution_count": 9,
   "metadata": {
    "collapsed": true
   },
   "outputs": [],
   "source": [
    "// close outputfile to save output file\n",
    "outputFile->Close()"
   ]
  },
  {
   "cell_type": "code",
   "execution_count": null,
   "metadata": {
    "collapsed": true
   },
   "outputs": [],
   "source": []
  }
 ],
 "metadata": {
  "kernelspec": {
   "display_name": "ROOT C++",
   "language": "c++",
   "name": "root"
  },
  "language_info": {
   "codemirror_mode": "text/x-c++src",
   "file_extension": ".C",
   "mimetype": " text/x-c++src",
   "name": "c++"
  }
 },
 "nbformat": 4,
 "nbformat_minor": 0
}
