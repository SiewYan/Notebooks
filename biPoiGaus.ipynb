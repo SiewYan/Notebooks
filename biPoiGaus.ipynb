{
 "cells": [
  {
   "cell_type": "code",
   "execution_count": 15,
   "metadata": {},
   "outputs": [
    {
     "name": "stdout",
     "output_type": "stream",
     "text": [
      "Once deleted, variables cannot be recovered. Proceed (y/[n])? y\n"
     ]
    }
   ],
   "source": [
    "%reset\n",
    "from ROOT import *\n",
    "from math import *\n",
    "#----------------------------------------------------------------------------------- #\n",
    "#\n",
    "#  Python/ROOT macro for illustrating the Binomial, Poisson and Gaussian distributions.\n",
    "#\n",
    "#  Reference:\n",
    "#    Barlow \n",
    "#\n",
    "#  Run this pyROOT macro by:\n",
    "#    > ./BinomialPoissonGaussian.py\n",
    "#\n",
    "#  Author: Troels C. Petersen (NBI)\n",
    "#  Email:  petersen@nbi.dk\n",
    "#  Date:   7th of September 2014\n",
    "#\n",
    "# ----------------------------------------------------------------------------------- #"
   ]
  },
  {
   "cell_type": "markdown",
   "metadata": {},
   "source": [
    "# TRandomGenerator\n",
    "Declare the random generator"
   ]
  },
  {
   "cell_type": "code",
   "execution_count": 16,
   "metadata": {},
   "outputs": [],
   "source": [
    "r = TRandom3()                        # Random generator\n",
    "r.SetSeed(1)\n",
    "\n",
    "SavePlots = False\n",
    "verbose = True\n",
    "Nverbose = 5\n",
    "\n",
    "Nexperiments = 1000"
   ]
  },
  {
   "cell_type": "markdown",
   "metadata": {},
   "source": [
    "# Loop over process\n",
    "Define process, i.e. number of trials and probability of success:"
   ]
  },
  {
   "cell_type": "code",
   "execution_count": 17,
   "metadata": {},
   "outputs": [
    {
     "name": "stdout",
     "output_type": "stream",
     "text": [
      "  nSuccess:    3\n",
      "  nSuccess:    1\n",
      "  nSuccess:    1\n",
      "  nSuccess:    1\n",
      "  nSuccess:    1\n"
     ]
    }
   ],
   "source": [
    "#########################\n",
    "Ntrials = 10\n",
    "pSuccess = 1.0/6.0\n",
    "#########################\n",
    "Lambda = Ntrials * pSuccess     # This is the mean and also how the Poisson parameter is defined!\n",
    "\n",
    "Hist_nSuccess = TH1F(\"Hist_nSuccess\", \";Number of successes;Frequency\", Ntrials+1, -0.5, Ntrials+0.5)\n",
    "\n",
    "for iexp in range( Nexperiments ) : \n",
    "    \n",
    "    # Simulating process defined:\n",
    "    nSuccess = 0\n",
    "    for i in range( Ntrials ) : \n",
    "        x = r.Uniform()\n",
    "        if (x < pSuccess) : nSuccess = nSuccess + 1\n",
    "\n",
    "    # Record result:\n",
    "    if (verbose and iexp < Nverbose) : print \"  nSuccess: %4d\"%(nSuccess)\n",
    "    Hist_nSuccess.Fill(nSuccess)"
   ]
  },
  {
   "cell_type": "markdown",
   "metadata": {},
   "source": [
    "# Plot result"
   ]
  },
  {
   "cell_type": "code",
   "execution_count": 22,
   "metadata": {},
   "outputs": [
    {
     "name": "stderr",
     "output_type": "stream",
     "text": [
      "Warning in <TCanvas::Constructor>: Deleting canvas with same name: canvas\n"
     ]
    }
   ],
   "source": [
    "canvas = TCanvas( \"canvas\", \"\", 50, 50, 1200, 600 )\n",
    "#canvas = TCanvas(\"canvas\",\"\",1200,800)\n",
    "# canvas.SetLogy()          # Set the y-axis to be logarithmic\n",
    "\n",
    "# Draw the histogram:\n",
    "# Hist_nSuccess.GetXaxis().SetRangeUser(-0.5, 10.5)\n",
    "Hist_nSuccess.SetLineWidth(3)\n",
    "Hist_nSuccess.SetLineColor(kBlack)\n",
    "Hist_nSuccess.Draw(\"e\")"
   ]
  },
  {
   "cell_type": "markdown",
   "metadata": {},
   "source": [
    "## Draw Binomial Distribution\n",
    "\n",
    "$P(x) = \\frac{n!}{x!(n-1)!} p^{x}(1-p)^{n-x}$\n",
    "\n",
    "px = probability for success\n",
    "x = random variable"
   ]
  },
  {
   "cell_type": "code",
   "execution_count": 23,
   "metadata": {},
   "outputs": [],
   "source": [
    "def func_Binomial(x, p) :\n",
    "    if (x[0] > -0.5) :\n",
    "        return p[0] * TMath.Binomial(int(p[1]), int(x[0]+0.5)) * TMath.Power(p[2],int(x[0]+0.5)) * TMath.Power(1-p[2], int(p[1])-int(x[0]+0.5))\n",
    "    else : return 0.0\n",
    "\n",
    "fBinomial = TF1(\"fBinomial\", func_Binomial, -0.5, Ntrials+0.5, 3)\n",
    "fBinomial.SetParameters(Nexperiments, Ntrials, pSuccess)\n",
    "fBinomial.SetNpx(1000)        # Set the number of intervals used when drawing function!\n",
    "fBinomial.SetLineColor(kBlue)\n",
    "fBinomial.Draw(\"same\")"
   ]
  },
  {
   "cell_type": "markdown",
   "metadata": {},
   "source": [
    "## Draw Poisson Distribution\n",
    "\n"
   ]
  },
  {
   "cell_type": "code",
   "execution_count": 24,
   "metadata": {},
   "outputs": [],
   "source": [
    "def func_Poisson(x, p) :\n",
    "    if (x[0] > -0.5) :\n",
    "        return p[0] * TMath.PoissonI(x[0]+0.5, p[1])\n",
    "    else : return 0.0\n",
    "\n",
    "fPoisson = TF1(\"fPoisson\", func_Poisson, -0.5, Ntrials+0.5, 2)\n",
    "fPoisson.SetParameters(Nexperiments, Lambda)\n",
    "fPoisson.SetNpx(1000)        # Set the number of intervals used when drawing function!\n",
    "fPoisson.SetLineColor(kMagenta)\n",
    "fPoisson.Draw(\"same\")"
   ]
  },
  {
   "cell_type": "markdown",
   "metadata": {},
   "source": [
    "## Draw Gaussian Distribution"
   ]
  },
  {
   "cell_type": "code",
   "execution_count": 25,
   "metadata": {},
   "outputs": [],
   "source": [
    "def func_Gaussian(x, p) :\n",
    "    z = ((x[0]) - p[1]) / p[2]\n",
    "    return p[0] / sqrt(2*TMath.Pi()) / p[2] * exp(-0.5 *z*z)\n",
    "\n",
    "fGaussian = TF1(\"fGaussian\", func_Gaussian, -0.5, Ntrials+0.5, 3)\n",
    "fGaussian.SetParameters(Nexperiments, Lambda, sqrt(Lambda))\n",
    "fGaussian.SetNpx(1000)        # Set the number of intervals used when drawing function!\n",
    "fGaussian.SetLineColor(kRed)\n",
    "fGaussian.Draw(\"same\")"
   ]
  },
  {
   "cell_type": "code",
   "execution_count": 26,
   "metadata": {},
   "outputs": [
    {
     "name": "stdout",
     "output_type": "stream",
     "text": [
      "Press Enter to exit\n"
     ]
    },
    {
     "data": {
      "text/plain": [
       "''"
      ]
     },
     "execution_count": 26,
     "metadata": {},
     "output_type": "execute_result"
    },
    {
     "data": {
      "image/png": "[encoded data removed]",
      "text/plain": [
       "<IPython.core.display.Image object>"
      ]
     },
     "metadata": {},
     "output_type": "display_data"
    }
   ],
   "source": [
    "leg = TLegend( 0.60, 0.60, 0.89, 0.75 )\n",
    "leg.SetFillColor(kWhite)\n",
    "leg.SetLineColor(kWhite)\n",
    "leg.AddEntry(Hist_nSuccess, \" Distribution of nSuccess\", \"L\")\n",
    "leg.AddEntry(fBinomial, \" Binomial distribution\", \"L\")\n",
    "leg.AddEntry(fPoisson,  \" Poisson distribution\", \"L\")\n",
    "leg.AddEntry(fGaussian, \" Gaussian distribution\", \"L\")\n",
    "leg.Draw()\n",
    "canvas.Draw()\n",
    "if (SavePlots) : canvas.SaveAs(\"BinomialPoissonGaussian.pdf\")\n",
    "\n",
    "\n",
    "raw_input('Press Enter to exit')"
   ]
  },
  {
   "cell_type": "code",
   "execution_count": null,
   "metadata": {},
   "outputs": [],
   "source": []
  }
 ],
 "metadata": {
  "kernelspec": {
   "display_name": "Python 2",
   "language": "python2",
   "name": "python2"
  },
  "language_info": {
   "codemirror_mode": {
    "name": "ipython",
    "version": 2
   },
   "file_extension": ".py",
   "mimetype": "text/x-python",
   "name": "python",
   "nbconvert_exporter": "python",
   "pygments_lexer": "ipython2",
   "version": "2.7.14"
  }
 },
 "nbformat": 4,
 "nbformat_minor": 2
}
